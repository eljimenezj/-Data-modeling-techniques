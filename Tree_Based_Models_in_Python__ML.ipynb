{
  "nbformat": 4,
  "nbformat_minor": 0,
  "metadata": {
    "colab": {
      "name": " Tree-Based Models in Python_ ML.ipynb",
      "provenance": [],
      "toc_visible": true,
      "authorship_tag": "ABX9TyN3BBVZEqltTgpYsYhWHO2g",
      "include_colab_link": true
    },
    "kernelspec": {
      "name": "python3",
      "display_name": "Python 3"
    }
  },
  "cells": [
    {
      "cell_type": "markdown",
      "metadata": {
        "id": "view-in-github",
        "colab_type": "text"
      },
      "source": [
        "<a href=\"https://colab.research.google.com/github/eljimenezj/-Data-modeling-techniques/blob/master/Tree_Based_Models_in_Python__ML.ipynb\" target=\"_parent\"><img src=\"https://colab.research.google.com/assets/colab-badge.svg\" alt=\"Open In Colab\"/></a>"
      ]
    },
    {
      "cell_type": "markdown",
      "metadata": {
        "id": "MOVLk8aCgxgJ"
      },
      "source": [
        "# Aprendizaje automático con modelos basados en árboles en Python (Algunas notas)"
      ]
    },
    {
      "cell_type": "markdown",
      "metadata": {
        "id": "ZAk-jZJ0lqFv"
      },
      "source": [
        "## Diagnosticando problemas de bias y variance en los modelos de arboles"
      ]
    },
    {
      "cell_type": "markdown",
      "metadata": {
        "id": "geoFm6kil1fS"
      },
      "source": [
        "\r\n",
        "En este caso vamos a estudiar unas aplicaciones de como diagnosticar problemas de bias y variance en modelos de arboles principalemente. Este libro de jupyter está basado en clases tomadas de datacamp, en la cual también utilizamos una base de datos de autos que utilizan en varias de sus clases."
      ]
    },
    {
      "cell_type": "code",
      "metadata": {
        "id": "BAj0FfEGldd7"
      },
      "source": [
        "import pandas as pd\r\n",
        "import numpy as np\r\n",
        "from sklearn.model_selection import train_test_split\r\n",
        "from sklearn.tree import DecisionTreeRegressor\r\n",
        "from sklearn.model_selection import cross_val_score\r\n",
        "from sklearn.metrics import mean_squared_error as MSE\r\n",
        "\r\n",
        "import matplotlib.pyplot as plt"
      ],
      "execution_count": 1,
      "outputs": []
    },
    {
      "cell_type": "code",
      "metadata": {
        "id": "gNSdoZSfldgF"
      },
      "source": [
        "url = 'https://assets.datacamp.com/production/repositories/1796/datasets/3781d588cf7b04b1e376c7e9dda489b3e6c7465b/auto.csv'\r\n",
        "df = pd.read_csv(url)"
      ],
      "execution_count": 2,
      "outputs": []
    },
    {
      "cell_type": "code",
      "metadata": {
        "colab": {
          "base_uri": "https://localhost:8080/",
          "height": 198
        },
        "id": "tyvdwW9mldiH",
        "outputId": "b2b9ade8-2784-4536-e563-63f622a9c867"
      },
      "source": [
        "df.head()"
      ],
      "execution_count": 3,
      "outputs": [
        {
          "output_type": "execute_result",
          "data": {
            "text/html": [
              "<div>\n",
              "<style scoped>\n",
              "    .dataframe tbody tr th:only-of-type {\n",
              "        vertical-align: middle;\n",
              "    }\n",
              "\n",
              "    .dataframe tbody tr th {\n",
              "        vertical-align: top;\n",
              "    }\n",
              "\n",
              "    .dataframe thead th {\n",
              "        text-align: right;\n",
              "    }\n",
              "</style>\n",
              "<table border=\"1\" class=\"dataframe\">\n",
              "  <thead>\n",
              "    <tr style=\"text-align: right;\">\n",
              "      <th></th>\n",
              "      <th>mpg</th>\n",
              "      <th>displ</th>\n",
              "      <th>hp</th>\n",
              "      <th>weight</th>\n",
              "      <th>accel</th>\n",
              "      <th>origin</th>\n",
              "      <th>size</th>\n",
              "    </tr>\n",
              "  </thead>\n",
              "  <tbody>\n",
              "    <tr>\n",
              "      <th>0</th>\n",
              "      <td>18.0</td>\n",
              "      <td>250.0</td>\n",
              "      <td>88</td>\n",
              "      <td>3139</td>\n",
              "      <td>14.5</td>\n",
              "      <td>US</td>\n",
              "      <td>15.0</td>\n",
              "    </tr>\n",
              "    <tr>\n",
              "      <th>1</th>\n",
              "      <td>9.0</td>\n",
              "      <td>304.0</td>\n",
              "      <td>193</td>\n",
              "      <td>4732</td>\n",
              "      <td>18.5</td>\n",
              "      <td>US</td>\n",
              "      <td>20.0</td>\n",
              "    </tr>\n",
              "    <tr>\n",
              "      <th>2</th>\n",
              "      <td>36.1</td>\n",
              "      <td>91.0</td>\n",
              "      <td>60</td>\n",
              "      <td>1800</td>\n",
              "      <td>16.4</td>\n",
              "      <td>Asia</td>\n",
              "      <td>10.0</td>\n",
              "    </tr>\n",
              "    <tr>\n",
              "      <th>3</th>\n",
              "      <td>18.5</td>\n",
              "      <td>250.0</td>\n",
              "      <td>98</td>\n",
              "      <td>3525</td>\n",
              "      <td>19.0</td>\n",
              "      <td>US</td>\n",
              "      <td>15.0</td>\n",
              "    </tr>\n",
              "    <tr>\n",
              "      <th>4</th>\n",
              "      <td>34.3</td>\n",
              "      <td>97.0</td>\n",
              "      <td>78</td>\n",
              "      <td>2188</td>\n",
              "      <td>15.8</td>\n",
              "      <td>Europe</td>\n",
              "      <td>10.0</td>\n",
              "    </tr>\n",
              "  </tbody>\n",
              "</table>\n",
              "</div>"
            ],
            "text/plain": [
              "    mpg  displ   hp  weight  accel  origin  size\n",
              "0  18.0  250.0   88    3139   14.5      US  15.0\n",
              "1   9.0  304.0  193    4732   18.5      US  20.0\n",
              "2  36.1   91.0   60    1800   16.4    Asia  10.0\n",
              "3  18.5  250.0   98    3525   19.0      US  15.0\n",
              "4  34.3   97.0   78    2188   15.8  Europe  10.0"
            ]
          },
          "metadata": {
            "tags": []
          },
          "execution_count": 3
        }
      ]
    },
    {
      "cell_type": "code",
      "metadata": {
        "colab": {
          "base_uri": "https://localhost:8080/"
        },
        "id": "FGguhRG4mKRF",
        "outputId": "20f535f1-c7c5-4361-8bd8-8b1a9580c0c5"
      },
      "source": [
        "df.columns"
      ],
      "execution_count": 4,
      "outputs": [
        {
          "output_type": "execute_result",
          "data": {
            "text/plain": [
              "Index(['mpg', 'displ', 'hp', 'weight', 'accel', 'origin', 'size'], dtype='object')"
            ]
          },
          "metadata": {
            "tags": []
          },
          "execution_count": 4
        }
      ]
    },
    {
      "cell_type": "code",
      "metadata": {
        "id": "KXSypMQSyRwt"
      },
      "source": [
        "one_hot = pd.get_dummies(df['origin'])\r\n",
        "df = df.drop('origin',axis = 1)\r\n",
        "df = df.join(one_hot)"
      ],
      "execution_count": 5,
      "outputs": []
    },
    {
      "cell_type": "code",
      "metadata": {
        "id": "HiuIaSAwmKTQ"
      },
      "source": [
        "y = df['mpg'].values\r\n",
        "df = df.drop(['mpg'],1)\r\n",
        "X = df.values"
      ],
      "execution_count": 6,
      "outputs": []
    },
    {
      "cell_type": "code",
      "metadata": {
        "id": "snpzOOPTnLVV"
      },
      "source": [
        "# Set SEED for reproducibility\r\n",
        "SEED = 1\r\n",
        "\r\n",
        "# Split the data into 70% train and 30% test\r\n",
        "X_train, X_test, y_train, y_test = train_test_split(X, y, test_size=0.3, random_state=SEED)\r\n",
        "\r\n",
        "# Instantiate a DecisionTreeRegressor dt\r\n",
        "dt = DecisionTreeRegressor(max_depth=4, min_samples_leaf=0.26, random_state=SEED)"
      ],
      "execution_count": 7,
      "outputs": []
    },
    {
      "cell_type": "code",
      "metadata": {
        "colab": {
          "base_uri": "https://localhost:8080/"
        },
        "id": "QZffw1qtoYeN",
        "outputId": "5691a8c0-3fac-49a7-cdc1-ef6add956360"
      },
      "source": [
        "dt.fit(X_train,y_train)"
      ],
      "execution_count": 8,
      "outputs": [
        {
          "output_type": "execute_result",
          "data": {
            "text/plain": [
              "DecisionTreeRegressor(ccp_alpha=0.0, criterion='mse', max_depth=4,\n",
              "                      max_features=None, max_leaf_nodes=None,\n",
              "                      min_impurity_decrease=0.0, min_impurity_split=None,\n",
              "                      min_samples_leaf=0.26, min_samples_split=2,\n",
              "                      min_weight_fraction_leaf=0.0, presort='deprecated',\n",
              "                      random_state=1, splitter='best')"
            ]
          },
          "metadata": {
            "tags": []
          },
          "execution_count": 8
        }
      ]
    },
    {
      "cell_type": "markdown",
      "metadata": {
        "id": "M46596NSJO5-"
      },
      "source": [
        "Se realiza cross validation con K = 10 folds y se calcula el error cuadratico medio (MSE, promedio de los 10 errores obtenidos por los 10 folds) y la raiz del error cuadrativo medio. Todo esto para el conjunto de entrenamiento"
      ]
    },
    {
      "cell_type": "code",
      "metadata": {
        "colab": {
          "base_uri": "https://localhost:8080/"
        },
        "id": "62WxUkjcoYgd",
        "outputId": "185ae42a-0753-4fb3-8762-1c83412b6c23"
      },
      "source": [
        "# Compute the array containing the 10-folds CV MSEs\r\n",
        "MSE_CV_scores = - cross_val_score(dt, X_train, y_train, cv=10, \r\n",
        "                       scoring='neg_mean_squared_error',\r\n",
        "                       n_jobs=-1)\r\n",
        "\r\n",
        "# Compute the 10-folds CV RMSE\r\n",
        "RMSE_CV = (MSE_CV_scores.mean())**(1/2)\r\n",
        "\r\n",
        "# Print RMSE_CV\r\n",
        "print('CV RMSE: {:.2f}'.format(RMSE_CV))"
      ],
      "execution_count": 9,
      "outputs": [
        {
          "output_type": "stream",
          "text": [
            "CV RMSE: 5.14\n"
          ],
          "name": "stdout"
        }
      ]
    },
    {
      "cell_type": "markdown",
      "metadata": {
        "id": "FOR1dMnJJwea"
      },
      "source": [
        "Evaluamos el error en el conjunto de entrenamiento"
      ]
    },
    {
      "cell_type": "code",
      "metadata": {
        "colab": {
          "base_uri": "https://localhost:8080/"
        },
        "id": "0SuZ1MutJ3sJ",
        "outputId": "69dfc70b-0cff-46f0-fc86-47bfd119b45e"
      },
      "source": [
        "\r\n",
        "# Fit dt to the training set\r\n",
        "dt.fit(X_train, y_train)\r\n",
        "\r\n",
        "# Predict the labels of the training set\r\n",
        "y_pred_train = dt.predict(X_train)\r\n",
        "\r\n",
        "# Evaluate the training set RMSE of dt\r\n",
        "RMSE_train = (MSE(y_train,y_pred_train))**(1/2)\r\n",
        "\r\n",
        "# Print RMSE_train\r\n",
        "print('Train RMSE: {:.2f}'.format(RMSE_train))"
      ],
      "execution_count": 10,
      "outputs": [
        {
          "output_type": "stream",
          "text": [
            "Train RMSE: 5.15\n"
          ],
          "name": "stdout"
        }
      ]
    },
    {
      "cell_type": "markdown",
      "metadata": {
        "id": "na0i697ENQ8R"
      },
      "source": [
        "## Modelos de ensamble\r\n",
        "\r\n",
        "Modelos que utilizan las predicciones individuales de diferentes modelos para generar una prediccion o clasificacion final.\r\n",
        "\r\n",
        "Datos para el ejemplo: https://www.kaggle.com/jeevannagaraj/indian-liver-patient-dataset"
      ]
    },
    {
      "cell_type": "code",
      "metadata": {
        "id": "vmTOW_VvcWPs"
      },
      "source": [
        "def clean_dataset(df):\r\n",
        "    assert isinstance(df, pd.DataFrame), \"df needs to be a pd.DataFrame\"\r\n",
        "    df.dropna(inplace=True)\r\n",
        "    indices_to_keep = ~df.isin([np.nan, np.inf, -np.inf]).any(1)\r\n",
        "    return df[indices_to_keep].astype(np.float64)\r\n"
      ],
      "execution_count": 11,
      "outputs": []
    },
    {
      "cell_type": "code",
      "metadata": {
        "colab": {
          "base_uri": "https://localhost:8080/",
          "height": 108
        },
        "id": "Q8OJCgBoQu4F",
        "outputId": "cd1916f8-ec45-4192-940a-9ee1dd39d41e"
      },
      "source": [
        "df_orig = pd.read_csv('data_ensamble.csv')\r\n",
        "df_orig.head(2)"
      ],
      "execution_count": 12,
      "outputs": [
        {
          "output_type": "execute_result",
          "data": {
            "text/html": [
              "<div>\n",
              "<style scoped>\n",
              "    .dataframe tbody tr th:only-of-type {\n",
              "        vertical-align: middle;\n",
              "    }\n",
              "\n",
              "    .dataframe tbody tr th {\n",
              "        vertical-align: top;\n",
              "    }\n",
              "\n",
              "    .dataframe thead th {\n",
              "        text-align: right;\n",
              "    }\n",
              "</style>\n",
              "<table border=\"1\" class=\"dataframe\">\n",
              "  <thead>\n",
              "    <tr style=\"text-align: right;\">\n",
              "      <th></th>\n",
              "      <th>age</th>\n",
              "      <th>gender</th>\n",
              "      <th>tot_bilirubin</th>\n",
              "      <th>direct_bilirubin</th>\n",
              "      <th>tot_proteins</th>\n",
              "      <th>albumin</th>\n",
              "      <th>ag_ratio</th>\n",
              "      <th>sgpt</th>\n",
              "      <th>sgot</th>\n",
              "      <th>alkphos</th>\n",
              "      <th>is_patient</th>\n",
              "    </tr>\n",
              "  </thead>\n",
              "  <tbody>\n",
              "    <tr>\n",
              "      <th>0</th>\n",
              "      <td>65</td>\n",
              "      <td>Female</td>\n",
              "      <td>0.7</td>\n",
              "      <td>0.1</td>\n",
              "      <td>187</td>\n",
              "      <td>16</td>\n",
              "      <td>18</td>\n",
              "      <td>6.8</td>\n",
              "      <td>3.3</td>\n",
              "      <td>0.90</td>\n",
              "      <td>1</td>\n",
              "    </tr>\n",
              "    <tr>\n",
              "      <th>1</th>\n",
              "      <td>62</td>\n",
              "      <td>Male</td>\n",
              "      <td>10.9</td>\n",
              "      <td>5.5</td>\n",
              "      <td>699</td>\n",
              "      <td>64</td>\n",
              "      <td>100</td>\n",
              "      <td>7.5</td>\n",
              "      <td>3.2</td>\n",
              "      <td>0.74</td>\n",
              "      <td>1</td>\n",
              "    </tr>\n",
              "  </tbody>\n",
              "</table>\n",
              "</div>"
            ],
            "text/plain": [
              "   age  gender  tot_bilirubin  ...  sgot  alkphos  is_patient\n",
              "0   65  Female            0.7  ...   3.3     0.90           1\n",
              "1   62    Male           10.9  ...   3.2     0.74           1\n",
              "\n",
              "[2 rows x 11 columns]"
            ]
          },
          "metadata": {
            "tags": []
          },
          "execution_count": 12
        }
      ]
    },
    {
      "cell_type": "code",
      "metadata": {
        "id": "70i5N9JNU13R"
      },
      "source": [
        "df = pd.read_csv('data_ensamble.csv')\r\n",
        "\r\n",
        "from sklearn.preprocessing import LabelEncoder\r\n",
        "from sklearn.preprocessing import StandardScaler\r\n",
        "\r\n",
        "number = LabelEncoder()\r\n",
        "\r\n",
        "df_gender = df['gender'] \r\n",
        "df_gender = pd.DataFrame(number.fit_transform(df['gender'].astype(str)))\r\n",
        "df_gender.columns = ['genero']"
      ],
      "execution_count": 13,
      "outputs": []
    },
    {
      "cell_type": "code",
      "metadata": {
        "id": "E5oTRxAMdMZw"
      },
      "source": [
        "df_complete = df.join(df_gender)\r\n",
        "df_complete = df_complete.drop(['gender'],1)\r\n",
        "df_complete = clean_dataset(df_complete)"
      ],
      "execution_count": 14,
      "outputs": []
    },
    {
      "cell_type": "code",
      "metadata": {
        "id": "IG_ykichd-Bl"
      },
      "source": [
        "y = df_complete['is_patient']\r\n",
        "df_complete = df_complete.drop(['is_patient'],1)\r\n",
        "col_names = df_complete.columns "
      ],
      "execution_count": 15,
      "outputs": []
    },
    {
      "cell_type": "code",
      "metadata": {
        "id": "ooYNotm3VO2Z"
      },
      "source": [
        "# Estandarizar\r\n",
        "scaler = StandardScaler()\r\n",
        "df_std = scaler.fit_transform(df_complete)"
      ],
      "execution_count": 16,
      "outputs": []
    },
    {
      "cell_type": "code",
      "metadata": {
        "id": "AbJigj7aQz2s"
      },
      "source": [
        " df_std = pd.DataFrame(df_std)\r\n",
        " df_std.columns = col_names"
      ],
      "execution_count": 17,
      "outputs": []
    },
    {
      "cell_type": "code",
      "metadata": {
        "colab": {
          "base_uri": "https://localhost:8080/",
          "height": 198
        },
        "id": "gb37yY1NYEub",
        "outputId": "38d72fb2-1c57-43e6-8aab-99ef226fce98"
      },
      "source": [
        "#df_std = df_std.join(df_gender)\r\n",
        "#df_std = clean_dataset(df_std)\r\n",
        "df_std.head(5)"
      ],
      "execution_count": 18,
      "outputs": [
        {
          "output_type": "execute_result",
          "data": {
            "text/html": [
              "<div>\n",
              "<style scoped>\n",
              "    .dataframe tbody tr th:only-of-type {\n",
              "        vertical-align: middle;\n",
              "    }\n",
              "\n",
              "    .dataframe tbody tr th {\n",
              "        vertical-align: top;\n",
              "    }\n",
              "\n",
              "    .dataframe thead th {\n",
              "        text-align: right;\n",
              "    }\n",
              "</style>\n",
              "<table border=\"1\" class=\"dataframe\">\n",
              "  <thead>\n",
              "    <tr style=\"text-align: right;\">\n",
              "      <th></th>\n",
              "      <th>age</th>\n",
              "      <th>tot_bilirubin</th>\n",
              "      <th>direct_bilirubin</th>\n",
              "      <th>tot_proteins</th>\n",
              "      <th>albumin</th>\n",
              "      <th>ag_ratio</th>\n",
              "      <th>sgpt</th>\n",
              "      <th>sgot</th>\n",
              "      <th>alkphos</th>\n",
              "      <th>genero</th>\n",
              "    </tr>\n",
              "  </thead>\n",
              "  <tbody>\n",
              "    <tr>\n",
              "      <th>0</th>\n",
              "      <td>1.247403</td>\n",
              "      <td>-0.420320</td>\n",
              "      <td>-0.495414</td>\n",
              "      <td>-0.428870</td>\n",
              "      <td>-0.355832</td>\n",
              "      <td>-0.319111</td>\n",
              "      <td>0.293722</td>\n",
              "      <td>0.203446</td>\n",
              "      <td>-0.147390</td>\n",
              "      <td>-1.770795</td>\n",
              "    </tr>\n",
              "    <tr>\n",
              "      <th>1</th>\n",
              "      <td>1.062306</td>\n",
              "      <td>1.218936</td>\n",
              "      <td>1.423518</td>\n",
              "      <td>1.675083</td>\n",
              "      <td>-0.093573</td>\n",
              "      <td>-0.035962</td>\n",
              "      <td>0.939655</td>\n",
              "      <td>0.077462</td>\n",
              "      <td>-0.648461</td>\n",
              "      <td>0.564718</td>\n",
              "    </tr>\n",
              "    <tr>\n",
              "      <th>2</th>\n",
              "      <td>1.062306</td>\n",
              "      <td>0.640375</td>\n",
              "      <td>0.926017</td>\n",
              "      <td>0.816243</td>\n",
              "      <td>-0.115428</td>\n",
              "      <td>-0.146459</td>\n",
              "      <td>0.478274</td>\n",
              "      <td>0.203446</td>\n",
              "      <td>-0.178707</td>\n",
              "      <td>0.564718</td>\n",
              "    </tr>\n",
              "    <tr>\n",
              "      <th>3</th>\n",
              "      <td>0.815511</td>\n",
              "      <td>-0.372106</td>\n",
              "      <td>-0.388807</td>\n",
              "      <td>-0.449416</td>\n",
              "      <td>-0.366760</td>\n",
              "      <td>-0.312205</td>\n",
              "      <td>0.293722</td>\n",
              "      <td>0.329431</td>\n",
              "      <td>0.165780</td>\n",
              "      <td>0.564718</td>\n",
              "    </tr>\n",
              "    <tr>\n",
              "      <th>4</th>\n",
              "      <td>1.679294</td>\n",
              "      <td>0.093956</td>\n",
              "      <td>0.179766</td>\n",
              "      <td>-0.395996</td>\n",
              "      <td>-0.295731</td>\n",
              "      <td>-0.177537</td>\n",
              "      <td>0.755102</td>\n",
              "      <td>-0.930414</td>\n",
              "      <td>-1.713237</td>\n",
              "      <td>0.564718</td>\n",
              "    </tr>\n",
              "  </tbody>\n",
              "</table>\n",
              "</div>"
            ],
            "text/plain": [
              "        age  tot_bilirubin  direct_bilirubin  ...      sgot   alkphos    genero\n",
              "0  1.247403      -0.420320         -0.495414  ...  0.203446 -0.147390 -1.770795\n",
              "1  1.062306       1.218936          1.423518  ...  0.077462 -0.648461  0.564718\n",
              "2  1.062306       0.640375          0.926017  ...  0.203446 -0.178707  0.564718\n",
              "3  0.815511      -0.372106         -0.388807  ...  0.329431  0.165780  0.564718\n",
              "4  1.679294       0.093956          0.179766  ... -0.930414 -1.713237  0.564718\n",
              "\n",
              "[5 rows x 10 columns]"
            ]
          },
          "metadata": {
            "tags": []
          },
          "execution_count": 18
        }
      ]
    },
    {
      "cell_type": "code",
      "metadata": {
        "id": "87OB7616caBj"
      },
      "source": [
        ""
      ],
      "execution_count": 18,
      "outputs": []
    },
    {
      "cell_type": "code",
      "metadata": {
        "id": "HlLMWE9cYEwU"
      },
      "source": [
        "#y = df_orig['is_patient'] \r\n",
        "#y = pd.DataFrame(number.fit_transform(df_orig['is_patient'].astype('float')))\r\n",
        "#y.colums = ['is_patient']\r\n",
        "#y = clean_dataset(y)"
      ],
      "execution_count": 19,
      "outputs": []
    },
    {
      "cell_type": "code",
      "metadata": {
        "id": "KOwrsdJoavun"
      },
      "source": [
        "# Split the data into 70% train and 30% test\r\n",
        "X_train, X_test, y_train, y_test = train_test_split(df_std, y, test_size=0.3, random_state=SEED)"
      ],
      "execution_count": 20,
      "outputs": []
    },
    {
      "cell_type": "code",
      "metadata": {
        "colab": {
          "base_uri": "https://localhost:8080/"
        },
        "id": "5is-MHdEa4MU",
        "outputId": "334073be-209c-4102-c38c-472914bf2f4c"
      },
      "source": [
        "X_train , y_train"
      ],
      "execution_count": 21,
      "outputs": [
        {
          "output_type": "execute_result",
          "data": {
            "text/plain": [
              "(          age  tot_bilirubin  direct_bilirubin  ...      sgot   alkphos    genero\n",
              " 370  0.692113      -0.420320         -0.495414  ...  1.085338  1.105288 -1.770795\n",
              " 342  0.075125      -0.436391         -0.459878  ...  0.329431 -0.147390  0.564718\n",
              " 142 -0.912055      -0.275680         -0.388807  ... -0.552461 -0.147390  0.564718\n",
              " 420 -0.788658      -0.420320         -0.495414  ... -0.174507 -0.773729 -1.770795\n",
              " 6   -1.158850      -0.388178         -0.459878  ...  0.455416  0.165780 -1.770795\n",
              " ..        ...            ...               ...  ...       ...       ...       ...\n",
              " 129  0.013427      -0.082826          0.073158  ... -1.056399 -0.460559  0.564718\n",
              " 144  0.013427       0.029672          0.002087  ... -0.300492  0.165780 -1.770795\n",
              " 72   1.864391      -0.404249         -0.459878  ... -1.434352 -0.460559 -1.770795\n",
              " 235 -1.405646      -0.404249         -0.459878  ...  0.833369 -0.147390  0.564718\n",
              " 37   0.075125       1.749283          2.240841  ... -1.434352 -0.460559 -1.770795\n",
              " \n",
              " [405 rows x 10 columns], 374    2.0\n",
              " 346    1.0\n",
              " 142    1.0\n",
              " 424    1.0\n",
              " 6      1.0\n",
              "       ... \n",
              " 129    1.0\n",
              " 144    1.0\n",
              " 72     1.0\n",
              " 236    2.0\n",
              " 37     1.0\n",
              " Name: is_patient, Length: 405, dtype: float64)"
            ]
          },
          "metadata": {
            "tags": []
          },
          "execution_count": 21
        }
      ]
    },
    {
      "cell_type": "code",
      "metadata": {
        "id": "cOwVwn32J3ua"
      },
      "source": [
        "from sklearn.linear_model import LogisticRegression\r\n",
        "from sklearn.neighbors import KNeighborsClassifier\r\n",
        "from sklearn.tree import DecisionTreeClassifier"
      ],
      "execution_count": 22,
      "outputs": []
    },
    {
      "cell_type": "markdown",
      "metadata": {
        "id": "qt_KgcswgS0R"
      },
      "source": [
        "Se la realiza la instancia de 3 clasificadores individuales y se mide posteriormente el desempeño de clasificacion de cada uno"
      ]
    },
    {
      "cell_type": "code",
      "metadata": {
        "id": "ixfDteCAP-7n"
      },
      "source": [
        "# Set seed for reproducibility\r\n",
        "SEED=1\r\n",
        "\r\n",
        "# Instantiate lr\r\n",
        "lr = LogisticRegression(random_state=SEED)\r\n",
        "\r\n",
        "# Instantiate knn\r\n",
        "knn = KNeighborsClassifier(n_neighbors=27)\r\n",
        "\r\n",
        "# Instantiate dt\r\n",
        "dt = DecisionTreeClassifier(min_samples_leaf=0.13, random_state=SEED)\r\n",
        "\r\n",
        "# Define the list classifiers\r\n",
        "classifiers = [('Logistic Regression', lr), ('K Nearest Neighbours', knn), ('Classification Tree', dt)]"
      ],
      "execution_count": 23,
      "outputs": []
    },
    {
      "cell_type": "markdown",
      "metadata": {
        "id": "nhO6kDFZgbtZ"
      },
      "source": [
        "Medicion del accuracy de cada clasificador individual"
      ]
    },
    {
      "cell_type": "code",
      "metadata": {
        "colab": {
          "base_uri": "https://localhost:8080/"
        },
        "id": "LxY4D2D0apWY",
        "outputId": "2b0f064c-318b-4802-ebb1-1a64651cef47"
      },
      "source": [
        "from sklearn.metrics import accuracy_score\r\n",
        "\r\n",
        "# Iterate over the pre-defined list of classifiers\r\n",
        "for clf_name, clf in classifiers:    \r\n",
        " \r\n",
        "    # Fit clf to the training set\r\n",
        "    clf.fit(X_train, y_train)    \r\n",
        "   \r\n",
        "    # Predict y_pred\r\n",
        "    y_pred = clf.predict(X_test)\r\n",
        "    \r\n",
        "    # Calculate accuracy\r\n",
        "    accuracy = accuracy_score(y_test, y_pred) \r\n",
        "   \r\n",
        "    # Evaluate clf's accuracy on the test set\r\n",
        "    print('{:s} : {:.3f}'.format(clf_name, accuracy))"
      ],
      "execution_count": 24,
      "outputs": [
        {
          "output_type": "stream",
          "text": [
            "Logistic Regression : 0.759\n",
            "K Nearest Neighbours : 0.718\n",
            "Classification Tree : 0.730\n"
          ],
          "name": "stdout"
        }
      ]
    },
    {
      "cell_type": "markdown",
      "metadata": {
        "id": "Zey2PGy5ggPe"
      },
      "source": [
        "A continuación se realiza el modelo de ensamble mediante `VotingClassifier` y utilizando los tres clasificadores individuales.\r\n",
        "\r\n",
        "Posteriormente se revisa el desempeño"
      ]
    },
    {
      "cell_type": "code",
      "metadata": {
        "colab": {
          "base_uri": "https://localhost:8080/"
        },
        "id": "jWuwGLvIgO77",
        "outputId": "64d9c0b1-eb7a-42d7-f798-7f490a3b0b66"
      },
      "source": [
        "# Import VotingClassifier from sklearn.ensemble\r\n",
        "from sklearn.ensemble import VotingClassifier\r\n",
        "\r\n",
        "# Instantiate a VotingClassifier vc\r\n",
        "vc = VotingClassifier(estimators=classifiers)     \r\n",
        "\r\n",
        "# Fit vc to the training set\r\n",
        "vc.fit(X_train, y_train)   \r\n",
        "\r\n",
        "# Evaluate the test set predictions\r\n",
        "y_pred = vc.predict(X_test)\r\n",
        "\r\n",
        "# Calculate accuracy score\r\n",
        "accuracy = accuracy_score(y_test, y_pred)\r\n",
        "print('Voting Classifier: {:.3f}'.format(accuracy))"
      ],
      "execution_count": 25,
      "outputs": [
        {
          "output_type": "stream",
          "text": [
            "Voting Classifier: 0.759\n"
          ],
          "name": "stdout"
        }
      ]
    }
  ]
}