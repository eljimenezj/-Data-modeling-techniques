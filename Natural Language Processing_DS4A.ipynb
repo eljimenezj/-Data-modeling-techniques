{
 "cells": [
  {
   "cell_type": "markdown",
   "metadata": {},
   "source": [
    "## Loading the data\n",
    "\n",
    "We use a dataset of around 37,000 video reviews from Amazon Instant Video and 1,700,000 movie and TV reviews, all obtained from the website: http://jmcauley.ucsd.edu/data/amazon/. Note that there are much larger datasets available at the same site. We can expect better and more consistent results on larger datasets (such as book reviews). Note that these datasets are compressed (gzipped), and they are in [JSON](https://en.wikipedia.org/wiki/JSON) format, with each line representing a review and each line being its own JSON object.\n",
    "\n",
    "We begin by loading the dataset below:"
   ]
  },
  {
   "cell_type": "code",
   "execution_count": null,
   "metadata": {},
   "outputs": [],
   "source": []
  },
  {
   "cell_type": "code",
   "execution_count": 1,
   "metadata": {},
   "outputs": [],
   "source": [
    "%matplotlib inline"
   ]
  },
  {
   "cell_type": "code",
   "execution_count": 2,
   "metadata": {},
   "outputs": [
    {
     "name": "stderr",
     "output_type": "stream",
     "text": [
      "[nltk_data] Downloading package punkt to\n",
      "[nltk_data]     D:\\Users\\edgarjj\\AppData\\Roaming\\nltk_data...\n",
      "[nltk_data]   Package punkt is already up-to-date!\n"
     ]
    },
    {
     "name": "stdout",
     "output_type": "stream",
     "text": [
      "Wall time: 3.24 s\n"
     ]
    }
   ],
   "source": [
    "%%time\n",
    "import gzip\n",
    "import json\n",
    "import string\n",
    "\n",
    "import nltk # imports the natural language toolkit\n",
    "import pandas as pd\n",
    "import plotly\n",
    "\n",
    "nltk.download('punkt')\n",
    "\n",
    "\n",
    "# we can tell pandas that our file is in gzip format and it will handle the decompression for us\n",
    "# we also use `lines=True` to indicate that each line of the file is its own JSON object\n",
    "instant_video = pd.read_json(\"reviews_Amazon_Instant_Video_5.json.gz\", lines=True, compression='gzip')\n",
    "\n",
    "\n",
    "# ----------\n",
    "# The Movies and TV file is very big. If you have problems loading it, you can load only the first \n",
    "# 10000 reviews by using 'chunksize'. All of the analysis can be \n",
    "# done in the same way using only the subset of reviews but some of the results might be different from the examples.\n",
    "# ----------\n",
    "movies_tv = next(pd.read_json(\"reviews_Movies_and_TV_5.json.gz\", lines=True, compression='gzip', chunksize=10000))\n",
    "# If your computer has enough memory, uncomment the line below to use the entire dataset.\n",
    "# movies_tv = pd.read_json(\"reviews_Movies_and_TV_5.json.gz\", lines=True, compression='gzip')\n"
   ]
  },
  {
   "cell_type": "markdown",
   "metadata": {},
   "source": [
    "## Examining the data\n",
    "\n",
    "We take a look at the first 5 rows of each dataset to see what attributes are available. These are\n",
    "\n",
    "* **reviewerID:** A unique ID to identify the author of the review.\n",
    "* **asin:** The [\"Amazon Standard Identification Number\"](https://www.amazon.com/gp/seller/asin-upc-isbn-info.html) which provides more information about the exact product and version.\n",
    "* **reviewerName:** The username chosen by the reviewer.\n",
    "* **helpful:** A record of how many users indicated that the review was helpful/not helpful.\n",
    "* **reviewText:** The full text of the review.\n",
    "* **overall:** The overall rating (1-5) left by the reviewer.\n",
    "* **summary:** A short version of the review, used as the title.\n",
    "* **unixReviewTime:** The date that the review was created, in [Unix Epoch](https://en.wikipedia.org/wiki/Unix_time) format.\n",
    "* **reviewTime:** A human readable date giving the day, month, and year.\n",
    "</font>"
   ]
  },
  {
   "cell_type": "code",
   "execution_count": 3,
   "metadata": {},
   "outputs": [
    {
     "name": "stdout",
     "output_type": "stream",
     "text": [
      "37126\n",
      "       reviewerID        asin                    reviewerName helpful  \\\n",
      "0  A11N155CW1UV02  B000H00VBQ                        AdrianaM  [0, 0]   \n",
      "1  A3BC8O2KCL29V2  B000H00VBQ                         Carol T  [0, 0]   \n",
      "2   A60D5HQFOTSOM  B000H00VBQ  Daniel Cooper \"dancoopermedia\"  [0, 1]   \n",
      "3  A1RJPIGRSNX4PW  B000H00VBQ                  J. Kaplan \"JJ\"  [0, 0]   \n",
      "4  A16XRPF40679KG  B000H00VBQ                   Michael Dobey  [1, 1]   \n",
      "\n",
      "                                          reviewText  overall  \\\n",
      "0  I had big expectations because I love English ...        2   \n",
      "1  I highly recommend this series. It is a must f...        5   \n",
      "2  This one is a real snoozer. Don't believe anyt...        1   \n",
      "3  Mysteries are interesting.  The tension betwee...        4   \n",
      "4  This show always is excellent, as far as briti...        5   \n",
      "\n",
      "                          summary  unixReviewTime   reviewTime  \n",
      "0      A little bit boring for me      1399075200   05 3, 2014  \n",
      "1           Excellent Grown Up TV      1346630400   09 3, 2012  \n",
      "2           Way too boring for me      1381881600  10 16, 2013  \n",
      "3     Robson Green is mesmerizing      1383091200  10 30, 2013  \n",
      "4  Robson green and great writing      1234310400  02 11, 2009  \n"
     ]
    }
   ],
   "source": [
    "print(len(instant_video))\n",
    "print(instant_video.head(5))"
   ]
  },
  {
   "cell_type": "code",
   "execution_count": 4,
   "metadata": {},
   "outputs": [
    {
     "name": "stdout",
     "output_type": "stream",
     "text": [
      "10000\n",
      "       reviewerID        asin                         reviewerName helpful  \\\n",
      "0   ADZPIG9QOCDG5  0005019281  Alice L. Larson \"alice-loves-books\"  [0, 0]   \n",
      "1  A35947ZP82G7JH  0005019281                        Amarah Strack  [0, 0]   \n",
      "2  A3UORV8A9D5L2E  0005019281                      Amazon Customer  [0, 0]   \n",
      "3  A1VKW06X1O2X7V  0005019281           Amazon Customer \"Softmill\"  [0, 0]   \n",
      "4  A3R27T4HADWFFJ  0005019281                                 BABE  [0, 0]   \n",
      "\n",
      "                                          reviewText  overall  \\\n",
      "0  This is a charming version of the classic Dick...        4   \n",
      "1  It was good but not as emotionally moving as t...        3   \n",
      "2  Don't get me wrong, Winkler is a wonderful cha...        3   \n",
      "3  Henry Winkler is very good in this twist on th...        5   \n",
      "4  This is one of the best Scrooge movies out.  H...        4   \n",
      "\n",
      "                                        summary  unixReviewTime   reviewTime  \n",
      "0                     good version of a classic      1203984000  02 26, 2008  \n",
      "1                        Good but not as moving      1388361600  12 30, 2013  \n",
      "2         Winkler's Performance was ok at best!      1388361600  12 30, 2013  \n",
      "3  It's an enjoyable twist on the classic story      1202860800  02 13, 2008  \n",
      "4                              Best Scrooge yet      1387670400  12 22, 2013  \n"
     ]
    }
   ],
   "source": [
    "print(len(movies_tv))\n",
    "print(movies_tv.head(5))"
   ]
  },
  {
   "cell_type": "markdown",
   "metadata": {},
   "source": [
    "We notice that `movies_tv` is extremely long with nearly 2 million reviews, and several columns seem uninteresting or hard to work with (e.g. `reviewerID`, `asin`, `reviewername`, `reviewtime`). We drop some information to make some of our later analysis more efficient. We also add a datetime column with Python datetime objects to more easily summarize the data:"
   ]
  },
  {
   "cell_type": "code",
   "execution_count": 5,
   "metadata": {},
   "outputs": [
    {
     "name": "stdout",
     "output_type": "stream",
     "text": [
      "Wall time: 90 ms\n"
     ]
    }
   ],
   "source": [
    "%%time\n",
    "movies_tv['datetime'] = pd.to_datetime(movies_tv['reviewTime'], format=\"%m %d, %Y\")\n",
    "instant_video['datetime'] = pd.to_datetime(instant_video['reviewTime'], format=\"%m %d, %Y\")"
   ]
  },
  {
   "cell_type": "code",
   "execution_count": 6,
   "metadata": {},
   "outputs": [
    {
     "data": {
      "text/html": [
       "<div>\n",
       "<style scoped>\n",
       "    .dataframe tbody tr th:only-of-type {\n",
       "        vertical-align: middle;\n",
       "    }\n",
       "\n",
       "    .dataframe tbody tr th {\n",
       "        vertical-align: top;\n",
       "    }\n",
       "\n",
       "    .dataframe thead th {\n",
       "        text-align: right;\n",
       "    }\n",
       "</style>\n",
       "<table border=\"1\" class=\"dataframe\">\n",
       "  <thead>\n",
       "    <tr style=\"text-align: right;\">\n",
       "      <th></th>\n",
       "      <th>helpful</th>\n",
       "      <th>reviewText</th>\n",
       "      <th>overall</th>\n",
       "      <th>summary</th>\n",
       "      <th>unixReviewTime</th>\n",
       "      <th>datetime</th>\n",
       "    </tr>\n",
       "  </thead>\n",
       "  <tbody>\n",
       "    <tr>\n",
       "      <th>0</th>\n",
       "      <td>[0, 0]</td>\n",
       "      <td>This is a charming version of the classic Dick...</td>\n",
       "      <td>4</td>\n",
       "      <td>good version of a classic</td>\n",
       "      <td>1203984000</td>\n",
       "      <td>2008-02-26</td>\n",
       "    </tr>\n",
       "    <tr>\n",
       "      <th>1</th>\n",
       "      <td>[0, 0]</td>\n",
       "      <td>It was good but not as emotionally moving as t...</td>\n",
       "      <td>3</td>\n",
       "      <td>Good but not as moving</td>\n",
       "      <td>1388361600</td>\n",
       "      <td>2013-12-30</td>\n",
       "    </tr>\n",
       "    <tr>\n",
       "      <th>2</th>\n",
       "      <td>[0, 0]</td>\n",
       "      <td>Don't get me wrong, Winkler is a wonderful cha...</td>\n",
       "      <td>3</td>\n",
       "      <td>Winkler's Performance was ok at best!</td>\n",
       "      <td>1388361600</td>\n",
       "      <td>2013-12-30</td>\n",
       "    </tr>\n",
       "    <tr>\n",
       "      <th>3</th>\n",
       "      <td>[0, 0]</td>\n",
       "      <td>Henry Winkler is very good in this twist on th...</td>\n",
       "      <td>5</td>\n",
       "      <td>It's an enjoyable twist on the classic story</td>\n",
       "      <td>1202860800</td>\n",
       "      <td>2008-02-13</td>\n",
       "    </tr>\n",
       "    <tr>\n",
       "      <th>4</th>\n",
       "      <td>[0, 0]</td>\n",
       "      <td>This is one of the best Scrooge movies out.  H...</td>\n",
       "      <td>4</td>\n",
       "      <td>Best Scrooge yet</td>\n",
       "      <td>1387670400</td>\n",
       "      <td>2013-12-22</td>\n",
       "    </tr>\n",
       "  </tbody>\n",
       "</table>\n",
       "</div>"
      ],
      "text/plain": [
       "  helpful                                         reviewText  overall  \\\n",
       "0  [0, 0]  This is a charming version of the classic Dick...        4   \n",
       "1  [0, 0]  It was good but not as emotionally moving as t...        3   \n",
       "2  [0, 0]  Don't get me wrong, Winkler is a wonderful cha...        3   \n",
       "3  [0, 0]  Henry Winkler is very good in this twist on th...        5   \n",
       "4  [0, 0]  This is one of the best Scrooge movies out.  H...        4   \n",
       "\n",
       "                                        summary  unixReviewTime   datetime  \n",
       "0                     good version of a classic      1203984000 2008-02-26  \n",
       "1                        Good but not as moving      1388361600 2013-12-30  \n",
       "2         Winkler's Performance was ok at best!      1388361600 2013-12-30  \n",
       "3  It's an enjoyable twist on the classic story      1202860800 2008-02-13  \n",
       "4                              Best Scrooge yet      1387670400 2013-12-22  "
      ]
     },
     "execution_count": 6,
     "metadata": {},
     "output_type": "execute_result"
    }
   ],
   "source": [
    "movies_tv = movies_tv.drop(columns = ['reviewerID', 'asin', 'reviewerName', 'reviewTime'])\n",
    "instant_video = instant_video.drop(columns = ['reviewerID', 'asin', 'reviewerName', 'reviewTime'])\n",
    "\n",
    "movies_tv.head(5)"
   ]
  },
  {
   "cell_type": "markdown",
   "metadata": {
    "tags": [
     "45_min"
    ]
   },
   "source": [
    "### Exercise 1:\n",
    "\n",
    "#### 1.1\n",
    "\n",
    "Plot histograms of all numeric quantities. Do you notice anything interesting about them?"
   ]
  },
  {
   "cell_type": "markdown",
   "metadata": {
    "tags": [
     "ans_st"
    ]
   },
   "source": [
    "**Answer.**"
   ]
  },
  {
   "cell_type": "raw",
   "metadata": {},
   "source": [
    "!pip install seaborn"
   ]
  },
  {
   "cell_type": "code",
   "execution_count": 7,
   "metadata": {},
   "outputs": [],
   "source": [
    "import seaborn as sns\n",
    "import matplotlib.pyplot as plt"
   ]
  },
  {
   "cell_type": "markdown",
   "metadata": {},
   "source": [
    "### Histograms instant video dataframe"
   ]
  },
  {
   "cell_type": "code",
   "execution_count": 8,
   "metadata": {},
   "outputs": [
    {
     "data": {
      "image/png": "[encoded data removed]",
      "text/plain": [
       "<Figure size 432x288 with 1 Axes>"
      ]
     },
     "metadata": {
      "needs_background": "light"
     },
     "output_type": "display_data"
    }
   ],
   "source": [
    "sns.histplot(data=instant_video, x=\"overall\", color = 'red')\n",
    "plt.grid()"
   ]
  },
  {
   "cell_type": "markdown",
   "metadata": {},
   "source": [
    "**Analysis:** Well, this histogram shows the ratings obtained by the instan_video dataset, it is interesting to note that the large concentration of the ratings are ratings above 3, where the vast majority have a 5 star rating. In contrast, the lower ratings, between 1 and 2, do not represent a large portion of the dataset, so we quickly realize that this dataset will focus on more positive ratings than negative ones."
   ]
  },
  {
   "cell_type": "code",
   "execution_count": 9,
   "metadata": {},
   "outputs": [
    {
     "data": {
      "image/png": "[encoded data removed]",
      "text/plain": [
       "<Figure size 432x288 with 1 Axes>"
      ]
     },
     "metadata": {
      "needs_background": "light"
     },
     "output_type": "display_data"
    }
   ],
   "source": [
    "sns.histplot(data=instant_video, x=\"unixReviewTime\", color='darkblue')\n",
    "plt.grid()"
   ]
  },
  {
   "cell_type": "markdown",
   "metadata": {},
   "source": [
    "**Analysis:**This histogram of the unixReviewTime column does not really give us much information, although this column is numeric, it corresponds more as an ID than as a value that can be interpreted through this histogram."
   ]
  },
  {
   "cell_type": "code",
   "execution_count": 10,
   "metadata": {},
   "outputs": [
    {
     "data": {
      "image/png": "[encoded data removed]",
      "text/plain": [
       "<Figure size 432x288 with 1 Axes>"
      ]
     },
     "metadata": {
      "needs_background": "light"
     },
     "output_type": "display_data"
    }
   ],
   "source": [
    "sns.histplot(data=instant_video, x=\"datetime\", color = 'green')\n",
    "plt.grid()"
   ]
  },
  {
   "cell_type": "markdown",
   "metadata": {},
   "source": [
    "**Analysis:** This temporal histogram shows that the highest concentration of data is from 2012, although there are some records between 2008 and 2012, these are very few compared to data after 2012. Therefore, we will find that most of the revisions are from more recent years."
   ]
  },
  {
   "cell_type": "markdown",
   "metadata": {},
   "source": [
    "### Histograms movies_tv dataframe"
   ]
  },
  {
   "cell_type": "code",
   "execution_count": 11,
   "metadata": {},
   "outputs": [
    {
     "data": {
      "image/png": "[encoded data removed]",
      "text/plain": [
       "<Figure size 432x288 with 1 Axes>"
      ]
     },
     "metadata": {
      "needs_background": "light"
     },
     "output_type": "display_data"
    }
   ],
   "source": [
    "sns.histplot(data=movies_tv, x=\"overall\", color = 'red')\n",
    "plt.grid()"
   ]
  },
  {
   "cell_type": "markdown",
   "metadata": {},
   "source": [
    "**Analysis:** Here again we see that the large concentration of the ratings are ratings above 3, where the vast majority have a 5 star rating. In contrast, the lower ratings, between 1 and 2, do not represent a large portion of the dataset, so we quickly realize that this dataset will focus on more positive ratings than negative ones."
   ]
  },
  {
   "cell_type": "code",
   "execution_count": 12,
   "metadata": {},
   "outputs": [
    {
     "data": {
      "image/png": "[encoded data removed]",
      "text/plain": [
       "<Figure size 432x288 with 1 Axes>"
      ]
     },
     "metadata": {
      "needs_background": "light"
     },
     "output_type": "display_data"
    }
   ],
   "source": [
    "sns.histplot(data=movies_tv, x=\"unixReviewTime\",color='darkblue')\n",
    "plt.grid()"
   ]
  },
  {
   "cell_type": "markdown",
   "metadata": {},
   "source": [
    "**Analysis:**This histogram of the unixReviewTime column does not really give us much information, although this column is numeric, it corresponds more as an ID than as a value that can be interpreted through this histogram."
   ]
  },
  {
   "cell_type": "code",
   "execution_count": 13,
   "metadata": {},
   "outputs": [
    {
     "data": {
      "image/png": "[encoded data removed]",
      "text/plain": [
       "<Figure size 432x288 with 1 Axes>"
      ]
     },
     "metadata": {
      "needs_background": "light"
     },
     "output_type": "display_data"
    }
   ],
   "source": [
    "sns.histplot(data=movies_tv, x=\"datetime\", color = 'green')\n",
    "plt.grid()"
   ]
  },
  {
   "cell_type": "markdown",
   "metadata": {},
   "source": [
    "**Analysis:** This histogram shows that, although the highest concentration of reviews corresponds to the most recent years (2013-2014), there is also a considerable amount in earlier years (2000-2012) and the difference is not as marked as in the previous case, which practically everything is in more recent years. In this data set, on the contrary, the reviews over time are more stable"
   ]
  },
  {
   "cell_type": "markdown",
   "metadata": {},
   "source": [
    "-------"
   ]
  },
  {
   "cell_type": "markdown",
   "metadata": {},
   "source": [
    "#### 1.2\n",
    "\n",
    "How do average ratings change over time? Plot the average rating for each year and note any trends."
   ]
  },
  {
   "cell_type": "markdown",
   "metadata": {
    "tags": [
     "ans_st"
    ]
   },
   "source": [
    "**Answer.**"
   ]
  },
  {
   "cell_type": "code",
   "execution_count": 14,
   "metadata": {},
   "outputs": [
    {
     "data": {
      "image/png": "[encoded data removed]",
      "text/plain": [
       "<Figure size 432x288 with 1 Axes>"
      ]
     },
     "metadata": {
      "needs_background": "light"
     },
     "output_type": "display_data"
    }
   ],
   "source": [
    "movies_tv.groupby(movies_tv.datetime.dt.year)['overall'].mean().plot(color=\"darkblue\")\n",
    "plt.title('Average ratings over time for movies_tv dataframe')\n",
    "plt.xlabel('Time in Years')\n",
    "plt.ylabel('Average ratings')\n",
    "plt.grid()"
   ]
  },
  {
   "cell_type": "markdown",
   "metadata": {},
   "source": [
    "**Analysis:** \n",
    "For this data set, movies tv, there is a clear upward trend over the years, where the average rating has been increasing, from 3.8 in 1998 to just over 4.5 in 2014. We find a decrease of almost 0.2 between 2003 and 2004, which may be due to the fact that there were indeed more negative ratings than positive ones, or to a reduction of the total data in this year. In conclusion, this graph represents an upward trend in average ratings.\n",
    "This histogram shows that, although the highest concentration of reviews corresponds to the most recent years (2013-2014), there is also a considerable amount in earlier years (2000-2012) and the difference is not as marked as in the previous case, which practically everything is in more recent years. In this data set, on the contrary, the reviews over time are more stable. \n"
   ]
  },
  {
   "cell_type": "markdown",
   "metadata": {},
   "source": [
    "**Analysis Average ratings plot movies_tv dataframe** : "
   ]
  },
  {
   "cell_type": "code",
   "execution_count": 15,
   "metadata": {},
   "outputs": [
    {
     "data": {
      "image/png": "[encoded data removed]",
      "text/plain": [
       "<Figure size 432x288 with 1 Axes>"
      ]
     },
     "metadata": {
      "needs_background": "light"
     },
     "output_type": "display_data"
    }
   ],
   "source": [
    "instant_video.groupby(instant_video.datetime.dt.year)['overall'].mean().plot(color=\"red\")\n",
    "plt.title('Average ratings over time for instant_video dataframe')\n",
    "plt.xlabel('Time in Years')\n",
    "plt.ylabel('Average ratings')\n",
    "plt.grid()"
   ]
  },
  {
   "cell_type": "markdown",
   "metadata": {},
   "source": [
    "**Analysis:** In this case, it could be said that the trend has a lateral behavior, although there is a sharp drop between 2000 and 2004, from an average of 5 to 4. However, the average rises again to 4.8 for 2006 and for the following years the values seem to be more stable and oscillate around an average of 4.2. These large fluctuations in the early years may be due to the scarcity of data and the high standard deviation."
   ]
  },
  {
   "cell_type": "markdown",
   "metadata": {},
   "source": [
    "-------"
   ]
  },
  {
   "cell_type": "markdown",
   "metadata": {},
   "source": [
    "#### 1.3\n",
    "\n",
    "Look at the average length of the review by year. Do you notice any trends?"
   ]
  },
  {
   "cell_type": "code",
   "execution_count": 16,
   "metadata": {},
   "outputs": [
    {
     "data": {
      "text/plain": [
       "<AxesSubplot:xlabel='datetime'>"
      ]
     },
     "execution_count": 16,
     "metadata": {},
     "output_type": "execute_result"
    },
    {
     "data": {
      "image/png": "[encoded data removed]",
      "text/plain": [
       "<Figure size 432x288 with 1 Axes>"
      ]
     },
     "metadata": {
      "needs_background": "light"
     },
     "output_type": "display_data"
    },
    {
     "data": {
      "image/png": "[encoded data removed]",
      "text/plain": [
       "<Figure size 432x288 with 1 Axes>"
      ]
     },
     "metadata": {
      "needs_background": "light"
     },
     "output_type": "display_data"
    }
   ],
   "source": [
    "instant_video['length'] = instant_video['reviewText'].apply(len)\n",
    "instant_video.groupby(instant_video.datetime.dt.year)['length'].mean().to_frame().plot(kind=\"bar\")\n",
    "\n",
    "movies_tv['length'] = movies_tv['reviewText'].apply(len)\n",
    "movies_tv.groupby(movies_tv.datetime.dt.year)['length'].mean().to_frame().plot(kind=\"bar\")"
   ]
  },
  {
   "cell_type": "markdown",
   "metadata": {
    "tags": [
     "ans_st"
    ]
   },
   "source": [
    "**Answer.**  Yes, this graph shows the length of the revisions over the years, clearly we can see that for the previous years between 2000 and 2006 the length of the revisions was increasing, i.e., the texts were longer and were getting longer. Now, from 2004-2006, there is a clear decrease in the length of these reviews, reaching its minimum point in 2014, although it is not clear the reason why this happens, an interesting factor may be that with the advent of social networks and their character limit for publications, people get used to it and have shorter messages, but this is a hypothesis only."
   ]
  },
  {
   "cell_type": "markdown",
   "metadata": {},
   "source": [
    "-------"
   ]
  },
  {
   "cell_type": "markdown",
   "metadata": {
    "tags": [
     "60_min"
    ]
   },
   "source": [
    "### Exercise 2:\n",
    "\n",
    "#### 2.1\n",
    "\n",
    "Find the ten most frequently occuring non-stop words acrooss: (i) all reviews, (ii) positive reviews, (iii) negative reviews. Do the results surprise you? Why or why not?"
   ]
  },
  {
   "cell_type": "markdown",
   "metadata": {
    "tags": [
     "ans_st"
    ]
   },
   "source": [
    "**Answer.**"
   ]
  },
  {
   "cell_type": "markdown",
   "metadata": {},
   "source": [
    "# Instan video Dataset"
   ]
  },
  {
   "cell_type": "markdown",
   "metadata": {},
   "source": [
    "## All reviews "
   ]
  },
  {
   "cell_type": "code",
   "execution_count": 17,
   "metadata": {},
   "outputs": [
    {
     "data": {
      "text/plain": [
       "[('show', 25384),\n",
       " ('season', 16907),\n",
       " ('one', 14851),\n",
       " ('like', 14748),\n",
       " ('series', 12903),\n",
       " ('good', 12664),\n",
       " ('great', 10594),\n",
       " ('really', 9097),\n",
       " ('love', 8990),\n",
       " ('watch', 8989)]"
      ]
     },
     "execution_count": 17,
     "metadata": {},
     "output_type": "execute_result"
    }
   ],
   "source": [
    "from nltk.corpus import stopwords\n",
    "import re\n",
    "import itertools\n",
    "\n",
    "# Read text column\n",
    "column_text = instant_video['reviewText']\n",
    "stop_words_english=list(set(stopwords.words('english')))\n",
    "column_text = pd.DataFrame(column_text)\n",
    "\n",
    "# Cleaning text column\n",
    "column_text['reviewText'] = column_text['reviewText'].str.lower()\n",
    "column_text['reviewText'] = column_text['reviewText'].apply(lambda x: re.sub(r'\\W',' ',re.sub(r'\\s+',' ',x)))\n",
    "column_text['reviewText'] = column_text['reviewText'].apply(lambda x: re.sub('¡','',re.sub('°','',x)))\n",
    "column_text['reviewText'] = column_text['reviewText'].apply(lambda x: x.translate(str.maketrans('', '', string.punctuation)))\n",
    "column_text['reviewText'] = column_text['reviewText'].apply(lambda x: re.sub(\"\\d+\", \"\", x)) #numbers\n",
    "column_text['reviewText'] = column_text['reviewText'].apply(lambda x: x.split())\n",
    "column_text['reviewText'] = column_text['reviewText'].apply(lambda x: [item for item in x if item not in stop_words_english])\n",
    "\n",
    "# Set many list into one single list\n",
    "allWords = list(itertools.chain.from_iterable(list(column_text['reviewText'])))\n",
    "\n",
    "# Count most frecuent words\n",
    "all_words = nltk.FreqDist(w for w in allWords)            # Count all the words in corpus\n",
    "all_words.most_common(10)   "
   ]
  },
  {
   "cell_type": "code",
   "execution_count": 18,
   "metadata": {},
   "outputs": [
    {
     "data": {
      "image/png": "[encoded data removed]",
      "text/plain": [
       "<Figure size 576x432 with 1 Axes>"
      ]
     },
     "metadata": {
      "needs_background": "light"
     },
     "output_type": "display_data"
    }
   ],
   "source": [
    "plot_df = pd.DataFrame(all_words.most_common(10) , columns=['words', 'count'])\n",
    "\n",
    "fig, ax = plt.subplots(figsize=(8, 6))\n",
    "plot_df.sort_values(by='count').plot.barh(x='words', y='count', ax=ax, color='darkblue')\n",
    "ax.set_title(\"Frequency of All Words - Common Words Found in movies tv\")\n",
    "plt.grid()\n",
    "plt.show()"
   ]
  },
  {
   "cell_type": "markdown",
   "metadata": {},
   "source": [
    "**Analysis:** To calculate these frequent words, the first step is to clear the text column to be analyzed. In this case, all processing is performed on ReviewText (it could also be the Summary column, for example). This data cleaning is mainly focused on the removal of characters that do not contribute to the text analysis, where first the data is converted to lowercase, spaces, exclamation marks, punctuation marks, numeric values, etc. are removed. Subsequently, stop words, which are words that have a high frequency and do not contribute much to the analysis, are cleaned.\n",
    "\n",
    "After this cleaning process, a tokenization and counting of the words that appear in the text is performed, and then the 10 most frequent words are presented. `Show`, `season` and `one` are the 3 most repeated for the entire dataset."
   ]
  },
  {
   "cell_type": "markdown",
   "metadata": {},
   "source": [
    "## Positive reviews "
   ]
  },
  {
   "cell_type": "markdown",
   "metadata": {},
   "source": [
    "For this case it is assumed that positive reviews are those that have a rating **greater than or equal to 4.**"
   ]
  },
  {
   "cell_type": "code",
   "execution_count": 19,
   "metadata": {},
   "outputs": [],
   "source": [
    "# Subset dataset\n",
    "\n",
    "instant_video_positive = instant_video[instant_video['overall']>= 4]"
   ]
  },
  {
   "cell_type": "code",
   "execution_count": 20,
   "metadata": {},
   "outputs": [
    {
     "data": {
      "text/plain": [
       "[('show', 20465),\n",
       " ('season', 14274),\n",
       " ('series', 10916),\n",
       " ('one', 10834),\n",
       " ('like', 10206),\n",
       " ('good', 9693),\n",
       " ('great', 9375),\n",
       " ('love', 8004),\n",
       " ('watch', 6912),\n",
       " ('well', 6718)]"
      ]
     },
     "execution_count": 20,
     "metadata": {},
     "output_type": "execute_result"
    }
   ],
   "source": [
    "# Read text column\n",
    "column_text = instant_video_positive['reviewText']\n",
    "stop_words_english=list(set(stopwords.words('english')))\n",
    "column_text = pd.DataFrame(column_text)\n",
    "\n",
    "# Cleaning text column\n",
    "column_text['reviewText'] = column_text['reviewText'].str.lower()\n",
    "column_text['reviewText'] = column_text['reviewText'].apply(lambda x: re.sub(r'\\W',' ',re.sub(r'\\s+',' ',x)))\n",
    "column_text['reviewText'] = column_text['reviewText'].apply(lambda x: re.sub('¡','',re.sub('°','',x)))\n",
    "column_text['reviewText'] = column_text['reviewText'].apply(lambda x: x.translate(str.maketrans('', '', string.punctuation)))\n",
    "column_text['reviewText'] = column_text['reviewText'].apply(lambda x: re.sub(\"\\d+\", \"\", x)) #numbers\n",
    "column_text['reviewText'] = column_text['reviewText'].apply(lambda x: x.split())\n",
    "column_text['reviewText'] = column_text['reviewText'].apply(lambda x: [item for item in x if item not in stop_words_english])\n",
    "\n",
    "# Set many list into one single list\n",
    "allWords = list(itertools.chain.from_iterable(list(column_text['reviewText'])))\n",
    "\n",
    "# Count most frecuent words\n",
    "all_words = nltk.FreqDist(w for w in allWords)            # Count all the words in corpus\n",
    "all_words.most_common(10)   "
   ]
  },
  {
   "cell_type": "markdown",
   "metadata": {},
   "source": [
    "**Analyisis:** Now, the exercise asks to perform the same process as above but for the positive reviews. In this case we will use the rating column in order to extract the records with the best ratings, which are expected to have the most positive reviews. To perform the extraction of these records the following logic was used:\n",
    "\n",
    "`instant_video_positive = instant_video[instant_video['overall']>= 4]`\n",
    "\n",
    "Note that we will only consider positive records those that have a score of 4 or 5, this is what I considered as positive, and on this set of data we perform all the cleaning processes discussed above.\n",
    "\n",
    "\n",
    "For this case we find words that represent positive themes, although they are not reflected in the top 3 as you would expect, but we find words like.  `good`,`like`, `great` and `love`"
   ]
  },
  {
   "cell_type": "code",
   "execution_count": 21,
   "metadata": {},
   "outputs": [
    {
     "data": {
      "image/png": "[encoded data removed]",
      "text/plain": [
       "<Figure size 576x432 with 1 Axes>"
      ]
     },
     "metadata": {
      "needs_background": "light"
     },
     "output_type": "display_data"
    }
   ],
   "source": [
    "plot_df = pd.DataFrame(all_words.most_common(10) , columns=['words', 'count'])\n",
    "\n",
    "fig, ax = plt.subplots(figsize=(8, 6))\n",
    "plot_df.sort_values(by='count').plot.barh(x='words', y='count', ax=ax, color='green')\n",
    "ax.set_title(\"Frequency of Positive Words - Common Words Found in Instant Video\")\n",
    "plt.grid()\n",
    "plt.show()"
   ]
  },
  {
   "cell_type": "markdown",
   "metadata": {},
   "source": [
    "## Negative reviews "
   ]
  },
  {
   "cell_type": "markdown",
   "metadata": {},
   "source": [
    "For this case it is assumed that positive reviews are those with a rating **less than 3.**."
   ]
  },
  {
   "cell_type": "code",
   "execution_count": 22,
   "metadata": {},
   "outputs": [],
   "source": [
    "# Subset dataset\n",
    "instant_video_negative = instant_video[instant_video['overall']< 3]"
   ]
  },
  {
   "cell_type": "code",
   "execution_count": 23,
   "metadata": {},
   "outputs": [
    {
     "data": {
      "text/plain": [
       "[('show', 2249),\n",
       " ('like', 2123),\n",
       " ('one', 1865),\n",
       " ('movie', 1784),\n",
       " ('would', 1237),\n",
       " ('film', 1206),\n",
       " ('really', 1176),\n",
       " ('good', 1148),\n",
       " ('time', 1002),\n",
       " ('get', 986)]"
      ]
     },
     "execution_count": 23,
     "metadata": {},
     "output_type": "execute_result"
    }
   ],
   "source": [
    "# Read text column\n",
    "column_text = instant_video_negative['reviewText']\n",
    "stop_words_english=list(set(stopwords.words('english')))\n",
    "column_text = pd.DataFrame(column_text)\n",
    "\n",
    "# Cleaning text column\n",
    "column_text['reviewText'] = column_text['reviewText'].str.lower()\n",
    "column_text['reviewText'] = column_text['reviewText'].apply(lambda x: re.sub(r'\\W',' ',re.sub(r'\\s+',' ',x)))\n",
    "column_text['reviewText'] = column_text['reviewText'].apply(lambda x: re.sub('¡','',re.sub('°','',x)))\n",
    "column_text['reviewText'] = column_text['reviewText'].apply(lambda x: x.translate(str.maketrans('', '', string.punctuation)))\n",
    "column_text['reviewText'] = column_text['reviewText'].apply(lambda x: re.sub(\"\\d+\", \"\", x)) #numbers\n",
    "column_text['reviewText'] = column_text['reviewText'].apply(lambda x: x.split())\n",
    "column_text['reviewText'] = column_text['reviewText'].apply(lambda x: [item for item in x if item not in stop_words_english])\n",
    "\n",
    "# Set many list into one single list\n",
    "allWords = list(itertools.chain.from_iterable(list(column_text['reviewText'])))\n",
    "\n",
    "# Count most frecuent words\n",
    "all_words = nltk.FreqDist(w for w in allWords)            # Count all the words in corpus\n",
    "all_words.most_common(10)   "
   ]
  },
  {
   "cell_type": "code",
   "execution_count": 24,
   "metadata": {},
   "outputs": [
    {
     "data": {
      "image/png": "[encoded data removed]",
      "text/plain": [
       "<Figure size 576x432 with 1 Axes>"
      ]
     },
     "metadata": {
      "needs_background": "light"
     },
     "output_type": "display_data"
    }
   ],
   "source": [
    "plot_df = pd.DataFrame(all_words.most_common(10) , columns=['words', 'count'])\n",
    "\n",
    "fig, ax = plt.subplots(figsize=(8, 6))\n",
    "plot_df.sort_values(by='count').plot.barh(x='words', y='count', ax=ax, color='red')\n",
    "ax.set_title(\"Frequency of Negative Words - Common Words Found in Instant Video\")\n",
    "plt.grid()\n",
    "plt.show()"
   ]
  },
  {
   "cell_type": "markdown",
   "metadata": {},
   "source": [
    "**Analyisis:** Now, the exercise asks to perform the same process as the previous one but for the negative ratings. In this case we will use the ratings column to extract the records with the worst ratings, which are the ones expected to have more negative ratings. The following logic has been used to extract these records:\n",
    "\n",
    "`instant_video_negative = instant_video[instant_video['overall']< 3]`\n",
    "\n",
    "It should be noted that we will only consider negative records those with a score of 2 or 1, this is what I have considered as negative, and on this data set we perform all the cleaning processes discussed above.\n",
    "\n",
    "Unlike the previous point, we do not find very negative context words, on the contrary we find words such as `like`, and `good`, which at first glance seems strange because we are using negative reviews. Let's keep exploring!\n"
   ]
  },
  {
   "cell_type": "markdown",
   "metadata": {},
   "source": [
    "## Neutral reviews "
   ]
  },
  {
   "cell_type": "markdown",
   "metadata": {},
   "source": [
    "For this case it is assumed that positive reviews are those with a rating **equal than 3.**."
   ]
  },
  {
   "cell_type": "code",
   "execution_count": 25,
   "metadata": {},
   "outputs": [],
   "source": [
    "# Subset dataset\n",
    "instant_video_neutral = instant_video[instant_video['overall']== 3]"
   ]
  },
  {
   "cell_type": "code",
   "execution_count": 26,
   "metadata": {},
   "outputs": [
    {
     "data": {
      "text/plain": [
       "[('show', 2670),\n",
       " ('like', 2419),\n",
       " ('one', 2152),\n",
       " ('good', 1823),\n",
       " ('season', 1797),\n",
       " ('movie', 1641),\n",
       " ('film', 1627),\n",
       " ('would', 1460),\n",
       " ('really', 1410),\n",
       " ('story', 1355)]"
      ]
     },
     "execution_count": 26,
     "metadata": {},
     "output_type": "execute_result"
    }
   ],
   "source": [
    "# Read text column\n",
    "column_text = instant_video_neutral['reviewText']\n",
    "stop_words_english=list(set(stopwords.words('english')))\n",
    "column_text = pd.DataFrame(column_text)\n",
    "\n",
    "# Cleaning text column\n",
    "column_text['reviewText'] = column_text['reviewText'].str.lower()\n",
    "column_text['reviewText'] = column_text['reviewText'].apply(lambda x: re.sub(r'\\W',' ',re.sub(r'\\s+',' ',x)))\n",
    "column_text['reviewText'] = column_text['reviewText'].apply(lambda x: re.sub('¡','',re.sub('°','',x)))\n",
    "column_text['reviewText'] = column_text['reviewText'].apply(lambda x: x.translate(str.maketrans('', '', string.punctuation)))\n",
    "column_text['reviewText'] = column_text['reviewText'].apply(lambda x: re.sub(\"\\d+\", \"\", x)) #numbers\n",
    "column_text['reviewText'] = column_text['reviewText'].apply(lambda x: x.split())\n",
    "column_text['reviewText'] = column_text['reviewText'].apply(lambda x: [item for item in x if item not in stop_words_english])\n",
    "\n",
    "# Set many list into one single list\n",
    "allWords = list(itertools.chain.from_iterable(list(column_text['reviewText'])))\n",
    "\n",
    "# Count most frecuent words\n",
    "all_words = nltk.FreqDist(w for w in allWords)            # Count all the words in corpus\n",
    "all_words.most_common(10)   "
   ]
  },
  {
   "cell_type": "code",
   "execution_count": 27,
   "metadata": {},
   "outputs": [
    {
     "data": {
      "image/png": "[encoded data removed]",
      "text/plain": [
       "<Figure size 576x432 with 1 Axes>"
      ]
     },
     "metadata": {
      "needs_background": "light"
     },
     "output_type": "display_data"
    }
   ],
   "source": [
    "plot_df = pd.DataFrame(all_words.most_common(10) , columns=['words', 'count'])\n",
    "\n",
    "fig, ax = plt.subplots(figsize=(8, 6))\n",
    "plot_df.sort_values(by='count').plot.barh(x='words', y='count', ax=ax, color='c')\n",
    "ax.set_title(\"Frequency of Neutral Words - Common Words Found in movies tv\")\n",
    "plt.grid()\n",
    "plt.show()"
   ]
  },
  {
   "cell_type": "markdown",
   "metadata": {},
   "source": [
    "**Analysis:** Now, although the exercise does not ask for it, I performed the same procedure for neutral valuations. These ratings are those that have a rating exactly equal to 3. Since we split the dataset into negative (<3) and positive (>=4), we use this approach to observe the behavior of the neutrals. The logic to extract the data was as follows:\n",
    "\n",
    "`instant_video_neutral = instant_video[instant_video['overall']== 3]`"
   ]
  },
  {
   "cell_type": "markdown",
   "metadata": {},
   "source": [
    "**Analysis reviews instant_video dataframe** : "
   ]
  },
  {
   "cell_type": "markdown",
   "metadata": {},
   "source": [
    "# Moviest tv Dataset"
   ]
  },
  {
   "cell_type": "markdown",
   "metadata": {},
   "source": [
    "## All reviews "
   ]
  },
  {
   "cell_type": "code",
   "execution_count": 28,
   "metadata": {},
   "outputs": [
    {
     "data": {
      "text/plain": [
       "[('movie', 13474),\n",
       " ('film', 10666),\n",
       " ('one', 8090),\n",
       " ('like', 4838),\n",
       " ('great', 4330),\n",
       " ('good', 4239),\n",
       " ('quot', 4106),\n",
       " ('story', 3687),\n",
       " ('time', 3612),\n",
       " ('well', 3468)]"
      ]
     },
     "execution_count": 28,
     "metadata": {},
     "output_type": "execute_result"
    }
   ],
   "source": [
    "# Read text column\n",
    "column_text = movies_tv['reviewText']\n",
    "stop_words_english=list(set(stopwords.words('english')))\n",
    "column_text = pd.DataFrame(column_text)\n",
    "\n",
    "# Cleaning text column\n",
    "column_text['reviewText'] = column_text['reviewText'].str.lower()\n",
    "column_text['reviewText'] = column_text['reviewText'].apply(lambda x: re.sub(r'\\W',' ',re.sub(r'\\s+',' ',x)))\n",
    "column_text['reviewText'] = column_text['reviewText'].apply(lambda x: re.sub('¡','',re.sub('°','',x)))\n",
    "column_text['reviewText'] = column_text['reviewText'].apply(lambda x: x.translate(str.maketrans('', '', string.punctuation)))\n",
    "column_text['reviewText'] = column_text['reviewText'].apply(lambda x: re.sub(\"\\d+\", \"\", x)) #numbers\n",
    "column_text['reviewText'] = column_text['reviewText'].apply(lambda x: x.split())\n",
    "column_text['reviewText'] = column_text['reviewText'].apply(lambda x: [item for item in x if item not in stop_words_english])\n",
    "\n",
    "# Set many list into one single list\n",
    "allWords = list(itertools.chain.from_iterable(list(column_text['reviewText'])))\n",
    "\n",
    "# Count most frecuent words\n",
    "all_words = nltk.FreqDist(w for w in allWords)            # Count all the words in corpus\n",
    "all_words.most_common(10)   "
   ]
  },
  {
   "cell_type": "code",
   "execution_count": 29,
   "metadata": {},
   "outputs": [
    {
     "data": {
      "image/png": "[encoded data removed]",
      "text/plain": [
       "<Figure size 576x432 with 1 Axes>"
      ]
     },
     "metadata": {
      "needs_background": "light"
     },
     "output_type": "display_data"
    }
   ],
   "source": [
    "plot_df = pd.DataFrame(all_words.most_common(10) , columns=['words', 'count'])\n",
    "\n",
    "fig, ax = plt.subplots(figsize=(8, 6))\n",
    "plot_df.sort_values(by='count').plot.barh(x='words', y='count', ax=ax, color='darkblue')\n",
    "ax.set_title(\"Frequency of All Words - Common Words Found in movies tv\")\n",
    "plt.grid()\n",
    "plt.show()"
   ]
  },
  {
   "cell_type": "markdown",
   "metadata": {},
   "source": [
    "**Analysis:** To calculate these frequent words, the first step is to clear the text column to be analyzed. In this case, all processing is performed on ReviewText (it could also be the Summary column, for example). This data cleaning is mainly focused on the removal of characters that do not contribute to the text analysis, where first the data is converted to lowercase, spaces, exclamation marks, punctuation marks, numeric values, etc. are removed. Subsequently, stop words, which are words that have a high frequency and do not contribute much to the analysis, are cleaned.\n",
    "\n",
    "After this cleaning process, a tokenization and counting of the words that appear in the text is performed, and then the 10 most frequent words are presented. `movie`, `film` and `one` are the 3 most repeated for the entire dataset."
   ]
  },
  {
   "cell_type": "markdown",
   "metadata": {},
   "source": [
    "## Positive reviews "
   ]
  },
  {
   "cell_type": "markdown",
   "metadata": {},
   "source": [
    "For this case it is assumed that positive reviews are those that have a rating **greater than or equal to 4.**"
   ]
  },
  {
   "cell_type": "code",
   "execution_count": 30,
   "metadata": {},
   "outputs": [],
   "source": [
    "# Subset dataset\n",
    "\n",
    "movies_tv_positive = movies_tv[movies_tv['overall']>= 4]"
   ]
  },
  {
   "cell_type": "code",
   "execution_count": 31,
   "metadata": {},
   "outputs": [
    {
     "data": {
      "text/plain": [
       "[('movie', 10746),\n",
       " ('film', 8445),\n",
       " ('one', 6663),\n",
       " ('great', 3872),\n",
       " ('like', 3653),\n",
       " ('quot', 3331),\n",
       " ('good', 3311),\n",
       " ('story', 3017),\n",
       " ('time', 2986),\n",
       " ('well', 2879)]"
      ]
     },
     "execution_count": 31,
     "metadata": {},
     "output_type": "execute_result"
    }
   ],
   "source": [
    "# Read text column\n",
    "column_text = movies_tv_positive['reviewText']\n",
    "stop_words_english=list(set(stopwords.words('english')))\n",
    "column_text = pd.DataFrame(column_text)\n",
    "\n",
    "# Cleaning text column\n",
    "column_text['reviewText'] = column_text['reviewText'].str.lower()\n",
    "column_text['reviewText'] = column_text['reviewText'].apply(lambda x: re.sub(r'\\W',' ',re.sub(r'\\s+',' ',x)))\n",
    "column_text['reviewText'] = column_text['reviewText'].apply(lambda x: re.sub('¡','',re.sub('°','',x)))\n",
    "column_text['reviewText'] = column_text['reviewText'].apply(lambda x: x.translate(str.maketrans('', '', string.punctuation)))\n",
    "column_text['reviewText'] = column_text['reviewText'].apply(lambda x: re.sub(\"\\d+\", \"\", x)) #numbers\n",
    "column_text['reviewText'] = column_text['reviewText'].apply(lambda x: x.split())\n",
    "column_text['reviewText'] = column_text['reviewText'].apply(lambda x: [item for item in x if item not in stop_words_english])\n",
    "\n",
    "# Set many list into one single list\n",
    "allWords = list(itertools.chain.from_iterable(list(column_text['reviewText'])))\n",
    "\n",
    "# Count most frecuent words\n",
    "all_words = nltk.FreqDist(w for w in allWords)            # Count all the words in corpus\n",
    "all_words.most_common(10)   "
   ]
  },
  {
   "cell_type": "code",
   "execution_count": 32,
   "metadata": {},
   "outputs": [
    {
     "data": {
      "image/png": "[encoded data removed]",
      "text/plain": [
       "<Figure size 576x432 with 1 Axes>"
      ]
     },
     "metadata": {
      "needs_background": "light"
     },
     "output_type": "display_data"
    }
   ],
   "source": [
    "plot_df = pd.DataFrame(all_words.most_common(10) , columns=['words', 'count'])\n",
    "\n",
    "fig, ax = plt.subplots(figsize=(8, 6))\n",
    "plot_df.sort_values(by='count').plot.barh(x='words', y='count', ax=ax, color='green')\n",
    "ax.set_title(\"Frequency of Positive Words - Common Words Found in movies tv\")\n",
    "plt.grid()\n",
    "plt.show()"
   ]
  },
  {
   "cell_type": "markdown",
   "metadata": {},
   "source": [
    "**Analyisis:** Now, the exercise asks to perform the same process as above but for the positive reviews. In this case we will use the rating column in order to extract the records with the best ratings, which are expected to have the most positive reviews. To perform the extraction of these records the following logic was used:\n",
    "\n",
    "`instant_video_positive = instant_video[instant_video['overall']>= 4]`\n",
    "\n",
    "Note that we will only consider positive records those that have a score of 4 or 5, this is what I considered as positive, and on this set of data we perform all the cleaning processes discussed above.\n",
    "\n",
    "\n",
    "For this case we find words that represent positive themes, although they are not reflected in the top 3 as you would expect, but we find words like.  `well`,`good`, `great` and `like`"
   ]
  },
  {
   "cell_type": "markdown",
   "metadata": {},
   "source": [
    "## Negative reviews "
   ]
  },
  {
   "cell_type": "markdown",
   "metadata": {},
   "source": [
    "For this case it is assumed that positive reviews are those with a rating **less than 3.**."
   ]
  },
  {
   "cell_type": "code",
   "execution_count": 33,
   "metadata": {},
   "outputs": [],
   "source": [
    "# Subset dataset\n",
    "movies_tv_negative = movies_tv[movies_tv['overall']< 3]"
   ]
  },
  {
   "cell_type": "code",
   "execution_count": 34,
   "metadata": {},
   "outputs": [
    {
     "data": {
      "text/plain": [
       "[('movie', 1390),\n",
       " ('film', 1089),\n",
       " ('one', 694),\n",
       " ('like', 592),\n",
       " ('would', 499),\n",
       " ('jesus', 469),\n",
       " ('quot', 393),\n",
       " ('even', 355),\n",
       " ('good', 346),\n",
       " ('see', 335)]"
      ]
     },
     "execution_count": 34,
     "metadata": {},
     "output_type": "execute_result"
    }
   ],
   "source": [
    "# Read text column\n",
    "column_text = movies_tv_negative['reviewText']\n",
    "stop_words_english=list(set(stopwords.words('english')))\n",
    "column_text = pd.DataFrame(column_text)\n",
    "\n",
    "# Cleaning text column\n",
    "column_text['reviewText'] = column_text['reviewText'].str.lower()\n",
    "column_text['reviewText'] = column_text['reviewText'].apply(lambda x: re.sub(r'\\W',' ',re.sub(r'\\s+',' ',x)))\n",
    "column_text['reviewText'] = column_text['reviewText'].apply(lambda x: re.sub('¡','',re.sub('°','',x)))\n",
    "column_text['reviewText'] = column_text['reviewText'].apply(lambda x: x.translate(str.maketrans('', '', string.punctuation)))\n",
    "column_text['reviewText'] = column_text['reviewText'].apply(lambda x: re.sub(\"\\d+\", \"\", x)) #numbers\n",
    "column_text['reviewText'] = column_text['reviewText'].apply(lambda x: x.split())\n",
    "column_text['reviewText'] = column_text['reviewText'].apply(lambda x: [item for item in x if item not in stop_words_english])\n",
    "\n",
    "# Set many list into one single list\n",
    "allWords = list(itertools.chain.from_iterable(list(column_text['reviewText'])))\n",
    "\n",
    "# Count most frecuent words\n",
    "all_words = nltk.FreqDist(w for w in allWords)            # Count all the words in corpus\n",
    "all_words.most_common(10)   "
   ]
  },
  {
   "cell_type": "code",
   "execution_count": 35,
   "metadata": {},
   "outputs": [
    {
     "data": {
      "image/png": "[encoded data removed]",
      "text/plain": [
       "<Figure size 576x432 with 1 Axes>"
      ]
     },
     "metadata": {
      "needs_background": "light"
     },
     "output_type": "display_data"
    }
   ],
   "source": [
    "plot_df = pd.DataFrame(all_words.most_common(10) , columns=['words', 'count'])\n",
    "\n",
    "fig, ax = plt.subplots(figsize=(8, 6))\n",
    "plot_df.sort_values(by='count').plot.barh(x='words', y='count', ax=ax, color='red')\n",
    "ax.set_title(\"Frequency of Negative Words - Common Words Found in movies tv\")\n",
    "plt.grid()\n",
    "plt.show()"
   ]
  },
  {
   "cell_type": "markdown",
   "metadata": {},
   "source": [
    "**Analyisis:** Now, the exercise asks to perform the same process as the previous one but for the negative ratings. In this case we will use the ratings column to extract the records with the worst ratings, which are the ones expected to have more negative ratings. The following logic has been used to extract these records:\n",
    "\n",
    "`instant_video_negative = instant_video[instant_video['overall']< 3]`\n",
    "\n",
    "It should be noted that we will only consider negative records those with a score of 2 or 1, this is what I have considered as negative, and on this data set we perform all the cleaning processes discussed above.\n",
    "\n",
    "Unlike the previous point, we do not find very negative context words, on the contrary we find words such as `like`, and `good`, which at first glance seems strange because we are using negative reviews. Let's keep exploring!\n"
   ]
  },
  {
   "cell_type": "markdown",
   "metadata": {},
   "source": [
    "## Neutral reviews "
   ]
  },
  {
   "cell_type": "markdown",
   "metadata": {},
   "source": [
    "For this case it is assumed that positive reviews are those with a rating **equal than 3.**."
   ]
  },
  {
   "cell_type": "code",
   "execution_count": 36,
   "metadata": {},
   "outputs": [],
   "source": [
    "# Subset dataset\n",
    "movies_tv_neutral = movies_tv[movies_tv['overall']== 3]"
   ]
  },
  {
   "cell_type": "code",
   "execution_count": 37,
   "metadata": {},
   "outputs": [
    {
     "data": {
      "text/plain": [
       "[('movie', 1338),\n",
       " ('film', 1132),\n",
       " ('one', 733),\n",
       " ('like', 593),\n",
       " ('good', 582),\n",
       " ('would', 447),\n",
       " ('much', 432),\n",
       " ('quot', 382),\n",
       " ('jesus', 373),\n",
       " ('story', 371)]"
      ]
     },
     "execution_count": 37,
     "metadata": {},
     "output_type": "execute_result"
    }
   ],
   "source": [
    "# Read text column\n",
    "column_text = movies_tv_neutral['reviewText']\n",
    "stop_words_english=list(set(stopwords.words('english')))\n",
    "column_text = pd.DataFrame(column_text)\n",
    "\n",
    "# Cleaning text column\n",
    "column_text['reviewText'] = column_text['reviewText'].str.lower()\n",
    "column_text['reviewText'] = column_text['reviewText'].apply(lambda x: re.sub(r'\\W',' ',re.sub(r'\\s+',' ',x)))\n",
    "column_text['reviewText'] = column_text['reviewText'].apply(lambda x: re.sub('¡','',re.sub('°','',x)))\n",
    "column_text['reviewText'] = column_text['reviewText'].apply(lambda x: x.translate(str.maketrans('', '', string.punctuation)))\n",
    "column_text['reviewText'] = column_text['reviewText'].apply(lambda x: re.sub(\"\\d+\", \"\", x)) #numbers\n",
    "column_text['reviewText'] = column_text['reviewText'].apply(lambda x: x.split())\n",
    "column_text['reviewText'] = column_text['reviewText'].apply(lambda x: [item for item in x if item not in stop_words_english])\n",
    "\n",
    "# Set many list into one single list\n",
    "allWords = list(itertools.chain.from_iterable(list(column_text['reviewText'])))\n",
    "\n",
    "# Count most frecuent words\n",
    "all_words = nltk.FreqDist(w for w in allWords)            # Count all the words in corpus\n",
    "all_words.most_common(10)   "
   ]
  },
  {
   "cell_type": "code",
   "execution_count": 38,
   "metadata": {},
   "outputs": [
    {
     "data": {
      "image/png": "[encoded data removed]",
      "text/plain": [
       "<Figure size 576x432 with 1 Axes>"
      ]
     },
     "metadata": {
      "needs_background": "light"
     },
     "output_type": "display_data"
    }
   ],
   "source": [
    "plot_df = pd.DataFrame(all_words.most_common(10) , columns=['words', 'count'])\n",
    "\n",
    "fig, ax = plt.subplots(figsize=(8, 6))\n",
    "plot_df.sort_values(by='count').plot.barh(x='words', y='count', ax=ax, color='c')\n",
    "ax.set_title(\"Frequency of Neutral Words - Common Words Found in movies tv\")\n",
    "plt.grid()\n",
    "plt.show()"
   ]
  },
  {
   "cell_type": "markdown",
   "metadata": {},
   "source": [
    "**Analysis:** Now, although the exercise does not ask for it, I performed the same procedure for neutral valuations. These ratings are those that have a rating exactly equal to 3. Since we split the dataset into negative (<3) and positive (>=4), we use this approach to observe the behavior of the neutrals. The logic to extract the data was as follows:\n",
    "\n",
    "`instant_video_neutral = instant_video[instant_video['overall']== 3]`"
   ]
  },
  {
   "cell_type": "markdown",
   "metadata": {},
   "source": [
    "-------"
   ]
  },
  {
   "cell_type": "markdown",
   "metadata": {},
   "source": [
    " #### 2.2\n",
    "\n",
    "Find words that are indicative of bad reviews. That is, words that appear often in bad reviews and *not* in good reviews. What are these words and are they surprising?"
   ]
  },
  {
   "cell_type": "markdown",
   "metadata": {
    "tags": [
     "ans_st"
    ]
   },
   "source": [
    "**Answer.**"
   ]
  },
  {
   "cell_type": "markdown",
   "metadata": {},
   "source": [
    "The words that appear in bad reviews and not in good reviews for the **movies tv** dataset are as follows:\n",
    "\n",
    "\n",
    "| Words |\n",
    "| :- | \n",
    "| Even |\n",
    "| Jesus|\n",
    "| See | \n",
    "| Would | \n",
    "\n",
    "The words that appear in bad reviews and not in good reviews for the **Instant video** dataset are as follows:\n",
    "\n",
    "\n",
    "| Words |\n",
    "| :- | \n",
    "| Film |\n",
    "| Get |\n",
    "| Movie |\n",
    "| Really |\n",
    "| Time |\n",
    "| Would |\n",
    "\n",
    "\n",
    "The surprise lies in the fact that these words were expected to express negative feelings, but on the contrary, they are words that do not express very well what they are referring to; it would not be possible to indicate that they are part of a negative review just by reading them, since they are not words in a negative context. Other words were expected"
   ]
  },
  {
   "cell_type": "markdown",
   "metadata": {},
   "source": [
    "-------"
   ]
  },
  {
   "cell_type": "markdown",
   "metadata": {
    "tags": [
     "25_min"
    ]
   },
   "source": [
    "### Exercise 3:\n",
    "\n",
    "Manually inspect the first 10 negative reviews containing the word \"good\". What do you notice? How does this suggest we ought to proceed next?"
   ]
  },
  {
   "cell_type": "markdown",
   "metadata": {
    "tags": [
     "ans_st"
    ]
   },
   "source": [
    "**Answer.**"
   ]
  },
  {
   "cell_type": "code",
   "execution_count": 39,
   "metadata": {},
   "outputs": [],
   "source": [
    "pd.set_option('display.max_colwidth', None)"
   ]
  },
  {
   "cell_type": "code",
   "execution_count": 40,
   "metadata": {},
   "outputs": [
    {
     "data": {
      "text/html": [
       "<div>\n",
       "<style scoped>\n",
       "    .dataframe tbody tr th:only-of-type {\n",
       "        vertical-align: middle;\n",
       "    }\n",
       "\n",
       "    .dataframe tbody tr th {\n",
       "        vertical-align: top;\n",
       "    }\n",
       "\n",
       "    .dataframe thead th {\n",
       "        text-align: right;\n",
       "    }\n",
       "</style>\n",
       "<table border=\"1\" class=\"dataframe\">\n",
       "  <thead>\n",
       "    <tr style=\"text-align: right;\">\n",
       "      <th></th>\n",
       "      <th>index</th>\n",
       "      <th>helpful</th>\n",
       "      <th>reviewText</th>\n",
       "      <th>overall</th>\n",
       "      <th>summary</th>\n",
       "      <th>unixReviewTime</th>\n",
       "      <th>datetime</th>\n",
       "      <th>length</th>\n",
       "    </tr>\n",
       "  </thead>\n",
       "  <tbody>\n",
       "    <tr>\n",
       "      <th>0</th>\n",
       "      <td>186</td>\n",
       "      <td>[13, 23]</td>\n",
       "      <td>The acting was good, the story was correct, but naked backsides was not necessary.  Also the Potiphers wife did not need to be so very seductive of a naked Joseph. Not a Christian movie.  I felt that even though it was probably portrayed truthfully, Christans do not need to see so explicit a scene.  This should be rated PG 13 at least.</td>\n",
       "      <td>1</td>\n",
       "      <td>Nakedness not necessary!</td>\n",
       "      <td>1298851200</td>\n",
       "      <td>2011-02-28</td>\n",
       "      <td>337</td>\n",
       "    </tr>\n",
       "    <tr>\n",
       "      <th>1</th>\n",
       "      <td>405</td>\n",
       "      <td>[113, 119]</td>\n",
       "      <td>The DVD transfer is pretty good but the scene with Yukon discovering peppermint has been cut.It seems pretty odd to sell a DVD as a restored classic only to leave out the main thing that was to be restored!</td>\n",
       "      <td>1</td>\n",
       "      <td>Rudy what have they done!</td>\n",
       "      <td>1134259200</td>\n",
       "      <td>2005-12-11</td>\n",
       "      <td>206</td>\n",
       "    </tr>\n",
       "    <tr>\n",
       "      <th>2</th>\n",
       "      <td>473</td>\n",
       "      <td>[66, 68]</td>\n",
       "      <td>Yes, it is I, the Edit Avenger!!Here to protect freedom and original art from plunderous corporations and soulless individuals!!!!If you are considering purchasing a 2004 or later release of 'Rudolph', think twice. It is edited.I just ordered the original 2002 UNEDITED/no Destiny's Child 'Rudolph' DVD from eBay express. I got it sealed for $6.99 + $3 shipping.Do NOT buy edited DVDs when you can avoid it. Let's send the message. If you don't think that you make a difference remember this:Consumer complaints about the edits in 'Beavis and Butthead Mike Judge Collection Vol 1' were 100% of the reason that volumes 2 and 3 were released with absolutely NO edits whatsoever to the material.Good for us!Edits are for losers!I have spoken.</td>\n",
       "      <td>1</td>\n",
       "      <td>I am the Edit Avenger! 1 star for besmirching a classic!</td>\n",
       "      <td>1167868800</td>\n",
       "      <td>2007-01-04</td>\n",
       "      <td>739</td>\n",
       "    </tr>\n",
       "    <tr>\n",
       "      <th>3</th>\n",
       "      <td>503</td>\n",
       "      <td>[15, 19]</td>\n",
       "      <td>ANOTHER American cultural icon from the 60's has beendeemed unacceptable by those who would prefer to seemalice where none exists.Not even Underdog can escape the slings and arrows ofthose with the same mentality as the book-burners of1930's Germany.Why do we allow such obvious Orwellian \"Newsspeak\" toedit our past? Come on... this IS a cartoon, for Pete'ssake, NOT some social/political statement.Nothing here needs to be edited or \"cleaned up\". Theseare simple \"good vs. evil\" stories with a happy ending,and should be offered in their entirety... music/songs,credits and all.And, if one is offended by ANY of this... then one mayexorcise one's freedom NOT to purchase such!Nuff' said...</td>\n",
       "      <td>2</td>\n",
       "      <td>The \"PC\" police strike AGAIN</td>\n",
       "      <td>1137974400</td>\n",
       "      <td>2006-01-23</td>\n",
       "      <td>691</td>\n",
       "    </tr>\n",
       "    <tr>\n",
       "      <th>4</th>\n",
       "      <td>576</td>\n",
       "      <td>[9, 28]</td>\n",
       "      <td>why would mel gibson make a movie that would promote alot of controversy? hmm, do you think maybe it might be because ALOT OF PEOPLE WOULD WANT TO SEE IT THEN? i cant believe mel made this movie in honor of god, because if he did then he would of at least made it about an interesting story with a good plot and character development...i agree with the guy who said there should be a sequel. but instead of making jesus a race car driver let him come back from heaven decked out in all sorts of crazy gun crap like rambo. \"Jesus is back, and he is pissed\", follow jesus as he goes back in time to save john conner from the evil robots, and then when thats done jesus will master the magic dragon and go save the elven maidens on mount gundor! we can make it a coming of age story about how jesus is still learning about emotional development or something stupid like that, and in the end can become a pirate and sail into the sunset with a eye patch and pegged leg, or we could just crucify him again, and make sure the nails stay in place</td>\n",
       "      <td>1</td>\n",
       "      <td>Great! for a movie made by a corporate whore jackass</td>\n",
       "      <td>1114300800</td>\n",
       "      <td>2005-04-24</td>\n",
       "      <td>1039</td>\n",
       "    </tr>\n",
       "    <tr>\n",
       "      <th>5</th>\n",
       "      <td>595</td>\n",
       "      <td>[1, 8]</td>\n",
       "      <td>Viewed: 5/14Rate: 15/14: The Passion of the Christ garnered a lot of attention in 2004, but I didn't get caught up in the hype or follow it for the slightest bit. Fast forward to ten years later, I was browsing through the library's shelf of movies that might strike my interest, and I saw The Passion of the Christ sitting there. So, I figured that I might give it a try. And I now wish that I never did and have regretted it. The thing with me, I don't watch movies made after the year of 2000 because almost everything I've seen thus far does not resemble good cinema in any shape, form, or manner. So, I gave up and declared that I'll only watch movies made before the end of the year 2000. There is a strong reason in my declaration, and The Passion of the Christ reaffirms my stance. The film brings out the worst of everything. It's the fake acting. It's the constant overt melodrama in everything that the characters do, feel, think, or speak. It's the free-all ultra-graphic torture. It's the unrealistic depiction of what a human being is capable of. It's the impossibility of physics. It's the unmerciful pacing that moves slow like molasses in January. It's the vapid storyline that seems to convey nothing of substance or significance. Truly, The Passion of the Christ is a waste of my time. By the way, I saw Braveheart and thought of it a terrific entertainment, and thenceforth, I was so annoyed by the many borrowed techniques from it into The Passion of the Christ. All in all, what I saw and felt is The Passion of the Torture on both sides: mine and the film's.</td>\n",
       "      <td>1</td>\n",
       "      <td>A Ridiculous Waste of My Time.</td>\n",
       "      <td>1400284800</td>\n",
       "      <td>2014-05-17</td>\n",
       "      <td>1581</td>\n",
       "    </tr>\n",
       "    <tr>\n",
       "      <th>6</th>\n",
       "      <td>614</td>\n",
       "      <td>[9, 52]</td>\n",
       "      <td>The movie itself is beautifully filmed. The acting is quite good and as a history freak I found it interesting to hear Latin and Aramaic. I did not find it anti-semitic, but then I can understand why Jewish folk might be suspicious, given the beliefs espoused by Gibsons' family, and never actually disavowed by Gibson himself.I am not a Christian, so it struck me as odd that Christians would like this film from a theological standpoint. Perhaps I am just not getting it. I always understood that the most central point of the Jesus story was that he arose from the dead, not that he was tortured to death. So it suprises me that the film would concentrate almost entirely on this one aspect of the story, rather than on the resurrection part. That it does not, smacks of violence-as-a-marketing-tool to me. When all the hoopla has died down, it will be interesting to see how much money Gibson will have made off of the suffering of his savior.I have to say that I am more than a little shocked at the fawning tone I have seen in these reviews, particularly from Christians. The enthusiastic way in which they are taking joy in watching someone being slowly tortured to death is sickening; and exactly the same sort of bloodthirsty eagerness that the ancient Romans displayed when they watched animals and people (including Christians) being executed in the arena. The fact that there is a religious purpose to the film does not excuse this. I wonder if this movie were made with the exact same types of scenes, but without the religious content, how many of reviewers would still sing its praises. I guess Jesus' message has not really changed the human heart, eh? Shame on all of you.If you don't think about the movie's religious implcations and view it as a horror flick in period costume, the movie comes off just fine. However I suspect that this was not Gibson's intent.Not being a slasher movie fan, I probably won't see this movie again. Or even bother renting it, much less buying it. But if you are a modern day Savonarola, and believe that pain and suffering is the most important aspect of your religion, you will get off on this film.</td>\n",
       "      <td>1</td>\n",
       "      <td>Hypocritical and blasphemous.</td>\n",
       "      <td>1175385600</td>\n",
       "      <td>2007-04-01</td>\n",
       "      <td>2151</td>\n",
       "    </tr>\n",
       "    <tr>\n",
       "      <th>7</th>\n",
       "      <td>634</td>\n",
       "      <td>[9, 32]</td>\n",
       "      <td>While the film was shot beautifully and the acting was fantastic, it did not help to overcome the hollow feeling this film left. Yes the violence was extreme, but in this regard it did more to hinder the emotion that was trying to be conveyed. There comes a point when it is TOO much. We, the audience, become desensitized and detached from what the filmmaker is trying to get across. In other words, the point is gotten across so much that we feel hit over the head with it. Whether you believe this stuff really happened or not (personally I do not), speaking from a film-only critique, it did more damage than good. And does anyone else find it a bit sad how they sell nails from the movie as necklace charms? Ugh! I'm sure if there is a Jesus, he wouldn't be so happy at a blatant grab for cash as opposed to helping a fellow man in need.</td>\n",
       "      <td>2</td>\n",
       "      <td>Overrated Fairy Tale</td>\n",
       "      <td>1082332800</td>\n",
       "      <td>2004-04-19</td>\n",
       "      <td>842</td>\n",
       "    </tr>\n",
       "    <tr>\n",
       "      <th>8</th>\n",
       "      <td>639</td>\n",
       "      <td>[8, 20]</td>\n",
       "      <td>I finally saw this film after everyone has said all that can be said about it, so I'll be brief. Expecting the absolute worst from Mr. Mel \"Sadist\" Gibson, I have to say that this film is nowhere near as good as its idolatrous fan base would have you believe, but neither is it as repellent as its detractors claim. In short, it's just a movie, not a particularly good one, with absolutely no emotional content and nothing in it to either explain what's happening or to make you care. It looks terrific---Mel obviously has cash to spare for his film-director-as-God craziness. But that's about where the praise ends. The whole thing has a nasty tone; in Mel's version of the tale, anyone who had anything to do with Jesus suffers nothing but misery, and while I'm not a believer myself, my guess is that's not the moral of the story as Jesus would tell it. And when Jesus marches out of the tomb at the end, eyes a-blazin' and military music blasting away on the soundtrack, I forgot for a second whether I was watching a film about Jesus or whether I had accidentally stumbled on to \"Braveheart Part II.\" Mel Gibson is a wretched director, and the worst thing anyone can do with wretched directors is to take their work too seriously, for that gives them clout they don't deserve. All he's done here is turn a Biblical story into a horror movie, complete with creepy Satan babies and more shredded flesh than is on display in the entire \"Friday the 13th\" series. This stuff was camp 30 years ago, and it's just sad to see Gibson resorting to schlock effects in an attempt to make up for his movie's complete lack of narrative grounding. See this or don't see this, whichever is your preference. But religious or not, this film is not going to change your life. If it does, then you need to get a different one.Grade: D+</td>\n",
       "      <td>2</td>\n",
       "      <td>The Horror of the Christ</td>\n",
       "      <td>1114732800</td>\n",
       "      <td>2005-04-29</td>\n",
       "      <td>1820</td>\n",
       "    </tr>\n",
       "    <tr>\n",
       "      <th>9</th>\n",
       "      <td>651</td>\n",
       "      <td>[7, 21]</td>\n",
       "      <td>Problem 1: People who take on side immediately, only because they want to feel connected to the \"mass\" pop-culture audience.  This is no mystery or suprise; be it sports, fashion, cars, vacation spots, etc., people desire connection to larger things mostly out of dissapointment from their own failures, losses, and frustrations.  Gibson did not just pander to the religious-right bible thumping deep south fanatics, but what he really was after was placing blame square on someone's shoulders: seeing that Morgenstern's father had to beg Mel to cut out the blood be on your children part, it's pretty straightforward as to where he comes from and who he wishes to demonize.  Furthermore, Gibson is staunchly Roman Catholic, demanding that people follow him and keep prayers in the Latin tongue...umm, alright Mel, frankly that whole side to you is lame and passe; it's like saying to someone \"Hey, do these prayers my way or the highway!\"  Mel really looked to place blame and rekindle old doubts and frictions between the Vatican and the Middle East; perhaps he had is way in that respect.  Main Point: Mel loves his Vatican and old religious practices and tried to turn the good Christians in America toward the side of the Vatican.  Result: very bad move.Problem 2: Religion or Race?  What is really more important and deeply engrained in the minds of most peoples?  Do you cast greater prejudice on grounds of physical features or religious affiliations?: Answer, race motivates on a deeper, actually realistic level as compared to phony religious claimings.  All of the worlds struggles, great conflicts, boil down to nationalistic pride and xenophobia more so than religious differences; e.g. the Persians allowing Jerusalem to be a site of worship for all peaceful peoples.  The real cancer on the Earth today is still the Vatican, which is itself pagan and by no means perfect (crusades, persecutions, papal bullying of nations including England and Germany by Romes legions, grand inquisition, etc.).  Will there ever be an African Pope?  Ha, not bloody likely.  Let's be real people, the world is determined and judged not by titles or teams (though commendment and numbers do help a cause) but by physical looks and similarities to our own ideals and preferences.  Main Point: Cut the nonsense, this world of ours is a cyclic sphere of national aspirations and individual coruption when faced with far-reaching decisions.  Result: we judge not by content of character or work ethic but by ideals.Problem 3: Religious difference as excuse for Racial decimation.  The Vatican, Mel's favorite big brother, that old institution in Rome once hellbent on ruling the world (how dare these thugs in robes who do little work...Karol Wojytola or John Paul II as an exception...and do absolutely nothing for science or human alleviation but would rather tell women how to live and enjoy old religious ceremonies tell whole nations and unique peoples such as Russia and China how to live) has been shown in the last few years (child molestation and financial fraudulence) to be highly corrupt and hypocritical.  How can Rome try to invade England and ruin Germany and deploy Spanish troops to Ireland hundreds of years ago, leaving death and destruction in their wake (Mel should have thought harder when making Braveheart, but being chauvanistic as he is, he forgot how the Scottish painted their faces blue and fought off Catholic Roman and Spanish troops trying to invande and take over the British Isles, not fight the English who have been a model nation to the world in regards to civilty and scientific thought...Newton ring a bell anyone?).  Main Point: for a nonspiritual demagoguery such as the Vatican to escape unscathed for what they've done to so many nations who were gentle and intellgent and progressive all until Catholic dogma invaded, they've really dodged quite a few bullets.  However, their time is running out.  Result: a world growing increasingly tired of relgious teachings as their ever evolving senses tell them of its use as a pretext for conquests and plundering.Problem 4: As the brilliant Harvard professor Samuel Huntington has portrayed in his books on clashes of cultures and remaking world order, the world is by no means stable.  Not even after civil wars, revolutions, world wars, coups....none have secured the longlasting peace so hoped for by many, but not all (e.g. thugs, gangs, criminals, dictators - the less intelligent real-life monsters of past and present).  The world of tommrrow is not one of religion (even south america is growing apart thanks to hugo chavez's finger pointing at america) but one of national identity...ironically, that has always been the case.  Main Point: integration and segregation continue to pull at eachother, fracturing America more than ever before.  The unrealistic thoughts of everyone \"liking\" each other and just \"getting along\" are over, and have never been much more than false words for false security.  Result: An America and Western world that wakes up to the threats from the east, a new China that could be peaceful partner or worst nightmare, and countries forced to take extreme measures due to unwanted influences (i.e. muslims taking over London's streets, France becoming a barnyard bash that doesn't work, and China wanting to remain a cultural empire unhinged by capitalism.  The world will survive and grow as old ideas of how to do just such collapse across the globe.  Dogma fails while reason, service, and a new humanity to all neighbors, be they of any race, flourishes.  The Herculean Man-God ideal fades as people grow tired of God being white, black, asian, green, blue, etc.  The world matures, people relax spiritually, and scientific advance continues to do some good, some bad.  As John Lennon so poetically said, sometimes we all have to \"Let It Be.\"</td>\n",
       "      <td>2</td>\n",
       "      <td>Absolute Truths Abound!?</td>\n",
       "      <td>1117152000</td>\n",
       "      <td>2005-05-27</td>\n",
       "      <td>5863</td>\n",
       "    </tr>\n",
       "  </tbody>\n",
       "</table>\n",
       "</div>"
      ],
      "text/plain": [
       "   index     helpful  \\\n",
       "0    186    [13, 23]   \n",
       "1    405  [113, 119]   \n",
       "2    473    [66, 68]   \n",
       "3    503    [15, 19]   \n",
       "4    576     [9, 28]   \n",
       "5    595      [1, 8]   \n",
       "6    614     [9, 52]   \n",
       "7    634     [9, 32]   \n",
       "8    639     [8, 20]   \n",
       "9    651     [7, 21]   \n",
       "\n",
       "                                                                                                                                                                                                                                                                                                                                                                                                                                                                                                                                                                                                                                                                                                                                                                                                                                                                                                                                                                                                                                                                                                                                                                                                                                                                                                                                                                                                                                                                                                                                                                                                                                                                                                                                                                                                                                                                                                                                                                                                                                                                                                                                                                                                                                                                                                                                                                                                                                                                                                                                                                                                                                                                                                                                                                                                                                                                                                                                                                                                                                                                                                                                                                                                                                                                                                                                                                                                                                                                                                                                                                                                                                                                                                                                                                                                                                                                                                                                                                                                                                                                                                                                                                                                                                                                                                                                                                                                                                                                                                                                                                                                                                                                                                                                                                                                                                                                                                                                                                                                                                                                                                                                                                                                                                                                                                                                                                                                                                                                                                                                                                                                                                                                                                                                                                                                                                                                                                                                                                                                                                                                                                reviewText  \\\n",
       "0                                                                                                                                                                                                                                                                                                                                                                                                                                                                                                                                                                                                                                                                                                                                                                                                                                                                                                                                                                                                                                                                                                                                                                                                                                                                                                                                                                                                                                                                                                                                                                                                                                                                                                                                                                                                                                                                                                                                                                                                                                                                                                                                                                                                                                                                                                                                                                                                                                                                                                                                                                                                                                                                                                                                                                                                                                                                                                                                                                                                                                                                                                                                                                                                                                                                                                                                                                                                                                                                                                                                                                                                                                                                                                                                                                                                                                                                                                                                                                                                                                                                                                                                                                                                                                                                                                                                                                                                                                                                                                                                                                                                                                                                                                                                                                                                                                                                                                                                                                                                                                                                                                                                                                                                                                                                                                                                                                                                                                                                                                                                                                                                                                                                                                                                                        The acting was good, the story was correct, but naked backsides was not necessary.  Also the Potiphers wife did not need to be so very seductive of a naked Joseph. Not a Christian movie.  I felt that even though it was probably portrayed truthfully, Christans do not need to see so explicit a scene.  This should be rated PG 13 at least.   \n",
       "1                                                                                                                                                                                                                                                                                                                                                                                                                                                                                                                                                                                                                                                                                                                                                                                                                                                                                                                                                                                                                                                                                                                                                                                                                                                                                                                                                                                                                                                                                                                                                                                                                                                                                                                                                                                                                                                                                                                                                                                                                                                                                                                                                                                                                                                                                                                                                                                                                                                                                                                                                                                                                                                                                                                                                                                                                                                                                                                                                                                                                                                                                                                                                                                                                                                                                                                                                                                                                                                                                                                                                                                                                                                                                                                                                                                                                                                                                                                                                                                                                                                                                                                                                                                                                                                                                                                                                                                                                                                                                                                                                                                                                                                                                                                                                                                                                                                                                                                                                                                                                                                                                                                                                                                                                                                                                                                                                                                                                                                                                                                                                                                                                                                                                                                                                                                                                                                                                           The DVD transfer is pretty good but the scene with Yukon discovering peppermint has been cut.It seems pretty odd to sell a DVD as a restored classic only to leave out the main thing that was to be restored!   \n",
       "2                                                                                                                                                                                                                                                                                                                                                                                                                                                                                                                                                                                                                                                                                                                                                                                                                                                                                                                                                                                                                                                                                                                                                                                                                                                                                                                                                                                                                                                                                                                                                                                                                                                                                                                                                                                                                                                                                                                                                                                                                                                                                                                                                                                                                                                                                                                                                                                                                                                                                                                                                                                                                                                                                                                                                                                                                                                                                                                                                                                                                                                                                                                                                                                                                                                                                                                                                                                                                                                                                                                                                                                                                                                                                                                                                                                                                                                                                                                                                                                                                                                                                                                                                                                                                                                                                                                                                                                                                                                                                                                                                                                                                                                                                                                                                                                                                                                                                                                                                                                                                                                                                                                                                                                                                                                                                                                                      Yes, it is I, the Edit Avenger!!Here to protect freedom and original art from plunderous corporations and soulless individuals!!!!If you are considering purchasing a 2004 or later release of 'Rudolph', think twice. It is edited.I just ordered the original 2002 UNEDITED/no Destiny's Child 'Rudolph' DVD from eBay express. I got it sealed for $6.99 + $3 shipping.Do NOT buy edited DVDs when you can avoid it. Let's send the message. If you don't think that you make a difference remember this:Consumer complaints about the edits in 'Beavis and Butthead Mike Judge Collection Vol 1' were 100% of the reason that volumes 2 and 3 were released with absolutely NO edits whatsoever to the material.Good for us!Edits are for losers!I have spoken.   \n",
       "3                                                                                                                                                                                                                                                                                                                                                                                                                                                                                                                                                                                                                                                                                                                                                                                                                                                                                                                                                                                                                                                                                                                                                                                                                                                                                                                                                                                                                                                                                                                                                                                                                                                                                                                                                                                                                                                                                                                                                                                                                                                                                                                                                                                                                                                                                                                                                                                                                                                                                                                                                                                                                                                                                                                                                                                                                                                                                                                                                                                                                                                                                                                                                                                                                                                                                                                                                                                                                                                                                                                                                                                                                                                                                                                                                                                                                                                                                                                                                                                                                                                                                                                                                                                                                                                                                                                                                                                                                                                                                                                                                                                                                                                                                                                                                                                                                                                                                                                                                                                                                                                                                                                                                                                                                                                                                                                                                                                      ANOTHER American cultural icon from the 60's has beendeemed unacceptable by those who would prefer to seemalice where none exists.Not even Underdog can escape the slings and arrows ofthose with the same mentality as the book-burners of1930's Germany.Why do we allow such obvious Orwellian \"Newsspeak\" toedit our past? Come on... this IS a cartoon, for Pete'ssake, NOT some social/political statement.Nothing here needs to be edited or \"cleaned up\". Theseare simple \"good vs. evil\" stories with a happy ending,and should be offered in their entirety... music/songs,credits and all.And, if one is offended by ANY of this... then one mayexorcise one's freedom NOT to purchase such!Nuff' said...   \n",
       "4                                                                                                                                                                                                                                                                                                                                                                                                                                                                                                                                                                                                                                                                                                                                                                                                                                                                                                                                                                                                                                                                                                                                                                                                                                                                                                                                                                                                                                                                                                                                                                                                                                                                                                                                                                                                                                                                                                                                                                                                                                                                                                                                                                                                                                                                                                                                                                                                                                                                                                                                                                                                                                                                                                                                                                                                                                                                                                                                                                                                                                                                                                                                                                                                                                                                                                                                                                                                                                                                                                                                                                                                                                                                                                                                                                                                                                                                                                                                                                                                                                                                                                                                                                                                                                                                                                                                                                                                                                                                                                                                                                                                                                                                                                                                                                                                                                                                                                                                                                                                                          why would mel gibson make a movie that would promote alot of controversy? hmm, do you think maybe it might be because ALOT OF PEOPLE WOULD WANT TO SEE IT THEN? i cant believe mel made this movie in honor of god, because if he did then he would of at least made it about an interesting story with a good plot and character development...i agree with the guy who said there should be a sequel. but instead of making jesus a race car driver let him come back from heaven decked out in all sorts of crazy gun crap like rambo. \"Jesus is back, and he is pissed\", follow jesus as he goes back in time to save john conner from the evil robots, and then when thats done jesus will master the magic dragon and go save the elven maidens on mount gundor! we can make it a coming of age story about how jesus is still learning about emotional development or something stupid like that, and in the end can become a pirate and sail into the sunset with a eye patch and pegged leg, or we could just crucify him again, and make sure the nails stay in place   \n",
       "5                                                                                                                                                                                                                                                                                                                                                                                                                                                                                                                                                                                                                                                                                                                                                                                                                                                                                                                                                                                                                                                                                                                                                                                                                                                                                                                                                                                                                                                                                                                                                                                                                                                                                                                                                                                                                                                                                                                                                                                                                                                                                                                                                                                                                                                                                                                                                                                                                                                                                                                                                                                                                                                                                                                                                                                                                                                                                                                                                                                                                                                                                                                                                                                                                                                                                                                                                                                                                                                                                                                                                                                                                                                                                                                                                                                                                                                                                                                                                                                                                                                                                                                                                                                                                                                                                                                                                                                                                                                            Viewed: 5/14Rate: 15/14: The Passion of the Christ garnered a lot of attention in 2004, but I didn't get caught up in the hype or follow it for the slightest bit. Fast forward to ten years later, I was browsing through the library's shelf of movies that might strike my interest, and I saw The Passion of the Christ sitting there. So, I figured that I might give it a try. And I now wish that I never did and have regretted it. The thing with me, I don't watch movies made after the year of 2000 because almost everything I've seen thus far does not resemble good cinema in any shape, form, or manner. So, I gave up and declared that I'll only watch movies made before the end of the year 2000. There is a strong reason in my declaration, and The Passion of the Christ reaffirms my stance. The film brings out the worst of everything. It's the fake acting. It's the constant overt melodrama in everything that the characters do, feel, think, or speak. It's the free-all ultra-graphic torture. It's the unrealistic depiction of what a human being is capable of. It's the impossibility of physics. It's the unmerciful pacing that moves slow like molasses in January. It's the vapid storyline that seems to convey nothing of substance or significance. Truly, The Passion of the Christ is a waste of my time. By the way, I saw Braveheart and thought of it a terrific entertainment, and thenceforth, I was so annoyed by the many borrowed techniques from it into The Passion of the Christ. All in all, what I saw and felt is The Passion of the Torture on both sides: mine and the film's.   \n",
       "6                                                                                                                                                                                                                                                                                                                                                                                                                                                                                                                                                                                                                                                                                                                                                                                                                                                                                                                                                                                                                                                                                                                                                                                                                                                                                                                                                                                                                                                                                                                                                                                                                                                                                                                                                                                                                                                                                                                                                                                                                                                                                                                                                                                                                                                                                                                                                                                                                                                                                                                                                                                                                                                                                                                                                                                                                                                                                                                                                                                                                                                                                                                                                                                                                                                                                                                                                                                                                                                                                                                                                                                                                                                                                                                                                                                                                                                                  The movie itself is beautifully filmed. The acting is quite good and as a history freak I found it interesting to hear Latin and Aramaic. I did not find it anti-semitic, but then I can understand why Jewish folk might be suspicious, given the beliefs espoused by Gibsons' family, and never actually disavowed by Gibson himself.I am not a Christian, so it struck me as odd that Christians would like this film from a theological standpoint. Perhaps I am just not getting it. I always understood that the most central point of the Jesus story was that he arose from the dead, not that he was tortured to death. So it suprises me that the film would concentrate almost entirely on this one aspect of the story, rather than on the resurrection part. That it does not, smacks of violence-as-a-marketing-tool to me. When all the hoopla has died down, it will be interesting to see how much money Gibson will have made off of the suffering of his savior.I have to say that I am more than a little shocked at the fawning tone I have seen in these reviews, particularly from Christians. The enthusiastic way in which they are taking joy in watching someone being slowly tortured to death is sickening; and exactly the same sort of bloodthirsty eagerness that the ancient Romans displayed when they watched animals and people (including Christians) being executed in the arena. The fact that there is a religious purpose to the film does not excuse this. I wonder if this movie were made with the exact same types of scenes, but without the religious content, how many of reviewers would still sing its praises. I guess Jesus' message has not really changed the human heart, eh? Shame on all of you.If you don't think about the movie's religious implcations and view it as a horror flick in period costume, the movie comes off just fine. However I suspect that this was not Gibson's intent.Not being a slasher movie fan, I probably won't see this movie again. Or even bother renting it, much less buying it. But if you are a modern day Savonarola, and believe that pain and suffering is the most important aspect of your religion, you will get off on this film.   \n",
       "7                                                                                                                                                                                                                                                                                                                                                                                                                                                                                                                                                                                                                                                                                                                                                                                                                                                                                                                                                                                                                                                                                                                                                                                                                                                                                                                                                                                                                                                                                                                                                                                                                                                                                                                                                                                                                                                                                                                                                                                                                                                                                                                                                                                                                                                                                                                                                                                                                                                                                                                                                                                                                                                                                                                                                                                                                                                                                                                                                                                                                                                                                                                                                                                                                                                                                                                                                                                                                                                                                                                                                                                                                                                                                                                                                                                                                                                                                                                                                                                                                                                                                                                                                                                                                                                                                                                                                                                                                                                                                                                                                                                                                                                                                                                                                                                                                                                                                                                                                                                                                                                                                                                                                                                                                               While the film was shot beautifully and the acting was fantastic, it did not help to overcome the hollow feeling this film left. Yes the violence was extreme, but in this regard it did more to hinder the emotion that was trying to be conveyed. There comes a point when it is TOO much. We, the audience, become desensitized and detached from what the filmmaker is trying to get across. In other words, the point is gotten across so much that we feel hit over the head with it. Whether you believe this stuff really happened or not (personally I do not), speaking from a film-only critique, it did more damage than good. And does anyone else find it a bit sad how they sell nails from the movie as necklace charms? Ugh! I'm sure if there is a Jesus, he wouldn't be so happy at a blatant grab for cash as opposed to helping a fellow man in need.   \n",
       "8                                                                                                                                                                                                                                                                                                                                                                                                                                                                                                                                                                                                                                                                                                                                                                                                                                                                                                                                                                                                                                                                                                                                                                                                                                                                                                                                                                                                                                                                                                                                                                                                                                                                                                                                                                                                                                                                                                                                                                                                                                                                                                                                                                                                                                                                                                                                                                                                                                                                                                                                                                                                                                                                                                                                                                                                                                                                                                                                                                                                                                                                                                                                                                                                                                                                                                                                                                                                                                                                                                                                                                                                                                                                                                                                                                                                                                                                                                                                                                                                                                                                                                                                                                                                             I finally saw this film after everyone has said all that can be said about it, so I'll be brief. Expecting the absolute worst from Mr. Mel \"Sadist\" Gibson, I have to say that this film is nowhere near as good as its idolatrous fan base would have you believe, but neither is it as repellent as its detractors claim. In short, it's just a movie, not a particularly good one, with absolutely no emotional content and nothing in it to either explain what's happening or to make you care. It looks terrific---Mel obviously has cash to spare for his film-director-as-God craziness. But that's about where the praise ends. The whole thing has a nasty tone; in Mel's version of the tale, anyone who had anything to do with Jesus suffers nothing but misery, and while I'm not a believer myself, my guess is that's not the moral of the story as Jesus would tell it. And when Jesus marches out of the tomb at the end, eyes a-blazin' and military music blasting away on the soundtrack, I forgot for a second whether I was watching a film about Jesus or whether I had accidentally stumbled on to \"Braveheart Part II.\" Mel Gibson is a wretched director, and the worst thing anyone can do with wretched directors is to take their work too seriously, for that gives them clout they don't deserve. All he's done here is turn a Biblical story into a horror movie, complete with creepy Satan babies and more shredded flesh than is on display in the entire \"Friday the 13th\" series. This stuff was camp 30 years ago, and it's just sad to see Gibson resorting to schlock effects in an attempt to make up for his movie's complete lack of narrative grounding. See this or don't see this, whichever is your preference. But religious or not, this film is not going to change your life. If it does, then you need to get a different one.Grade: D+   \n",
       "9  Problem 1: People who take on side immediately, only because they want to feel connected to the \"mass\" pop-culture audience.  This is no mystery or suprise; be it sports, fashion, cars, vacation spots, etc., people desire connection to larger things mostly out of dissapointment from their own failures, losses, and frustrations.  Gibson did not just pander to the religious-right bible thumping deep south fanatics, but what he really was after was placing blame square on someone's shoulders: seeing that Morgenstern's father had to beg Mel to cut out the blood be on your children part, it's pretty straightforward as to where he comes from and who he wishes to demonize.  Furthermore, Gibson is staunchly Roman Catholic, demanding that people follow him and keep prayers in the Latin tongue...umm, alright Mel, frankly that whole side to you is lame and passe; it's like saying to someone \"Hey, do these prayers my way or the highway!\"  Mel really looked to place blame and rekindle old doubts and frictions between the Vatican and the Middle East; perhaps he had is way in that respect.  Main Point: Mel loves his Vatican and old religious practices and tried to turn the good Christians in America toward the side of the Vatican.  Result: very bad move.Problem 2: Religion or Race?  What is really more important and deeply engrained in the minds of most peoples?  Do you cast greater prejudice on grounds of physical features or religious affiliations?: Answer, race motivates on a deeper, actually realistic level as compared to phony religious claimings.  All of the worlds struggles, great conflicts, boil down to nationalistic pride and xenophobia more so than religious differences; e.g. the Persians allowing Jerusalem to be a site of worship for all peaceful peoples.  The real cancer on the Earth today is still the Vatican, which is itself pagan and by no means perfect (crusades, persecutions, papal bullying of nations including England and Germany by Romes legions, grand inquisition, etc.).  Will there ever be an African Pope?  Ha, not bloody likely.  Let's be real people, the world is determined and judged not by titles or teams (though commendment and numbers do help a cause) but by physical looks and similarities to our own ideals and preferences.  Main Point: Cut the nonsense, this world of ours is a cyclic sphere of national aspirations and individual coruption when faced with far-reaching decisions.  Result: we judge not by content of character or work ethic but by ideals.Problem 3: Religious difference as excuse for Racial decimation.  The Vatican, Mel's favorite big brother, that old institution in Rome once hellbent on ruling the world (how dare these thugs in robes who do little work...Karol Wojytola or John Paul II as an exception...and do absolutely nothing for science or human alleviation but would rather tell women how to live and enjoy old religious ceremonies tell whole nations and unique peoples such as Russia and China how to live) has been shown in the last few years (child molestation and financial fraudulence) to be highly corrupt and hypocritical.  How can Rome try to invade England and ruin Germany and deploy Spanish troops to Ireland hundreds of years ago, leaving death and destruction in their wake (Mel should have thought harder when making Braveheart, but being chauvanistic as he is, he forgot how the Scottish painted their faces blue and fought off Catholic Roman and Spanish troops trying to invande and take over the British Isles, not fight the English who have been a model nation to the world in regards to civilty and scientific thought...Newton ring a bell anyone?).  Main Point: for a nonspiritual demagoguery such as the Vatican to escape unscathed for what they've done to so many nations who were gentle and intellgent and progressive all until Catholic dogma invaded, they've really dodged quite a few bullets.  However, their time is running out.  Result: a world growing increasingly tired of relgious teachings as their ever evolving senses tell them of its use as a pretext for conquests and plundering.Problem 4: As the brilliant Harvard professor Samuel Huntington has portrayed in his books on clashes of cultures and remaking world order, the world is by no means stable.  Not even after civil wars, revolutions, world wars, coups....none have secured the longlasting peace so hoped for by many, but not all (e.g. thugs, gangs, criminals, dictators - the less intelligent real-life monsters of past and present).  The world of tommrrow is not one of religion (even south america is growing apart thanks to hugo chavez's finger pointing at america) but one of national identity...ironically, that has always been the case.  Main Point: integration and segregation continue to pull at eachother, fracturing America more than ever before.  The unrealistic thoughts of everyone \"liking\" each other and just \"getting along\" are over, and have never been much more than false words for false security.  Result: An America and Western world that wakes up to the threats from the east, a new China that could be peaceful partner or worst nightmare, and countries forced to take extreme measures due to unwanted influences (i.e. muslims taking over London's streets, France becoming a barnyard bash that doesn't work, and China wanting to remain a cultural empire unhinged by capitalism.  The world will survive and grow as old ideas of how to do just such collapse across the globe.  Dogma fails while reason, service, and a new humanity to all neighbors, be they of any race, flourishes.  The Herculean Man-God ideal fades as people grow tired of God being white, black, asian, green, blue, etc.  The world matures, people relax spiritually, and scientific advance continues to do some good, some bad.  As John Lennon so poetically said, sometimes we all have to \"Let It Be.\"   \n",
       "\n",
       "   overall                                                   summary  \\\n",
       "0        1                                  Nakedness not necessary!   \n",
       "1        1                                 Rudy what have they done!   \n",
       "2        1  I am the Edit Avenger! 1 star for besmirching a classic!   \n",
       "3        2                              The \"PC\" police strike AGAIN   \n",
       "4        1      Great! for a movie made by a corporate whore jackass   \n",
       "5        1                            A Ridiculous Waste of My Time.   \n",
       "6        1                             Hypocritical and blasphemous.   \n",
       "7        2                                      Overrated Fairy Tale   \n",
       "8        2                                  The Horror of the Christ   \n",
       "9        2                                  Absolute Truths Abound!?   \n",
       "\n",
       "   unixReviewTime   datetime  length  \n",
       "0      1298851200 2011-02-28     337  \n",
       "1      1134259200 2005-12-11     206  \n",
       "2      1167868800 2007-01-04     739  \n",
       "3      1137974400 2006-01-23     691  \n",
       "4      1114300800 2005-04-24    1039  \n",
       "5      1400284800 2014-05-17    1581  \n",
       "6      1175385600 2007-04-01    2151  \n",
       "7      1082332800 2004-04-19     842  \n",
       "8      1114732800 2005-04-29    1820  \n",
       "9      1117152000 2005-05-27    5863  "
      ]
     },
     "execution_count": 40,
     "metadata": {},
     "output_type": "execute_result"
    }
   ],
   "source": [
    "movies_neg_good = movies_tv_negative[movies_tv_negative['reviewText'].str.contains('good', regex=False, \n",
    "                                                                                   case=False, na=False)].head(10).reset_index()\n",
    "\n",
    "movies_neg_good"
   ]
  },
  {
   "cell_type": "code",
   "execution_count": 41,
   "metadata": {
    "scrolled": true
   },
   "outputs": [
    {
     "data": {
      "text/html": [
       "<div>\n",
       "<style scoped>\n",
       "    .dataframe tbody tr th:only-of-type {\n",
       "        vertical-align: middle;\n",
       "    }\n",
       "\n",
       "    .dataframe tbody tr th {\n",
       "        vertical-align: top;\n",
       "    }\n",
       "\n",
       "    .dataframe thead th {\n",
       "        text-align: right;\n",
       "    }\n",
       "</style>\n",
       "<table border=\"1\" class=\"dataframe\">\n",
       "  <thead>\n",
       "    <tr style=\"text-align: right;\">\n",
       "      <th></th>\n",
       "      <th>index</th>\n",
       "      <th>helpful</th>\n",
       "      <th>reviewText</th>\n",
       "      <th>overall</th>\n",
       "      <th>summary</th>\n",
       "      <th>unixReviewTime</th>\n",
       "      <th>datetime</th>\n",
       "      <th>length</th>\n",
       "    </tr>\n",
       "  </thead>\n",
       "  <tbody>\n",
       "    <tr>\n",
       "      <th>0</th>\n",
       "      <td>359</td>\n",
       "      <td>[0, 0]</td>\n",
       "      <td>I watched this because the Brits usually do a good job with good production values, casting and story lines.  However, in this case it proved a waste of 5 hours. The writers, directors and editors should be ashamed to put their names in the credits.  Important things happen with no apparent reason and the watcher is left scratching his/her head wondering what was the point.  The American general is miscast and not believable.  Lots of clicking of computer keyboards for solutions that never seem to work out. The ending stinks!</td>\n",
       "      <td>1</td>\n",
       "      <td>A Good Plot Gone Bad</td>\n",
       "      <td>1395705600</td>\n",
       "      <td>2014-03-25</td>\n",
       "      <td>531</td>\n",
       "    </tr>\n",
       "    <tr>\n",
       "      <th>1</th>\n",
       "      <td>738</td>\n",
       "      <td>[0, 75]</td>\n",
       "      <td>You know the plot. Trashy kids being trashy. The &amp;#34;good&amp;#34; ones are the &amp;#34;poor&amp;#34; ones. The rich trashy kids are just &amp;#34;bad&amp;#34;. Another movie to help the retarded careers of this TV show's actors. They are all old and washed out. But they still try to be hip and cool with their texting and foul mouths, sex videos. Sorry if you can't route for the heroine of the movie it clearly isn't worth watching.</td>\n",
       "      <td>2</td>\n",
       "      <td>boring waste of space</td>\n",
       "      <td>1394755200</td>\n",
       "      <td>2014-03-14</td>\n",
       "      <td>417</td>\n",
       "    </tr>\n",
       "    <tr>\n",
       "      <th>2</th>\n",
       "      <td>744</td>\n",
       "      <td>[2, 3]</td>\n",
       "      <td>There's a scene in Misery where the author writes what he thinks his nurse/tormentor wants to read and suffers for his presumption. Her main problem is the fact that he cheated when he explained that his heroine was alive, but there was also the fact that he was second guessing his audience. Instead of writing something that he could be proud of, he wrote something that he thought that the audience wanted. In many ways, the decline in quality of Veronica Mars reflected this issue. In the third season of Veronica Mars, Rob Thomas veered away from the season long arc and the feminist context and chose instead to focus on shorter story arcs and one-off episodes that didn't tie into the arcs. Instead of making the show easy for potential new fans, Thomas disappointed the existing fans.There was also the issue of the heroine graduating from high school. The teenage detective angle worked better when the setting was high school and there was a great metaphor about tying in hard boiled mysteries with high school where no one really is what they appear to be. Buffy recovered from the same setback, but just barely.This movie tries to go in the opposite direction of the third season by making a movie that is solely for the fans but retains that same desperate &amp;#34;LOVE ME&amp;#34; vibe that wrecked the last season. A little fan service is nice. It's cool to see Mac and Wallace again. Veronica working to solve the case and manipulating the police force to do it is fine. It's even nice to see Veronica and Logan fall into their old patterns.Ken Marino has established himself in comedic roles in shows like Party Down and Children's Hospital so why not bring back Vinnie Van Lowe.Yet, a little goes a long way and too much just becomes aggravating. Do we really need to get Piz again? Especially when he is still the nice guy that Veronica basically ignores. Does Madison have to be a one-dimensional villain ten years later? Weevil shows up to AGAIN end up on the wrong side of the law. Krysten Ritter appears and then reminds everyone who she was in season 2. The only strange moment of restraint in the movie was not bringing back Adam Scott as the teacher who had sex with a student even though the movie revolves around Carrie Bishop who accused him of rape in the Mars vs. Mars episode from season 1. When the ten year reunion has a tribute to the dead classmates, you almost expect it to take over the movie since there were a lot of dead high school students on the show.With all the fan service, the director and writer forget to tell a compelling story. It's a two hour episode with references that require the Veronica Mars wiki to fully get. Unfortunately, as you are referring to the Wiki, you are getting spoiled for the rather pedestrian mystery - which should already be obvious since it follows the &amp;#34;really popular cult actor shows up in a minor role&amp;#34; pattern.This isn't a bad movie. It just isn't a very good movie.</td>\n",
       "      <td>2</td>\n",
       "      <td>Too much fan service</td>\n",
       "      <td>1399852800</td>\n",
       "      <td>2014-05-12</td>\n",
       "      <td>2950</td>\n",
       "    </tr>\n",
       "    <tr>\n",
       "      <th>3</th>\n",
       "      <td>772</td>\n",
       "      <td>[0, 1]</td>\n",
       "      <td>Ok, here's the thing with this show..everyone in it is excellent..I meaneveryone..the story line is fine and the writing good for the set up.I love the parents and always have but the show falls short of evergetting in the least little bit close to what it could be..I don't know whyit's a disappointment but it is..it's got all this gold and for some reasonit's been cast in lead.  Bummer man, because I would really like to watchthese people..and believe me I have tried more than once.</td>\n",
       "      <td>1</td>\n",
       "      <td>sad to say</td>\n",
       "      <td>1397692800</td>\n",
       "      <td>2014-04-17</td>\n",
       "      <td>488</td>\n",
       "    </tr>\n",
       "    <tr>\n",
       "      <th>4</th>\n",
       "      <td>801</td>\n",
       "      <td>[0, 2]</td>\n",
       "      <td>Don't waste your time with season two.  She could be fun if she wasn't so hateful inside.  Not good.  Yuck.</td>\n",
       "      <td>1</td>\n",
       "      <td>I wish I had learned when I watched this season</td>\n",
       "      <td>1368144000</td>\n",
       "      <td>2013-05-10</td>\n",
       "      <td>107</td>\n",
       "    </tr>\n",
       "    <tr>\n",
       "      <th>5</th>\n",
       "      <td>838</td>\n",
       "      <td>[0, 0]</td>\n",
       "      <td>I just do not like the main character.The only person who seems to like him, is his Mother.His ex-girlfriend hates him, his brother is furious with him, his father is dissapointed with him.Nobody (actors, seem to have a clear line on who they're supposed to be).So far, after 7 episodes,for the first Season, I don't know who, or what anyone is either.Is the owner of the general store, just a stone beetch? Is the IRS auditor just a stone beetch?There is so much good TV. I do not have time to try to figure out what the writers of this show were trying to get across. In my opinion, they had a dart board in their office, and threw darts at it, to see which ones stayed.I'm definately, not willing to watch 18 or so hours of this floundering program.</td>\n",
       "      <td>2</td>\n",
       "      <td>Not done watching, but...After 7 episodes-</td>\n",
       "      <td>1361318400</td>\n",
       "      <td>2013-02-20</td>\n",
       "      <td>752</td>\n",
       "    </tr>\n",
       "    <tr>\n",
       "      <th>6</th>\n",
       "      <td>920</td>\n",
       "      <td>[1, 2]</td>\n",
       "      <td>I only watched one episode. It had too much nudity and sex in it. The story line was good but didn't enjoy the rest.</td>\n",
       "      <td>1</td>\n",
       "      <td>Too risque!</td>\n",
       "      <td>1375056000</td>\n",
       "      <td>2013-07-29</td>\n",
       "      <td>116</td>\n",
       "    </tr>\n",
       "    <tr>\n",
       "      <th>7</th>\n",
       "      <td>943</td>\n",
       "      <td>[5, 7]</td>\n",
       "      <td>What show are the rest of these reviewers watching? I was excited to see this after reading the reviews, but barely made it through the first two hours. Incredibly boring, like a lavish network soap with all that implies. The history is sketchy; if you're going to twist history, at least make it fun and appealing in some way that the truth does not.This is one of the slowest and most unpleasant tv shows I have seen in some time. Then again, I don't watch tv, only tv shows on dvd that reviewers I usually trust found to be good. Guess that's not the best way either! Oh well, I found The Office (the funny version) and Arrested Development that way, so it can't be all bad. Didn't work this time, though.Pass.</td>\n",
       "      <td>2</td>\n",
       "      <td>Amazingly boring</td>\n",
       "      <td>1203292800</td>\n",
       "      <td>2008-02-18</td>\n",
       "      <td>713</td>\n",
       "    </tr>\n",
       "    <tr>\n",
       "      <th>8</th>\n",
       "      <td>1185</td>\n",
       "      <td>[1, 1]</td>\n",
       "      <td>so i truly enjoyed the first two seasons of Battlestar...truly awesome, military sci/fi show, insane sets, great plot, good acting and those Cylons. all great....the end of season two had some difficulties. alot ALOT less action and more crying. lots of crying. lots of drama. lots of forgetting the entire purpose of the show.season three is where ive ended my battlestar lust....i truly cant take Starbuck anymore, whiny brat...could care less about her romantic interests nor her false bravado.entire spisodes went by with nary a mention of the Cylons.....which, lets be honest...is the best thing about the show.it seems they lost focus or they changed course to appeal to the more 'dramatic' aspects while shelving the 'sci/fi' alltogether.terrible mistake.... i fear season three is when i say frack off Battlestar....you had a AMAZING thing going.</td>\n",
       "      <td>2</td>\n",
       "      <td>third season of Young and the Restless....</td>\n",
       "      <td>1390694400</td>\n",
       "      <td>2014-01-26</td>\n",
       "      <td>854</td>\n",
       "    </tr>\n",
       "    <tr>\n",
       "      <th>9</th>\n",
       "      <td>1367</td>\n",
       "      <td>[4, 30]</td>\n",
       "      <td>I love Damien Lewis; he was awesome in Band of Brothers. But everything else I've seen him in since, has failed to win me over including this new show which I wanted to like. His character (who gets out of prison for a murder he didn't do after 12 years,)is a cop who is quirky and spouts zen phiolosophy to his gorgeous partner all day. Either you like the main characters 'quirky' personality and will get into the show; or you won't which is what I experienced.In addition the flash back storytelling style grew tiresome quickly; Robin Weigert as his Captain and San Francisco Mayor Gavin Newsome's Wife (Jennifer Siebold)both good actors, play very unlikable characters. In fact only Adam Arkin as Damien's ex-con financial advisor, is 'normal' and enjoyable to watch here. A big disappointment as a summer replacement show; get \"Burn Notice\" instead--it's great!l</td>\n",
       "      <td>2</td>\n",
       "      <td>Damien Lewis misses the mark</td>\n",
       "      <td>1220832000</td>\n",
       "      <td>2008-09-08</td>\n",
       "      <td>868</td>\n",
       "    </tr>\n",
       "  </tbody>\n",
       "</table>\n",
       "</div>"
      ],
      "text/plain": [
       "   index  helpful  \\\n",
       "0    359   [0, 0]   \n",
       "1    738  [0, 75]   \n",
       "2    744   [2, 3]   \n",
       "3    772   [0, 1]   \n",
       "4    801   [0, 2]   \n",
       "5    838   [0, 0]   \n",
       "6    920   [1, 2]   \n",
       "7    943   [5, 7]   \n",
       "8   1185   [1, 1]   \n",
       "9   1367  [4, 30]   \n",
       "\n",
       "                                                                                                                                                                                                                                                                                                                                                                                                                                                                                                                                                                                                                                                                                                                                                                                                                                                                                                                                                                                                                                                                                                                                                                                                                                                                                                                                                                                                                                                                                                                                                                                                                                                                                                                                                                                                                                                                                                                                                                                                                                                                                                                                                                                                                                                                                                                                                                                                                                                                                                                                                                                                                                                                                                                                                                                                                                                                                                                                                                                                                                                               reviewText  \\\n",
       "0                                                                                                                                                                                                                                                                                                                                                                                                                                                                                                                                                                                                                                                                                                                                                                                                                                                                                                                                                                                                                                                                                                                                                                                                                                                                                                                                                                                                                                                                                                                                                                                                                                                                                                                                                                                                                                                                                                                                                                                                                                                                                                                                                                                                                                                                                                                                                                                                                                                                                                                     I watched this because the Brits usually do a good job with good production values, casting and story lines.  However, in this case it proved a waste of 5 hours. The writers, directors and editors should be ashamed to put their names in the credits.  Important things happen with no apparent reason and the watcher is left scratching his/her head wondering what was the point.  The American general is miscast and not believable.  Lots of clicking of computer keyboards for solutions that never seem to work out. The ending stinks!   \n",
       "1                                                                                                                                                                                                                                                                                                                                                                                                                                                                                                                                                                                                                                                                                                                                                                                                                                                                                                                                                                                                                                                                                                                                                                                                                                                                                                                                                                                                                                                                                                                                                                                                                                                                                                                                                                                                                                                                                                                                                                                                                                                                                                                                                                                                                                                                                                                                                                                                                                                                                                                                                                                                                                       You know the plot. Trashy kids being trashy. The &#34;good&#34; ones are the &#34;poor&#34; ones. The rich trashy kids are just &#34;bad&#34;. Another movie to help the retarded careers of this TV show's actors. They are all old and washed out. But they still try to be hip and cool with their texting and foul mouths, sex videos. Sorry if you can't route for the heroine of the movie it clearly isn't worth watching.   \n",
       "2  There's a scene in Misery where the author writes what he thinks his nurse/tormentor wants to read and suffers for his presumption. Her main problem is the fact that he cheated when he explained that his heroine was alive, but there was also the fact that he was second guessing his audience. Instead of writing something that he could be proud of, he wrote something that he thought that the audience wanted. In many ways, the decline in quality of Veronica Mars reflected this issue. In the third season of Veronica Mars, Rob Thomas veered away from the season long arc and the feminist context and chose instead to focus on shorter story arcs and one-off episodes that didn't tie into the arcs. Instead of making the show easy for potential new fans, Thomas disappointed the existing fans.There was also the issue of the heroine graduating from high school. The teenage detective angle worked better when the setting was high school and there was a great metaphor about tying in hard boiled mysteries with high school where no one really is what they appear to be. Buffy recovered from the same setback, but just barely.This movie tries to go in the opposite direction of the third season by making a movie that is solely for the fans but retains that same desperate &#34;LOVE ME&#34; vibe that wrecked the last season. A little fan service is nice. It's cool to see Mac and Wallace again. Veronica working to solve the case and manipulating the police force to do it is fine. It's even nice to see Veronica and Logan fall into their old patterns.Ken Marino has established himself in comedic roles in shows like Party Down and Children's Hospital so why not bring back Vinnie Van Lowe.Yet, a little goes a long way and too much just becomes aggravating. Do we really need to get Piz again? Especially when he is still the nice guy that Veronica basically ignores. Does Madison have to be a one-dimensional villain ten years later? Weevil shows up to AGAIN end up on the wrong side of the law. Krysten Ritter appears and then reminds everyone who she was in season 2. The only strange moment of restraint in the movie was not bringing back Adam Scott as the teacher who had sex with a student even though the movie revolves around Carrie Bishop who accused him of rape in the Mars vs. Mars episode from season 1. When the ten year reunion has a tribute to the dead classmates, you almost expect it to take over the movie since there were a lot of dead high school students on the show.With all the fan service, the director and writer forget to tell a compelling story. It's a two hour episode with references that require the Veronica Mars wiki to fully get. Unfortunately, as you are referring to the Wiki, you are getting spoiled for the rather pedestrian mystery - which should already be obvious since it follows the &#34;really popular cult actor shows up in a minor role&#34; pattern.This isn't a bad movie. It just isn't a very good movie.   \n",
       "3                                                                                                                                                                                                                                                                                                                                                                                                                                                                                                                                                                                                                                                                                                                                                                                                                                                                                                                                                                                                                                                                                                                                                                                                                                                                                                                                                                                                                                                                                                                                                                                                                                                                                                                                                                                                                                                                                                                                                                                                                                                                                                                                                                                                                                                                                                                                                                                                                                                                                                                                                                Ok, here's the thing with this show..everyone in it is excellent..I meaneveryone..the story line is fine and the writing good for the set up.I love the parents and always have but the show falls short of evergetting in the least little bit close to what it could be..I don't know whyit's a disappointment but it is..it's got all this gold and for some reasonit's been cast in lead.  Bummer man, because I would really like to watchthese people..and believe me I have tried more than once.   \n",
       "4                                                                                                                                                                                                                                                                                                                                                                                                                                                                                                                                                                                                                                                                                                                                                                                                                                                                                                                                                                                                                                                                                                                                                                                                                                                                                                                                                                                                                                                                                                                                                                                                                                                                                                                                                                                                                                                                                                                                                                                                                                                                                                                                                                                                                                                                                                                                                                                                                                                                                                                                                                                                                                                                                                                                                                                                                                                                                                                                                             Don't waste your time with season two.  She could be fun if she wasn't so hateful inside.  Not good.  Yuck.   \n",
       "5                                                                                                                                                                                                                                                                                                                                                                                                                                                                                                                                                                                                                                                                                                                                                                                                                                                                                                                                                                                                                                                                                                                                                                                                                                                                                                                                                                                                                                                                                                                                                                                                                                                                                                                                                                                                                                                                                                                                                                                                                                                                                                                                                                                                                                                                                        I just do not like the main character.The only person who seems to like him, is his Mother.His ex-girlfriend hates him, his brother is furious with him, his father is dissapointed with him.Nobody (actors, seem to have a clear line on who they're supposed to be).So far, after 7 episodes,for the first Season, I don't know who, or what anyone is either.Is the owner of the general store, just a stone beetch? Is the IRS auditor just a stone beetch?There is so much good TV. I do not have time to try to figure out what the writers of this show were trying to get across. In my opinion, they had a dart board in their office, and threw darts at it, to see which ones stayed.I'm definately, not willing to watch 18 or so hours of this floundering program.   \n",
       "6                                                                                                                                                                                                                                                                                                                                                                                                                                                                                                                                                                                                                                                                                                                                                                                                                                                                                                                                                                                                                                                                                                                                                                                                                                                                                                                                                                                                                                                                                                                                                                                                                                                                                                                                                                                                                                                                                                                                                                                                                                                                                                                                                                                                                                                                                                                                                                                                                                                                                                                                                                                                                                                                                                                                                                                                                                                                                                                                                    I only watched one episode. It had too much nudity and sex in it. The story line was good but didn't enjoy the rest.   \n",
       "7                                                                                                                                                                                                                                                                                                                                                                                                                                                                                                                                                                                                                                                                                                                                                                                                                                                                                                                                                                                                                                                                                                                                                                                                                                                                                                                                                                                                                                                                                                                                                                                                                                                                                                                                                                                                                                                                                                                                                                                                                                                                                                                                                                                                                                                                                                                               What show are the rest of these reviewers watching? I was excited to see this after reading the reviews, but barely made it through the first two hours. Incredibly boring, like a lavish network soap with all that implies. The history is sketchy; if you're going to twist history, at least make it fun and appealing in some way that the truth does not.This is one of the slowest and most unpleasant tv shows I have seen in some time. Then again, I don't watch tv, only tv shows on dvd that reviewers I usually trust found to be good. Guess that's not the best way either! Oh well, I found The Office (the funny version) and Arrested Development that way, so it can't be all bad. Didn't work this time, though.Pass.   \n",
       "8                                                                                                                                                                                                                                                                                                                                                                                                                                                                                                                                                                                                                                                                                                                                                                                                                                                                                                                                                                                                                                                                                                                                                                                                                                                                                                                                                                                                                                                                                                                                                                                                                                                                                                                                                                                                                                                                                                                                                                                                                                                                                                                                                                                  so i truly enjoyed the first two seasons of Battlestar...truly awesome, military sci/fi show, insane sets, great plot, good acting and those Cylons. all great....the end of season two had some difficulties. alot ALOT less action and more crying. lots of crying. lots of drama. lots of forgetting the entire purpose of the show.season three is where ive ended my battlestar lust....i truly cant take Starbuck anymore, whiny brat...could care less about her romantic interests nor her false bravado.entire spisodes went by with nary a mention of the Cylons.....which, lets be honest...is the best thing about the show.it seems they lost focus or they changed course to appeal to the more 'dramatic' aspects while shelving the 'sci/fi' alltogether.terrible mistake.... i fear season three is when i say frack off Battlestar....you had a AMAZING thing going.   \n",
       "9                                                                                                                                                                                                                                                                                                                                                                                                                                                                                                                                                                                                                                                                                                                                                                                                                                                                                                                                                                                                                                                                                                                                                                                                                                                                                                                                                                                                                                                                                                                                                                                                                                                                                                                                                                                                                                                                                                                                                                                                                                                                                                                                                                    I love Damien Lewis; he was awesome in Band of Brothers. But everything else I've seen him in since, has failed to win me over including this new show which I wanted to like. His character (who gets out of prison for a murder he didn't do after 12 years,)is a cop who is quirky and spouts zen phiolosophy to his gorgeous partner all day. Either you like the main characters 'quirky' personality and will get into the show; or you won't which is what I experienced.In addition the flash back storytelling style grew tiresome quickly; Robin Weigert as his Captain and San Francisco Mayor Gavin Newsome's Wife (Jennifer Siebold)both good actors, play very unlikable characters. In fact only Adam Arkin as Damien's ex-con financial advisor, is 'normal' and enjoyable to watch here. A big disappointment as a summer replacement show; get \"Burn Notice\" instead--it's great!l   \n",
       "\n",
       "   overall                                          summary  unixReviewTime  \\\n",
       "0        1                             A Good Plot Gone Bad      1395705600   \n",
       "1        2                            boring waste of space      1394755200   \n",
       "2        2                             Too much fan service      1399852800   \n",
       "3        1                                       sad to say      1397692800   \n",
       "4        1  I wish I had learned when I watched this season      1368144000   \n",
       "5        2       Not done watching, but...After 7 episodes-      1361318400   \n",
       "6        1                                      Too risque!      1375056000   \n",
       "7        2                                 Amazingly boring      1203292800   \n",
       "8        2       third season of Young and the Restless....      1390694400   \n",
       "9        2                     Damien Lewis misses the mark      1220832000   \n",
       "\n",
       "    datetime  length  \n",
       "0 2014-03-25     531  \n",
       "1 2014-03-14     417  \n",
       "2 2014-05-12    2950  \n",
       "3 2014-04-17     488  \n",
       "4 2013-05-10     107  \n",
       "5 2013-02-20     752  \n",
       "6 2013-07-29     116  \n",
       "7 2008-02-18     713  \n",
       "8 2014-01-26     854  \n",
       "9 2008-09-08     868  "
      ]
     },
     "execution_count": 41,
     "metadata": {},
     "output_type": "execute_result"
    }
   ],
   "source": [
    "instant_neg_good =instant_video_negative[instant_video_negative['reviewText'].str.contains('good', regex=False, \n",
    "                                                                                          case=False, na=False)].head(10).reset_index()\n",
    "instant_neg_good"
   ]
  },
  {
   "cell_type": "markdown",
   "metadata": {},
   "source": [
    "**Analysis** Well, although the word good appears in the review, the overall context of the review is negative, this word alone does not fully describe what the user wants to express. You could check, for example, which words accompany the word good to understand it more at the sentence level than the word alone. Another idea is to use bigrams or trigrams in a way that allows to have more analysis at the phrase level than at the token level."
   ]
  },
  {
   "cell_type": "markdown",
   "metadata": {},
   "source": [
    "-------"
   ]
  },
  {
   "cell_type": "markdown",
   "metadata": {
    "tags": [
     "45_min"
    ]
   },
   "source": [
    "### Exercise 4:\n",
    "\n",
    "Go through the list of bad reviews containing the word \"good\" that we found in the last question. For each review, extract the following:\n",
    "\n",
    "1. The first word after \"good\"\n",
    "2. The first word after \"good\" that is a noun or cardinal\n",
    "3. The last word before \"good\" that is a noun or cardinal"
   ]
  },
  {
   "cell_type": "markdown",
   "metadata": {
    "tags": [
     "ans_st"
    ]
   },
   "source": [
    "**Answer.**"
   ]
  },
  {
   "cell_type": "markdown",
   "metadata": {},
   "source": [
    "## 1. The first word after \"good\""
   ]
  },
  {
   "cell_type": "markdown",
   "metadata": {},
   "source": [
    "### 1.1 movies tv negative dataset"
   ]
  },
  {
   "cell_type": "code",
   "execution_count": 42,
   "metadata": {},
   "outputs": [
    {
     "name": "stderr",
     "output_type": "stream",
     "text": [
      "C:\\ProgramData\\Anaconda2\\lib\\site-packages\\ipykernel_launcher.py:11: FutureWarning: The default value of regex will change from True to False in a future version.\n",
      "  # This is added back by InteractiveShellApp.init_path()\n"
     ]
    }
   ],
   "source": [
    "# Cleaning text column\n",
    "stop_words_english=list(set(stopwords.words('english')))\n",
    "\n",
    "movies_neg_good['reviewText'] = movies_neg_good['reviewText'].str.lower()\n",
    "movies_neg_good['reviewText'] = movies_neg_good['reviewText'].apply(lambda x: re.sub(r'\\W',' ',re.sub(r'\\s+',' ',x)))\n",
    "movies_neg_good['reviewText'] = movies_neg_good['reviewText'].apply(lambda x: re.sub('¡','',re.sub('°','',x)))\n",
    "movies_neg_good['reviewText'] = movies_neg_good['reviewText'].apply(lambda x: x.translate(str.maketrans('', '',\n",
    "                                                                                                        string.punctuation)))\n",
    "\n",
    "pat = r'\\b(?:{})\\b'.format('|'.join(stop_words_english))\n",
    "movies_neg_good['reviewText'] = movies_neg_good['reviewText'].str.replace(pat, '')\n"
   ]
  },
  {
   "cell_type": "code",
   "execution_count": 43,
   "metadata": {},
   "outputs": [
    {
     "name": "stdout",
     "output_type": "stream",
     "text": [
      "story\n",
      "scene\n",
      "us\n",
      "vs\n",
      "plot\n",
      "cinema\n",
      "history\n",
      "anyone\n",
      "idolatrous\n",
      "christians\n"
     ]
    }
   ],
   "source": [
    "# Words after \"good\" with clean dataset\n",
    "for i in movies_neg_good.itertuples():\n",
    "    temp = movies_neg_good['reviewText'][i.Index].split(\"good\")[1].split()[0]\n",
    "    print(temp)"
   ]
  },
  {
   "cell_type": "markdown",
   "metadata": {},
   "source": [
    "**Analysis** For this occasion, the entire cleaning process that was carried out in previous points was performed in order to have consistent results with what is being studied, since by not cleaning the data, several reviews could be omitted due to punctuation issues, capitalization, lowercase, and the idea is to be able to analyze all the information. In this case we clean the dataset containing the first 10 reviews with negative reviews and then print the words that are after the word good. We observe words like `story`, `scene`, which would be `Good Story`, `Good Scene`, *however we find under scenarios of negative ratings, which is strange*. We must continue to explore!"
   ]
  },
  {
   "cell_type": "markdown",
   "metadata": {},
   "source": [
    "### 1.2 instant video negative tv dataset"
   ]
  },
  {
   "cell_type": "code",
   "execution_count": 44,
   "metadata": {},
   "outputs": [
    {
     "name": "stderr",
     "output_type": "stream",
     "text": [
      "C:\\ProgramData\\Anaconda2\\lib\\site-packages\\ipykernel_launcher.py:11: FutureWarning: The default value of regex will change from True to False in a future version.\n",
      "  # This is added back by InteractiveShellApp.init_path()\n"
     ]
    }
   ],
   "source": [
    "# Cleaning text column\n",
    "stop_words_english=list(set(stopwords.words('english')))\n",
    "\n",
    "instant_neg_good['reviewText'] = instant_neg_good['reviewText'].str.lower()\n",
    "instant_neg_good['reviewText'] = instant_neg_good['reviewText'].apply(lambda x: re.sub(r'\\W',' ',re.sub(r'\\s+',' ',x)))\n",
    "instant_neg_good['reviewText'] = instant_neg_good['reviewText'].apply(lambda x: re.sub('¡','',re.sub('°','',x)))\n",
    "instant_neg_good['reviewText'] = instant_neg_good['reviewText'].apply(lambda x: x.translate(str.maketrans('', '',\n",
    "                                                                                                          string.punctuation)))\n",
    "\n",
    "pat = r'\\b(?:{})\\b'.format('|'.join(stop_words_english))\n",
    "instant_neg_good['reviewText'] = instant_neg_good['reviewText'].str.replace(pat, '')\n"
   ]
  },
  {
   "cell_type": "code",
   "execution_count": 45,
   "metadata": {},
   "outputs": [
    {
     "name": "stdout",
     "output_type": "stream",
     "text": [
      "job\n",
      "34\n",
      "movie\n",
      "set\n",
      "yuck\n",
      "tv\n",
      "enjoy\n",
      "guess\n",
      "acting\n",
      "actors\n"
     ]
    }
   ],
   "source": [
    "# Words after \"good\" with clean dataset\n",
    "for i in instant_neg_good.itertuples():\n",
    "    temp = instant_neg_good['reviewText'][i.Index].split(\"good\")[1].split()[0]\n",
    "    print(temp)"
   ]
  },
  {
   "cell_type": "markdown",
   "metadata": {},
   "source": [
    "**Analysis** For this occasion, the entire cleaning process that was carried out in previous points was performed in order to have consistent results with what is being studied, since by not cleaning the data, several reviews could be omitted due to punctuation issues, capitalization, lowercase, and the idea is to be able to analyze all the information. In this case we clean the dataset containing the first 10 reviews with negative reviews and then print the words that are after the word good. We observe words like `job`, `movie`, which would be `Good job`, `Good movie`, *however we find under scenarios of negative ratings, which is strange*. We must continue to explore!"
   ]
  },
  {
   "cell_type": "markdown",
   "metadata": {},
   "source": [
    "## 2. The first word after \"good\" that is a noun or cardinal"
   ]
  },
  {
   "cell_type": "code",
   "execution_count": 46,
   "metadata": {},
   "outputs": [],
   "source": [
    "from nltk.tag import pos_tag"
   ]
  },
  {
   "cell_type": "markdown",
   "metadata": {},
   "source": [
    "### 2.1 movies tv negative dataset"
   ]
  },
  {
   "cell_type": "code",
   "execution_count": 47,
   "metadata": {},
   "outputs": [],
   "source": [
    "movies_neg_good2 = movies_neg_good.copy()"
   ]
  },
  {
   "cell_type": "code",
   "execution_count": 48,
   "metadata": {},
   "outputs": [
    {
     "name": "stdout",
     "output_type": "stream",
     "text": [
      "0\n",
      "[('story', 'NN')]\n",
      "1\n",
      "[('scene', 'NN')]\n",
      "2\n",
      "[('spoken', 'NN')]\n",
      "3\n",
      "[('vs', 'NN')]\n",
      "4\n",
      "[('plot', 'NN')]\n",
      "5\n",
      "[('cinema', 'NN')]\n",
      "6\n",
      "[('history', 'NN')]\n",
      "7\n",
      "[('anyone', 'NN')]\n",
      "8\n",
      "[('fan', 'NN')]\n",
      "9\n",
      "[('america', 'NN')]\n"
     ]
    }
   ],
   "source": [
    "# Words after \"good\" with clean dataset\n",
    "word = 'good'\n",
    "\n",
    "for i in movies_neg_good2.itertuples():\n",
    "    print(i.Index)\n",
    "    a = movies_neg_good2['reviewText'][i.Index].split(word)[1:]\n",
    "    a = \",\".join(a)\n",
    "    a = a.split()\n",
    "    if ',' in a:\n",
    "        a.remove(',')\n",
    "    \n",
    "    for j in range(0,len(a)):\n",
    "        temp = a[j]\n",
    "        temp = nltk.word_tokenize(temp)\n",
    "        pos = nltk.pos_tag(temp)\n",
    "\n",
    "        if pos[0][1] in ('NN','CD'):\n",
    "            print(pos)\n",
    "            break"
   ]
  },
  {
   "cell_type": "markdown",
   "metadata": {},
   "source": [
    "**Analysis:** For this occasion all the words that were found after the word then were searched, in case the word was more than once in the revision, all the following words were joined in a list, giving priority to the first occurrence of the word well. The next command allow to concat all the words next to `good` \n",
    "\n",
    "`movies_neg_good2['reviewText'][i.Index].split(word)[1:]`\n",
    "\n",
    "Then, it was structured so that it could be used as input in the nltk tokenize and likewise for the pos_tag, once the input structure is good it goes through these functions and performs a validation of the immediately following word, if this is not substantive or cardinal, then it goes to the next one, and so on until it finds a word that is substantive or cardinal, and when it finds it it prints it on screen and its respective tag.\n",
    "\n",
    "This time the first words they found were nouns and not cardinals. Let's keep exploring, the results are very interesting."
   ]
  },
  {
   "cell_type": "markdown",
   "metadata": {},
   "source": [
    "### 2.2 instant video negative tv dataset"
   ]
  },
  {
   "cell_type": "code",
   "execution_count": 49,
   "metadata": {},
   "outputs": [],
   "source": [
    "instant_neg_good2 = instant_neg_good.copy()"
   ]
  },
  {
   "cell_type": "code",
   "execution_count": 50,
   "metadata": {},
   "outputs": [
    {
     "name": "stdout",
     "output_type": "stream",
     "text": [
      "0\n",
      "[('job', 'NN')]\n",
      "1\n",
      "[('34', 'CD')]\n",
      "2\n",
      "[('movie', 'NN')]\n",
      "3\n",
      "[('set', 'NN')]\n",
      "4\n",
      "[('yuck', 'NN')]\n",
      "5\n",
      "[('tv', 'NN')]\n",
      "6\n",
      "[('enjoy', 'NN')]\n",
      "7\n",
      "[('guess', 'NN')]\n",
      "8\n",
      "[('end', 'NN')]\n",
      "9\n",
      "[('play', 'NN')]\n"
     ]
    }
   ],
   "source": [
    "# Words after \"good\" with clean dataset\n",
    "word = 'good'\n",
    "\n",
    "for i in instant_neg_good2.itertuples():\n",
    "    print(i.Index)\n",
    "    a = instant_neg_good2['reviewText'][i.Index].split(word)[1:]\n",
    "    a = \",\".join(a)\n",
    "    a = a.split()\n",
    "    if ',' in a:\n",
    "        a.remove(',')\n",
    "    \n",
    "    for j in range(0,len(a)):\n",
    "        temp = a[j]\n",
    "        temp = nltk.word_tokenize(temp)\n",
    "        pos = nltk.pos_tag(temp)\n",
    "\n",
    "        if pos[0][1] in ('NN','CD'):\n",
    "            print(pos)\n",
    "            break"
   ]
  },
  {
   "cell_type": "markdown",
   "metadata": {},
   "source": [
    "**Analysis:** This time we perform the same procedure as above, but this time for the instant video dataset. Like the previous script, the following command allows to fetch all the words after the word good:\n",
    "\n",
    "`instant_neg_good2['reviewText'][i.Index].split(word)[1:]`\n",
    "\n",
    "In these results if we find a cardinal word, in review 2 (index 1) we find that the number 34 is the cardinal word followed by good. The rest of the words are of noun type"
   ]
  },
  {
   "cell_type": "markdown",
   "metadata": {},
   "source": [
    "## 3. The last word before \"good\" that is a noun or cardinal"
   ]
  },
  {
   "cell_type": "markdown",
   "metadata": {},
   "source": [
    "### 2.1 movies tv negative dataset"
   ]
  },
  {
   "cell_type": "code",
   "execution_count": 51,
   "metadata": {},
   "outputs": [],
   "source": [
    "movies_neg_good3 = movies_neg_good.copy()"
   ]
  },
  {
   "cell_type": "code",
   "execution_count": 52,
   "metadata": {},
   "outputs": [
    {
     "name": "stdout",
     "output_type": "stream",
     "text": [
      "0\n",
      "1\n",
      "[('dvd', 'NN')]\n",
      "2\n",
      "[('edit', 'NN')]\n",
      "3\n",
      "[('icon', 'NN')]\n",
      "4\n",
      "[('mel', 'NN')]\n",
      "5\n",
      "[('5', 'CD')]\n",
      "6\n",
      "[('movie', 'NN')]\n",
      "7\n",
      "[('film', 'NN')]\n",
      "8\n",
      "[('saw', 'NN')]\n",
      "9\n",
      "[('problem', 'NN')]\n"
     ]
    }
   ],
   "source": [
    "# Words before \"good\" with clean dataset\n",
    "word = 'good'\n",
    "\n",
    "for i in movies_neg_good3.itertuples():\n",
    "    print(i.Index)\n",
    "    a = movies_neg_good3['reviewText'][i.Index].split(word)[:1]\n",
    "    a = \",\".join(a)\n",
    "    a = a.split()\n",
    "    if ',' in a:\n",
    "        a.remove(',')\n",
    "    \n",
    "    for j in range(0,len(a)):\n",
    "        temp = a[j]\n",
    "        temp = nltk.word_tokenize(temp)\n",
    "        pos = nltk.pos_tag(temp)\n",
    "\n",
    "        if pos[0][1] in ('NN','CD'):\n",
    "            print(pos)\n",
    "            break"
   ]
  },
  {
   "cell_type": "markdown",
   "metadata": {},
   "source": [
    "**Analysis:** For this occasion all the words that were found before the word then were searched. The next command allow to concat all the words next to `good` \n",
    "\n",
    "`movies_neg_good3['reviewText'][i.Index].split(word)[:1]`\n",
    "\n",
    "Then, it was structured so that it could be used as input in the nltk tokenize and likewise for the pos_tag, once the input structure is good it goes through these functions and performs a validation of the immediately before word, if this is not substantive or cardinal, then it goes to the next one, and so on until it finds a word that is substantive or cardinal, and when it finds it it prints it on screen and its respective tag. For this occasion it found a cardinal word in review 6 of the dataset (index 5), the rest are noun"
   ]
  },
  {
   "cell_type": "markdown",
   "metadata": {},
   "source": [
    "### 2.2 instant video negative tv dataset"
   ]
  },
  {
   "cell_type": "code",
   "execution_count": 53,
   "metadata": {},
   "outputs": [],
   "source": [
    "instant_neg_good3 = instant_neg_good.copy()"
   ]
  },
  {
   "cell_type": "code",
   "execution_count": 54,
   "metadata": {},
   "outputs": [
    {
     "name": "stdout",
     "output_type": "stream",
     "text": [
      "0\n",
      "1\n",
      "[('plot', 'NN')]\n",
      "2\n",
      "[('scene', 'NN')]\n",
      "3\n",
      "[('ok', 'NN')]\n",
      "4\n",
      "[('waste', 'NN')]\n",
      "5\n",
      "[('character', 'NN')]\n",
      "6\n",
      "[('one', 'CD')]\n",
      "7\n",
      "[('show', 'NN')]\n",
      "8\n",
      "[('two', 'CD')]\n",
      "9\n",
      "[('love', 'NN')]\n"
     ]
    }
   ],
   "source": [
    "# Words before \"good\" with clean dataset\n",
    "word = 'good'\n",
    "\n",
    "for i in instant_neg_good3.itertuples():\n",
    "    print(i.Index)\n",
    "    a = instant_neg_good3['reviewText'][i.Index].split(word)[:1]\n",
    "    a = \",\".join(a)\n",
    "    a = a.split()\n",
    "    if ',' in a:\n",
    "        a.remove(',')\n",
    "    #print(a)\n",
    "    \n",
    "    for j in range(0,len(a)):\n",
    "        temp = a[j]\n",
    "        temp = nltk.word_tokenize(temp)\n",
    "        pos = nltk.pos_tag(temp)\n",
    "\n",
    "        if pos[0][1] in ('NN','CD'):\n",
    "            print(pos)\n",
    "            break"
   ]
  },
  {
   "cell_type": "markdown",
   "metadata": {},
   "source": [
    "**Analysis:** This time we perform the same procedure as above, but this time for the instant video dataset. Like the previous script, the following command allows to fetch all the words after the word good:\n",
    "\n",
    "`instant_neg_good3['reviewText'][i.Index].split(word)[:1]`\n",
    "\n",
    "This case is interesting, because it found two words of cardinal type and they are not specifically a number but they refer to one of them but in written form. The number 5 and the number 2. The algorithm works very well!"
   ]
  },
  {
   "cell_type": "markdown",
   "metadata": {},
   "source": [
    "-------"
   ]
  },
  {
   "cell_type": "markdown",
   "metadata": {
    "tags": [
     "30_min"
    ]
   },
   "source": [
    "### Exercise 5:\n",
    "\n",
    "We have seen that individual words are not always very informative. Look for the most informative bigrams and trigrams, in both positive and negative reviews. Show the most informative bigrams and trigrams and give a brief analysis of the n-grams you identified."
   ]
  },
  {
   "cell_type": "markdown",
   "metadata": {
    "tags": [
     "ans_st"
    ]
   },
   "source": [
    "**Answer.** **A function was created to this excercise. Using case 5.3**"
   ]
  },
  {
   "cell_type": "code",
   "execution_count": 55,
   "metadata": {},
   "outputs": [],
   "source": [
    "from sklearn.feature_extraction.text import CountVectorizer\n",
    "\n",
    "## Function for extracting the most frequent words\n",
    "## This function was taken from correlation one case 5.3. \n",
    "## No significant changes were made.\n",
    "\n",
    "def common_words_ngrams(corpus, n=5,k=1):\n",
    "    # Train countvectorizer with input corpus and personalizate n grams \n",
    "    # Here the stopwords are remove\n",
    "    vec = CountVectorizer(ngram_range=(k,k),                          \n",
    "                          stop_words = 'english').fit(corpus)\n",
    "    \n",
    "    # Creation of bag of words from all corpus\n",
    "    bag_of_words = vec.transform(corpus)\n",
    "    sum_words = bag_of_words.sum(axis=0)\n",
    "    \n",
    "    # Count how many times the ngram appears\n",
    "    words_freq = [(word, sum_words[0, idx]) for word, idx in vec.vocabulary_.items()]\n",
    "    \n",
    "    # order from most to least occurrences\n",
    "    words_freq =sorted(words_freq, key = lambda x: x[1], reverse=True)\n",
    "    \n",
    "    # Return the number n (personalizate in input) of most frequents ngrams\n",
    "    return words_freq[:n]"
   ]
  },
  {
   "cell_type": "markdown",
   "metadata": {},
   "source": [
    "**Analysis:**This function was used from case 5.3 of the course and was adapted to solve this problem."
   ]
  },
  {
   "cell_type": "markdown",
   "metadata": {},
   "source": [
    "### 5.1.1 movies tv POSITIVE dataset"
   ]
  },
  {
   "cell_type": "code",
   "execution_count": 56,
   "metadata": {},
   "outputs": [],
   "source": [
    "movies_tv_positive = movies_tv[movies_tv['overall']>= 4]"
   ]
  },
  {
   "cell_type": "markdown",
   "metadata": {},
   "source": [
    "Look the **top 5** most frequent **bigrams in movie tv postive dataset**"
   ]
  },
  {
   "cell_type": "code",
   "execution_count": 57,
   "metadata": {},
   "outputs": [
    {
     "data": {
      "text/plain": [
       "[('blu ray', 646),\n",
       " ('sci fi', 470),\n",
       " ('mel gibson', 434),\n",
       " ('special effects', 417),\n",
       " ('great movie', 377)]"
      ]
     },
     "execution_count": 57,
     "metadata": {},
     "output_type": "execute_result"
    }
   ],
   "source": [
    "common_words_ngrams(movies_tv_positive['reviewText'],5,2)"
   ]
  },
  {
   "cell_type": "markdown",
   "metadata": {},
   "source": [
    "**Analysis:** The function has three input parameters: the corpus, the ngram you want to use (1=token, 2=bigram, 3=trigram), and the number of most frequent words you want to print. In this case, we used a bigram and print the top 5 most repeated bigrams in this dataset.\n",
    "\n",
    "Now, we are working in the context of positive reviews and with a bigram analysis, which could provide better information than at the level of a single word, in this case we find interesting the word mel gibson (Actor) as it may be referring to a movie where this actor appears. And on the other hand, special effects, which could mean that people like special effects movies."
   ]
  },
  {
   "cell_type": "markdown",
   "metadata": {},
   "source": [
    "Look the **top 5** most frequent **trigrams in movie tv positive dataset**"
   ]
  },
  {
   "cell_type": "code",
   "execution_count": 58,
   "metadata": {},
   "outputs": [
    {
     "data": {
      "text/plain": [
       "[('tommy lee jones', 132),\n",
       " ('world war ii', 102),\n",
       " ('close encounters kind', 88),\n",
       " ('red nosed reindeer', 68),\n",
       " ('12 year old', 68)]"
      ]
     },
     "execution_count": 58,
     "metadata": {},
     "output_type": "execute_result"
    }
   ],
   "source": [
    "common_words_ngrams(movies_tv_positive['reviewText'],5,3)"
   ]
  },
  {
   "cell_type": "markdown",
   "metadata": {},
   "source": [
    "**Analysis:** The function has three input parameters: the corpus, the ngram you want to use (1=token, 2=bigram, 3=trigram), and the number of most frequent words you want to print. In this case, we used a trigrams and print the top 5 most repeated trigrams in this dataset.\n",
    "\n",
    "Now, we are working in the context of positive reviews and with a trigram analysis, which could provide better information than at the level of 1 single word or even 2, in this case we find interesting the word tommy lee jones as it may be referring to a movie where this person appears. And on the other hand, world war ii, which could mean that people like movies of this theme or a movie that has this specific name."
   ]
  },
  {
   "cell_type": "markdown",
   "metadata": {},
   "source": [
    "### 5.1.2 movies tv NEGATIVE dataset"
   ]
  },
  {
   "cell_type": "code",
   "execution_count": 59,
   "metadata": {},
   "outputs": [],
   "source": [
    "movies_tv_negative = movies_tv[movies_tv['overall']< 3]"
   ]
  },
  {
   "cell_type": "markdown",
   "metadata": {},
   "source": [
    "Look the **top 5** most frequent **bigrams in movie tv negative dataset**"
   ]
  },
  {
   "cell_type": "code",
   "execution_count": 60,
   "metadata": {},
   "outputs": [
    {
     "data": {
      "text/plain": [
       "[('mel gibson', 87),\n",
       " ('passion christ', 65),\n",
       " ('special effects', 55),\n",
       " ('jesus christ', 44),\n",
       " ('jane eyre', 43)]"
      ]
     },
     "execution_count": 60,
     "metadata": {},
     "output_type": "execute_result"
    }
   ],
   "source": [
    "common_words_ngrams(movies_tv_negative['reviewText'],5,2)"
   ]
  },
  {
   "cell_type": "markdown",
   "metadata": {},
   "source": [
    "**Analysis:** The function has three input parameters: the corpus, the ngram you want to use (1=token, 2=bigram, 3=trigram), and the number of most frequent words you want to print. In this case, we used a bigram and print the top 5 most repeated bigrams in this dataset.\n",
    "\n",
    "Now, we are working in the context of the negative reviews and with a bigram analysis, which could provide better information than at the level of a single word, in this case we find interesting the word passion christ as it may be referring to the movie as such and that people did not like it, likewise mel gibson appears again which can be interpreted as having a division between people who like it and others who do not like it so much."
   ]
  },
  {
   "cell_type": "markdown",
   "metadata": {},
   "source": [
    "Look the **top 5** most frequent **trigrams in movie tv negative dataset**"
   ]
  },
  {
   "cell_type": "code",
   "execution_count": 61,
   "metadata": {},
   "outputs": [
    {
     "data": {
      "text/plain": [
       "[('blu ray player', 11),\n",
       " ('gibson passion christ', 9),\n",
       " ('waste time money', 8),\n",
       " ('don waste time', 7),\n",
       " ('12 year old', 7)]"
      ]
     },
     "execution_count": 61,
     "metadata": {},
     "output_type": "execute_result"
    }
   ],
   "source": [
    "common_words_ngrams(movies_tv_negative['reviewText'],5,3)"
   ]
  },
  {
   "cell_type": "markdown",
   "metadata": {},
   "source": [
    "**Analysis:** The function has three input parameters: the corpus, the ngram you want to use (1=token, 2=bigram, 3=trigram), and the number of most frequent words you want to print. In this case, we used a trigrams and print the top 5 most repeated trigrams in this dataset.\n",
    "\n",
    "In this case we find interesting the word gibson passion christ as it confirms what we observed in the bigram and that is that some people did not like the movie, we also find words like don waste time or waste time money which are very negative contexts for movie reviews."
   ]
  },
  {
   "cell_type": "markdown",
   "metadata": {},
   "source": [
    "### 5.2.1 Instant video POSITIVE dataset"
   ]
  },
  {
   "cell_type": "code",
   "execution_count": 62,
   "metadata": {},
   "outputs": [],
   "source": [
    "instant_video_positive = instant_video[instant_video['overall']>= 4]"
   ]
  },
  {
   "cell_type": "markdown",
   "metadata": {},
   "source": [
    "Look the **top 5** most frequent **bigrams in Instant video postive dataset**"
   ]
  },
  {
   "cell_type": "code",
   "execution_count": 63,
   "metadata": {},
   "outputs": [
    {
     "data": {
      "text/plain": [
       "[('story line', 944),\n",
       " ('second season', 643),\n",
       " ('sci fi', 588),\n",
       " ('story lines', 566),\n",
       " ('ve seen', 564)]"
      ]
     },
     "execution_count": 63,
     "metadata": {},
     "output_type": "execute_result"
    }
   ],
   "source": [
    "common_words_ngrams(instant_video_positive['reviewText'],5,2)"
   ]
  },
  {
   "cell_type": "markdown",
   "metadata": {},
   "source": [
    "**Analysis:** The function has three input parameters: the corpus, the ngram you want to use (1=token, 2=bigram, 3=trigram), and the number of most frequent words you want to print. In this case, we used a bigram and print the top 5 most repeated bigrams in this dataset.\n",
    "\n",
    "Now, we are working in the context of positive reviews and with a bigram analysis, which could provide better information than at the level of a single word. In this case it is interesting to note words such as second season which can refer to a movie as such, a scene, or some kind of series."
   ]
  },
  {
   "cell_type": "markdown",
   "metadata": {},
   "source": [
    "Look the **top 5** most frequent **trigrams in Instant video postive dataset**"
   ]
  },
  {
   "cell_type": "code",
   "execution_count": 64,
   "metadata": {},
   "outputs": [
    {
     "data": {
      "text/plain": [
       "[('looking forward season', 164),\n",
       " ('keeps getting better', 106),\n",
       " ('great story line', 98),\n",
       " ('love love love', 92),\n",
       " ('does great job', 92)]"
      ]
     },
     "execution_count": 64,
     "metadata": {},
     "output_type": "execute_result"
    }
   ],
   "source": [
    "common_words_ngrams(instant_video_positive['reviewText'],5,3)"
   ]
  },
  {
   "cell_type": "markdown",
   "metadata": {},
   "source": [
    "**Analysis:** The function has three input parameters: the corpus, the ngram you want to use (1=token, 2=bigram, 3=trigram), and the number of most frequent words you want to print. In this case, we used a trigrams and print the top 5 most repeated trigrams in this dataset.\n",
    "\n",
    "Now, we are working in the context of positive reviews and with a trigram analysis, which could provide better information than at the level of 1 single word or even 2. In this case we find the word looking forward season which is very similar to the one found in bigrams, we find great story line which and does great job. Of course, we are working with positive reviews, which is expected for this type of words."
   ]
  },
  {
   "cell_type": "markdown",
   "metadata": {},
   "source": [
    "### 5.2.2 Instant video NEGATIVE dataset"
   ]
  },
  {
   "cell_type": "code",
   "execution_count": 65,
   "metadata": {},
   "outputs": [],
   "source": [
    "instant_video_negative = instant_video[instant_video['overall']< 3]"
   ]
  },
  {
   "cell_type": "markdown",
   "metadata": {},
   "source": [
    "Look the **top 5** most frequent **bigrams in Instant video negative dataset**"
   ]
  },
  {
   "cell_type": "code",
   "execution_count": 66,
   "metadata": {},
   "outputs": [
    {
     "data": {
      "text/plain": [
       "[('waste time', 150),\n",
       " ('story line', 116),\n",
       " ('ve seen', 114),\n",
       " ('don know', 102),\n",
       " ('sci fi', 92)]"
      ]
     },
     "execution_count": 66,
     "metadata": {},
     "output_type": "execute_result"
    }
   ],
   "source": [
    "common_words_ngrams(instant_video_negative['reviewText'],5,2)"
   ]
  },
  {
   "cell_type": "markdown",
   "metadata": {},
   "source": [
    "**Analysis:** The function has three input parameters: the corpus, the ngram you want to use (1=token, 2=bigram, 3=trigram), and the number of most frequent words you want to print. In this case, we used a bigram and print the top 5 most repeated bigrams in this dataset.\n",
    "\n",
    "Now, we are working in the context of negative reviews and with a bigram analysis, which could provide better information than at the level of a single word. In this one the word \"waste time\" appears, which again is not a good thing in movie comments and it would be necessary to check which movies it refers to in order to better understand the user."
   ]
  },
  {
   "cell_type": "markdown",
   "metadata": {},
   "source": [
    "Look the **top 5** most frequent **trigrams in Instant video negative dataset**"
   ]
  },
  {
   "cell_type": "code",
   "execution_count": 67,
   "metadata": {},
   "outputs": [
    {
     "data": {
      "text/plain": [
       "[('don waste time', 43),\n",
       " ('really wanted like', 24),\n",
       " ('parental guide bomb', 14),\n",
       " ('big bang theory', 13),\n",
       " ('waste time money', 12)]"
      ]
     },
     "execution_count": 67,
     "metadata": {},
     "output_type": "execute_result"
    }
   ],
   "source": [
    "common_words_ngrams(instant_video_negative['reviewText'],5,3)"
   ]
  },
  {
   "cell_type": "markdown",
   "metadata": {},
   "source": [
    "**Analysis:** The function has three input parameters: the corpus, the ngram you want to use (1=token, 2=bigram, 3=trigram), and the number of most frequent words you want to print. In this case, we used a trigrams and print the top 5 most repeated trigrams in this dataset.\n",
    "\n",
    "In this case we found don waste time again, it seems that this word is very common in negative contexts, we also observed really wanted like which could be the name of a movie, big bang theory which is clearly a very well known series but apparently the users of this dataset did not like it very much."
   ]
  },
  {
   "cell_type": "markdown",
   "metadata": {},
   "source": [
    "-------"
   ]
  },
  {
   "cell_type": "markdown",
   "metadata": {
    "tags": [
     "15_min"
    ]
   },
   "source": [
    "### Exercise 6:\n",
    "\n",
    "Throughout the above search for informative words, we have seen that unigrams are not enough, but important words (such as \"good\") are not always next to the informative words that they describe. Devise a method to extract these informative words. Provide a brief description of how you will extract the informative words."
   ]
  },
  {
   "cell_type": "markdown",
   "metadata": {
    "tags": [
     "ans_st"
    ]
   },
   "source": [
    "**Answer.**\n",
    "A proposal to have this relevant information consists of lemmatizing the words and assigning grammatical information to them based on their definition and context (post_tag). \n",
    "\n",
    "Once this process is done, I would perform several iterations between ngram, bigram and trigram to understand which of these best approximates my problem and my context without leaving aside the grammatical analysis.\n",
    "\n",
    "I would also take into account the frequency of occurrences of the words with their respective tags. And I would search according to the context that is being worked on which would be the possible informative candidate words.\n",
    "\n",
    "In this way, taking into account what kind of grammatical information I have, understanding the context of the dataset I am analyzing, and by means of frequencies of the informative words that appear the most, I propose to extract a top n of possible best informative words."
   ]
  },
  {
   "cell_type": "markdown",
   "metadata": {},
   "source": [
    "-------"
   ]
  },
  {
   "cell_type": "markdown",
   "metadata": {
    "tags": [
     "30_min"
    ]
   },
   "source": [
    "### Exercise 7:\n",
    "\n",
    "Write a function(s) that transforms a sentence into a new text list by iteratively pairing each adjective in the sentence with the next noun that follows it in the sentence. For example, the text \"That was a good, long movie\" should return `[\"good movie\", \"long movie\"]`."
   ]
  },
  {
   "cell_type": "markdown",
   "metadata": {
    "tags": [
     "ans_st"
    ]
   },
   "source": [
    "**Answer.**"
   ]
  },
  {
   "cell_type": "markdown",
   "metadata": {},
   "source": [
    "### Create the function"
   ]
  },
  {
   "cell_type": "code",
   "execution_count": 68,
   "metadata": {},
   "outputs": [],
   "source": [
    "def exc7_nlp(corpus):\n",
    "    # empty list to save info\n",
    "    prueba = []\n",
    "    nouns = []\n",
    "    adj =  []\n",
    "    \n",
    "    # token and pos the sentence\n",
    "    temp = nltk.word_tokenize(corpus)\n",
    "    pos2 = nltk.pos_tag(temp)\n",
    "    \n",
    "    # validate which word are noun or adjective\n",
    "    # and save into list\n",
    "    \n",
    "    for i in range(0,len(temp)):\n",
    "        if pos2[i][1] in ['NN']:\n",
    "            nouns.append(pos2[i])\n",
    "        elif pos2[i][1] in ['JJ']:\n",
    "            adj.append(pos2[i])\n",
    "    \n",
    "    #create the combinations of adj and nouns\n",
    "    for x in range(0,len(adj)):\n",
    "        for z in range(0,len(nouns)):\n",
    "            prueba.append(adj[x][0] + ' '+ nouns[z][0])\n",
    "    \n",
    "    # return the combinantions\n",
    "    return prueba"
   ]
  },
  {
   "cell_type": "markdown",
   "metadata": {},
   "source": [
    "**Analysis** This function receives a sentence, which is a text like the ones we previously analyzed in the movie datasets. To this sentence we apply the simple tokenization and then we apply the pos_tag, both functions using nltk. Afterwards we evaluate the type of tag that each output has and we store only those that are nouns and adjectives, and then we combine the adjective with the noun."
   ]
  },
  {
   "cell_type": "markdown",
   "metadata": {},
   "source": [
    "### Example 1"
   ]
  },
  {
   "cell_type": "code",
   "execution_count": 69,
   "metadata": {},
   "outputs": [],
   "source": [
    "sentence = \"That was a good, long movie\""
   ]
  },
  {
   "cell_type": "code",
   "execution_count": 70,
   "metadata": {},
   "outputs": [
    {
     "data": {
      "text/plain": [
       "['good movie', 'long movie']"
      ]
     },
     "execution_count": 70,
     "metadata": {},
     "output_type": "execute_result"
    }
   ],
   "source": [
    "exc7_nlp(sentence)"
   ]
  },
  {
   "cell_type": "markdown",
   "metadata": {},
   "source": [
    "### Example 1"
   ]
  },
  {
   "cell_type": "code",
   "execution_count": 71,
   "metadata": {},
   "outputs": [],
   "source": [
    "sentence2 = \"The book was great and very large\""
   ]
  },
  {
   "cell_type": "code",
   "execution_count": 72,
   "metadata": {},
   "outputs": [
    {
     "data": {
      "text/plain": [
       "['great book', 'large book']"
      ]
     },
     "execution_count": 72,
     "metadata": {},
     "output_type": "execute_result"
    }
   ],
   "source": [
    "exc7_nlp(sentence2)"
   ]
  },
  {
   "cell_type": "markdown",
   "metadata": {},
   "source": [
    "### Example 3"
   ]
  },
  {
   "cell_type": "code",
   "execution_count": 73,
   "metadata": {},
   "outputs": [],
   "source": [
    "sentence3 = \"This apple is soft, big and very green\""
   ]
  },
  {
   "cell_type": "code",
   "execution_count": 74,
   "metadata": {},
   "outputs": [
    {
     "data": {
      "text/plain": [
       "['soft apple', 'big apple', 'green apple']"
      ]
     },
     "execution_count": 74,
     "metadata": {},
     "output_type": "execute_result"
    }
   ],
   "source": [
    "exc7_nlp(sentence3)"
   ]
  },
  {
   "cell_type": "markdown",
   "metadata": {},
   "source": [
    "The results obtained by the function are very interesting, since it is possible to obtain a main idea of the sentence using these nltk functions and thus have a better context about what is being analyzed beyond having a single ngram or bigram. Since they take into account a more semantic issue."
   ]
  },
  {
   "cell_type": "markdown",
   "metadata": {},
   "source": [
    "-------"
   ]
  }
 ],
 "metadata": {
  "c1_recart": "6.10.0-57c20131aabc1dc2a8c675852d80a7da",
  "kernelspec": {
   "display_name": "Python 3",
   "language": "python",
   "name": "python3"
  },
  "language_info": {
   "codemirror_mode": {
    "name": "ipython",
    "version": 3
   },
   "file_extension": ".py",
   "mimetype": "text/x-python",
   "name": "python",
   "nbconvert_exporter": "python",
   "pygments_lexer": "ipython3",
   "version": "3.7.9"
  }
 },
 "nbformat": 4,
 "nbformat_minor": 2
}
