{
 "cells": [
  {
   "cell_type": "markdown",
   "metadata": {},
   "source": [
    "# How should I price auto insurance in the United States?"
   ]
  },
  {
   "cell_type": "markdown",
   "metadata": {},
   "source": [
    "## Introduction"
   ]
  },
  {
   "cell_type": "markdown",
   "metadata": {},
   "source": [
    "**Business Context.** The ability to price an insurance quote properly has a significant impact on insurers' management decisions and financial statements. You are the chief data scientist at a new startup insurance company focusing on providing affordable insurance to millennials. You are tasked to assess the current state of insurance companies to see what factors large insurance providers charge premiums for. Fortunately for you, your company has compiled a dataset by surveying what people currently pay for insurance from large companies. Your findings will be used as the basis of developing your company's millenial car insurance offering. \n",
    "\n",
    "**Business Problem.** Your task is to build a **minimal** model to predict the cost of insurance from the data set using various characteristics of a policyholder.\n",
    "\n",
    "**Analytical Context.** The data resides in a CSV file which has been pre-cleaned for you and can directly be read in. Throughout the case, you will be iterating on your initial model many times based on common pitfalls that arise which we discussed in previous cases. You will be using the Python `statsmodels` package to create and analyze these linear models."
   ]
  },
  {
   "cell_type": "code",
   "execution_count": 1,
   "metadata": {},
   "outputs": [],
   "source": [
    "### Load relevant packages\n",
    "\n",
    "import pandas                  as pd\n",
    "import numpy                   as np\n",
    "import matplotlib.pyplot       as plt\n",
    "import seaborn                 as sns\n",
    "import statsmodels.api         as sm\n",
    "import statsmodels.formula.api as smf\n",
    "import os\n",
    "\n",
    "# This statement allow to display plot without asking to \n",
    "%matplotlib inline\n",
    "\n",
    "# always make it pretty \n",
    "plt.style.use('ggplot')"
   ]
  },
  {
   "cell_type": "markdown",
   "metadata": {},
   "source": [
    "## Diving into the data"
   ]
  },
  {
   "cell_type": "code",
   "execution_count": 2,
   "metadata": {},
   "outputs": [],
   "source": [
    "df = pd.read_csv('Allstate-cost-cleaned.csv',\n",
    "    dtype = { # indicate categorical variables\n",
    "        'A': 'category',\n",
    "        'B': 'category',\n",
    "        'C': 'category',\n",
    "        'D': 'category',\n",
    "        'E': 'category',\n",
    "        'F': 'category',\n",
    "        'G': 'category',\n",
    "        'car_value': 'category',\n",
    "        'state': 'category'\n",
    "    }\n",
    ")"
   ]
  },
  {
   "cell_type": "markdown",
   "metadata": {},
   "source": [
    "The following are the columns in the dataset:\n",
    "\n",
    "1. **state**: State where shopping point occurred\n",
    "2. **group_size**: How many people will be covered under the policy (1, 2, 3 or 4) \n",
    "3. **homeowner**: Whether the customer owns a home (0=no, 1=yes)\n",
    "4. **car_age**: Age of the customer's car (How old the car is)\n",
    "5. **car_value**: Value of the car when it was new\n",
    "6. **risk_factor**: An ordinal assessment of how risky the customer is (0,1, 2, 3, 4) \n",
    "7. **age_oldest**: Age of the oldest person in customer's group\n",
    "8. **age_youngest**: Age of the youngest person in customer's group\n",
    "9. **married_couple**: Does the customer group contain a married couple (0=no, 1=yes) \n",
    "10. **C_previous**: What the customer formerly had or currently has for product option C (0=nothing, 1, 2, 3,4)\n",
    "11. **duration_previous**: How long (in years) the customer was covered by their previous issuer\n",
    "12. **A,B,C,D,E,F,G**: The coverage options:\n",
    "13. **A**: Collision (levels: 0, 1, 2);\n",
    "14. **B**: Towing (levels: 0, 1);\n",
    "15. **C**: Bodily Injury (BI, levels: 1, 2, 3, 4);\n",
    "16. **D**: Property Damage (PD, levels 1, 2, 3);\n",
    "17. **E**: Rental Reimbursement (RR, levels: 0, 1);\n",
    "18. **F**: Comprehensive (Comp, levels: 0, 1, 2, 3);\n",
    "19. **G**: Medical/Personal Injury Protection (Med/PIP, levels: 1, 2, 3, 4)\n",
    "20. **cost**: cost of the quoted coverage options "
   ]
  },
  {
   "cell_type": "code",
   "execution_count": 3,
   "metadata": {},
   "outputs": [
    {
     "data": {
      "text/html": [
       "<div>\n",
       "<style scoped>\n",
       "    .dataframe tbody tr th:only-of-type {\n",
       "        vertical-align: middle;\n",
       "    }\n",
       "\n",
       "    .dataframe tbody tr th {\n",
       "        vertical-align: top;\n",
       "    }\n",
       "\n",
       "    .dataframe thead th {\n",
       "        text-align: right;\n",
       "    }\n",
       "</style>\n",
       "<table border=\"1\" class=\"dataframe\">\n",
       "  <thead>\n",
       "    <tr style=\"text-align: right;\">\n",
       "      <th></th>\n",
       "      <th>Unnamed: 0</th>\n",
       "      <th>state</th>\n",
       "      <th>group_size</th>\n",
       "      <th>homeowner</th>\n",
       "      <th>car_age</th>\n",
       "      <th>car_value</th>\n",
       "      <th>risk_factor</th>\n",
       "      <th>age_oldest</th>\n",
       "      <th>age_youngest</th>\n",
       "      <th>married_couple</th>\n",
       "      <th>C_previous</th>\n",
       "      <th>duration_previous</th>\n",
       "      <th>A</th>\n",
       "      <th>B</th>\n",
       "      <th>C</th>\n",
       "      <th>D</th>\n",
       "      <th>E</th>\n",
       "      <th>F</th>\n",
       "      <th>G</th>\n",
       "      <th>cost</th>\n",
       "    </tr>\n",
       "  </thead>\n",
       "  <tbody>\n",
       "    <tr>\n",
       "      <th>0</th>\n",
       "      <td>0</td>\n",
       "      <td>OK</td>\n",
       "      <td>1</td>\n",
       "      <td>0</td>\n",
       "      <td>9</td>\n",
       "      <td>f</td>\n",
       "      <td>0.0</td>\n",
       "      <td>24</td>\n",
       "      <td>24</td>\n",
       "      <td>0</td>\n",
       "      <td>3.0</td>\n",
       "      <td>9.0</td>\n",
       "      <td>0</td>\n",
       "      <td>0</td>\n",
       "      <td>1</td>\n",
       "      <td>1</td>\n",
       "      <td>0</td>\n",
       "      <td>0</td>\n",
       "      <td>4</td>\n",
       "      <td>543</td>\n",
       "    </tr>\n",
       "    <tr>\n",
       "      <th>1</th>\n",
       "      <td>1</td>\n",
       "      <td>OK</td>\n",
       "      <td>1</td>\n",
       "      <td>0</td>\n",
       "      <td>9</td>\n",
       "      <td>f</td>\n",
       "      <td>0.0</td>\n",
       "      <td>24</td>\n",
       "      <td>24</td>\n",
       "      <td>0</td>\n",
       "      <td>3.0</td>\n",
       "      <td>9.0</td>\n",
       "      <td>2</td>\n",
       "      <td>1</td>\n",
       "      <td>1</td>\n",
       "      <td>3</td>\n",
       "      <td>1</td>\n",
       "      <td>3</td>\n",
       "      <td>2</td>\n",
       "      <td>611</td>\n",
       "    </tr>\n",
       "    <tr>\n",
       "      <th>2</th>\n",
       "      <td>2</td>\n",
       "      <td>PA</td>\n",
       "      <td>1</td>\n",
       "      <td>1</td>\n",
       "      <td>7</td>\n",
       "      <td>f</td>\n",
       "      <td>0.0</td>\n",
       "      <td>74</td>\n",
       "      <td>74</td>\n",
       "      <td>0</td>\n",
       "      <td>2.0</td>\n",
       "      <td>15.0</td>\n",
       "      <td>2</td>\n",
       "      <td>0</td>\n",
       "      <td>2</td>\n",
       "      <td>3</td>\n",
       "      <td>1</td>\n",
       "      <td>2</td>\n",
       "      <td>2</td>\n",
       "      <td>691</td>\n",
       "    </tr>\n",
       "    <tr>\n",
       "      <th>3</th>\n",
       "      <td>3</td>\n",
       "      <td>PA</td>\n",
       "      <td>1</td>\n",
       "      <td>1</td>\n",
       "      <td>7</td>\n",
       "      <td>f</td>\n",
       "      <td>0.0</td>\n",
       "      <td>74</td>\n",
       "      <td>74</td>\n",
       "      <td>0</td>\n",
       "      <td>2.0</td>\n",
       "      <td>15.0</td>\n",
       "      <td>2</td>\n",
       "      <td>0</td>\n",
       "      <td>2</td>\n",
       "      <td>3</td>\n",
       "      <td>1</td>\n",
       "      <td>2</td>\n",
       "      <td>2</td>\n",
       "      <td>695</td>\n",
       "    </tr>\n",
       "    <tr>\n",
       "      <th>4</th>\n",
       "      <td>4</td>\n",
       "      <td>AR</td>\n",
       "      <td>1</td>\n",
       "      <td>0</td>\n",
       "      <td>4</td>\n",
       "      <td>d</td>\n",
       "      <td>4.0</td>\n",
       "      <td>26</td>\n",
       "      <td>26</td>\n",
       "      <td>0</td>\n",
       "      <td>3.0</td>\n",
       "      <td>1.0</td>\n",
       "      <td>1</td>\n",
       "      <td>0</td>\n",
       "      <td>1</td>\n",
       "      <td>1</td>\n",
       "      <td>0</td>\n",
       "      <td>2</td>\n",
       "      <td>2</td>\n",
       "      <td>628</td>\n",
       "    </tr>\n",
       "    <tr>\n",
       "      <th>5</th>\n",
       "      <td>5</td>\n",
       "      <td>AR</td>\n",
       "      <td>1</td>\n",
       "      <td>0</td>\n",
       "      <td>4</td>\n",
       "      <td>d</td>\n",
       "      <td>4.0</td>\n",
       "      <td>26</td>\n",
       "      <td>26</td>\n",
       "      <td>0</td>\n",
       "      <td>3.0</td>\n",
       "      <td>1.0</td>\n",
       "      <td>1</td>\n",
       "      <td>0</td>\n",
       "      <td>2</td>\n",
       "      <td>1</td>\n",
       "      <td>0</td>\n",
       "      <td>2</td>\n",
       "      <td>2</td>\n",
       "      <td>625</td>\n",
       "    </tr>\n",
       "    <tr>\n",
       "      <th>6</th>\n",
       "      <td>6</td>\n",
       "      <td>AR</td>\n",
       "      <td>1</td>\n",
       "      <td>0</td>\n",
       "      <td>4</td>\n",
       "      <td>d</td>\n",
       "      <td>4.0</td>\n",
       "      <td>26</td>\n",
       "      <td>26</td>\n",
       "      <td>0</td>\n",
       "      <td>3.0</td>\n",
       "      <td>1.0</td>\n",
       "      <td>1</td>\n",
       "      <td>0</td>\n",
       "      <td>2</td>\n",
       "      <td>1</td>\n",
       "      <td>0</td>\n",
       "      <td>2</td>\n",
       "      <td>2</td>\n",
       "      <td>628</td>\n",
       "    </tr>\n",
       "    <tr>\n",
       "      <th>7</th>\n",
       "      <td>7</td>\n",
       "      <td>OK</td>\n",
       "      <td>1</td>\n",
       "      <td>0</td>\n",
       "      <td>13</td>\n",
       "      <td>f</td>\n",
       "      <td>3.0</td>\n",
       "      <td>22</td>\n",
       "      <td>22</td>\n",
       "      <td>0</td>\n",
       "      <td>0.0</td>\n",
       "      <td>0.0</td>\n",
       "      <td>0</td>\n",
       "      <td>0</td>\n",
       "      <td>1</td>\n",
       "      <td>1</td>\n",
       "      <td>0</td>\n",
       "      <td>0</td>\n",
       "      <td>2</td>\n",
       "      <td>596</td>\n",
       "    </tr>\n",
       "    <tr>\n",
       "      <th>8</th>\n",
       "      <td>8</td>\n",
       "      <td>OK</td>\n",
       "      <td>1</td>\n",
       "      <td>0</td>\n",
       "      <td>13</td>\n",
       "      <td>f</td>\n",
       "      <td>3.0</td>\n",
       "      <td>22</td>\n",
       "      <td>22</td>\n",
       "      <td>0</td>\n",
       "      <td>0.0</td>\n",
       "      <td>0.0</td>\n",
       "      <td>2</td>\n",
       "      <td>0</td>\n",
       "      <td>1</td>\n",
       "      <td>1</td>\n",
       "      <td>0</td>\n",
       "      <td>3</td>\n",
       "      <td>2</td>\n",
       "      <td>711</td>\n",
       "    </tr>\n",
       "    <tr>\n",
       "      <th>9</th>\n",
       "      <td>9</td>\n",
       "      <td>OK</td>\n",
       "      <td>1</td>\n",
       "      <td>0</td>\n",
       "      <td>13</td>\n",
       "      <td>f</td>\n",
       "      <td>3.0</td>\n",
       "      <td>22</td>\n",
       "      <td>22</td>\n",
       "      <td>0</td>\n",
       "      <td>0.0</td>\n",
       "      <td>0.0</td>\n",
       "      <td>2</td>\n",
       "      <td>0</td>\n",
       "      <td>1</td>\n",
       "      <td>1</td>\n",
       "      <td>0</td>\n",
       "      <td>3</td>\n",
       "      <td>2</td>\n",
       "      <td>722</td>\n",
       "    </tr>\n",
       "  </tbody>\n",
       "</table>\n",
       "</div>"
      ],
      "text/plain": [
       "   Unnamed: 0 state  group_size  homeowner  car_age car_value  risk_factor  \\\n",
       "0           0    OK           1          0        9         f          0.0   \n",
       "1           1    OK           1          0        9         f          0.0   \n",
       "2           2    PA           1          1        7         f          0.0   \n",
       "3           3    PA           1          1        7         f          0.0   \n",
       "4           4    AR           1          0        4         d          4.0   \n",
       "5           5    AR           1          0        4         d          4.0   \n",
       "6           6    AR           1          0        4         d          4.0   \n",
       "7           7    OK           1          0       13         f          3.0   \n",
       "8           8    OK           1          0       13         f          3.0   \n",
       "9           9    OK           1          0       13         f          3.0   \n",
       "\n",
       "   age_oldest  age_youngest  married_couple  C_previous  duration_previous  A  \\\n",
       "0          24            24               0         3.0                9.0  0   \n",
       "1          24            24               0         3.0                9.0  2   \n",
       "2          74            74               0         2.0               15.0  2   \n",
       "3          74            74               0         2.0               15.0  2   \n",
       "4          26            26               0         3.0                1.0  1   \n",
       "5          26            26               0         3.0                1.0  1   \n",
       "6          26            26               0         3.0                1.0  1   \n",
       "7          22            22               0         0.0                0.0  0   \n",
       "8          22            22               0         0.0                0.0  2   \n",
       "9          22            22               0         0.0                0.0  2   \n",
       "\n",
       "   B  C  D  E  F  G  cost  \n",
       "0  0  1  1  0  0  4   543  \n",
       "1  1  1  3  1  3  2   611  \n",
       "2  0  2  3  1  2  2   691  \n",
       "3  0  2  3  1  2  2   695  \n",
       "4  0  1  1  0  2  2   628  \n",
       "5  0  2  1  0  2  2   625  \n",
       "6  0  2  1  0  2  2   628  \n",
       "7  0  1  1  0  0  2   596  \n",
       "8  0  1  1  0  3  2   711  \n",
       "9  0  1  1  0  3  2   722  "
      ]
     },
     "execution_count": 3,
     "metadata": {},
     "output_type": "execute_result"
    }
   ],
   "source": [
    "df.head(10)"
   ]
  },
  {
   "cell_type": "markdown",
   "metadata": {
    "tags": [
     "30_min"
    ]
   },
   "source": [
    "### Exercise 1:\n",
    "\n",
    "Write code to visualize the relationship between cost and the following variables. Choose your plots judiciously based on what you know about each variable. Different variable types (categorical vs. numerical) should have different types of plots (e.g. scatter, boxplot, violin plot, etc.) Group your plots together using the `plt.subplot()` function.\n",
    "\n",
    "1. `car_age`\n",
    "2. `age_oldest`\n",
    "3. `age_youngest`\n",
    "4. `duration_previous`\n",
    "5. `C_previous`\n",
    "6. `homeowner`\n",
    "7. `group_size`\n",
    "8. `car_age`\n",
    "9. Categories A-G (7 different plots)"
   ]
  },
  {
   "cell_type": "markdown",
   "metadata": {
    "tags": [
     "ans_st"
    ]
   },
   "source": [
    "**Answer.**"
   ]
  },
  {
   "cell_type": "code",
   "execution_count": 4,
   "metadata": {},
   "outputs": [
    {
     "name": "stdout",
     "output_type": "stream",
     "text": [
      "car_age is int64\n",
      "age_oldest is int64\n",
      "age_youngest is int64\n",
      "duration_previous is float64\n",
      "C_previous is float64\n",
      "homeowner is int64\n",
      "group_size is int64\n"
     ]
    }
   ],
   "source": [
    "# Let's check the type of each variable\n",
    "\n",
    "print( 'car_age' + ' ' +'is' + ' '+  str(df['car_age'].dtype))\n",
    "print( 'age_oldest' + ' ' +'is' + ' '+  str(df['age_oldest'].dtype))\n",
    "print( 'age_youngest' + ' ' +'is' + ' '+  str(df['age_youngest'].dtype))\n",
    "print( 'duration_previous' + ' ' +'is' + ' '+  str(df['duration_previous'].dtype))\n",
    "print( 'C_previous' + ' ' +'is' + ' '+  str(df['C_previous'].dtype))\n",
    "print( 'homeowner' + ' ' +'is' + ' '+  str(df['homeowner'].dtype))\n",
    "print( 'group_size' + ' ' +'is' + ' '+  str(df['group_size'].dtype))\n",
    "\n",
    "# car_age is repeat, and all categories are int"
   ]
  },
  {
   "cell_type": "code",
   "execution_count": 5,
   "metadata": {},
   "outputs": [
    {
     "data": {
      "text/plain": [
       "<AxesSubplot:xlabel='G', ylabel='cost'>"
      ]
     },
     "execution_count": 5,
     "metadata": {},
     "output_type": "execute_result"
    },
    {
     "data": {
      "image/png": "[encoded data removed]",
      "text/plain": [
       "<Figure size 1368x1224 with 16 Axes>"
      ]
     },
     "metadata": {},
     "output_type": "display_data"
    }
   ],
   "source": [
    "f, axes = plt.subplots(4, 4, figsize = (19,17))\n",
    "sns.scatterplot(  y=\"cost\", x= \"car_age\", data=df, color='g', ax=axes[0,0])\n",
    "sns.scatterplot(  y=\"cost\", x= \"age_oldest\", data=df,color ='b', ax=axes[0,1])\n",
    "sns.scatterplot(  y=\"cost\", x= \"age_youngest\", data=df, ax=axes[0,2])\n",
    "sns.boxplot(  y=\"cost\", x= \"duration_previous\", data=df, ax=axes[0,3])\n",
    "\n",
    "sns.boxplot(  y=\"cost\", x= \"C_previous\", data=df, palette = 'Spectral', ax=axes[1,0])\n",
    "sns.violinplot(  y=\"cost\", x= \"homeowner\", data=df, palette = 'husl', ax=axes[1,1])\n",
    "sns.boxplot(  y=\"cost\", x= \"group_size\", data=df, ax=axes[1,2])\n",
    "sns.violinplot(  y=\"cost\", x= \"A\", data=df, palette = 'hls', ax=axes[1,3])\n",
    "\n",
    "sns.violinplot(  y=\"cost\", x= \"B\", data=df,palette = 'Set2', ax=axes[2,0])\n",
    "sns.boxplot(  y=\"cost\", x= \"C\", data=df,palette = 'Paired', ax=axes[2,1])\n",
    "sns.violinplot(  y=\"cost\", x= \"D\", data=df,palette = 'rocket', ax=axes[2,2])\n",
    "sns.violinplot(  y=\"cost\", x= \"E\", data=df, palette = 'flare',ax=axes[2,3])\n",
    "\n",
    "sns.boxplot(  y=\"cost\", x= \"F\", data=df,palette = 'tab10', ax=axes[3,0])\n",
    "sns.boxplot(  y=\"cost\", x= \"G\", data=df,palette = 'YlOrBr',  ax=axes[3,1])"
   ]
  },
  {
   "cell_type": "markdown",
   "metadata": {},
   "source": [
    "**Analysis:** It is very important when performing any type of analysis to perform statistics and descriptive graphs. At this point each important column of the dataset, which was suggested at the beginning, was addressed and plotted against the variable to be regressed, in order to visually observe if there is any kind of relationship or pattern that may be indicative to the analyst of the nature of the data.\n",
    "\n",
    "On the other hand, it is important to note that the most appropriate type of graph was studied for each column, since it was observed that the dataset had discrete numerical columns, and others that were continuous, so the graphs should consider this.\n"
   ]
  },
  {
   "cell_type": "markdown",
   "metadata": {},
   "source": [
    "-------"
   ]
  },
  {
   "cell_type": "markdown",
   "metadata": {
    "tags": [
     "5_min"
    ]
   },
   "source": [
    "### Exercise 2:\n",
    "\n",
    "Convert all categorical data to be in the one-hot encoding format."
   ]
  },
  {
   "cell_type": "markdown",
   "metadata": {
    "tags": [
     "ans_st"
    ]
   },
   "source": [
    "**Answer.**"
   ]
  },
  {
   "cell_type": "code",
   "execution_count": 6,
   "metadata": {},
   "outputs": [],
   "source": [
    "df2 = df.copy() "
   ]
  },
  {
   "cell_type": "markdown",
   "metadata": {},
   "source": [
    "Check if any columns has `null` or `na` values"
   ]
  },
  {
   "cell_type": "code",
   "execution_count": 7,
   "metadata": {},
   "outputs": [
    {
     "data": {
      "text/plain": [
       "Unnamed: 0            0\n",
       "state                 0\n",
       "group_size            0\n",
       "homeowner             0\n",
       "car_age               0\n",
       "car_value            48\n",
       "risk_factor           0\n",
       "age_oldest            0\n",
       "age_youngest          0\n",
       "married_couple        0\n",
       "C_previous            0\n",
       "duration_previous     0\n",
       "A                     0\n",
       "B                     0\n",
       "C                     0\n",
       "D                     0\n",
       "E                     0\n",
       "F                     0\n",
       "G                     0\n",
       "cost                  0\n",
       "dtype: int64"
      ]
     },
     "execution_count": 7,
     "metadata": {},
     "output_type": "execute_result"
    }
   ],
   "source": [
    "df2.isnull().sum()"
   ]
  },
  {
   "cell_type": "markdown",
   "metadata": {},
   "source": [
    "We are going to eliminate the null records that appear in the dataset (`colum car_value`), since there are only 48 records out of 15843, which means 0.3% from all records."
   ]
  },
  {
   "cell_type": "code",
   "execution_count": 8,
   "metadata": {},
   "outputs": [],
   "source": [
    "df2 = df2[df2['car_value'].notnull()]"
   ]
  },
  {
   "cell_type": "markdown",
   "metadata": {},
   "source": [
    "Now we are going to use the method applied in class. *Note:This can also be done by using the sklearn library to adjust the encoder*"
   ]
  },
  {
   "cell_type": "code",
   "execution_count": 9,
   "metadata": {},
   "outputs": [
    {
     "data": {
      "text/html": [
       "<div>\n",
       "<style scoped>\n",
       "    .dataframe tbody tr th:only-of-type {\n",
       "        vertical-align: middle;\n",
       "    }\n",
       "\n",
       "    .dataframe tbody tr th {\n",
       "        vertical-align: top;\n",
       "    }\n",
       "\n",
       "    .dataframe thead th {\n",
       "        text-align: right;\n",
       "    }\n",
       "</style>\n",
       "<table border=\"1\" class=\"dataframe\">\n",
       "  <thead>\n",
       "    <tr style=\"text-align: right;\">\n",
       "      <th></th>\n",
       "      <th>state_AL</th>\n",
       "      <th>state_AR</th>\n",
       "      <th>state_CO</th>\n",
       "      <th>state_CT</th>\n",
       "      <th>state_DC</th>\n",
       "      <th>state_DE</th>\n",
       "      <th>state_FL</th>\n",
       "      <th>state_GA</th>\n",
       "      <th>state_IA</th>\n",
       "      <th>state_ID</th>\n",
       "      <th>...</th>\n",
       "      <th>state_WY</th>\n",
       "      <th>car_value_a</th>\n",
       "      <th>car_value_b</th>\n",
       "      <th>car_value_c</th>\n",
       "      <th>car_value_d</th>\n",
       "      <th>car_value_e</th>\n",
       "      <th>car_value_f</th>\n",
       "      <th>car_value_g</th>\n",
       "      <th>car_value_h</th>\n",
       "      <th>car_value_i</th>\n",
       "    </tr>\n",
       "  </thead>\n",
       "  <tbody>\n",
       "    <tr>\n",
       "      <th>0</th>\n",
       "      <td>0</td>\n",
       "      <td>0</td>\n",
       "      <td>0</td>\n",
       "      <td>0</td>\n",
       "      <td>0</td>\n",
       "      <td>0</td>\n",
       "      <td>0</td>\n",
       "      <td>0</td>\n",
       "      <td>0</td>\n",
       "      <td>0</td>\n",
       "      <td>...</td>\n",
       "      <td>0</td>\n",
       "      <td>0</td>\n",
       "      <td>0</td>\n",
       "      <td>0</td>\n",
       "      <td>0</td>\n",
       "      <td>0</td>\n",
       "      <td>1</td>\n",
       "      <td>0</td>\n",
       "      <td>0</td>\n",
       "      <td>0</td>\n",
       "    </tr>\n",
       "    <tr>\n",
       "      <th>1</th>\n",
       "      <td>0</td>\n",
       "      <td>0</td>\n",
       "      <td>0</td>\n",
       "      <td>0</td>\n",
       "      <td>0</td>\n",
       "      <td>0</td>\n",
       "      <td>0</td>\n",
       "      <td>0</td>\n",
       "      <td>0</td>\n",
       "      <td>0</td>\n",
       "      <td>...</td>\n",
       "      <td>0</td>\n",
       "      <td>0</td>\n",
       "      <td>0</td>\n",
       "      <td>0</td>\n",
       "      <td>0</td>\n",
       "      <td>0</td>\n",
       "      <td>1</td>\n",
       "      <td>0</td>\n",
       "      <td>0</td>\n",
       "      <td>0</td>\n",
       "    </tr>\n",
       "  </tbody>\n",
       "</table>\n",
       "<p>2 rows × 45 columns</p>\n",
       "</div>"
      ],
      "text/plain": [
       "   state_AL  state_AR  state_CO  state_CT  state_DC  state_DE  state_FL  \\\n",
       "0         0         0         0         0         0         0         0   \n",
       "1         0         0         0         0         0         0         0   \n",
       "\n",
       "   state_GA  state_IA  state_ID  ...  state_WY  car_value_a  car_value_b  \\\n",
       "0         0         0         0  ...         0            0            0   \n",
       "1         0         0         0  ...         0            0            0   \n",
       "\n",
       "   car_value_c  car_value_d  car_value_e  car_value_f  car_value_g  \\\n",
       "0            0            0            0            1            0   \n",
       "1            0            0            0            1            0   \n",
       "\n",
       "   car_value_h  car_value_i  \n",
       "0            0            0  \n",
       "1            0            0  \n",
       "\n",
       "[2 rows x 45 columns]"
      ]
     },
     "execution_count": 9,
     "metadata": {},
     "output_type": "execute_result"
    }
   ],
   "source": [
    "index = pd.Index(['state', 'car_value'])\n",
    "one_hot = pd.get_dummies(df2[index], dummy_na = False)\n",
    "one_hot.head(2)"
   ]
  },
  {
   "cell_type": "code",
   "execution_count": 10,
   "metadata": {},
   "outputs": [
    {
     "data": {
      "text/html": [
       "<div>\n",
       "<style scoped>\n",
       "    .dataframe tbody tr th:only-of-type {\n",
       "        vertical-align: middle;\n",
       "    }\n",
       "\n",
       "    .dataframe tbody tr th {\n",
       "        vertical-align: top;\n",
       "    }\n",
       "\n",
       "    .dataframe thead th {\n",
       "        text-align: right;\n",
       "    }\n",
       "</style>\n",
       "<table border=\"1\" class=\"dataframe\">\n",
       "  <thead>\n",
       "    <tr style=\"text-align: right;\">\n",
       "      <th></th>\n",
       "      <th>Unnamed: 0</th>\n",
       "      <th>state</th>\n",
       "      <th>group_size</th>\n",
       "      <th>homeowner</th>\n",
       "      <th>car_age</th>\n",
       "      <th>car_value</th>\n",
       "      <th>risk_factor</th>\n",
       "      <th>age_oldest</th>\n",
       "      <th>age_youngest</th>\n",
       "      <th>married_couple</th>\n",
       "      <th>...</th>\n",
       "      <th>state_WY</th>\n",
       "      <th>car_value_a</th>\n",
       "      <th>car_value_b</th>\n",
       "      <th>car_value_c</th>\n",
       "      <th>car_value_d</th>\n",
       "      <th>car_value_e</th>\n",
       "      <th>car_value_f</th>\n",
       "      <th>car_value_g</th>\n",
       "      <th>car_value_h</th>\n",
       "      <th>car_value_i</th>\n",
       "    </tr>\n",
       "  </thead>\n",
       "  <tbody>\n",
       "    <tr>\n",
       "      <th>0</th>\n",
       "      <td>0</td>\n",
       "      <td>OK</td>\n",
       "      <td>1</td>\n",
       "      <td>0</td>\n",
       "      <td>9</td>\n",
       "      <td>f</td>\n",
       "      <td>0.0</td>\n",
       "      <td>24</td>\n",
       "      <td>24</td>\n",
       "      <td>0</td>\n",
       "      <td>...</td>\n",
       "      <td>0</td>\n",
       "      <td>0</td>\n",
       "      <td>0</td>\n",
       "      <td>0</td>\n",
       "      <td>0</td>\n",
       "      <td>0</td>\n",
       "      <td>1</td>\n",
       "      <td>0</td>\n",
       "      <td>0</td>\n",
       "      <td>0</td>\n",
       "    </tr>\n",
       "    <tr>\n",
       "      <th>1</th>\n",
       "      <td>1</td>\n",
       "      <td>OK</td>\n",
       "      <td>1</td>\n",
       "      <td>0</td>\n",
       "      <td>9</td>\n",
       "      <td>f</td>\n",
       "      <td>0.0</td>\n",
       "      <td>24</td>\n",
       "      <td>24</td>\n",
       "      <td>0</td>\n",
       "      <td>...</td>\n",
       "      <td>0</td>\n",
       "      <td>0</td>\n",
       "      <td>0</td>\n",
       "      <td>0</td>\n",
       "      <td>0</td>\n",
       "      <td>0</td>\n",
       "      <td>1</td>\n",
       "      <td>0</td>\n",
       "      <td>0</td>\n",
       "      <td>0</td>\n",
       "    </tr>\n",
       "  </tbody>\n",
       "</table>\n",
       "<p>2 rows × 65 columns</p>\n",
       "</div>"
      ],
      "text/plain": [
       "   Unnamed: 0 state  group_size  homeowner  car_age car_value  risk_factor  \\\n",
       "0           0    OK           1          0        9         f          0.0   \n",
       "1           1    OK           1          0        9         f          0.0   \n",
       "\n",
       "   age_oldest  age_youngest  married_couple  ...  state_WY  car_value_a  \\\n",
       "0          24            24               0  ...         0            0   \n",
       "1          24            24               0  ...         0            0   \n",
       "\n",
       "  car_value_b car_value_c car_value_d car_value_e car_value_f car_value_g  \\\n",
       "0           0           0           0           0           1           0   \n",
       "1           0           0           0           0           1           0   \n",
       "\n",
       "  car_value_h  car_value_i  \n",
       "0           0            0  \n",
       "1           0            0  \n",
       "\n",
       "[2 rows x 65 columns]"
      ]
     },
     "execution_count": 10,
     "metadata": {},
     "output_type": "execute_result"
    }
   ],
   "source": [
    "# merge (concat)\n",
    "df2 = pd.concat([df2, one_hot], axis = 1)\n",
    "df2.head(2)"
   ]
  },
  {
   "cell_type": "markdown",
   "metadata": {},
   "source": [
    "**Analysis:** One hot coding is widely used to deal with categorical variables in machine learning modeling. This allows mainly categorical data to be converted into numerical data and thus to be interpreted by the models. In this case the pandas function of get_dummies was used to convert the categorical variables state and car_Value to a numerical format that can be interpreted by the model to be used later. This transformation could also be done with other libraries. \n",
    "\n"
   ]
  },
  {
   "cell_type": "markdown",
   "metadata": {},
   "source": [
    "-------"
   ]
  },
  {
   "cell_type": "markdown",
   "metadata": {},
   "source": [
    "## Fitting a multiple linear regression"
   ]
  },
  {
   "cell_type": "markdown",
   "metadata": {
    "tags": [
     "10_min"
    ]
   },
   "source": [
    "### Exercise 3:\n",
    "\n",
    "Split your data into training and testing sets (an 80-20 split is a good starting point).\n",
    "\n",
    "**Note:** Keep random seed as 1337 in the code cell"
   ]
  },
  {
   "cell_type": "markdown",
   "metadata": {
    "tags": [
     "ans_st"
    ]
   },
   "source": [
    "**Answer.**"
   ]
  },
  {
   "cell_type": "markdown",
   "metadata": {},
   "source": [
    "There are several ways to perform this partitioning, the most known is using the sklearn train test split library, however we will follow how it was performed in the course classes"
   ]
  },
  {
   "cell_type": "code",
   "execution_count": 11,
   "metadata": {},
   "outputs": [],
   "source": [
    "np.random.seed(1337) \n",
    "\n",
    "# Lenght data and percentage\n",
    "n = len(df2)\n",
    "prc = 0.8\n",
    "\n",
    "# Select index of dataset that will be the train data\n",
    "index_train = np.random.choice(range(n),int(prc*n),replace=False)\n",
    "\n",
    "# Select index of dataset that will be the train data\n",
    "index_test  = np.asarray(list(set(range(n)) - set(index_train)))\n"
   ]
  },
  {
   "cell_type": "code",
   "execution_count": 12,
   "metadata": {},
   "outputs": [],
   "source": [
    "# Split complete dataset into  train and test with index \n",
    "train= df2.iloc[index_train] \n",
    "test = df2.iloc[index_test]  "
   ]
  },
  {
   "cell_type": "markdown",
   "metadata": {},
   "source": [
    "**Analysis:** In this section we make a division of the data into two parts, one that has 80% of the information and the other 20%, this is known as the train and test partition and is basically used to train statistical learning models, using the train dataset to fit and calibrate the model parameters and the test set to test how well the model fits."
   ]
  },
  {
   "cell_type": "markdown",
   "metadata": {},
   "source": [
    "-------"
   ]
  },
  {
   "cell_type": "markdown",
   "metadata": {
    "tags": [
     "30_min"
    ]
   },
   "source": [
    "### Exercise 4:\n",
    "\n",
    "#### 4.1\n",
    "\n",
    "Fit a multiple linear regression model to the training data regressing cost against all the other variables. Call this `model_all`. What is the AIC value?"
   ]
  },
  {
   "cell_type": "markdown",
   "metadata": {
    "tags": [
     "ans_st"
    ]
   },
   "source": [
    "**Answer.**"
   ]
  },
  {
   "cell_type": "code",
   "execution_count": 13,
   "metadata": {
    "scrolled": false
   },
   "outputs": [
    {
     "name": "stdout",
     "output_type": "stream",
     "text": [
      "                            OLS Regression Results                            \n",
      "==============================================================================\n",
      "Dep. Variable:                   cost   R-squared:                       0.433\n",
      "Model:                            OLS   Adj. R-squared:                  0.430\n",
      "Method:                 Least Squares   F-statistic:                     140.2\n",
      "Date:                Thu, 05 Aug 2021   Prob (F-statistic):               0.00\n",
      "Time:                        23:48:47   Log-Likelihood:                -61640.\n",
      "No. Observations:               12348   AIC:                         1.234e+05\n",
      "Df Residuals:                   12280   BIC:                         1.239e+05\n",
      "Df Model:                          67                                         \n",
      "Covariance Type:            nonrobust                                         \n",
      "=====================================================================================\n",
      "                        coef    std err          t      P>|t|      [0.025      0.975]\n",
      "-------------------------------------------------------------------------------------\n",
      "Intercept           566.4303      2.395    236.548      0.000     561.737     571.124\n",
      "A[T.1]               27.4668      1.555     17.668      0.000      24.420      30.514\n",
      "A[T.2]               32.6784      1.866     17.514      0.000      29.021      36.336\n",
      "B[T.1]                2.3818      0.794      3.001      0.003       0.826       3.937\n",
      "C[T.2]                1.2777      1.128      1.132      0.258      -0.934       3.489\n",
      "C[T.3]                1.7386      1.164      1.493      0.135      -0.544       4.021\n",
      "C[T.4]                4.1884      1.751      2.392      0.017       0.756       7.621\n",
      "D[T.2]               -1.6768      1.206     -1.390      0.164      -4.041       0.687\n",
      "D[T.3]               -1.8605      1.250     -1.488      0.137      -4.311       0.590\n",
      "E[T.1]                7.4133      0.874      8.478      0.000       5.699       9.127\n",
      "F[T.1]               17.5095      1.695     10.332      0.000      14.188      20.831\n",
      "F[T.2]               17.2002      1.631     10.544      0.000      14.003      20.398\n",
      "F[T.3]               11.0850      2.368      4.682      0.000       6.444      15.726\n",
      "G[T.2]                8.4734      0.951      8.908      0.000       6.609      10.338\n",
      "G[T.3]                0.7005      1.194      0.587      0.558      -1.641       3.042\n",
      "G[T.4]                4.6875      1.270      3.690      0.000       2.197       7.178\n",
      "group_size            3.3021      1.503      2.197      0.028       0.357       6.248\n",
      "homeowner           -14.5704      0.732    -19.913      0.000     -16.005     -13.136\n",
      "car_age              -0.7000      0.068    -10.279      0.000      -0.834      -0.567\n",
      "risk_factor          -0.4983      0.231     -2.157      0.031      -0.951      -0.045\n",
      "age_oldest            0.6199      0.064      9.623      0.000       0.494       0.746\n",
      "age_youngest         -1.0137      0.063    -16.070      0.000      -1.137      -0.890\n",
      "married_couple      -10.3006      1.420     -7.253      0.000     -13.085      -7.517\n",
      "C_previous           -6.5437      0.363    -18.029      0.000      -7.255      -5.832\n",
      "duration_previous    -1.4790      0.074    -20.079      0.000      -1.623      -1.335\n",
      "state_AL             15.6580      1.884      8.309      0.000      11.964      19.352\n",
      "state_AR             15.9446      2.546      6.262      0.000      10.954      20.936\n",
      "state_CO              6.1850      1.805      3.427      0.001       2.648       9.722\n",
      "state_CT             47.8290      2.209     21.655      0.000      43.500      52.158\n",
      "state_DC             49.6813      4.435     11.203      0.000      40.989      58.374\n",
      "state_DE             51.8038      4.164     12.440      0.000      43.641      59.967\n",
      "state_FL             28.6136      1.251     22.865      0.000      26.161      31.067\n",
      "state_GA             24.4043      1.630     14.973      0.000      21.209      27.599\n",
      "state_IA            -35.4720      2.870    -12.362      0.000     -41.097     -29.847\n",
      "state_ID             -1.9775      3.646     -0.542      0.588      -9.124       5.169\n",
      "state_IN              3.7823      1.851      2.044      0.041       0.154       7.410\n",
      "state_KS              5.0481      4.040      1.250      0.211      -2.870      12.966\n",
      "state_KY             37.2419      2.267     16.429      0.000      32.799      41.685\n",
      "state_MD             39.1663      1.726     22.687      0.000      35.782      42.550\n",
      "state_ME            -17.4130      3.377     -5.157      0.000     -24.032     -10.794\n",
      "state_MO             -6.6157      2.327     -2.844      0.004     -11.176      -2.055\n",
      "state_MS             14.1519      2.729      5.186      0.000       8.803      19.501\n",
      "state_MT              2.9109      6.024      0.483      0.629      -8.898      14.720\n",
      "state_ND             26.7058      5.737      4.655      0.000      15.461      37.951\n",
      "state_NE              4.0914      4.878      0.839      0.402      -5.469      13.652\n",
      "state_NH             -4.5296      3.278     -1.382      0.167     -10.955       1.895\n",
      "state_NM             15.2512      3.226      4.727      0.000       8.927      21.575\n",
      "state_NV             38.6512      2.150     17.980      0.000      34.437      42.865\n",
      "state_NY             55.5303      1.600     34.705      0.000      52.394      58.667\n",
      "state_OH              7.6882      1.467      5.241      0.000       4.813      10.564\n",
      "state_OK              5.8149      2.091      2.781      0.005       1.717       9.913\n",
      "state_OR              8.3782      2.246      3.730      0.000       3.975      12.781\n",
      "state_PA             26.5624      1.314     20.222      0.000      23.988      29.137\n",
      "state_RI             42.2274      3.785     11.156      0.000      34.808      49.647\n",
      "state_SD             -2.0150     13.166     -0.153      0.878     -27.822      23.792\n",
      "state_TN              5.0272      1.930      2.604      0.009       1.243       8.811\n",
      "state_UT             -1.9175      2.161     -0.887      0.375      -6.153       2.318\n",
      "state_WA             20.3025      1.877     10.815      0.000      16.623      23.982\n",
      "state_WI            -17.2013      2.370     -7.259      0.000     -21.846     -12.556\n",
      "state_WV             43.5779      3.934     11.078      0.000      35.867      51.289\n",
      "state_WY             11.3421      6.192      1.832      0.067      -0.796      23.480\n",
      "car_value_a         105.9072      6.713     15.776      0.000      92.748     119.066\n",
      "car_value_b          40.7671      5.962      6.838      0.000      29.080      52.454\n",
      "car_value_c          47.4256      1.970     24.073      0.000      43.564      51.287\n",
      "car_value_d          53.8568      1.344     40.083      0.000      51.223      56.491\n",
      "car_value_e          53.9171      1.249     43.172      0.000      51.469      56.365\n",
      "car_value_f          53.5710      1.280     41.853      0.000      51.062      56.080\n",
      "car_value_g          58.1752      1.379     42.195      0.000      55.473      60.878\n",
      "car_value_h          65.0772      1.864     34.909      0.000      61.423      68.731\n",
      "car_value_i          87.7331      3.770     23.273      0.000      80.344      95.123\n",
      "==============================================================================\n",
      "Omnibus:                      625.512   Durbin-Watson:                   2.028\n",
      "Prob(Omnibus):                  0.000   Jarque-Bera (JB):             1793.992\n",
      "Skew:                           0.240   Prob(JB):                         0.00\n",
      "Kurtosis:                       4.805   Cond. No.                     7.06e+16\n",
      "==============================================================================\n",
      "\n",
      "Notes:\n",
      "[1] Standard Errors assume that the covariance matrix of the errors is correctly specified.\n",
      "[2] The smallest eigenvalue is 1.16e-26. This might indicate that there are\n",
      "strong multicollinearity problems or that the design matrix is singular.\n"
     ]
    }
   ],
   "source": [
    "from statsmodels.regression.linear_model import OLS\n",
    "from statsmodels.tools import add_constant\n",
    "\n",
    "model_all = smf.ols(formula = \"cost ~ group_size + homeowner + car_age\"\n",
    "                           \"+ risk_factor + age_oldest + age_youngest\"\n",
    "                           \"+ married_couple + C_previous + duration_previous\"\n",
    "                           \"+ A + B + C + D + E + F + G\"\n",
    "                           \"+ state_AL + state_AR + state_CO + state_CT + state_DC + state_DE + state_FL\"\n",
    "                           \"+ state_GA + state_IA + state_ID + state_IN + state_KS + state_KY + state_MD\"\n",
    "                           \"+ state_ME + state_MO + state_MS + state_MT + state_ND + state_NE + state_NH\"\n",
    "                           \"+ state_NM + state_NV + state_NY + state_OH + state_OK + state_OR + state_PA\"\n",
    "                           \"+ state_RI + state_SD + state_TN + state_UT + state_WA + state_WI + state_WV\"\n",
    "                           \"+ state_WY + car_value_a + car_value_b + car_value_c + car_value_d\"\n",
    "                           \"+ car_value_e +  car_value_f + car_value_g + car_value_h + car_value_i\"\n",
    "                           , \n",
    "                 data = train).fit()\n",
    "print(model_all.summary())"
   ]
  },
  {
   "cell_type": "code",
   "execution_count": 14,
   "metadata": {},
   "outputs": [
    {
     "name": "stdout",
     "output_type": "stream",
     "text": [
      "The AIC of the model taking into account all the variables is 123416.9\n"
     ]
    }
   ],
   "source": [
    "print('The AIC of the model taking into account all the variables is ' + '' + str(round(model_all.aic,1)))"
   ]
  },
  {
   "cell_type": "markdown",
   "metadata": {},
   "source": [
    "**Analysis:** In this exercise we perform our first linear regression adjustment to estimate the cost from other variables in the dataset, we do it through the `statsmodels` library and using the traditional statistical formula $Y$ ~ $X_1$ + $X_2$ + $X_3$ + ... + $X_n$ where in this case our $X$ variables are all the columns of the dataset, since all of them are already in numerical format we will not have any inconvenience for the calculation.\n",
    "\n",
    "From the summary that gives us the model fit we can observe a not very high $R^2$ of 0.43, which means that the regression model explains 43% of the variability of all the data, and we also found a value of AIC (Akaike's information criterion), which is a measure of the relative quality of a statistical model for a given set of data and is mainly used to select a model, of 123416.9, which will be compared later with other regression models.\n",
    "\n"
   ]
  },
  {
   "cell_type": "markdown",
   "metadata": {},
   "source": [
    "-------"
   ]
  },
  {
   "cell_type": "markdown",
   "metadata": {},
   "source": [
    "#### 4.2 \n",
    "\n",
    "According to `model_all`, which states are most and least expensive?"
   ]
  },
  {
   "cell_type": "markdown",
   "metadata": {
    "tags": [
     "ans_st"
    ]
   },
   "source": [
    "**Answer.**"
   ]
  },
  {
   "cell_type": "markdown",
   "metadata": {},
   "source": [
    "According to the coefficients estimated by the regression model, the three least expensive states are state_IA, state_ME and state_WI respectively, and the 3 most expensive are state_NY, state_DE and state_DC respectively."
   ]
  },
  {
   "cell_type": "markdown",
   "metadata": {},
   "source": [
    "-------"
   ]
  },
  {
   "cell_type": "markdown",
   "metadata": {},
   "source": [
    "#### 4.3\n",
    "\n",
    "Interpret the coefficients of `group_size`, `homeowner`, `car_age`, `risk_factor`, `age_oldest`, `age_youngest`       `married_couple` , `duration_previous`. Do the signs and values of these coefficients make sense to you in the context of this business problem?"
   ]
  },
  {
   "cell_type": "markdown",
   "metadata": {
    "tags": [
     "ans_st"
    ]
   },
   "source": [
    "**Answer.**"
   ]
  },
  {
   "cell_type": "markdown",
   "metadata": {},
   "source": [
    "The interpretations for each requested variable are described below:\n",
    "\n",
    "* group_size: For each additional person in this variable the cost of the policy is increased by 3.3 monetary units.\n",
    "\n",
    "* homeowner: Homeownership causes the cost of the policy to decrease by 14 monetary units.\n",
    "\n",
    "* car_age: With a 1 year increase in the age of the car, the cost of the policy decreases by 0.7 monetary units. (This seems to be contradictory)\n",
    "\n",
    "* risk_factor: With an increase in the client's risk the cost of the policy decreases by 0.5 monetary units. (This seems to be contradictory)\n",
    "\n",
    "* age_oldest: As the age of the oldest person in the group increases, the policy cost increases by 0.6 monetary units.\n",
    "\n",
    "* age_youngest_ As the age of the youngest person in the group increases, the cost of the policy decreases by 1 monetary unit. (This seems to be contradictory)\n",
    "\n",
    "* married_couple If the household contains a member who is married, the cost of the policy decreases by 10 monetary units. \n",
    "\n",
    "* duration previous: Before the increase of the time of your last incident the cost of the policy decreases by 1.4 monetary units.  \n",
    "\n",
    "\n",
    "There are some results that do not seem to make sense in the business context we are analyzing."
   ]
  },
  {
   "cell_type": "markdown",
   "metadata": {},
   "source": [
    "-------"
   ]
  },
  {
   "cell_type": "markdown",
   "metadata": {
    "tags": [
     "15_min"
    ]
   },
   "source": [
    "### Exercise 5:\n",
    "\n",
    "Which variables from `model_all` are statistically significant? (For categorical variables, consider them to be significant if at least one of their categories are statistically significant). Refit the model using only these variables; call this `model_sig`. How does this model compare to the previous model?"
   ]
  },
  {
   "cell_type": "markdown",
   "metadata": {},
   "source": [
    "valor p > 0.05 no son significativas para el modelo"
   ]
  },
  {
   "cell_type": "markdown",
   "metadata": {
    "tags": [
     "ans_st"
    ]
   },
   "source": [
    "**Answer.**"
   ]
  },
  {
   "cell_type": "code",
   "execution_count": 15,
   "metadata": {},
   "outputs": [
    {
     "data": {
      "text/plain": [
       "C[T.2]      0.257502\n",
       "C[T.3]      0.135381\n",
       "D[T.2]      0.164439\n",
       "D[T.3]      0.136719\n",
       "G[T.3]      0.557538\n",
       "state_ID    0.587550\n",
       "state_KS    0.211454\n",
       "state_MT    0.628966\n",
       "state_NE    0.401587\n",
       "state_NH    0.167028\n",
       "state_SD    0.878359\n",
       "state_UT    0.374858\n",
       "state_WY    0.067031\n",
       "dtype: float64"
      ]
     },
     "execution_count": 15,
     "metadata": {},
     "output_type": "execute_result"
    }
   ],
   "source": [
    "# Lets check which variables are not significant\n",
    "model_all.pvalues[model_all.pvalues>0.05]"
   ]
  },
  {
   "cell_type": "markdown",
   "metadata": {},
   "source": [
    "There are some variables in column C that are not significant, however, since at least 1 of these categories in column C is significant, then group C will not be excluded. The same is true for column G and the states, some of the categories are not significant but since at least 1 of them is significant then the group is not eliminated.\n",
    "\n",
    "Column D, on the other hand, has all its categories not significant, so only column D is removed. "
   ]
  },
  {
   "cell_type": "code",
   "execution_count": 16,
   "metadata": {},
   "outputs": [
    {
     "name": "stdout",
     "output_type": "stream",
     "text": [
      "                            OLS Regression Results                            \n",
      "==============================================================================\n",
      "Dep. Variable:                   cost   R-squared:                       0.433\n",
      "Model:                            OLS   Adj. R-squared:                  0.430\n",
      "Method:                 Least Squares   F-statistic:                     144.5\n",
      "Date:                Thu, 05 Aug 2021   Prob (F-statistic):               0.00\n",
      "Time:                        23:48:47   Log-Likelihood:                -61642.\n",
      "No. Observations:               12348   AIC:                         1.234e+05\n",
      "Df Residuals:                   12282   BIC:                         1.239e+05\n",
      "Df Model:                          65                                         \n",
      "Covariance Type:            nonrobust                                         \n",
      "=====================================================================================\n",
      "                        coef    std err          t      P>|t|      [0.025      0.975]\n",
      "-------------------------------------------------------------------------------------\n",
      "Intercept           565.8240      2.362    239.543      0.000     561.194     570.454\n",
      "A[T.1]               27.4187      1.554     17.641      0.000      24.372      30.465\n",
      "A[T.2]               32.6073      1.865     17.481      0.000      28.951      36.264\n",
      "B[T.1]                2.2765      0.790      2.882      0.004       0.728       3.825\n",
      "C[T.2]                0.5168      1.013      0.510      0.610      -1.469       2.503\n",
      "C[T.3]                0.8690      0.974      0.893      0.372      -1.039       2.777\n",
      "C[T.4]                3.2872      1.602      2.052      0.040       0.148       6.427\n",
      "E[T.1]                7.3823      0.874      8.446      0.000       5.669       9.096\n",
      "F[T.1]               17.3566      1.692     10.259      0.000      14.040      20.673\n",
      "F[T.2]               17.0358      1.628     10.465      0.000      13.845      20.227\n",
      "F[T.3]               10.9627      2.364      4.636      0.000       6.328      15.597\n",
      "G[T.2]                8.5342      0.950      8.980      0.000       6.671      10.397\n",
      "G[T.3]                0.6749      1.194      0.565      0.572      -1.665       3.015\n",
      "G[T.4]                4.8082      1.268      3.792      0.000       2.323       7.294\n",
      "group_size            3.3515      1.502      2.231      0.026       0.407       6.296\n",
      "homeowner           -14.5849      0.732    -19.934      0.000     -16.019     -13.151\n",
      "car_age              -0.7050      0.068    -10.364      0.000      -0.838      -0.572\n",
      "risk_factor          -0.5051      0.231     -2.187      0.029      -0.958      -0.052\n",
      "age_oldest            0.6202      0.064      9.628      0.000       0.494       0.746\n",
      "age_youngest         -1.0132      0.063    -16.062      0.000      -1.137      -0.890\n",
      "married_couple      -10.3521      1.420     -7.292      0.000     -13.135      -7.569\n",
      "C_previous           -6.5403      0.363    -18.023      0.000      -7.252      -5.829\n",
      "duration_previous    -1.4826      0.074    -20.144      0.000      -1.627      -1.338\n",
      "state_AL             15.7381      1.881      8.368      0.000      12.052      19.425\n",
      "state_AR             16.3147      2.535      6.436      0.000      11.345      21.284\n",
      "state_CO              6.0927      1.803      3.379      0.001       2.559       9.627\n",
      "state_CT             47.5665      2.199     21.630      0.000      43.256      51.877\n",
      "state_DC             49.6225      4.435     11.190      0.000      40.930      58.315\n",
      "state_DE             51.9781      4.163     12.486      0.000      43.818      60.138\n",
      "state_FL             28.4151      1.245     22.828      0.000      25.975      30.855\n",
      "state_GA             24.3008      1.618     15.016      0.000      21.129      27.473\n",
      "state_IA            -35.5911      2.867    -12.415      0.000     -41.211     -29.972\n",
      "state_ID             -2.0072      3.642     -0.551      0.582      -9.147       5.132\n",
      "state_IN              3.7977      1.851      2.052      0.040       0.170       7.425\n",
      "state_KS              5.0202      4.040      1.243      0.214      -2.898      12.939\n",
      "state_KY             37.1213      2.265     16.386      0.000      32.681      41.562\n",
      "state_MD             39.2267      1.726     22.728      0.000      35.844      42.610\n",
      "state_ME            -17.5634      3.375     -5.204      0.000     -24.179     -10.948\n",
      "state_MO             -6.7910      2.324     -2.922      0.003     -11.346      -2.236\n",
      "state_MS             14.4318      2.722      5.302      0.000       9.096      19.767\n",
      "state_MT              2.8651      6.023      0.476      0.634      -8.941      14.671\n",
      "state_ND             26.5767      5.735      4.634      0.000      15.335      37.818\n",
      "state_NE              4.0561      4.878      0.832      0.406      -5.505      13.617\n",
      "state_NH             -4.6497      3.277     -1.419      0.156     -11.073       1.774\n",
      "state_NM             15.5356      3.220      4.824      0.000       9.223      21.848\n",
      "state_NV             38.5394      2.148     17.938      0.000      34.328      42.751\n",
      "state_NY             55.2881      1.593     34.716      0.000      52.166      58.410\n",
      "state_OH              7.6426      1.466      5.213      0.000       4.769      10.516\n",
      "state_OK              5.8289      2.090      2.789      0.005       1.732       9.926\n",
      "state_OR              8.4116      2.246      3.745      0.000       4.009      12.814\n",
      "state_PA             26.4959      1.313     20.185      0.000      23.923      29.069\n",
      "state_RI             42.3053      3.785     11.177      0.000      34.886      49.724\n",
      "state_SD             -2.0309     13.165     -0.154      0.877     -27.836      23.774\n",
      "state_TN              5.1790      1.924      2.692      0.007       1.408       8.951\n",
      "state_UT             -2.0223      2.160     -0.936      0.349      -6.255       2.211\n",
      "state_WA             20.2682      1.876     10.805      0.000      16.591      23.945\n",
      "state_WI            -17.3269      2.366     -7.322      0.000     -21.966     -12.688\n",
      "state_WV             43.7190      3.928     11.129      0.000      36.019      51.419\n",
      "state_WY             11.4691      6.190      1.853      0.064      -0.665      23.603\n",
      "car_value_a         106.0041      6.713     15.791      0.000      92.846     119.162\n",
      "car_value_b          40.5807      5.961      6.808      0.000      28.896      52.265\n",
      "car_value_c          47.2399      1.966     24.027      0.000      43.386      51.094\n",
      "car_value_d          53.7752      1.343     40.052      0.000      51.143      56.407\n",
      "car_value_e          53.8459      1.248     43.146      0.000      51.400      56.292\n",
      "car_value_f          53.5028      1.279     41.823      0.000      50.995      56.010\n",
      "car_value_g          58.1124      1.378     42.174      0.000      55.411      60.813\n",
      "car_value_h          65.0217      1.864     34.887      0.000      61.368      68.675\n",
      "car_value_i          87.7414      3.769     23.281      0.000      80.354      95.129\n",
      "==============================================================================\n",
      "Omnibus:                      629.974   Durbin-Watson:                   2.029\n",
      "Prob(Omnibus):                  0.000   Jarque-Bera (JB):             1808.528\n",
      "Skew:                           0.242   Prob(JB):                         0.00\n",
      "Kurtosis:                       4.811   Cond. No.                     6.88e+16\n",
      "==============================================================================\n",
      "\n",
      "Notes:\n",
      "[1] Standard Errors assume that the covariance matrix of the errors is correctly specified.\n",
      "[2] The smallest eigenvalue is 1.22e-26. This might indicate that there are\n",
      "strong multicollinearity problems or that the design matrix is singular.\n"
     ]
    }
   ],
   "source": [
    "model_sig = smf.ols(formula = \"cost ~ group_size + homeowner + car_age\"\n",
    "                           \"+ risk_factor + age_oldest + age_youngest\"\n",
    "                           \"+ married_couple + C_previous + duration_previous\"\n",
    "                           \"+ A + B + C + E + F + G\"\n",
    "                           \"+ state_AL + state_AR + state_CO + state_CT + state_DC + state_DE + state_FL\"\n",
    "                           \"+ state_GA + state_IA + state_ID + state_IN + state_KS + state_KY + state_MD\"\n",
    "                           \"+ state_ME + state_MO + state_MS + state_MT + state_ND + state_NE + state_NH\"\n",
    "                           \"+ state_NM + state_NV + state_NY + state_OH + state_OK + state_OR + state_PA\"\n",
    "                           \"+ state_RI + state_SD + state_TN + state_UT + state_WA + state_WI + state_WV\"\n",
    "                           \"+ state_WY + car_value_a + car_value_b + car_value_c + car_value_d\"\n",
    "                           \"+ car_value_e +  car_value_f + car_value_g + car_value_h + car_value_i\"\n",
    "                           , \n",
    "                 data = train).fit()\n",
    "print(model_sig.summary())"
   ]
  },
  {
   "cell_type": "code",
   "execution_count": 17,
   "metadata": {},
   "outputs": [
    {
     "name": "stdout",
     "output_type": "stream",
     "text": [
      "The AIC of the model which variables statistically significant is 123415.3\n"
     ]
    }
   ],
   "source": [
    "print('The AIC of the model which variables statistically significant is ' + '' + str(round(model_sig.aic,1)))"
   ]
  },
  {
   "cell_type": "markdown",
   "metadata": {},
   "source": [
    "**Analysis:** For this case the regression model was performed again but only taking into account the significant variables by means of the p-value, it is observed that there are no significant changes in the $R^2$ and that the AIC is practically the same as when the regression was performed with all the variables, although it decreases only a little bit."
   ]
  },
  {
   "cell_type": "markdown",
   "metadata": {},
   "source": [
    "-------"
   ]
  },
  {
   "cell_type": "markdown",
   "metadata": {
    "tags": [
     "15_min"
    ]
   },
   "source": [
    "### Exercise 6:\n",
    "\n",
    "In addition to the variables in `model_sig`, add terms for:\n",
    "\n",
    "1. square of `age_youngest`\n",
    "2. square term for the age of the car\n",
    "3. interaction term for `car_value` and `age_youngest`\n",
    "\n",
    "and save it to a new model `model_sig_plus`."
   ]
  },
  {
   "cell_type": "markdown",
   "metadata": {
    "tags": [
     "ans_st"
    ]
   },
   "source": [
    "**Answer.**"
   ]
  },
  {
   "cell_type": "code",
   "execution_count": 18,
   "metadata": {},
   "outputs": [
    {
     "name": "stdout",
     "output_type": "stream",
     "text": [
      "                            OLS Regression Results                            \n",
      "==============================================================================\n",
      "Dep. Variable:                   cost   R-squared:                       0.448\n",
      "Model:                            OLS   Adj. R-squared:                  0.444\n",
      "Method:                 Least Squares   F-statistic:                     132.5\n",
      "Date:                Thu, 05 Aug 2021   Prob (F-statistic):               0.00\n",
      "Time:                        23:48:48   Log-Likelihood:                -61485.\n",
      "No. Observations:               12348   AIC:                         1.231e+05\n",
      "Df Residuals:                   12272   BIC:                         1.237e+05\n",
      "Df Model:                          75                                         \n",
      "Covariance Type:            nonrobust                                         \n",
      "============================================================================================\n",
      "                               coef    std err          t      P>|t|      [0.025      0.975]\n",
      "--------------------------------------------------------------------------------------------\n",
      "Intercept                  601.4194      4.368    137.673      0.000     592.857     609.982\n",
      "A[T.1]                      27.5038      1.536     17.902      0.000      24.492      30.515\n",
      "A[T.2]                      32.3646      1.844     17.555      0.000      28.751      35.978\n",
      "B[T.1]                       2.0907      0.781      2.676      0.007       0.559       3.622\n",
      "C[T.2]                       0.1653      1.002      0.165      0.869      -1.798       2.129\n",
      "C[T.3]                       0.5395      0.963      0.560      0.576      -1.349       2.428\n",
      "C[T.4]                       1.9451      1.586      1.226      0.220      -1.165       5.055\n",
      "E[T.1]                       8.0302      0.866      9.277      0.000       6.333       9.727\n",
      "F[T.1]                      17.1212      1.672     10.237      0.000      13.843      20.400\n",
      "F[T.2]                      17.1782      1.609     10.675      0.000      14.024      20.332\n",
      "F[T.3]                      11.8732      2.337      5.081      0.000       7.293      16.453\n",
      "G[T.2]                       8.4212      0.940      8.954      0.000       6.578      10.265\n",
      "G[T.3]                       0.8659      1.182      0.733      0.464      -1.450       3.182\n",
      "G[T.4]                       5.0494      1.254      4.026      0.000       2.591       7.508\n",
      "group_size                   2.6625      1.488      1.789      0.074      -0.254       5.579\n",
      "homeowner                  -13.9089      0.726    -19.171      0.000     -15.331     -12.487\n",
      "car_age                     -1.2987      0.156     -8.333      0.000      -1.604      -0.993\n",
      "I(car_age ** 2)              0.0289      0.007      4.131      0.000       0.015       0.043\n",
      "risk_factor                 -0.4155      0.228     -1.820      0.069      -0.863       0.032\n",
      "age_oldest                   0.5180      0.064      8.085      0.000       0.392       0.644\n",
      "age_youngest                -2.6050      0.131    -19.907      0.000      -2.861      -2.348\n",
      "I(age_youngest ** 2)         0.0210      0.001     16.558      0.000       0.019       0.023\n",
      "married_couple              -9.2442      1.405     -6.580      0.000     -11.998      -6.490\n",
      "C_previous                  -7.1331      0.361    -19.770      0.000      -7.840      -6.426\n",
      "duration_previous           -1.4782      0.073    -20.305      0.000      -1.621      -1.335\n",
      "state_AL                    16.2866      1.870      8.710      0.000      12.621      19.952\n",
      "state_AR                    16.8298      2.508      6.710      0.000      11.913      21.746\n",
      "state_CO                     7.9936      1.787      4.472      0.000       4.490      11.497\n",
      "state_CT                    49.6260      2.179     22.778      0.000      45.355      53.897\n",
      "state_DC                    52.9842      4.395     12.057      0.000      44.370      61.598\n",
      "state_DE                    52.0835      4.121     12.638      0.000      44.005      60.162\n",
      "state_FL                    27.9929      1.235     22.673      0.000      25.573      30.413\n",
      "state_GA                    25.7319      1.605     16.031      0.000      22.586      28.878\n",
      "state_IA                   -34.0278      2.835    -12.002      0.000     -39.585     -28.470\n",
      "state_ID                    -1.7012      3.603     -0.472      0.637      -8.764       5.362\n",
      "state_IN                     4.2928      1.831      2.344      0.019       0.703       7.882\n",
      "state_KS                     5.7024      3.994      1.428      0.153      -2.127      13.532\n",
      "state_KY                    38.8117      2.243     17.300      0.000      34.414      43.209\n",
      "state_MD                    40.9229      1.711     23.911      0.000      37.568      44.278\n",
      "state_ME                   -15.5281      3.340     -4.649      0.000     -22.075      -8.981\n",
      "state_MO                    -7.1158      2.299     -3.095      0.002     -11.623      -2.609\n",
      "state_MS                    15.6106      2.700      5.782      0.000      10.318      20.903\n",
      "state_MT                     1.7930      5.953      0.301      0.763      -9.875      13.461\n",
      "state_ND                    26.6776      5.681      4.696      0.000      15.541      37.814\n",
      "state_NE                     3.6754      4.821      0.762      0.446      -5.774      13.124\n",
      "state_NH                    -4.3239      3.244     -1.333      0.183     -10.682       2.034\n",
      "state_NM                    15.2229      3.196      4.763      0.000       8.957      21.488\n",
      "state_NV                    39.6783      2.128     18.644      0.000      35.507      43.850\n",
      "state_NY                    56.9186      1.580     36.016      0.000      53.821      60.016\n",
      "state_OH                     8.2457      1.453      5.675      0.000       5.397      11.094\n",
      "state_OK                     5.3421      2.068      2.583      0.010       1.289       9.395\n",
      "state_OR                     8.9490      2.222      4.028      0.000       4.594      13.304\n",
      "state_PA                    27.7256      1.302     21.299      0.000      25.174      30.277\n",
      "state_RI                    40.8076      3.746     10.895      0.000      33.466      48.149\n",
      "state_SD                     5.1863     13.010      0.399      0.690     -20.316      30.689\n",
      "state_TN                     6.0841      1.904      3.195      0.001       2.352       9.817\n",
      "state_UT                    -2.7009      2.139     -1.262      0.207      -6.894       1.493\n",
      "state_WA                    21.1099      1.863     11.334      0.000      17.459      24.761\n",
      "state_WI                   -14.5827      2.346     -6.217      0.000     -19.181      -9.985\n",
      "state_WV                    46.1083      3.886     11.866      0.000      38.492      53.725\n",
      "state_WY                    13.0065      6.123      2.124      0.034       1.005      25.008\n",
      "car_value_a                 90.7398     19.192      4.728      0.000      53.121     128.358\n",
      "car_value_b                 16.6515     15.866      1.050      0.294     -14.448      47.751\n",
      "car_value_c                 54.8821      5.183     10.588      0.000      44.722      65.042\n",
      "car_value_d                 53.7388      3.884     13.838      0.000      46.126      61.351\n",
      "car_value_e                 58.9661      3.665     16.088      0.000      51.782      66.150\n",
      "car_value_f                 61.7967      3.750     16.478      0.000      54.446      69.148\n",
      "car_value_g                 67.6551      4.053     16.693      0.000      59.711      75.600\n",
      "car_value_h                 75.6399      5.739     13.180      0.000      64.390      86.890\n",
      "car_value_i                121.3494     15.169      8.000      0.000      91.617     151.082\n",
      "car_value_a:age_youngest    -0.3609      0.324     -1.113      0.266      -0.996       0.275\n",
      "car_value_b:age_youngest     0.1576      0.318      0.496      0.620      -0.465       0.780\n",
      "car_value_c:age_youngest    -0.3397      0.111     -3.068      0.002      -0.557      -0.123\n",
      "car_value_d:age_youngest    -0.1307      0.073     -1.779      0.075      -0.275       0.013\n",
      "car_value_e:age_youngest    -0.2417      0.068     -3.558      0.000      -0.375      -0.109\n",
      "car_value_f:age_youngest    -0.3006      0.070     -4.304      0.000      -0.437      -0.164\n",
      "car_value_g:age_youngest    -0.3168      0.077     -4.117      0.000      -0.468      -0.166\n",
      "car_value_h:age_youngest    -0.3359      0.108     -3.120      0.002      -0.547      -0.125\n",
      "car_value_i:age_youngest    -0.7363      0.293     -2.515      0.012      -1.310      -0.162\n",
      "==============================================================================\n",
      "Omnibus:                      687.765   Durbin-Watson:                   2.031\n",
      "Prob(Omnibus):                  0.000   Jarque-Bera (JB):             2299.624\n",
      "Skew:                           0.213   Prob(JB):                         0.00\n",
      "Kurtosis:                       5.071   Cond. No.                     1.26e+16\n",
      "==============================================================================\n",
      "\n",
      "Notes:\n",
      "[1] Standard Errors assume that the covariance matrix of the errors is correctly specified.\n",
      "[2] The smallest eigenvalue is 5.8e-22. This might indicate that there are\n",
      "strong multicollinearity problems or that the design matrix is singular.\n"
     ]
    }
   ],
   "source": [
    "model_sig_plus = smf.ols(formula = \"cost ~ group_size + homeowner + car_age+ I(car_age**2)\"\n",
    "                           \"+ risk_factor + age_oldest + age_youngest + I(age_youngest**2)\"\n",
    "                           \"+ married_couple + C_previous + duration_previous\"\n",
    "                           \"+ A + B + C + E + F + G\"\n",
    "                         \n",
    "                           \"+ state_AL + state_AR + state_CO + state_CT + state_DC + state_DE + state_FL\"\n",
    "                           \"+ state_GA + state_IA + state_ID + state_IN + state_KS + state_KY + state_MD\"\n",
    "                           \"+ state_ME + state_MO + state_MS + state_MT + state_ND + state_NE + state_NH\"\n",
    "                           \"+ state_NM + state_NV + state_NY + state_OH + state_OK + state_OR + state_PA\"\n",
    "                           \"+ state_RI + state_SD + state_TN + state_UT + state_WA + state_WI + state_WV\"\n",
    "                         \n",
    "                           \"+ state_WY + car_value_a + car_value_b + car_value_c + car_value_d + car_value_e\"\n",
    "                           \"+car_value_f + car_value_g + car_value_h + car_value_i + car_value_a*age_youngest\" \n",
    "                           \"+ car_value_b*age_youngest + car_value_c*age_youngest + car_value_d*age_youngest\" \n",
    "                           \"+ car_value_e*age_youngest + car_value_f*age_youngest + car_value_g*age_youngest\" \n",
    "                           \"+ car_value_h*age_youngest + car_value_i*age_youngest\"\n",
    "                           , \n",
    "                 data = train).fit()\n",
    "print(model_sig_plus.summary())"
   ]
  },
  {
   "cell_type": "code",
   "execution_count": 19,
   "metadata": {},
   "outputs": [
    {
     "name": "stdout",
     "output_type": "stream",
     "text": [
      "The AIC of the model for model_sig_plus is 123121.5\n"
     ]
    }
   ],
   "source": [
    "print('The AIC of the model for model_sig_plus is ' + '' + str(round(model_sig_plus.aic,1)))"
   ]
  },
  {
   "cell_type": "markdown",
   "metadata": {},
   "source": [
    "**Analysis:** For this case, 3 additions of variables were made to the previous model, where non-linear transformations are added to the model in order to observe if there is any improvement in the fit. The regression model was performed again taking into account the significant variables of the previous model and with the addition of these transformations, it is observed that in this case the $R^2$ does go up a little more and that the AIC also drops being better than the previous model."
   ]
  },
  {
   "cell_type": "markdown",
   "metadata": {},
   "source": [
    "-------"
   ]
  },
  {
   "cell_type": "markdown",
   "metadata": {},
   "source": [
    "## Feature selection"
   ]
  },
  {
   "cell_type": "markdown",
   "metadata": {},
   "source": [
    "To reduce the number of features, it can often be helpful to aggregate the categories; for example, we can create a new variable by assigning each state to a larger region:"
   ]
  },
  {
   "cell_type": "code",
   "execution_count": 20,
   "metadata": {},
   "outputs": [
    {
     "data": {
      "text/html": [
       "<div>\n",
       "<style scoped>\n",
       "    .dataframe tbody tr th:only-of-type {\n",
       "        vertical-align: middle;\n",
       "    }\n",
       "\n",
       "    .dataframe tbody tr th {\n",
       "        vertical-align: top;\n",
       "    }\n",
       "\n",
       "    .dataframe thead th {\n",
       "        text-align: right;\n",
       "    }\n",
       "</style>\n",
       "<table border=\"1\" class=\"dataframe\">\n",
       "  <thead>\n",
       "    <tr style=\"text-align: right;\">\n",
       "      <th></th>\n",
       "      <th>State</th>\n",
       "      <th>State Code</th>\n",
       "      <th>Region</th>\n",
       "      <th>Division</th>\n",
       "    </tr>\n",
       "  </thead>\n",
       "  <tbody>\n",
       "    <tr>\n",
       "      <th>0</th>\n",
       "      <td>Alaska</td>\n",
       "      <td>AK</td>\n",
       "      <td>West</td>\n",
       "      <td>Pacific</td>\n",
       "    </tr>\n",
       "    <tr>\n",
       "      <th>1</th>\n",
       "      <td>Alabama</td>\n",
       "      <td>AL</td>\n",
       "      <td>South</td>\n",
       "      <td>East South Central</td>\n",
       "    </tr>\n",
       "    <tr>\n",
       "      <th>2</th>\n",
       "      <td>Arkansas</td>\n",
       "      <td>AR</td>\n",
       "      <td>South</td>\n",
       "      <td>West South Central</td>\n",
       "    </tr>\n",
       "    <tr>\n",
       "      <th>3</th>\n",
       "      <td>Arizona</td>\n",
       "      <td>AZ</td>\n",
       "      <td>West</td>\n",
       "      <td>Mountain</td>\n",
       "    </tr>\n",
       "    <tr>\n",
       "      <th>4</th>\n",
       "      <td>California</td>\n",
       "      <td>CA</td>\n",
       "      <td>West</td>\n",
       "      <td>Pacific</td>\n",
       "    </tr>\n",
       "    <tr>\n",
       "      <th>5</th>\n",
       "      <td>Colorado</td>\n",
       "      <td>CO</td>\n",
       "      <td>West</td>\n",
       "      <td>Mountain</td>\n",
       "    </tr>\n",
       "    <tr>\n",
       "      <th>6</th>\n",
       "      <td>Connecticut</td>\n",
       "      <td>CT</td>\n",
       "      <td>Northeast</td>\n",
       "      <td>New England</td>\n",
       "    </tr>\n",
       "    <tr>\n",
       "      <th>7</th>\n",
       "      <td>District of Columbia</td>\n",
       "      <td>DC</td>\n",
       "      <td>South</td>\n",
       "      <td>South Atlantic</td>\n",
       "    </tr>\n",
       "    <tr>\n",
       "      <th>8</th>\n",
       "      <td>Delaware</td>\n",
       "      <td>DE</td>\n",
       "      <td>South</td>\n",
       "      <td>South Atlantic</td>\n",
       "    </tr>\n",
       "    <tr>\n",
       "      <th>9</th>\n",
       "      <td>Florida</td>\n",
       "      <td>FL</td>\n",
       "      <td>South</td>\n",
       "      <td>South Atlantic</td>\n",
       "    </tr>\n",
       "    <tr>\n",
       "      <th>10</th>\n",
       "      <td>Georgia</td>\n",
       "      <td>GA</td>\n",
       "      <td>South</td>\n",
       "      <td>South Atlantic</td>\n",
       "    </tr>\n",
       "    <tr>\n",
       "      <th>11</th>\n",
       "      <td>Hawaii</td>\n",
       "      <td>HI</td>\n",
       "      <td>West</td>\n",
       "      <td>Pacific</td>\n",
       "    </tr>\n",
       "    <tr>\n",
       "      <th>12</th>\n",
       "      <td>Iowa</td>\n",
       "      <td>IA</td>\n",
       "      <td>Midwest</td>\n",
       "      <td>West North Central</td>\n",
       "    </tr>\n",
       "    <tr>\n",
       "      <th>13</th>\n",
       "      <td>Idaho</td>\n",
       "      <td>ID</td>\n",
       "      <td>West</td>\n",
       "      <td>Mountain</td>\n",
       "    </tr>\n",
       "    <tr>\n",
       "      <th>14</th>\n",
       "      <td>Illinois</td>\n",
       "      <td>IL</td>\n",
       "      <td>Midwest</td>\n",
       "      <td>East North Central</td>\n",
       "    </tr>\n",
       "    <tr>\n",
       "      <th>15</th>\n",
       "      <td>Indiana</td>\n",
       "      <td>IN</td>\n",
       "      <td>Midwest</td>\n",
       "      <td>East North Central</td>\n",
       "    </tr>\n",
       "    <tr>\n",
       "      <th>16</th>\n",
       "      <td>Kansas</td>\n",
       "      <td>KS</td>\n",
       "      <td>Midwest</td>\n",
       "      <td>West North Central</td>\n",
       "    </tr>\n",
       "    <tr>\n",
       "      <th>17</th>\n",
       "      <td>Kentucky</td>\n",
       "      <td>KY</td>\n",
       "      <td>South</td>\n",
       "      <td>East South Central</td>\n",
       "    </tr>\n",
       "    <tr>\n",
       "      <th>18</th>\n",
       "      <td>Louisiana</td>\n",
       "      <td>LA</td>\n",
       "      <td>South</td>\n",
       "      <td>West South Central</td>\n",
       "    </tr>\n",
       "    <tr>\n",
       "      <th>19</th>\n",
       "      <td>Massachusetts</td>\n",
       "      <td>MA</td>\n",
       "      <td>Northeast</td>\n",
       "      <td>New England</td>\n",
       "    </tr>\n",
       "    <tr>\n",
       "      <th>20</th>\n",
       "      <td>Maryland</td>\n",
       "      <td>MD</td>\n",
       "      <td>South</td>\n",
       "      <td>South Atlantic</td>\n",
       "    </tr>\n",
       "    <tr>\n",
       "      <th>21</th>\n",
       "      <td>Maine</td>\n",
       "      <td>ME</td>\n",
       "      <td>Northeast</td>\n",
       "      <td>New England</td>\n",
       "    </tr>\n",
       "    <tr>\n",
       "      <th>22</th>\n",
       "      <td>Michigan</td>\n",
       "      <td>MI</td>\n",
       "      <td>Midwest</td>\n",
       "      <td>East North Central</td>\n",
       "    </tr>\n",
       "    <tr>\n",
       "      <th>23</th>\n",
       "      <td>Minnesota</td>\n",
       "      <td>MN</td>\n",
       "      <td>Midwest</td>\n",
       "      <td>West North Central</td>\n",
       "    </tr>\n",
       "    <tr>\n",
       "      <th>24</th>\n",
       "      <td>Missouri</td>\n",
       "      <td>MO</td>\n",
       "      <td>Midwest</td>\n",
       "      <td>West North Central</td>\n",
       "    </tr>\n",
       "    <tr>\n",
       "      <th>25</th>\n",
       "      <td>Mississippi</td>\n",
       "      <td>MS</td>\n",
       "      <td>South</td>\n",
       "      <td>East South Central</td>\n",
       "    </tr>\n",
       "    <tr>\n",
       "      <th>26</th>\n",
       "      <td>Montana</td>\n",
       "      <td>MT</td>\n",
       "      <td>West</td>\n",
       "      <td>Mountain</td>\n",
       "    </tr>\n",
       "    <tr>\n",
       "      <th>27</th>\n",
       "      <td>North Carolina</td>\n",
       "      <td>NC</td>\n",
       "      <td>South</td>\n",
       "      <td>South Atlantic</td>\n",
       "    </tr>\n",
       "    <tr>\n",
       "      <th>28</th>\n",
       "      <td>North Dakota</td>\n",
       "      <td>ND</td>\n",
       "      <td>Midwest</td>\n",
       "      <td>West North Central</td>\n",
       "    </tr>\n",
       "    <tr>\n",
       "      <th>29</th>\n",
       "      <td>Nebraska</td>\n",
       "      <td>NE</td>\n",
       "      <td>Midwest</td>\n",
       "      <td>West North Central</td>\n",
       "    </tr>\n",
       "    <tr>\n",
       "      <th>30</th>\n",
       "      <td>New Hampshire</td>\n",
       "      <td>NH</td>\n",
       "      <td>Northeast</td>\n",
       "      <td>New England</td>\n",
       "    </tr>\n",
       "    <tr>\n",
       "      <th>31</th>\n",
       "      <td>New Jersey</td>\n",
       "      <td>NJ</td>\n",
       "      <td>Northeast</td>\n",
       "      <td>Middle Atlantic</td>\n",
       "    </tr>\n",
       "    <tr>\n",
       "      <th>32</th>\n",
       "      <td>New Mexico</td>\n",
       "      <td>NM</td>\n",
       "      <td>West</td>\n",
       "      <td>Mountain</td>\n",
       "    </tr>\n",
       "    <tr>\n",
       "      <th>33</th>\n",
       "      <td>Nevada</td>\n",
       "      <td>NV</td>\n",
       "      <td>West</td>\n",
       "      <td>Mountain</td>\n",
       "    </tr>\n",
       "    <tr>\n",
       "      <th>34</th>\n",
       "      <td>New York</td>\n",
       "      <td>NY</td>\n",
       "      <td>Northeast</td>\n",
       "      <td>Middle Atlantic</td>\n",
       "    </tr>\n",
       "    <tr>\n",
       "      <th>35</th>\n",
       "      <td>Ohio</td>\n",
       "      <td>OH</td>\n",
       "      <td>Midwest</td>\n",
       "      <td>East North Central</td>\n",
       "    </tr>\n",
       "    <tr>\n",
       "      <th>36</th>\n",
       "      <td>Oklahoma</td>\n",
       "      <td>OK</td>\n",
       "      <td>South</td>\n",
       "      <td>West South Central</td>\n",
       "    </tr>\n",
       "    <tr>\n",
       "      <th>37</th>\n",
       "      <td>Oregon</td>\n",
       "      <td>OR</td>\n",
       "      <td>West</td>\n",
       "      <td>Pacific</td>\n",
       "    </tr>\n",
       "    <tr>\n",
       "      <th>38</th>\n",
       "      <td>Pennsylvania</td>\n",
       "      <td>PA</td>\n",
       "      <td>Northeast</td>\n",
       "      <td>Middle Atlantic</td>\n",
       "    </tr>\n",
       "    <tr>\n",
       "      <th>39</th>\n",
       "      <td>Rhode Island</td>\n",
       "      <td>RI</td>\n",
       "      <td>Northeast</td>\n",
       "      <td>New England</td>\n",
       "    </tr>\n",
       "    <tr>\n",
       "      <th>40</th>\n",
       "      <td>South Carolina</td>\n",
       "      <td>SC</td>\n",
       "      <td>South</td>\n",
       "      <td>South Atlantic</td>\n",
       "    </tr>\n",
       "    <tr>\n",
       "      <th>41</th>\n",
       "      <td>South Dakota</td>\n",
       "      <td>SD</td>\n",
       "      <td>Midwest</td>\n",
       "      <td>West North Central</td>\n",
       "    </tr>\n",
       "    <tr>\n",
       "      <th>42</th>\n",
       "      <td>Tennessee</td>\n",
       "      <td>TN</td>\n",
       "      <td>South</td>\n",
       "      <td>East South Central</td>\n",
       "    </tr>\n",
       "    <tr>\n",
       "      <th>43</th>\n",
       "      <td>Texas</td>\n",
       "      <td>TX</td>\n",
       "      <td>South</td>\n",
       "      <td>West South Central</td>\n",
       "    </tr>\n",
       "    <tr>\n",
       "      <th>44</th>\n",
       "      <td>Utah</td>\n",
       "      <td>UT</td>\n",
       "      <td>West</td>\n",
       "      <td>Mountain</td>\n",
       "    </tr>\n",
       "    <tr>\n",
       "      <th>45</th>\n",
       "      <td>Virginia</td>\n",
       "      <td>VA</td>\n",
       "      <td>South</td>\n",
       "      <td>South Atlantic</td>\n",
       "    </tr>\n",
       "    <tr>\n",
       "      <th>46</th>\n",
       "      <td>Vermont</td>\n",
       "      <td>VT</td>\n",
       "      <td>Northeast</td>\n",
       "      <td>New England</td>\n",
       "    </tr>\n",
       "    <tr>\n",
       "      <th>47</th>\n",
       "      <td>Washington</td>\n",
       "      <td>WA</td>\n",
       "      <td>West</td>\n",
       "      <td>Pacific</td>\n",
       "    </tr>\n",
       "    <tr>\n",
       "      <th>48</th>\n",
       "      <td>Wisconsin</td>\n",
       "      <td>WI</td>\n",
       "      <td>Midwest</td>\n",
       "      <td>East North Central</td>\n",
       "    </tr>\n",
       "    <tr>\n",
       "      <th>49</th>\n",
       "      <td>West Virginia</td>\n",
       "      <td>WV</td>\n",
       "      <td>South</td>\n",
       "      <td>South Atlantic</td>\n",
       "    </tr>\n",
       "    <tr>\n",
       "      <th>50</th>\n",
       "      <td>Wyoming</td>\n",
       "      <td>WY</td>\n",
       "      <td>West</td>\n",
       "      <td>Mountain</td>\n",
       "    </tr>\n",
       "  </tbody>\n",
       "</table>\n",
       "</div>"
      ],
      "text/plain": [
       "                   State State Code     Region            Division\n",
       "0                 Alaska         AK       West             Pacific\n",
       "1                Alabama         AL      South  East South Central\n",
       "2               Arkansas         AR      South  West South Central\n",
       "3                Arizona         AZ       West            Mountain\n",
       "4             California         CA       West             Pacific\n",
       "5               Colorado         CO       West            Mountain\n",
       "6            Connecticut         CT  Northeast         New England\n",
       "7   District of Columbia         DC      South      South Atlantic\n",
       "8               Delaware         DE      South      South Atlantic\n",
       "9                Florida         FL      South      South Atlantic\n",
       "10               Georgia         GA      South      South Atlantic\n",
       "11                Hawaii         HI       West             Pacific\n",
       "12                  Iowa         IA    Midwest  West North Central\n",
       "13                 Idaho         ID       West            Mountain\n",
       "14              Illinois         IL    Midwest  East North Central\n",
       "15               Indiana         IN    Midwest  East North Central\n",
       "16                Kansas         KS    Midwest  West North Central\n",
       "17              Kentucky         KY      South  East South Central\n",
       "18             Louisiana         LA      South  West South Central\n",
       "19         Massachusetts         MA  Northeast         New England\n",
       "20              Maryland         MD      South      South Atlantic\n",
       "21                 Maine         ME  Northeast         New England\n",
       "22              Michigan         MI    Midwest  East North Central\n",
       "23             Minnesota         MN    Midwest  West North Central\n",
       "24              Missouri         MO    Midwest  West North Central\n",
       "25           Mississippi         MS      South  East South Central\n",
       "26               Montana         MT       West            Mountain\n",
       "27        North Carolina         NC      South      South Atlantic\n",
       "28          North Dakota         ND    Midwest  West North Central\n",
       "29              Nebraska         NE    Midwest  West North Central\n",
       "30         New Hampshire         NH  Northeast         New England\n",
       "31            New Jersey         NJ  Northeast     Middle Atlantic\n",
       "32            New Mexico         NM       West            Mountain\n",
       "33                Nevada         NV       West            Mountain\n",
       "34              New York         NY  Northeast     Middle Atlantic\n",
       "35                  Ohio         OH    Midwest  East North Central\n",
       "36              Oklahoma         OK      South  West South Central\n",
       "37                Oregon         OR       West             Pacific\n",
       "38          Pennsylvania         PA  Northeast     Middle Atlantic\n",
       "39          Rhode Island         RI  Northeast         New England\n",
       "40        South Carolina         SC      South      South Atlantic\n",
       "41          South Dakota         SD    Midwest  West North Central\n",
       "42             Tennessee         TN      South  East South Central\n",
       "43                 Texas         TX      South  West South Central\n",
       "44                  Utah         UT       West            Mountain\n",
       "45              Virginia         VA      South      South Atlantic\n",
       "46               Vermont         VT  Northeast         New England\n",
       "47            Washington         WA       West             Pacific\n",
       "48             Wisconsin         WI    Midwest  East North Central\n",
       "49         West Virginia         WV      South      South Atlantic\n",
       "50               Wyoming         WY       West            Mountain"
      ]
     },
     "execution_count": 20,
     "metadata": {},
     "output_type": "execute_result"
    }
   ],
   "source": [
    "state_regions = pd.read_csv('https://raw.githubusercontent.com/cphalpert/census-regions/master/us%20census%20bureau%20regions%20and%20divisions.csv')\n",
    "# should download the above file\n",
    "state_regions"
   ]
  },
  {
   "cell_type": "markdown",
   "metadata": {
    "tags": [
     "20_min"
    ]
   },
   "source": [
    "### Exercise 7:\n",
    "\n",
    "#### 7.1\n",
    "\n",
    "Create a new column where a state is replaced with the region it is in according to the above table."
   ]
  },
  {
   "cell_type": "markdown",
   "metadata": {
    "tags": [
     "ans_st"
    ]
   },
   "source": [
    "**Answer.**"
   ]
  },
  {
   "cell_type": "code",
   "execution_count": 21,
   "metadata": {},
   "outputs": [],
   "source": [
    "train_reg = train.join(state_regions.set_index('State Code')[\"Region\"], on='state')\n",
    "test_reg = test.join(state_regions.set_index('State Code')[\"Region\"], on='state')"
   ]
  },
  {
   "cell_type": "code",
   "execution_count": 22,
   "metadata": {},
   "outputs": [],
   "source": [
    "# Encoding region\n",
    "\n",
    "index_region = pd.Index(['Region'])\n",
    "\n",
    "# One hot region in train and tes\n",
    "one_hot_region_train = pd.get_dummies(train_reg[index_region], dummy_na = False)\n",
    "one_hot_region_test = pd.get_dummies(test_reg[index_region], dummy_na = False)\n",
    "\n",
    "# concat with complete data train and test\n",
    "train_reg = pd.concat([train_reg, one_hot_region_train], axis = 1)\n",
    "test_reg =  pd.concat([test_reg, one_hot_region_test], axis = 1)"
   ]
  },
  {
   "cell_type": "markdown",
   "metadata": {},
   "source": [
    "**Analysis:** In this exercise, we cross-referenced the data with the region in order to reduce the number of variables that we had when handling the data at the state level. What is done after the crossover is to perform the one hot coding to handle the same format that we were working with the states."
   ]
  },
  {
   "cell_type": "markdown",
   "metadata": {},
   "source": [
    "-------"
   ]
  },
  {
   "cell_type": "markdown",
   "metadata": {},
   "source": [
    "#### 7.2\n",
    "\n",
    "Fit the model as in `model_sig_plus` but this time use `region` instead of `state`. Call this `model_region`."
   ]
  },
  {
   "cell_type": "markdown",
   "metadata": {
    "tags": [
     "ans_st"
    ]
   },
   "source": [
    "**Answer.**"
   ]
  },
  {
   "cell_type": "code",
   "execution_count": 23,
   "metadata": {},
   "outputs": [
    {
     "name": "stdout",
     "output_type": "stream",
     "text": [
      "                            OLS Regression Results                            \n",
      "==============================================================================\n",
      "Dep. Variable:                   cost   R-squared:                       0.375\n",
      "Model:                            OLS   Adj. R-squared:                  0.372\n",
      "Method:                 Least Squares   F-statistic:                     171.5\n",
      "Date:                Thu, 05 Aug 2021   Prob (F-statistic):               0.00\n",
      "Time:                        23:48:49   Log-Likelihood:                -62249.\n",
      "No. Observations:               12348   AIC:                         1.246e+05\n",
      "Df Residuals:                   12304   BIC:                         1.249e+05\n",
      "Df Model:                          43                                         \n",
      "Covariance Type:            nonrobust                                         \n",
      "============================================================================================\n",
      "                               coef    std err          t      P>|t|      [0.025      0.975]\n",
      "--------------------------------------------------------------------------------------------\n",
      "Intercept                  506.0473      3.846    131.573      0.000     498.508     513.586\n",
      "A[T.1]                      39.5860      1.415     27.973      0.000      36.812      42.360\n",
      "A[T.2]                      44.9372      1.755     25.610      0.000      41.498      48.377\n",
      "B[T.1]                       1.8962      0.812      2.334      0.020       0.304       3.489\n",
      "C[T.2]                      -0.0471      1.000     -0.047      0.962      -2.008       1.914\n",
      "C[T.3]                       1.1752      0.978      1.202      0.229      -0.742       3.092\n",
      "C[T.4]                       3.4775      1.640      2.121      0.034       0.264       6.691\n",
      "E[T.1]                      10.8386      0.905     11.982      0.000       9.065      12.612\n",
      "F[T.1]                      -3.8323      1.331     -2.880      0.004      -6.441      -1.224\n",
      "F[T.2]                      -2.3060      1.300     -1.774      0.076      -4.854       0.242\n",
      "F[T.3]                      -7.4291      2.214     -3.355      0.001     -11.769      -3.089\n",
      "G[T.2]                      10.6514      0.939     11.341      0.000       8.811      12.492\n",
      "G[T.3]                       7.1154      1.068      6.664      0.000       5.022       9.208\n",
      "G[T.4]                       8.2631      1.274      6.487      0.000       5.766      10.760\n",
      "group_size                   0.5469      1.572      0.348      0.728      -2.535       3.629\n",
      "homeowner                  -14.9708      0.760    -19.710      0.000     -16.460     -13.482\n",
      "car_age                     -1.3416      0.164     -8.171      0.000      -1.663      -1.020\n",
      "I(car_age ** 2)              0.0312      0.007      4.242      0.000       0.017       0.046\n",
      "risk_factor                  0.6296      0.226      2.781      0.005       0.186       1.073\n",
      "age_oldest                   0.5834      0.068      8.621      0.000       0.451       0.716\n",
      "age_youngest                -2.5259      0.138    -18.288      0.000      -2.797      -2.255\n",
      "I(age_youngest ** 2)         0.0191      0.001     14.282      0.000       0.016       0.022\n",
      "married_couple              -7.8008      1.485     -5.252      0.000     -10.712      -4.889\n",
      "C_previous                  -7.5909      0.378    -20.076      0.000      -8.332      -6.850\n",
      "duration_previous           -1.3941      0.077    -18.182      0.000      -1.544      -1.244\n",
      "Region_Midwest             108.3570      1.225     88.422      0.000     105.955     110.759\n",
      "Region_Northeast           141.8817      1.206    117.661      0.000     139.518     144.245\n",
      "Region_South               132.8194      1.115    119.087      0.000     130.633     135.006\n",
      "Region_West                122.9891      1.209    101.765      0.000     120.620     125.358\n",
      "car_value_a                 95.8077     20.241      4.733      0.000      56.132     135.483\n",
      "car_value_b                 10.2050     16.716      0.610      0.542     -22.561      42.970\n",
      "car_value_c                 40.9190      5.513      7.422      0.000      30.112      51.726\n",
      "car_value_d                 36.8068      4.154      8.860      0.000      28.664      44.950\n",
      "car_value_e                 45.3740      3.935     11.531      0.000      37.661      53.087\n",
      "car_value_f                 48.7275      4.025     12.106      0.000      40.838      56.617\n",
      "car_value_g                 54.2782      4.338     12.513      0.000      45.776      62.781\n",
      "car_value_h                 66.4128      6.098     10.891      0.000      54.460      78.366\n",
      "car_value_i                107.5165     16.072      6.690      0.000      76.012     139.021\n",
      "car_value_a:age_youngest    -0.5919      0.343     -1.725      0.084      -1.264       0.081\n",
      "car_value_b:age_youngest     0.0794      0.335      0.237      0.813      -0.578       0.736\n",
      "car_value_c:age_youngest    -0.2602      0.117     -2.221      0.026      -0.490      -0.031\n",
      "car_value_d:age_youngest    -0.0004      0.078     -0.005      0.996      -0.153       0.152\n",
      "car_value_e:age_youngest    -0.1873      0.072     -2.602      0.009      -0.328      -0.046\n",
      "car_value_f:age_youngest    -0.2523      0.074     -3.408      0.001      -0.397      -0.107\n",
      "car_value_g:age_youngest    -0.2701      0.081     -3.316      0.001      -0.430      -0.110\n",
      "car_value_h:age_youngest    -0.3865      0.114     -3.391      0.001      -0.610      -0.163\n",
      "car_value_i:age_youngest    -0.6566      0.311     -2.113      0.035      -1.266      -0.048\n",
      "==============================================================================\n",
      "Omnibus:                      493.113   Durbin-Watson:                   2.019\n",
      "Prob(Omnibus):                  0.000   Jarque-Bera (JB):             1062.760\n",
      "Skew:                           0.265   Prob(JB):                    1.68e-231\n",
      "Kurtosis:                       4.336   Cond. No.                     1.25e+16\n",
      "==============================================================================\n",
      "\n",
      "Notes:\n",
      "[1] Standard Errors assume that the covariance matrix of the errors is correctly specified.\n",
      "[2] The smallest eigenvalue is 5.97e-22. This might indicate that there are\n",
      "strong multicollinearity problems or that the design matrix is singular.\n"
     ]
    }
   ],
   "source": [
    "model_region = smf.ols(formula = \"cost ~ group_size + homeowner + car_age+ I(car_age**2)\"\n",
    "                           \"+ risk_factor + age_oldest + age_youngest + I(age_youngest**2)\"\n",
    "                           \"+ married_couple + C_previous + duration_previous\"\n",
    "                           \"+ A + B + C + E + F + G\"\n",
    "                         \n",
    "                           \"+ Region_Midwest + Region_Northeast + Region_South + Region_West\"\n",
    "                         \n",
    "                           \"+ car_value_a + car_value_b + car_value_c + car_value_d + car_value_e\"\n",
    "                           \"+car_value_f + car_value_g + car_value_h + car_value_i + car_value_a*age_youngest\" \n",
    "                           \"+ car_value_b*age_youngest + car_value_c*age_youngest + car_value_d*age_youngest\" \n",
    "                           \"+ car_value_e*age_youngest + car_value_f*age_youngest + car_value_g*age_youngest\" \n",
    "                           \"+ car_value_h*age_youngest + car_value_i*age_youngest\"\n",
    "                           , \n",
    "                 data = train_reg).fit()\n",
    "print(model_region.summary())"
   ]
  },
  {
   "cell_type": "code",
   "execution_count": 24,
   "metadata": {},
   "outputs": [
    {
     "name": "stdout",
     "output_type": "stream",
     "text": [
      "The AIC of the model for model_region is 124586.4\n"
     ]
    }
   ],
   "source": [
    "print('The AIC of the model for model_region is ' + '' + str(round(model_region.aic,1)))"
   ]
  },
  {
   "cell_type": "markdown",
   "metadata": {},
   "source": [
    "**Analysis:** In this case, the states were replaced by a broader category, which are the regions, which considerably reduces the number of columns or variables with which the model works. The regression model was performed again taking into account the significant variables, the addition of the column transformations and now taking into account the region and not the state, it is observed that in this case the 𝑅2 in this model decreases and is located at 0.37 and that the AIC increases its value with respect to the previous models, which does not make it attractive to be selected as the best model."
   ]
  },
  {
   "cell_type": "markdown",
   "metadata": {},
   "source": [
    "-------"
   ]
  },
  {
   "cell_type": "markdown",
   "metadata": {
    "tags": [
     "40_min"
    ]
   },
   "source": [
    "### Exercise 8:\n",
    "\n",
    "#### 8.1\n",
    "\n",
    "What should we do next to minimize features?"
   ]
  },
  {
   "cell_type": "markdown",
   "metadata": {
    "tags": [
     "ans_st"
    ]
   },
   "source": [
    "**Answer.** There are many techniques widely used in the state of the art, three very popular are dimensionality reduction, using regression with lasso regularization (l1) and elimination of linearly dependent variables.\n",
    "\n",
    "Dimensionality reduction tries to find a subset of the original variables. There are three strategies; filter (eg, information gain), wrapper (eg, precision-guided searches), approaches, and embedded (features are selected to add or remove while building the model based on prediction errors). In some cases, data analysis such as regression or classification can be done in the reduced space with more precision than in the original space.\n",
    "\n",
    "On the other hand, the regression with regularization lasso allows me to discard those variables of the model that are not important or do not improve the model, this is done by means of a penalty to the cost function\n",
    "\n",
    "Finally, the elimination of linearly dependent variables is also known as multicollinearity, and is the high correlation between more than two explanatory variables."
   ]
  },
  {
   "cell_type": "markdown",
   "metadata": {},
   "source": [
    "-------"
   ]
  },
  {
   "cell_type": "markdown",
   "metadata": {},
   "source": [
    "#### 8.2\n",
    "\n",
    "Using a method of your choice, find the numerical feature(s) in `model_region`, except for the three we added in Exercise 6, which exhibit multicollinearity. **Hint:** consider looking at correlations."
   ]
  },
  {
   "cell_type": "markdown",
   "metadata": {
    "tags": [
     "ans_st"
    ]
   },
   "source": [
    "**Answer.**"
   ]
  },
  {
   "cell_type": "code",
   "execution_count": 25,
   "metadata": {},
   "outputs": [],
   "source": [
    "import numpy as np"
   ]
  },
  {
   "cell_type": "code",
   "execution_count": 26,
   "metadata": {},
   "outputs": [],
   "source": [
    "# Select only principals columns without transformations made in exc 6\n",
    "train2 = [\"cost\", \"group_size\", \"homeowner\", \"car_age\",\n",
    "          \"risk_factor\", \"age_oldest\",  \"age_youngest\",\n",
    "          \"married_couple\",  \"C_previous\", \"duration_previous\",\n",
    "           \"A\",  \"B\",  \"C\",  \"E\",  \"F\",  \"G\",\n",
    "          \"Region_Midwest\", \"Region_Northeast\", \"Region_South\", \"Region_West\",\n",
    "          \"car_value_a\",  \"car_value_b\",  \"car_value_c\",  \"car_value_d\",  \"car_value_e\",\n",
    "          \"car_value_f\",  \"car_value_g\",  \"car_value_h\",  \"car_value_i\"]\n",
    "\n",
    "train_reg2 = train_reg[train2]\n",
    "train_reg2 = train_reg2.astype('int')\n"
   ]
  },
  {
   "cell_type": "code",
   "execution_count": 27,
   "metadata": {},
   "outputs": [
    {
     "data": {
      "text/plain": [
       "['age_youngest', 'married_couple']"
      ]
     },
     "execution_count": 27,
     "metadata": {},
     "output_type": "execute_result"
    }
   ],
   "source": [
    "# Create absolute correlation matrix, select de upper triangle of matriz, and select the columns with more correlation\n",
    "thresold = 0.7 # Our umbral \n",
    "corr_matrix = train_reg2.corr().abs()\n",
    "upper = corr_matrix.where(np.triu(np.ones(corr_matrix.shape), k=1).astype(np.bool))\n",
    "drop_columns = [column for column in upper.columns if any(upper[column] > thresold)]\n",
    "\n",
    "# Lets check de columns\n",
    "drop_columns"
   ]
  },
  {
   "cell_type": "markdown",
   "metadata": {},
   "source": [
    "**Analysis:** We calculate the correlation matrix and select the columns with the highest level of correlation and these will not be taken into account for the model that is built below. Of course there are more and much more sophisticated techniques, using for example eigenvalues and eigenvectors of the correlation matrix, but in this case we use this as an academic exercise"
   ]
  },
  {
   "cell_type": "markdown",
   "metadata": {},
   "source": [
    "-------"
   ]
  },
  {
   "cell_type": "markdown",
   "metadata": {},
   "source": [
    "#### 8.3:\n",
    "\n",
    "Refit `model_region` after dropping these redundant predictor(s); call this `model_region_no_oldest`."
   ]
  },
  {
   "cell_type": "markdown",
   "metadata": {
    "tags": [
     "ans_st"
    ]
   },
   "source": [
    "**Answer.**"
   ]
  },
  {
   "cell_type": "markdown",
   "metadata": {},
   "source": [
    "-------"
   ]
  },
  {
   "cell_type": "code",
   "execution_count": 28,
   "metadata": {},
   "outputs": [
    {
     "name": "stdout",
     "output_type": "stream",
     "text": [
      "                            OLS Regression Results                            \n",
      "==============================================================================\n",
      "Dep. Variable:                   cost   R-squared:                       0.373\n",
      "Model:                            OLS   Adj. R-squared:                  0.371\n",
      "Method:                 Least Squares   F-statistic:                     174.5\n",
      "Date:                Thu, 05 Aug 2021   Prob (F-statistic):               0.00\n",
      "Time:                        23:48:49   Log-Likelihood:                -62263.\n",
      "No. Observations:               12348   AIC:                         1.246e+05\n",
      "Df Residuals:                   12305   BIC:                         1.249e+05\n",
      "Df Model:                          42                                         \n",
      "Covariance Type:            nonrobust                                         \n",
      "============================================================================================\n",
      "                               coef    std err          t      P>|t|      [0.025      0.975]\n",
      "--------------------------------------------------------------------------------------------\n",
      "Intercept                  511.3648      3.714    137.668      0.000     504.084     518.646\n",
      "A[T.1]                      39.6796      1.417     28.011      0.000      36.903      42.456\n",
      "A[T.2]                      44.8685      1.757     25.544      0.000      41.425      48.312\n",
      "B[T.1]                       1.8768      0.813      2.308      0.021       0.283       3.471\n",
      "C[T.2]                      -0.1729      1.001     -0.173      0.863      -2.135       1.790\n",
      "C[T.3]                       1.1372      0.979      1.162      0.245      -0.782       3.056\n",
      "C[T.4]                       3.4245      1.641      2.086      0.037       0.207       6.642\n",
      "E[T.1]                      10.8611      0.906     11.994      0.000       9.086      12.636\n",
      "F[T.1]                      -3.8311      1.332     -2.876      0.004      -6.442      -1.220\n",
      "F[T.2]                      -2.3407      1.301     -1.799      0.072      -4.892       0.210\n",
      "F[T.3]                      -7.2816      2.216     -3.285      0.001     -11.626      -2.937\n",
      "G[T.2]                      10.5793      0.940     11.254      0.000       8.737      12.422\n",
      "G[T.3]                       7.1163      1.069      6.657      0.000       5.021       9.212\n",
      "G[T.4]                       8.1505      1.275      6.392      0.000       5.651      10.650\n",
      "group_size                  -6.0625      0.943     -6.427      0.000      -7.911      -4.214\n",
      "homeowner                  -15.1240      0.760    -19.905      0.000     -16.613     -13.635\n",
      "car_age                     -1.3450      0.164     -8.183      0.000      -1.667      -1.023\n",
      "I(car_age ** 2)              0.0316      0.007      4.287      0.000       0.017       0.046\n",
      "risk_factor                  0.6535      0.227      2.884      0.004       0.209       1.098\n",
      "age_oldest                   0.7154      0.063     11.374      0.000       0.592       0.839\n",
      "I(age_youngest ** 2)         0.0194      0.001     14.502      0.000       0.017       0.022\n",
      "C_previous                  -7.5470      0.378    -19.943      0.000      -8.289      -6.805\n",
      "duration_previous           -1.3902      0.077    -18.113      0.000      -1.541      -1.240\n",
      "Region_Midwest             109.8365      1.194     91.997      0.000     107.496     112.177\n",
      "Region_Northeast           143.0186      1.188    120.432      0.000     140.691     145.346\n",
      "Region_South               134.2092      1.085    123.737      0.000     132.083     136.335\n",
      "Region_West                124.3005      1.184    105.004      0.000     121.980     126.621\n",
      "car_value_a                 95.5380     20.263      4.715      0.000      55.820     135.256\n",
      "car_value_b                  9.7155     16.734      0.581      0.562     -23.085      42.516\n",
      "car_value_c                 42.0529      5.515      7.625      0.000      31.242      52.863\n",
      "car_value_d                 37.3462      4.158      8.983      0.000      29.197      45.496\n",
      "car_value_e                 45.9623      3.938     11.673      0.000      38.244      53.681\n",
      "car_value_f                 49.2090      4.028     12.215      0.000      41.313      57.105\n",
      "car_value_g                 54.5259      4.342     12.557      0.000      46.015      63.037\n",
      "car_value_h                 66.9550      6.104     10.970      0.000      54.991      78.919\n",
      "car_value_i                110.0599     16.082      6.844      0.000      78.536     141.584\n",
      "age_youngest                -2.6825      0.135    -19.870      0.000      -2.947      -2.418\n",
      "car_value_a:age_youngest    -0.5906      0.343     -1.720      0.085      -1.264       0.083\n",
      "car_value_b:age_youngest     0.0863      0.335      0.257      0.797      -0.571       0.744\n",
      "car_value_c:age_youngest    -0.2855      0.117     -2.437      0.015      -0.515      -0.056\n",
      "car_value_d:age_youngest    -0.0140      0.078     -0.180      0.857      -0.166       0.138\n",
      "car_value_e:age_youngest    -0.1999      0.072     -2.776      0.006      -0.341      -0.059\n",
      "car_value_f:age_youngest    -0.2628      0.074     -3.547      0.000      -0.408      -0.118\n",
      "car_value_g:age_youngest    -0.2819      0.081     -3.459      0.001      -0.442      -0.122\n",
      "car_value_h:age_youngest    -0.4053      0.114     -3.553      0.000      -0.629      -0.182\n",
      "car_value_i:age_youngest    -0.7288      0.311     -2.346      0.019      -1.338      -0.120\n",
      "==============================================================================\n",
      "Omnibus:                      481.206   Durbin-Watson:                   2.020\n",
      "Prob(Omnibus):                  0.000   Jarque-Bera (JB):             1027.675\n",
      "Skew:                           0.260   Prob(JB):                    6.97e-224\n",
      "Kurtosis:                       4.314   Cond. No.                     1.25e+16\n",
      "==============================================================================\n",
      "\n",
      "Notes:\n",
      "[1] Standard Errors assume that the covariance matrix of the errors is correctly specified.\n",
      "[2] The smallest eigenvalue is 5.97e-22. This might indicate that there are\n",
      "strong multicollinearity problems or that the design matrix is singular.\n"
     ]
    }
   ],
   "source": [
    "model_region_no_oldest = smf.ols(formula = \"cost ~ group_size + homeowner + car_age+ I(car_age**2)\"\n",
    "                           \"+ risk_factor + age_oldest + I(age_youngest**2)\"\n",
    "                           \"+ C_previous + duration_previous\"\n",
    "                           \"+ A + B + C + E + F + G\"\n",
    "                         \n",
    "                           \"+ Region_Midwest + Region_Northeast + Region_South + Region_West\"\n",
    "                         \n",
    "                           \"+ car_value_a + car_value_b + car_value_c + car_value_d + car_value_e\"\n",
    "                           \"+car_value_f + car_value_g + car_value_h + car_value_i + car_value_a*age_youngest\" \n",
    "                           \"+ car_value_b*age_youngest + car_value_c*age_youngest + car_value_d*age_youngest\" \n",
    "                           \"+ car_value_e*age_youngest + car_value_f*age_youngest + car_value_g*age_youngest\" \n",
    "                           \"+ car_value_h*age_youngest + car_value_i*age_youngest\"\n",
    "                           , \n",
    "                 data = train_reg).fit()\n",
    "print(model_region_no_oldest.summary())"
   ]
  },
  {
   "cell_type": "code",
   "execution_count": 29,
   "metadata": {},
   "outputs": [
    {
     "name": "stdout",
     "output_type": "stream",
     "text": [
      "The AIC of the model for model_region_no_oldest is 124612.1\n"
     ]
    }
   ],
   "source": [
    "print('The AIC of the model for model_region_no_oldest is ' + '' + str(round(model_region_no_oldest.aic,1)))"
   ]
  },
  {
   "cell_type": "markdown",
   "metadata": {},
   "source": [
    "**Analysis:** This model was based on the one calculated for the regions and only the variables that came out of the previous correlation exercise were eliminated. An $ R ^ 2 $ is observed very similar to the base model of regions and the AIC, on the contrary, worsens a bit, being higher than the model of regions, which may be an indication that we are withdrawing relevant information for the cost estimate. For this, other more advanced techniques to solve the problem of variable selection, dimensionality reduction and multicollinearity treatment could be reviewed."
   ]
  },
  {
   "cell_type": "markdown",
   "metadata": {},
   "source": [
    "#### 8.4\n",
    "\n",
    "What would you do to diagnose the `model_region_no_oldest` fit? What does this diagnosis suggest to you? (Hint: try plotting the residuals in various ways.)"
   ]
  },
  {
   "cell_type": "markdown",
   "metadata": {
    "tags": [
     "ans_st"
    ]
   },
   "source": [
    "**Answer.**"
   ]
  },
  {
   "cell_type": "code",
   "execution_count": 30,
   "metadata": {},
   "outputs": [
    {
     "data": {
      "image/png": "[encoded data removed]",
      "text/plain": [
       "<Figure size 432x288 with 1 Axes>"
      ]
     },
     "metadata": {},
     "output_type": "display_data"
    }
   ],
   "source": [
    "# Graph 1 - Check the qqplot of residuals\n",
    "res = model_region_no_oldest.resid # residuals\n",
    "pplot = sm.ProbPlot(res)\n",
    "fig = pplot.qqplot()\n",
    "h = plt.title(\"qqplot - residuals of OLS fit\")\n",
    "plt.show()"
   ]
  },
  {
   "cell_type": "markdown",
   "metadata": {},
   "source": [
    "**Analysis:** Looking at the qqplot graph of the residuals, it can be seen that there are several points that are far away from the main diagonal, more towards the tails. This indicates that the errors are not distributed normally"
   ]
  },
  {
   "cell_type": "code",
   "execution_count": 31,
   "metadata": {},
   "outputs": [
    {
     "name": "stderr",
     "output_type": "stream",
     "text": [
      "C:\\ProgramData\\Anaconda2\\lib\\site-packages\\seaborn\\_decorators.py:43: FutureWarning: Pass the following variables as keyword args: x, y. From version 0.12, the only valid positional argument will be `data`, and passing other arguments without an explicit keyword will result in an error or misinterpretation.\n",
      "  FutureWarning\n"
     ]
    },
    {
     "data": {
      "image/png": "[encoded data removed]",
      "text/plain": [
       "<Figure size 432x288 with 1 Axes>"
      ]
     },
     "metadata": {},
     "output_type": "display_data"
    }
   ],
   "source": [
    "# Residuals vs Fitted\n",
    "\n",
    "model_fitted_y = model_region_no_oldest.fittedvalues\n",
    "model_residuals = model_region_no_oldest.resid\n",
    "model_norm_residuals = model_region_no_oldest.get_influence().resid_studentized_internal\n",
    "model_norm_residuals_abs_sqrt = np.sqrt(np.abs(model_norm_residuals))\n",
    "model_abs_resid = np.abs(model_residuals)\n",
    "model_leverage = model_region_no_oldest.get_influence().hat_matrix_diag\n",
    "\n",
    "# cook's distance, from statsmodels internals\n",
    "model_cooks = model_region_no_oldest.get_influence().cooks_distance[0]\n",
    "\n",
    "plot_lm_1 = plt.figure()\n",
    "plot_lm_1.axes[0] = sns.residplot(model_fitted_y, train_reg.columns[19], data=train_reg,\n",
    "                          lowess=True,\n",
    "                          scatter_kws={'alpha': 0.5},\n",
    "                          line_kws={'color': 'darkblue', 'lw': 1, 'alpha': 0.8})\n",
    "\n",
    "plot_lm_1.axes[0].set_title('Residuals vs Fitted')\n",
    "plot_lm_1.axes[0].set_xlabel('Fitted values')\n",
    "plot_lm_1.axes[0].set_ylabel('Residuals');"
   ]
  },
  {
   "cell_type": "markdown",
   "metadata": {},
   "source": [
    "**Analysis:** This graph should look like noise or random dots with no obvious pattern. We find the line in dark blue which should be completely horizontal to indicate that there is no information that can be extracted from the residuals, however we find a slight curve that indicates that it is possible that there are characteristics that were not taken into account in the modeling"
   ]
  },
  {
   "cell_type": "markdown",
   "metadata": {},
   "source": [
    "-------"
   ]
  },
  {
   "cell_type": "markdown",
   "metadata": {
    "tags": [
     "25_min"
    ]
   },
   "source": [
    "### Exercise 9:\n",
    "\n",
    "#### 9.1\n",
    "\n",
    "Find the best Box-Cox transformation of `cost` used to fit `model_region_no_oldest`. What value do you get?"
   ]
  },
  {
   "cell_type": "markdown",
   "metadata": {
    "tags": [
     "ans_st"
    ]
   },
   "source": [
    "**Answer.**"
   ]
  },
  {
   "cell_type": "code",
   "execution_count": 32,
   "metadata": {},
   "outputs": [],
   "source": [
    "from scipy.stats import boxcox\n",
    "from scipy.special import inv_boxcox\n",
    "\n",
    "# Box cox transformation\n",
    "y,fitted_lambda= boxcox(train_reg['cost'].values,lmbda=None)\n",
    "train_reg['cost'] = y"
   ]
  },
  {
   "cell_type": "code",
   "execution_count": 33,
   "metadata": {},
   "outputs": [
    {
     "data": {
      "text/plain": [
       "454      69.224207\n",
       "7149     66.054996\n",
       "10571    68.142052\n",
       "306      64.695025\n",
       "6038     69.280806\n",
       "           ...    \n",
       "11570    62.153906\n",
       "11809    68.256576\n",
       "8222     61.413323\n",
       "8353     63.736038\n",
       "427      68.313783\n",
       "Name: cost, Length: 12348, dtype: float64"
      ]
     },
     "execution_count": 33,
     "metadata": {},
     "output_type": "execute_result"
    }
   ],
   "source": [
    "# Lets see the cost data\n",
    "train_reg['cost']"
   ]
  },
  {
   "cell_type": "markdown",
   "metadata": {},
   "source": [
    "**Analysis:** The Box and Cox transformations are potential transformations used to correct biases in the error distribution, also to correct for uneven variations and widely used to correct for non-linearity in the relationship (improve the correlation between variables). For this case we use the transformation of boxcox from the scipy library, this function requires that the input data be positive and the argument of lmbda = None, is to find the lambda that maximizes the logarithmic probability function and is returned as the second argument of output of the function"
   ]
  },
  {
   "cell_type": "markdown",
   "metadata": {},
   "source": [
    "-------"
   ]
  },
  {
   "cell_type": "markdown",
   "metadata": {},
   "source": [
    "#### 9.2\n",
    "\n",
    "Refit `model_region_no_oldest`, but now with the transformation as suggested by the Box-Cox. Call it `model_region_no_oldest_box_cox`."
   ]
  },
  {
   "cell_type": "markdown",
   "metadata": {
    "tags": [
     "ans_st"
    ]
   },
   "source": [
    "**Answer.**"
   ]
  },
  {
   "cell_type": "code",
   "execution_count": 34,
   "metadata": {},
   "outputs": [
    {
     "name": "stdout",
     "output_type": "stream",
     "text": [
      "                            OLS Regression Results                            \n",
      "==============================================================================\n",
      "Dep. Variable:                   cost   R-squared:                       0.375\n",
      "Model:                            OLS   Adj. R-squared:                  0.373\n",
      "Method:                 Least Squares   F-statistic:                     175.6\n",
      "Date:                Thu, 05 Aug 2021   Prob (F-statistic):               0.00\n",
      "Time:                        23:49:19   Log-Likelihood:                -27370.\n",
      "No. Observations:               12348   AIC:                         5.483e+04\n",
      "Df Residuals:                   12305   BIC:                         5.515e+04\n",
      "Df Model:                          42                                         \n",
      "Covariance Type:            nonrobust                                         \n",
      "============================================================================================\n",
      "                               coef    std err          t      P>|t|      [0.025      0.975]\n",
      "--------------------------------------------------------------------------------------------\n",
      "Intercept                   50.4612      0.220    229.238      0.000      50.030      50.893\n",
      "A[T.1]                       2.3693      0.084     28.223      0.000       2.205       2.534\n",
      "A[T.2]                       2.6703      0.104     25.653      0.000       2.466       2.874\n",
      "B[T.1]                       0.1171      0.048      2.430      0.015       0.023       0.212\n",
      "C[T.2]                       0.0030      0.059      0.050      0.960      -0.113       0.119\n",
      "C[T.3]                       0.0751      0.058      1.294      0.196      -0.039       0.189\n",
      "C[T.4]                       0.2155      0.097      2.216      0.027       0.025       0.406\n",
      "E[T.1]                       0.6395      0.054     11.917      0.000       0.534       0.745\n",
      "F[T.1]                      -0.2163      0.079     -2.740      0.006      -0.371      -0.062\n",
      "F[T.2]                      -0.1312      0.077     -1.701      0.089      -0.282       0.020\n",
      "F[T.3]                      -0.4286      0.131     -3.263      0.001      -0.686      -0.171\n",
      "G[T.2]                       0.6172      0.056     11.078      0.000       0.508       0.726\n",
      "G[T.3]                       0.4235      0.063      6.685      0.000       0.299       0.548\n",
      "G[T.4]                       0.4751      0.076      6.287      0.000       0.327       0.623\n",
      "group_size                  -0.3638      0.056     -6.508      0.000      -0.473      -0.254\n",
      "homeowner                   -0.8986      0.045    -19.957      0.000      -0.987      -0.810\n",
      "car_age                     -0.0775      0.010     -7.957      0.000      -0.097      -0.058\n",
      "I(car_age ** 2)              0.0017      0.000      4.004      0.000       0.001       0.003\n",
      "risk_factor                  0.0360      0.013      2.681      0.007       0.010       0.062\n",
      "age_oldest                   0.0423      0.004     11.358      0.000       0.035       0.050\n",
      "I(age_youngest ** 2)         0.0011   7.91e-05     14.324      0.000       0.001       0.001\n",
      "C_previous                  -0.4476      0.022    -19.958      0.000      -0.492      -0.404\n",
      "duration_previous           -0.0818      0.005    -17.980      0.000      -0.091      -0.073\n",
      "Region_Midwest              11.5358      0.071    163.042      0.000      11.397      11.674\n",
      "Region_Northeast            13.5188      0.070    192.095      0.000      13.381      13.657\n",
      "Region_South                12.9976      0.064    202.212      0.000      12.872      13.124\n",
      "Region_West                 12.4090      0.070    176.888      0.000      12.271      12.546\n",
      "car_value_a                  8.1102      1.201      6.754      0.000       5.756      10.464\n",
      "car_value_b                  2.7366      0.992      2.760      0.006       0.793       4.680\n",
      "car_value_c                  4.7365      0.327     14.492      0.000       4.096       5.377\n",
      "car_value_d                  4.4693      0.246     18.140      0.000       3.986       4.952\n",
      "car_value_e                  4.9684      0.233     21.291      0.000       4.511       5.426\n",
      "car_value_f                  5.1593      0.239     21.611      0.000       4.691       5.627\n",
      "car_value_g                  5.4753      0.257     21.278      0.000       4.971       5.980\n",
      "car_value_h                  6.2033      0.362     17.150      0.000       5.494       6.912\n",
      "car_value_i                  8.6022      0.953      9.026      0.000       6.734      10.470\n",
      "age_youngest                -0.1574      0.008    -19.670      0.000      -0.173      -0.142\n",
      "car_value_a:age_youngest    -0.0367      0.020     -1.803      0.071      -0.077       0.003\n",
      "car_value_b:age_youngest     0.0063      0.020      0.315      0.753      -0.033       0.045\n",
      "car_value_c:age_youngest    -0.0169      0.007     -2.432      0.015      -0.030      -0.003\n",
      "car_value_d:age_youngest    -0.0011      0.005     -0.233      0.815      -0.010       0.008\n",
      "car_value_e:age_youngest    -0.0119      0.004     -2.788      0.005      -0.020      -0.004\n",
      "car_value_f:age_youngest    -0.0156      0.004     -3.557      0.000      -0.024      -0.007\n",
      "car_value_g:age_youngest    -0.0169      0.005     -3.498      0.000      -0.026      -0.007\n",
      "car_value_h:age_youngest    -0.0240      0.007     -3.555      0.000      -0.037      -0.011\n",
      "car_value_i:age_youngest    -0.0405      0.018     -2.202      0.028      -0.077      -0.004\n",
      "==============================================================================\n",
      "Omnibus:                      455.415   Durbin-Watson:                   2.020\n",
      "Prob(Omnibus):                  0.000   Jarque-Bera (JB):             1247.668\n",
      "Skew:                           0.130   Prob(JB):                    1.18e-271\n",
      "Kurtosis:                       4.535   Cond. No.                     1.25e+16\n",
      "==============================================================================\n",
      "\n",
      "Notes:\n",
      "[1] Standard Errors assume that the covariance matrix of the errors is correctly specified.\n",
      "[2] The smallest eigenvalue is 5.97e-22. This might indicate that there are\n",
      "strong multicollinearity problems or that the design matrix is singular.\n"
     ]
    }
   ],
   "source": [
    "model_region_no_oldest_box_cox = smf.ols(formula = \"cost ~ group_size + homeowner + car_age+ I(car_age**2)\"\n",
    "                           \"+ risk_factor + age_oldest + I(age_youngest**2)\"\n",
    "                           \"+ C_previous + duration_previous\"\n",
    "                           \"+ A + B + C + E + F + G\"\n",
    "                         \n",
    "                           \"+ Region_Midwest + Region_Northeast + Region_South + Region_West\"\n",
    "                         \n",
    "                           \"+ car_value_a + car_value_b + car_value_c + car_value_d + car_value_e\"\n",
    "                           \"+car_value_f + car_value_g + car_value_h + car_value_i + car_value_a*age_youngest\" \n",
    "                           \"+ car_value_b*age_youngest + car_value_c*age_youngest + car_value_d*age_youngest\" \n",
    "                           \"+ car_value_e*age_youngest + car_value_f*age_youngest + car_value_g*age_youngest\" \n",
    "                           \"+ car_value_h*age_youngest + car_value_i*age_youngest\"\n",
    "                           , \n",
    "                 data = train_reg).fit()\n",
    "print(model_region_no_oldest_box_cox.summary())"
   ]
  },
  {
   "cell_type": "code",
   "execution_count": 35,
   "metadata": {},
   "outputs": [
    {
     "name": "stdout",
     "output_type": "stream",
     "text": [
      "The AIC of the model for model_region_no_oldest_box_cox is 54826.2\n"
     ]
    }
   ],
   "source": [
    "print('The AIC of the model for model_region_no_oldest_box_cox is ' + '' + str(round(model_region_no_oldest_box_cox.aic,1)))"
   ]
  },
  {
   "cell_type": "markdown",
   "metadata": {},
   "source": [
    "**Analysis:** This model was based on the one previously calculated that is contemplating the regions and the elimination of variables with high correlation. For this model, the same scheme and the same explanatory variables were used, the difference is that the independent variable is used, which is the cost, under the box cox transformation, and with this the linear regression is calculated and the calculation of its parameters. A $R^2$ very similar to the previous model is observed with a slight improvement and the AIC has an incredible improvement! (¡¡Awesome!!). It is located at 54826 and is the best AIC value of all the models we tested in the notebook, this value allows us to compare ourselves between models even if we are using different approaches, so this model would be the best candidate to be selected to be tested with the test data and calibrate it better with the more advanced techniques mentioned above"
   ]
  },
  {
   "cell_type": "markdown",
   "metadata": {},
   "source": [
    "-------"
   ]
  },
  {
   "cell_type": "markdown",
   "metadata": {},
   "source": [
    "## Conclusion\n",
    "\n",
    "In this, you practiced creating linear models using `statsmodels` and iteratively trimming the input variables to go from including all the variables in the dataset to using only the most relevant variables. You excluded those variables that were statistically insignificant and removed those that had high correlation. Finally, we performed some feature engineering in an attempt to remove some tail behavior that deviates from the normal distribution to better fit our linear model. In the end, we had a very minimal model that contained variables that other insurance companies use to charge premiums that gave us insight on how we can better serve a niche population. "
   ]
  }
 ],
 "metadata": {
  "c1_recart": "6.10.0-57c20131aabc1dc2a8c675852d80a7da",
  "kernelspec": {
   "display_name": "Python 3",
   "language": "python",
   "name": "python3"
  },
  "language_info": {
   "codemirror_mode": {
    "name": "ipython",
    "version": 3
   },
   "file_extension": ".py",
   "mimetype": "text/x-python",
   "name": "python",
   "nbconvert_exporter": "python",
   "pygments_lexer": "ipython3",
   "version": "3.7.9"
  }
 },
 "nbformat": 4,
 "nbformat_minor": 2
}
