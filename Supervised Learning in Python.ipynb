{
  "nbformat": 4,
  "nbformat_minor": 0,
  "metadata": {
    "colab": {
      "name": "Supervised_Learning Python.ipynb",
      "provenance": [],
      "collapsed_sections": [],
      "toc_visible": true,
      "authorship_tag": "ABX9TyOYnMzF0dJ6v6urDWZHX/VZ",
      "include_colab_link": true
    },
    "kernelspec": {
      "name": "python3",
      "display_name": "Python 3"
    }
  },
  "cells": [
    {
      "cell_type": "markdown",
      "metadata": {
        "id": "view-in-github",
        "colab_type": "text"
      },
      "source": [
        "<a href=\"https://colab.research.google.com/github/eljimenezj/-Data-modeling-techniques/blob/master/Supervised%20Learning%20in%20Python.ipynb\" target=\"_parent\"><img src=\"https://colab.research.google.com/assets/colab-badge.svg\" alt=\"Open In Colab\"/></a>"
      ]
    },
    {
      "cell_type": "markdown",
      "metadata": {
        "id": "j0fsy-OKy4yi",
        "colab_type": "text"
      },
      "source": [
        "\n",
        "## Aprendizaje supervisado en Python\n",
        "\n",
        "En este caso vamos a estudiar unas aplicaciones simples de algoritmos de clasificación, regresión y algunas tecnicas de tunning para calibrar nuestros modelos machine learning. Este libro de jupyter está basado en clases tomadas de datacamp, en la cual también utilizamos una base de datos de vinos que utilizan en varias de sus clases.\n",
        "\n",
        "Este curso hace parte del track Machine Learning Scientist with Python"
      ]
    },
    {
      "cell_type": "markdown",
      "metadata": {
        "id": "l47GzZoPGi8q",
        "colab_type": "text"
      },
      "source": [
        "# Clasificación"
      ]
    },
    {
      "cell_type": "code",
      "metadata": {
        "id": "wMXimBxBGsO8",
        "colab_type": "code",
        "colab": {}
      },
      "source": [
        "# Importamos librerias necesarias para el procesamiento y modelado\n",
        "import numpy as np\n",
        "import pandas as pd\n",
        "from sklearn import datasets\n",
        "import matplotlib.pyplot as plt\n",
        "from sklearn.model_selection import train_test_split\n",
        "from sklearn.neighbors import KNeighborsClassifier\n"
      ],
      "execution_count": 0,
      "outputs": []
    },
    {
      "cell_type": "code",
      "metadata": {
        "id": "4T8ishmWGsRZ",
        "colab_type": "code",
        "colab": {}
      },
      "source": [
        "# Carguemos el dataset: digits\n",
        "digits = datasets.load_digits()"
      ],
      "execution_count": 0,
      "outputs": []
    },
    {
      "cell_type": "code",
      "metadata": {
        "id": "hF2MS7YwGsTz",
        "colab_type": "code",
        "outputId": "d2972672-8d1f-47c2-9515-349df26ed4f6",
        "colab": {
          "base_uri": "https://localhost:8080/",
          "height": 1000
        }
      },
      "source": [
        "# Mostramos las llaves y descripción que tiene el \n",
        "print(digits.keys())\n",
        "print(digits.DESCR)\n",
        "\n",
        "# Tamaño del dataset\n",
        "print(digits.images.shape)\n",
        "print(digits.data.shape)\n",
        "\n",
        "# Imprimimos la imagen\n",
        "plt.imshow(digits.images[1010], cmap=plt.cm.gray_r, interpolation='nearest')"
      ],
      "execution_count": 3,
      "outputs": [
        {
          "output_type": "stream",
          "text": [
            "dict_keys(['data', 'target', 'target_names', 'images', 'DESCR'])\n",
            ".. _digits_dataset:\n",
            "\n",
            "Optical recognition of handwritten digits dataset\n",
            "--------------------------------------------------\n",
            "\n",
            "**Data Set Characteristics:**\n",
            "\n",
            "    :Number of Instances: 5620\n",
            "    :Number of Attributes: 64\n",
            "    :Attribute Information: 8x8 image of integer pixels in the range 0..16.\n",
            "    :Missing Attribute Values: None\n",
            "    :Creator: E. Alpaydin (alpaydin '@' boun.edu.tr)\n",
            "    :Date: July; 1998\n",
            "\n",
            "This is a copy of the test set of the UCI ML hand-written digits datasets\n",
            "https://archive.ics.uci.edu/ml/datasets/Optical+Recognition+of+Handwritten+Digits\n",
            "\n",
            "The data set contains images of hand-written digits: 10 classes where\n",
            "each class refers to a digit.\n",
            "\n",
            "Preprocessing programs made available by NIST were used to extract\n",
            "normalized bitmaps of handwritten digits from a preprinted form. From a\n",
            "total of 43 people, 30 contributed to the training set and different 13\n",
            "to the test set. 32x32 bitmaps are divided into nonoverlapping blocks of\n",
            "4x4 and the number of on pixels are counted in each block. This generates\n",
            "an input matrix of 8x8 where each element is an integer in the range\n",
            "0..16. This reduces dimensionality and gives invariance to small\n",
            "distortions.\n",
            "\n",
            "For info on NIST preprocessing routines, see M. D. Garris, J. L. Blue, G.\n",
            "T. Candela, D. L. Dimmick, J. Geist, P. J. Grother, S. A. Janet, and C.\n",
            "L. Wilson, NIST Form-Based Handprint Recognition System, NISTIR 5469,\n",
            "1994.\n",
            "\n",
            ".. topic:: References\n",
            "\n",
            "  - C. Kaynak (1995) Methods of Combining Multiple Classifiers and Their\n",
            "    Applications to Handwritten Digit Recognition, MSc Thesis, Institute of\n",
            "    Graduate Studies in Science and Engineering, Bogazici University.\n",
            "  - E. Alpaydin, C. Kaynak (1998) Cascading Classifiers, Kybernetika.\n",
            "  - Ken Tang and Ponnuthurai N. Suganthan and Xi Yao and A. Kai Qin.\n",
            "    Linear dimensionalityreduction using relevance weighted LDA. School of\n",
            "    Electrical and Electronic Engineering Nanyang Technological University.\n",
            "    2005.\n",
            "  - Claudio Gentile. A New Approximate Maximal Margin Classification\n",
            "    Algorithm. NIPS. 2000.\n",
            "(1797, 8, 8)\n",
            "(1797, 64)\n"
          ],
          "name": "stdout"
        },
        {
          "output_type": "execute_result",
          "data": {
            "text/plain": [
              "<matplotlib.image.AxesImage at 0x7fe84f4ba9b0>"
            ]
          },
          "metadata": {
            "tags": []
          },
          "execution_count": 3
        },
        {
          "output_type": "display_data",
          "data": {
            "image/png": "[encoded data removed]",
            "text/plain": [
              "<Figure size 432x288 with 1 Axes>"
            ]
          },
          "metadata": {
            "tags": []
          }
        }
      ]
    },
    {
      "cell_type": "code",
      "metadata": {
        "id": "WOOcsZe7GsWb",
        "colab_type": "code",
        "colab": {}
      },
      "source": [
        "# Creación de los arrays para el clasificador\n",
        "X = digits.data\n",
        "y = digits.target\n",
        "\n",
        "# Partición del conjunto de datos en entrenamiento y testeo\n",
        "X_train, X_test, y_train, y_test = train_test_split(X, y, test_size = 0.2,random_state=42, stratify=y)"
      ],
      "execution_count": 0,
      "outputs": []
    },
    {
      "cell_type": "code",
      "metadata": {
        "id": "pPkwETSxG_lB",
        "colab_type": "code",
        "outputId": "5e3a783a-6666-4d6b-8895-4c64a1e6a9be",
        "colab": {
          "base_uri": "https://localhost:8080/",
          "height": 34
        }
      },
      "source": [
        "# Instanciamos el clasificador, en este caso, vecinos mas cercanos, con 7 vecinos\n",
        "knn = KNeighborsClassifier(n_neighbors=7)\n",
        "\n",
        "# Ajustamos el modelo\n",
        "knn.fit(X_train,y_train)\n",
        "\n",
        "# Imprimir el score del modelo con los datos de testeo\n",
        "print(knn.score(X_test, y_test))"
      ],
      "execution_count": 5,
      "outputs": [
        {
          "output_type": "stream",
          "text": [
            "0.9833333333333333\n"
          ],
          "name": "stdout"
        }
      ]
    },
    {
      "cell_type": "markdown",
      "metadata": {
        "id": "DnKPgFPH1hLq",
        "colab_type": "text"
      },
      "source": [
        "Ahora vamos a graficar el score del modelo en datos de entrenamiento y test para diferentes valores de vecinos"
      ]
    },
    {
      "cell_type": "code",
      "metadata": {
        "id": "x6h5faDVG_n6",
        "colab_type": "code",
        "outputId": "5fb8fbd9-b11b-4457-8cc2-11af3f063a54",
        "colab": {
          "base_uri": "https://localhost:8080/",
          "height": 295
        }
      },
      "source": [
        "# Configuracion de arrays inciales \n",
        "neighbors = np.arange(1, 9) # Exploraremos vecinos entre 1 y 9 vecinos\n",
        "train_accuracy = np.empty(len(neighbors))\n",
        "test_accuracy = np.empty(len(neighbors))\n",
        "\n",
        "\n",
        "# Vamos a iterar sobre los diferentes valores de vecinos y medimos el score\n",
        "for i, k in enumerate(neighbors):\n",
        "    # Instanciamos el clasificador\n",
        "    knn = KNeighborsClassifier(n_neighbors=k)\n",
        "\n",
        "    # Ajustamos el modelo\n",
        "    knn.fit(X_train,y_train)\n",
        "    \n",
        "    # Medición del score en datos de train\n",
        "    train_accuracy[i] = knn.score(X_train, y_train)\n",
        "\n",
        "    # Medición del score en datos de test\n",
        "    test_accuracy[i] = knn.score(X_test, y_test)\n",
        "\n",
        "# Vamos a graficar el score\n",
        "plt.title('k-NN con diferentes vecinos vs Precision ')\n",
        "plt.plot(neighbors, test_accuracy, label = 'Precisión de testeo')\n",
        "plt.plot(neighbors, train_accuracy, label = 'Precisión de entrenamiento')\n",
        "plt.legend()\n",
        "plt.xlabel('Numero de vecinos')\n",
        "plt.ylabel('Accuracy')\n",
        "plt.show()"
      ],
      "execution_count": 6,
      "outputs": [
        {
          "output_type": "display_data",
          "data": {
            "image/png": "[encoded data removed]",
            "text/plain": [
              "<Figure size 432x288 with 1 Axes>"
            ]
          },
          "metadata": {
            "tags": []
          }
        }
      ]
    },
    {
      "cell_type": "markdown",
      "metadata": {
        "id": "qNZsOHnHGkfC",
        "colab_type": "text"
      },
      "source": [
        "# Regresión Lineal"
      ]
    },
    {
      "cell_type": "code",
      "metadata": {
        "id": "V_UOLGvKBdrR",
        "colab_type": "code",
        "colab": {}
      },
      "source": [
        "# Importamos librerias necesarias para el procesamiento\n",
        "import numpy as np\n",
        "import pandas as pd\n",
        "import seaborn as sns\n",
        "import matplotlib.pyplot as plt\n",
        "from sklearn.linear_model import LinearRegression\n",
        "from sklearn.metrics import mean_squared_error\n",
        "from sklearn.model_selection import train_test_split\n",
        "from sklearn.model_selection import cross_val_score\n",
        "from sklearn.linear_model import Lasso\n",
        "from sklearn.linear_model import Ridge"
      ],
      "execution_count": 0,
      "outputs": []
    },
    {
      "cell_type": "code",
      "metadata": {
        "id": "4ERfkjqIB0v0",
        "colab_type": "code",
        "colab": {}
      },
      "source": [
        "url = 'https://assets.datacamp.com/production/repositories/628/datasets/a7e65287ebb197b1267b5042955f27502ec65f31/gm_2008_region.csv'\n",
        "df = pd.read_csv(url)"
      ],
      "execution_count": 0,
      "outputs": []
    },
    {
      "cell_type": "code",
      "metadata": {
        "id": "6R_L45_vB05r",
        "colab_type": "code",
        "outputId": "cadb09b4-e186-414d-fa68-6cc08619ea83",
        "colab": {
          "base_uri": "https://localhost:8080/",
          "height": 272
        }
      },
      "source": [
        "# Exploremos el dataset rapidamente\n",
        "df.info()"
      ],
      "execution_count": 9,
      "outputs": [
        {
          "output_type": "stream",
          "text": [
            "<class 'pandas.core.frame.DataFrame'>\n",
            "RangeIndex: 139 entries, 0 to 138\n",
            "Data columns (total 10 columns):\n",
            "population         139 non-null float64\n",
            "fertility          139 non-null float64\n",
            "HIV                139 non-null float64\n",
            "CO2                139 non-null float64\n",
            "BMI_male           139 non-null float64\n",
            "GDP                139 non-null float64\n",
            "BMI_female         139 non-null float64\n",
            "life               139 non-null float64\n",
            "child_mortality    139 non-null float64\n",
            "Region             139 non-null object\n",
            "dtypes: float64(9), object(1)\n",
            "memory usage: 11.0+ KB\n"
          ],
          "name": "stdout"
        }
      ]
    },
    {
      "cell_type": "code",
      "metadata": {
        "id": "0FdZq3p8B09E",
        "colab_type": "code",
        "outputId": "5b50e586-94bd-4c8e-e1c0-23c536d15993",
        "colab": {
          "base_uri": "https://localhost:8080/",
          "height": 297
        }
      },
      "source": [
        "df.describe() # Algunas estadisticas descriptivas rapidas"
      ],
      "execution_count": 10,
      "outputs": [
        {
          "output_type": "execute_result",
          "data": {
            "text/html": [
              "<div>\n",
              "<style scoped>\n",
              "    .dataframe tbody tr th:only-of-type {\n",
              "        vertical-align: middle;\n",
              "    }\n",
              "\n",
              "    .dataframe tbody tr th {\n",
              "        vertical-align: top;\n",
              "    }\n",
              "\n",
              "    .dataframe thead th {\n",
              "        text-align: right;\n",
              "    }\n",
              "</style>\n",
              "<table border=\"1\" class=\"dataframe\">\n",
              "  <thead>\n",
              "    <tr style=\"text-align: right;\">\n",
              "      <th></th>\n",
              "      <th>population</th>\n",
              "      <th>fertility</th>\n",
              "      <th>HIV</th>\n",
              "      <th>CO2</th>\n",
              "      <th>BMI_male</th>\n",
              "      <th>GDP</th>\n",
              "      <th>BMI_female</th>\n",
              "      <th>life</th>\n",
              "      <th>child_mortality</th>\n",
              "    </tr>\n",
              "  </thead>\n",
              "  <tbody>\n",
              "    <tr>\n",
              "      <th>count</th>\n",
              "      <td>1.390000e+02</td>\n",
              "      <td>139.000000</td>\n",
              "      <td>139.000000</td>\n",
              "      <td>139.000000</td>\n",
              "      <td>139.000000</td>\n",
              "      <td>139.000000</td>\n",
              "      <td>139.000000</td>\n",
              "      <td>139.000000</td>\n",
              "      <td>139.000000</td>\n",
              "    </tr>\n",
              "    <tr>\n",
              "      <th>mean</th>\n",
              "      <td>3.549977e+07</td>\n",
              "      <td>3.005108</td>\n",
              "      <td>1.915612</td>\n",
              "      <td>4.459874</td>\n",
              "      <td>24.623054</td>\n",
              "      <td>16638.784173</td>\n",
              "      <td>126.701914</td>\n",
              "      <td>69.602878</td>\n",
              "      <td>45.097122</td>\n",
              "    </tr>\n",
              "    <tr>\n",
              "      <th>std</th>\n",
              "      <td>1.095121e+08</td>\n",
              "      <td>1.615354</td>\n",
              "      <td>4.408974</td>\n",
              "      <td>6.268349</td>\n",
              "      <td>2.209368</td>\n",
              "      <td>19207.299083</td>\n",
              "      <td>4.471997</td>\n",
              "      <td>9.122189</td>\n",
              "      <td>45.724667</td>\n",
              "    </tr>\n",
              "    <tr>\n",
              "      <th>min</th>\n",
              "      <td>2.773150e+05</td>\n",
              "      <td>1.280000</td>\n",
              "      <td>0.060000</td>\n",
              "      <td>0.008618</td>\n",
              "      <td>20.397420</td>\n",
              "      <td>588.000000</td>\n",
              "      <td>117.375500</td>\n",
              "      <td>45.200000</td>\n",
              "      <td>2.700000</td>\n",
              "    </tr>\n",
              "    <tr>\n",
              "      <th>25%</th>\n",
              "      <td>3.752776e+06</td>\n",
              "      <td>1.810000</td>\n",
              "      <td>0.100000</td>\n",
              "      <td>0.496190</td>\n",
              "      <td>22.448135</td>\n",
              "      <td>2899.000000</td>\n",
              "      <td>123.232200</td>\n",
              "      <td>62.200000</td>\n",
              "      <td>8.100000</td>\n",
              "    </tr>\n",
              "    <tr>\n",
              "      <th>50%</th>\n",
              "      <td>9.705130e+06</td>\n",
              "      <td>2.410000</td>\n",
              "      <td>0.400000</td>\n",
              "      <td>2.223796</td>\n",
              "      <td>25.156990</td>\n",
              "      <td>9938.000000</td>\n",
              "      <td>126.519600</td>\n",
              "      <td>72.000000</td>\n",
              "      <td>24.000000</td>\n",
              "    </tr>\n",
              "    <tr>\n",
              "      <th>75%</th>\n",
              "      <td>2.791973e+07</td>\n",
              "      <td>4.095000</td>\n",
              "      <td>1.300000</td>\n",
              "      <td>6.589156</td>\n",
              "      <td>26.497575</td>\n",
              "      <td>23278.500000</td>\n",
              "      <td>130.275900</td>\n",
              "      <td>76.850000</td>\n",
              "      <td>74.200000</td>\n",
              "    </tr>\n",
              "    <tr>\n",
              "      <th>max</th>\n",
              "      <td>1.197070e+09</td>\n",
              "      <td>7.590000</td>\n",
              "      <td>25.900000</td>\n",
              "      <td>48.702062</td>\n",
              "      <td>28.456980</td>\n",
              "      <td>126076.000000</td>\n",
              "      <td>135.492000</td>\n",
              "      <td>82.600000</td>\n",
              "      <td>192.000000</td>\n",
              "    </tr>\n",
              "  </tbody>\n",
              "</table>\n",
              "</div>"
            ],
            "text/plain": [
              "         population   fertility  ...        life  child_mortality\n",
              "count  1.390000e+02  139.000000  ...  139.000000       139.000000\n",
              "mean   3.549977e+07    3.005108  ...   69.602878        45.097122\n",
              "std    1.095121e+08    1.615354  ...    9.122189        45.724667\n",
              "min    2.773150e+05    1.280000  ...   45.200000         2.700000\n",
              "25%    3.752776e+06    1.810000  ...   62.200000         8.100000\n",
              "50%    9.705130e+06    2.410000  ...   72.000000        24.000000\n",
              "75%    2.791973e+07    4.095000  ...   76.850000        74.200000\n",
              "max    1.197070e+09    7.590000  ...   82.600000       192.000000\n",
              "\n",
              "[8 rows x 9 columns]"
            ]
          },
          "metadata": {
            "tags": []
          },
          "execution_count": 10
        }
      ]
    },
    {
      "cell_type": "code",
      "metadata": {
        "id": "8um9FlQhB1BM",
        "colab_type": "code",
        "outputId": "b8f04ef9-4bb2-4efd-a705-69bff76176f8",
        "colab": {
          "base_uri": "https://localhost:8080/",
          "height": 204
        }
      },
      "source": [
        "df.head() # Primeros datos del dataset"
      ],
      "execution_count": 11,
      "outputs": [
        {
          "output_type": "execute_result",
          "data": {
            "text/html": [
              "<div>\n",
              "<style scoped>\n",
              "    .dataframe tbody tr th:only-of-type {\n",
              "        vertical-align: middle;\n",
              "    }\n",
              "\n",
              "    .dataframe tbody tr th {\n",
              "        vertical-align: top;\n",
              "    }\n",
              "\n",
              "    .dataframe thead th {\n",
              "        text-align: right;\n",
              "    }\n",
              "</style>\n",
              "<table border=\"1\" class=\"dataframe\">\n",
              "  <thead>\n",
              "    <tr style=\"text-align: right;\">\n",
              "      <th></th>\n",
              "      <th>population</th>\n",
              "      <th>fertility</th>\n",
              "      <th>HIV</th>\n",
              "      <th>CO2</th>\n",
              "      <th>BMI_male</th>\n",
              "      <th>GDP</th>\n",
              "      <th>BMI_female</th>\n",
              "      <th>life</th>\n",
              "      <th>child_mortality</th>\n",
              "      <th>Region</th>\n",
              "    </tr>\n",
              "  </thead>\n",
              "  <tbody>\n",
              "    <tr>\n",
              "      <th>0</th>\n",
              "      <td>34811059.0</td>\n",
              "      <td>2.73</td>\n",
              "      <td>0.1</td>\n",
              "      <td>3.328945</td>\n",
              "      <td>24.59620</td>\n",
              "      <td>12314.0</td>\n",
              "      <td>129.9049</td>\n",
              "      <td>75.3</td>\n",
              "      <td>29.5</td>\n",
              "      <td>Middle East &amp; North Africa</td>\n",
              "    </tr>\n",
              "    <tr>\n",
              "      <th>1</th>\n",
              "      <td>19842251.0</td>\n",
              "      <td>6.43</td>\n",
              "      <td>2.0</td>\n",
              "      <td>1.474353</td>\n",
              "      <td>22.25083</td>\n",
              "      <td>7103.0</td>\n",
              "      <td>130.1247</td>\n",
              "      <td>58.3</td>\n",
              "      <td>192.0</td>\n",
              "      <td>Sub-Saharan Africa</td>\n",
              "    </tr>\n",
              "    <tr>\n",
              "      <th>2</th>\n",
              "      <td>40381860.0</td>\n",
              "      <td>2.24</td>\n",
              "      <td>0.5</td>\n",
              "      <td>4.785170</td>\n",
              "      <td>27.50170</td>\n",
              "      <td>14646.0</td>\n",
              "      <td>118.8915</td>\n",
              "      <td>75.5</td>\n",
              "      <td>15.4</td>\n",
              "      <td>America</td>\n",
              "    </tr>\n",
              "    <tr>\n",
              "      <th>3</th>\n",
              "      <td>2975029.0</td>\n",
              "      <td>1.40</td>\n",
              "      <td>0.1</td>\n",
              "      <td>1.804106</td>\n",
              "      <td>25.35542</td>\n",
              "      <td>7383.0</td>\n",
              "      <td>132.8108</td>\n",
              "      <td>72.5</td>\n",
              "      <td>20.0</td>\n",
              "      <td>Europe &amp; Central Asia</td>\n",
              "    </tr>\n",
              "    <tr>\n",
              "      <th>4</th>\n",
              "      <td>21370348.0</td>\n",
              "      <td>1.96</td>\n",
              "      <td>0.1</td>\n",
              "      <td>18.016313</td>\n",
              "      <td>27.56373</td>\n",
              "      <td>41312.0</td>\n",
              "      <td>117.3755</td>\n",
              "      <td>81.5</td>\n",
              "      <td>5.2</td>\n",
              "      <td>East Asia &amp; Pacific</td>\n",
              "    </tr>\n",
              "  </tbody>\n",
              "</table>\n",
              "</div>"
            ],
            "text/plain": [
              "   population  fertility  ...  child_mortality                      Region\n",
              "0  34811059.0       2.73  ...             29.5  Middle East & North Africa\n",
              "1  19842251.0       6.43  ...            192.0          Sub-Saharan Africa\n",
              "2  40381860.0       2.24  ...             15.4                     America\n",
              "3   2975029.0       1.40  ...             20.0       Europe & Central Asia\n",
              "4  21370348.0       1.96  ...              5.2         East Asia & Pacific\n",
              "\n",
              "[5 rows x 10 columns]"
            ]
          },
          "metadata": {
            "tags": []
          },
          "execution_count": 11
        }
      ]
    },
    {
      "cell_type": "code",
      "metadata": {
        "id": "8ZG2fkbSB1EE",
        "colab_type": "code",
        "outputId": "ac39e08a-6778-4e92-e7bc-d676905b09a3",
        "colab": {
          "base_uri": "https://localhost:8080/",
          "height": 328
        }
      },
      "source": [
        "df.corr() # Matriz de correlacion"
      ],
      "execution_count": 12,
      "outputs": [
        {
          "output_type": "execute_result",
          "data": {
            "text/html": [
              "<div>\n",
              "<style scoped>\n",
              "    .dataframe tbody tr th:only-of-type {\n",
              "        vertical-align: middle;\n",
              "    }\n",
              "\n",
              "    .dataframe tbody tr th {\n",
              "        vertical-align: top;\n",
              "    }\n",
              "\n",
              "    .dataframe thead th {\n",
              "        text-align: right;\n",
              "    }\n",
              "</style>\n",
              "<table border=\"1\" class=\"dataframe\">\n",
              "  <thead>\n",
              "    <tr style=\"text-align: right;\">\n",
              "      <th></th>\n",
              "      <th>population</th>\n",
              "      <th>fertility</th>\n",
              "      <th>HIV</th>\n",
              "      <th>CO2</th>\n",
              "      <th>BMI_male</th>\n",
              "      <th>GDP</th>\n",
              "      <th>BMI_female</th>\n",
              "      <th>life</th>\n",
              "      <th>child_mortality</th>\n",
              "    </tr>\n",
              "  </thead>\n",
              "  <tbody>\n",
              "    <tr>\n",
              "      <th>population</th>\n",
              "      <td>1.000000</td>\n",
              "      <td>-0.061345</td>\n",
              "      <td>-0.065821</td>\n",
              "      <td>-0.010147</td>\n",
              "      <td>-0.134905</td>\n",
              "      <td>-0.045687</td>\n",
              "      <td>-0.135149</td>\n",
              "      <td>-0.005051</td>\n",
              "      <td>0.008058</td>\n",
              "    </tr>\n",
              "    <tr>\n",
              "      <th>fertility</th>\n",
              "      <td>-0.061345</td>\n",
              "      <td>1.000000</td>\n",
              "      <td>0.292695</td>\n",
              "      <td>-0.439747</td>\n",
              "      <td>-0.715380</td>\n",
              "      <td>-0.502615</td>\n",
              "      <td>0.527314</td>\n",
              "      <td>-0.786921</td>\n",
              "      <td>0.901704</td>\n",
              "    </tr>\n",
              "    <tr>\n",
              "      <th>HIV</th>\n",
              "      <td>-0.065821</td>\n",
              "      <td>0.292695</td>\n",
              "      <td>1.000000</td>\n",
              "      <td>-0.165889</td>\n",
              "      <td>-0.308700</td>\n",
              "      <td>-0.208410</td>\n",
              "      <td>0.396680</td>\n",
              "      <td>-0.604749</td>\n",
              "      <td>0.394913</td>\n",
              "    </tr>\n",
              "    <tr>\n",
              "      <th>CO2</th>\n",
              "      <td>-0.010147</td>\n",
              "      <td>-0.439747</td>\n",
              "      <td>-0.165889</td>\n",
              "      <td>1.000000</td>\n",
              "      <td>0.581031</td>\n",
              "      <td>0.823099</td>\n",
              "      <td>-0.280813</td>\n",
              "      <td>0.476666</td>\n",
              "      <td>-0.458186</td>\n",
              "    </tr>\n",
              "    <tr>\n",
              "      <th>BMI_male</th>\n",
              "      <td>-0.134905</td>\n",
              "      <td>-0.715380</td>\n",
              "      <td>-0.308700</td>\n",
              "      <td>0.581031</td>\n",
              "      <td>1.000000</td>\n",
              "      <td>0.625126</td>\n",
              "      <td>-0.447049</td>\n",
              "      <td>0.731559</td>\n",
              "      <td>-0.749691</td>\n",
              "    </tr>\n",
              "    <tr>\n",
              "      <th>GDP</th>\n",
              "      <td>-0.045687</td>\n",
              "      <td>-0.502615</td>\n",
              "      <td>-0.208410</td>\n",
              "      <td>0.823099</td>\n",
              "      <td>0.625126</td>\n",
              "      <td>1.000000</td>\n",
              "      <td>-0.400740</td>\n",
              "      <td>0.628999</td>\n",
              "      <td>-0.543874</td>\n",
              "    </tr>\n",
              "    <tr>\n",
              "      <th>BMI_female</th>\n",
              "      <td>-0.135149</td>\n",
              "      <td>0.527314</td>\n",
              "      <td>0.396680</td>\n",
              "      <td>-0.280813</td>\n",
              "      <td>-0.447049</td>\n",
              "      <td>-0.400740</td>\n",
              "      <td>1.000000</td>\n",
              "      <td>-0.658718</td>\n",
              "      <td>0.582053</td>\n",
              "    </tr>\n",
              "    <tr>\n",
              "      <th>life</th>\n",
              "      <td>-0.005051</td>\n",
              "      <td>-0.786921</td>\n",
              "      <td>-0.604749</td>\n",
              "      <td>0.476666</td>\n",
              "      <td>0.731559</td>\n",
              "      <td>0.628999</td>\n",
              "      <td>-0.658718</td>\n",
              "      <td>1.000000</td>\n",
              "      <td>-0.874106</td>\n",
              "    </tr>\n",
              "    <tr>\n",
              "      <th>child_mortality</th>\n",
              "      <td>0.008058</td>\n",
              "      <td>0.901704</td>\n",
              "      <td>0.394913</td>\n",
              "      <td>-0.458186</td>\n",
              "      <td>-0.749691</td>\n",
              "      <td>-0.543874</td>\n",
              "      <td>0.582053</td>\n",
              "      <td>-0.874106</td>\n",
              "      <td>1.000000</td>\n",
              "    </tr>\n",
              "  </tbody>\n",
              "</table>\n",
              "</div>"
            ],
            "text/plain": [
              "                 population  fertility  ...      life  child_mortality\n",
              "population         1.000000  -0.061345  ... -0.005051         0.008058\n",
              "fertility         -0.061345   1.000000  ... -0.786921         0.901704\n",
              "HIV               -0.065821   0.292695  ... -0.604749         0.394913\n",
              "CO2               -0.010147  -0.439747  ...  0.476666        -0.458186\n",
              "BMI_male          -0.134905  -0.715380  ...  0.731559        -0.749691\n",
              "GDP               -0.045687  -0.502615  ...  0.628999        -0.543874\n",
              "BMI_female        -0.135149   0.527314  ... -0.658718         0.582053\n",
              "life              -0.005051  -0.786921  ...  1.000000        -0.874106\n",
              "child_mortality    0.008058   0.901704  ... -0.874106         1.000000\n",
              "\n",
              "[9 rows x 9 columns]"
            ]
          },
          "metadata": {
            "tags": []
          },
          "execution_count": 12
        }
      ]
    },
    {
      "cell_type": "code",
      "metadata": {
        "id": "Tks22fBbB1G0",
        "colab_type": "code",
        "outputId": "00291619-c3c0-4598-8e26-4c1040d60b6c",
        "colab": {
          "base_uri": "https://localhost:8080/",
          "height": 351
        }
      },
      "source": [
        "sns.heatmap(df.corr(), square=True, cmap='RdYlGn') # Matriz de correlacion grafica"
      ],
      "execution_count": 13,
      "outputs": [
        {
          "output_type": "execute_result",
          "data": {
            "text/plain": [
              "<matplotlib.axes._subplots.AxesSubplot at 0x7fe84e118518>"
            ]
          },
          "metadata": {
            "tags": []
          },
          "execution_count": 13
        },
        {
          "output_type": "display_data",
          "data": {
            "image/png": "[encoded data removed]",
            "text/plain": [
              "<Figure size 432x288 with 2 Axes>"
            ]
          },
          "metadata": {
            "tags": []
          }
        }
      ]
    },
    {
      "cell_type": "code",
      "metadata": {
        "id": "m96jN8r4EYOW",
        "colab_type": "code",
        "colab": {}
      },
      "source": [
        "# Creación de arrays para modelacion\n",
        "y = df['life'].values\n",
        "X = df['fertility'].values\n"
      ],
      "execution_count": 0,
      "outputs": []
    },
    {
      "cell_type": "code",
      "metadata": {
        "id": "ehwA4uv1EYQv",
        "colab_type": "code",
        "outputId": "08c032bd-523b-456e-af80-68513a3267d3",
        "colab": {
          "base_uri": "https://localhost:8080/",
          "height": 51
        }
      },
      "source": [
        "# Dimensión del array X y Y antes de ajustar la forma para entrenar el modelo de regresion\n",
        "print(\"Dimensions of y before reshaping: {}\".format(y.shape))\n",
        "print(\"Dimensions of X before reshaping: {}\".format(X.shape))"
      ],
      "execution_count": 15,
      "outputs": [
        {
          "output_type": "stream",
          "text": [
            "Dimensions of y before reshaping: (139,)\n",
            "Dimensions of X before reshaping: (139,)\n"
          ],
          "name": "stdout"
        }
      ]
    },
    {
      "cell_type": "code",
      "metadata": {
        "id": "PZKxeDVvEeot",
        "colab_type": "code",
        "outputId": "e93b3251-f4ed-4df6-e662-e6721f75697e",
        "colab": {
          "base_uri": "https://localhost:8080/",
          "height": 51
        }
      },
      "source": [
        "# Ajustando la dimension de los arrays X, Y\n",
        "y = y.reshape(-1, 1)\n",
        "X = X.reshape(-1, 1)\n",
        "\n",
        "# Dimensión del array X y Y despues de ajustar la forma\n",
        "print(\"Dimensions of y after reshaping: {}\".format(y.shape))\n",
        "print(\"Dimensions of X after reshaping: {}\".format(X.shape))"
      ],
      "execution_count": 16,
      "outputs": [
        {
          "output_type": "stream",
          "text": [
            "Dimensions of y after reshaping: (139, 1)\n",
            "Dimensions of X after reshaping: (139, 1)\n"
          ],
          "name": "stdout"
        }
      ]
    },
    {
      "cell_type": "markdown",
      "metadata": {
        "id": "LEPPqB3rFxZ0",
        "colab_type": "text"
      },
      "source": [
        "## Cálculo regresión utilizando métrica $R^2$"
      ]
    },
    {
      "cell_type": "code",
      "metadata": {
        "id": "zwOKa0hYB1JM",
        "colab_type": "code",
        "outputId": "3ff403be-4f87-4806-9751-311c09045240",
        "colab": {
          "base_uri": "https://localhost:8080/",
          "height": 34
        }
      },
      "source": [
        "# Instanciamos el modelo de regresion\n",
        "reg = LinearRegression()\n",
        "\n",
        "# Espacio para predicción\n",
        "prediction_space = np.linspace(min(X), max(X)).reshape(-1,1)\n",
        "\n",
        "# Ajuste del modelo\n",
        "reg.fit(X,y)\n",
        "\n",
        "# Realizamos predicciones\n",
        "y_pred = reg.predict(prediction_space)\n",
        "\n",
        "# Score R^2 \n",
        "print(reg.score(X, y))"
      ],
      "execution_count": 17,
      "outputs": [
        {
          "output_type": "stream",
          "text": [
            "0.6192442167740035\n"
          ],
          "name": "stdout"
        }
      ]
    },
    {
      "cell_type": "markdown",
      "metadata": {
        "id": "XJYLKbdsFmw7",
        "colab_type": "text"
      },
      "source": [
        "## Cálculo regresión utilizando métrica RSME"
      ]
    },
    {
      "cell_type": "code",
      "metadata": {
        "id": "4892tI58D_EW",
        "colab_type": "code",
        "outputId": "3d5f58d2-6757-42f3-fc35-13b2a1dffc86",
        "colab": {
          "base_uri": "https://localhost:8080/",
          "height": 51
        }
      },
      "source": [
        "\n",
        "# Partición del conjunto de datos en entrenamiento y testeo\n",
        "X_train, X_test, y_train, y_test = train_test_split(X, y, test_size = 0.3, random_state=42)\n",
        "\n",
        "# Instanciamos el modelo de regresion\n",
        "reg_all = LinearRegression()\n",
        "\n",
        "# Ajuste del modelo a los datos de entrenamiento\n",
        "reg_all.fit(X_train,y_train)\n",
        "\n",
        "# Predicción utilizando datos de testeo\n",
        "y_pred = reg_all.predict(X_test)\n",
        "\n",
        "# Calculamos R^2 y RSME\n",
        "print(\"R^2: {}\".format(reg_all.score(X_test, y_test)))\n",
        "rmse = np.sqrt(mean_squared_error(y_test,y_pred))\n",
        "print(\"Error cuadrático medio: {}\".format(rmse))"
      ],
      "execution_count": 18,
      "outputs": [
        {
          "output_type": "stream",
          "text": [
            "R^2: 0.7298987360907494\n",
            "Error cuadrático medio: 4.194027914110243\n"
          ],
          "name": "stdout"
        }
      ]
    },
    {
      "cell_type": "markdown",
      "metadata": {
        "id": "Md1r7JMsdZhu",
        "colab_type": "text"
      },
      "source": [
        "## Introducción al Cross-validation\n"
      ]
    },
    {
      "cell_type": "code",
      "metadata": {
        "id": "IaU4AD-VD_G2",
        "colab_type": "code",
        "outputId": "2ec2a6de-8f01-4ed8-c23c-9b80ad3405e5",
        "colab": {
          "base_uri": "https://localhost:8080/",
          "height": 51
        }
      },
      "source": [
        "# Instanciamos el modelo de regresión\n",
        "reg = LinearRegression()\n",
        "\n",
        "# Vamos a realizar  5-fold cross-validation y vamos a medir el scores para fold\n",
        "cv_scores = cross_val_score(reg,X,y, cv=5)\n",
        "\n",
        "# Impresión del score\n",
        "print(cv_scores)\n",
        "\n",
        "print(\"Score Promedio del 5-Fold CV: {}\".format(np.mean(cv_scores)))"
      ],
      "execution_count": 19,
      "outputs": [
        {
          "output_type": "stream",
          "text": [
            "[0.71001079 0.75007717 0.55271526 0.547501   0.52410561]\n",
            "Score Promedio del 5-Fold CV: 0.6168819644425119\n"
          ],
          "name": "stdout"
        }
      ]
    },
    {
      "cell_type": "markdown",
      "metadata": {
        "id": "ly2bIFNCymHO",
        "colab_type": "text"
      },
      "source": [
        "Ajustamos diferentes folds y calculamos la media del $R^2$ para cada computación\n"
      ]
    },
    {
      "cell_type": "code",
      "metadata": {
        "id": "WXJs35ysD_JY",
        "colab_type": "code",
        "outputId": "dd07b387-be45-4b29-d502-6930db8102fb",
        "colab": {
          "base_uri": "https://localhost:8080/",
          "height": 51
        }
      },
      "source": [
        "# Ajustamos 3-fold CV\n",
        "cvscores_3 = cross_val_score(reg,X,y, cv=3)\n",
        "print(np.mean(cvscores_3))\n",
        "\n",
        "# Ajustamos 10-fold CV\n",
        "cvscores_10 = cross_val_score(reg,X,y, cv=10)\n",
        "print(np.mean(cvscores_10))"
      ],
      "execution_count": 20,
      "outputs": [
        {
          "output_type": "stream",
          "text": [
            "0.6294715754653507\n",
            "0.5883937741571185\n"
          ],
          "name": "stdout"
        }
      ]
    },
    {
      "cell_type": "code",
      "metadata": {
        "id": "nNBIUymfD_Lw",
        "colab_type": "code",
        "outputId": "f420e269-6b46-4e3a-aec8-d9438af421b5",
        "colab": {
          "base_uri": "https://localhost:8080/",
          "height": 51
        }
      },
      "source": [
        "# Podemos observar el tiempo de ejecución al cambiar el numero de los folds\n",
        "\n",
        "%timeit cross_val_score(reg,X,y, cv=3)\n",
        "%timeit cross_val_score(reg,X,y, cv=10)"
      ],
      "execution_count": 21,
      "outputs": [
        {
          "output_type": "stream",
          "text": [
            "100 loops, best of 3: 3.13 ms per loop\n",
            "100 loops, best of 3: 9.84 ms per loop\n"
          ],
          "name": "stdout"
        }
      ]
    },
    {
      "cell_type": "markdown",
      "metadata": {
        "id": "hBrrbz2b0gTS",
        "colab_type": "text"
      },
      "source": [
        "## Introducción a la regularización\n",
        "\n",
        "### Lasso\n",
        "Lasso regularization nos da una ayuda en el problema del feature selection, ya que **los coeficientes que tienden a cero durante el proceso de optimización no serán tenidos en cuenta y nos quedamos con aquellos que aporten a la solución del problema**\n",
        "\n",
        " Lasso realiza la regularización agregando a la función de pérdida un término de penalización del valor absoluto de cada coeficiente multiplicado por un alfa. Esto también se conoce como regularización L1 porque el término de regularización es la norma 1 de los coeficientes. Sin embargo, esta no es la única forma de regularizar, mas adelante veremos la regularizacion L2 o Ridge"
      ]
    },
    {
      "cell_type": "code",
      "metadata": {
        "id": "M51WDO984D5R",
        "colab_type": "code",
        "colab": {}
      },
      "source": [
        "## Cargaremos un nuevo dataset\n",
        "url = 'https://assets.datacamp.com/production/repositories/628/datasets/a7e65287ebb197b1267b5042955f27502ec65f31/gm_2008_region.csv'\n",
        "df = pd.read_csv(url)"
      ],
      "execution_count": 0,
      "outputs": []
    },
    {
      "cell_type": "code",
      "metadata": {
        "id": "5BZ2_BzK4HL-",
        "colab_type": "code",
        "colab": {}
      },
      "source": [
        "# Creación de arrays para modelacion\n",
        "y = df['life'].values\n",
        "df = df.drop(['life','Region'],1)\n",
        "X = df.values"
      ],
      "execution_count": 0,
      "outputs": []
    },
    {
      "cell_type": "code",
      "metadata": {
        "id": "n89Zcg2M0k6A",
        "colab_type": "code",
        "outputId": "0bc30c3c-096c-4b49-8eff-788337b65229",
        "colab": {
          "base_uri": "https://localhost:8080/",
          "height": 51
        }
      },
      "source": [
        "# Instanciamos lasso regressor: lasso\n",
        "lasso = Lasso(alpha=0.4, normalize=True)\n",
        "\n",
        "# Ajustamos el modelo\n",
        "lasso.fit(X,y)\n",
        "\n",
        "# Procesamos y mostramos los coeficientes\n",
        "lasso_coef = lasso.coef_\n",
        "print(lasso_coef)"
      ],
      "execution_count": 24,
      "outputs": [
        {
          "output_type": "stream",
          "text": [
            "[-0.         -0.         -0.          0.          0.          0.\n",
            " -0.         -0.07087587]\n"
          ],
          "name": "stdout"
        }
      ]
    },
    {
      "cell_type": "code",
      "metadata": {
        "id": "S6WhxS0Q0k9Z",
        "colab_type": "code",
        "outputId": "261b4945-5173-4596-a575-76e4419c9ce4",
        "colab": {
          "base_uri": "https://localhost:8080/",
          "height": 325
        }
      },
      "source": [
        "# Graficamos los coeficientes\n",
        "plt.plot(range(len(df.columns)), lasso_coef)\n",
        "plt.xticks(range(len(df.columns)), df.columns.values, rotation=60)\n",
        "plt.margins(0.02)\n",
        "plt.show()\n"
      ],
      "execution_count": 25,
      "outputs": [
        {
          "output_type": "display_data",
          "data": {
            "image/png": "[encoded data removed]",
            "text/plain": [
              "<Figure size 432x288 with 1 Axes>"
            ]
          },
          "metadata": {
            "tags": []
          }
        }
      ]
    },
    {
      "cell_type": "markdown",
      "metadata": {
        "id": "y5hTVQO87LQT",
        "colab_type": "text"
      },
      "source": [
        "### Ridge\n",
        "\n",
        "Regularización  II: Ridge\n",
        "\n",
        "\"Lasso es ideal para la selección de características, pero al construir modelos de regresión, la regresión de Ridge por donde iniciemos.\"\n",
        "\n",
        " Ridge toma la suma de los valores al cuadrado de los coeficientes multiplicados por un alfa, como en la regresión de Ridge, se esta calculando la norma 2. \n",
        " \n",
        " En este ejercicio, se realiza el ajuste de modelos de regresión en un rango de alfa diferentes y graficamos puntajes R2 con validación cruzada para cada uno.\n",
        "\n",
        " Se utilizará una función que fue dada en la clase"
      ]
    },
    {
      "cell_type": "code",
      "metadata": {
        "id": "L5PFN-fT7L2z",
        "colab_type": "code",
        "outputId": "3e26f921-f318-435c-f4c9-63e74462dfe1",
        "colab": {
          "base_uri": "https://localhost:8080/",
          "height": 283
        }
      },
      "source": [
        "# Configuracion de arrays inciales \n",
        "alpha_space = np.logspace(-4, 0, 50)\n",
        "ridge_scores = []\n",
        "ridge_scores_std = []\n",
        "\n",
        "# Instanciamos el regresor Ridge\n",
        "ridge = Ridge(normalize = True)\n",
        "\n",
        "# Vamos a iterar sobre los diferentes valores de alpha del regresor medimos el score\n",
        "for alpha in alpha_space:\n",
        "\n",
        "    #  Especificamos el valor de alfa mediente ridge.alpha\n",
        "    ridge.alpha = alpha\n",
        "    \n",
        "    # Realizamos cross validation con 10-fold  y el ridge_cv_scores\n",
        "    ridge_cv_scores = cross_val_score(ridge,X,y,cv=10)\n",
        "    \n",
        "    # Agregamos el valor medio del score de cada fold al array ridge_scores\n",
        "    ridge_scores.append(np.mean(ridge_cv_scores))\n",
        "    \n",
        "    # Agregamos la desviacion estandar cada fold al array al ridge_scores_std\n",
        "    ridge_scores_std.append(np.std(ridge_cv_scores))\n",
        "\n",
        "\n",
        "## Definimos funcion de graficación\n",
        "def display_plot(cv_scores, cv_scores_std):\n",
        "    fig = plt.figure()\n",
        "    ax = fig.add_subplot(1,1,1)\n",
        "    ax.plot(alpha_space, cv_scores)\n",
        "    std_error = cv_scores_std / np.sqrt(10)\n",
        "    ax.fill_between(alpha_space, cv_scores + std_error, cv_scores - std_error, alpha=0.2)\n",
        "    ax.set_ylabel('CV Score +/- Std Error')\n",
        "    ax.set_xlabel('Alpha')\n",
        "    ax.axhline(np.max(cv_scores), linestyle='--', color='.5')\n",
        "    ax.set_xlim([alpha_space[0], alpha_space[-1]])\n",
        "    ax.set_xscale('log')\n",
        "    plt.show()\n",
        "\n",
        "# Mostramos el grafico the plot\n",
        "display_plot(ridge_scores, ridge_scores_std)\n"
      ],
      "execution_count": 26,
      "outputs": [
        {
          "output_type": "display_data",
          "data": {
            "image/png": "[encoded data removed]",
            "text/plain": [
              "<Figure size 432x288 with 1 Axes>"
            ]
          },
          "metadata": {
            "tags": []
          }
        }
      ]
    },
    {
      "cell_type": "markdown",
      "metadata": {
        "id": "1SdZ5tX2b0v_",
        "colab_type": "text"
      },
      "source": [
        "# Fine-tuning your model\n",
        "\n",
        "* Matriz de confusión\n",
        "* Precisión\n",
        "* Recall\n",
        "* F1 Score\n",
        "*  Regresión logistica y curva ROC\n",
        "* AUC (Area under curve)"
      ]
    },
    {
      "cell_type": "code",
      "metadata": {
        "id": "-bEyrP0lhUCE",
        "colab_type": "code",
        "colab": {}
      },
      "source": [
        "# Cargamos un nuevo data set para esta sección\n",
        "url = 'https://assets.datacamp.com/production/repositories/628/datasets/444cdbf175d5fbf564b564bd36ac21740627a834/diabetes.csv'\n",
        "df = pd.read_csv(url)"
      ],
      "execution_count": 0,
      "outputs": []
    },
    {
      "cell_type": "code",
      "metadata": {
        "id": "JnCpXE2tjD4q",
        "colab_type": "code",
        "outputId": "87a8b594-9515-469e-908b-00efe44b0eab",
        "colab": {
          "base_uri": "https://localhost:8080/",
          "height": 255
        }
      },
      "source": [
        "df.info()"
      ],
      "execution_count": 28,
      "outputs": [
        {
          "output_type": "stream",
          "text": [
            "<class 'pandas.core.frame.DataFrame'>\n",
            "RangeIndex: 768 entries, 0 to 767\n",
            "Data columns (total 9 columns):\n",
            "pregnancies    768 non-null int64\n",
            "glucose        768 non-null int64\n",
            "diastolic      768 non-null int64\n",
            "triceps        768 non-null int64\n",
            "insulin        768 non-null int64\n",
            "bmi            768 non-null float64\n",
            "dpf            768 non-null float64\n",
            "age            768 non-null int64\n",
            "diabetes       768 non-null int64\n",
            "dtypes: float64(2), int64(7)\n",
            "memory usage: 54.1 KB\n"
          ],
          "name": "stdout"
        }
      ]
    },
    {
      "cell_type": "code",
      "metadata": {
        "id": "KILpa4vphUIS",
        "colab_type": "code",
        "colab": {}
      },
      "source": [
        "# Creación de arrays para modelacion\n",
        "y = df['diabetes'].values\n",
        "df = df.drop('diabetes',1)\n",
        "X = df.values"
      ],
      "execution_count": 0,
      "outputs": []
    },
    {
      "cell_type": "markdown",
      "metadata": {
        "id": "XLqesVGIkKuK",
        "colab_type": "text"
      },
      "source": [
        "Caso de predicción de spam de correos electronicos:\n",
        "* Precision : Un alto indicador de precisión significa un bajo indicador de falsos positivos. O en el caso de estudio significa que no muchos correos reales fueron clasificados como spam. También es conocido como valor predictivo positivo (VPP)\n",
        "\n",
        "* Recall: Un alto indicador de recall significa que el clasificador pronosticò mas positivos, en el caso de estudio, clasifico mas correos de spam correctamente.\n",
        "\n",
        "En conclusión, un alto valor de precisión significa resultados más relevantes que los irrelevantes, mientras que un alto de recall significa que mayoría de los resultados son relevantes."
      ]
    },
    {
      "cell_type": "code",
      "metadata": {
        "id": "ZBsgBJGBhUNH",
        "colab_type": "code",
        "outputId": "272422c5-aabf-489d-dfb5-d36d3b56f498",
        "colab": {
          "base_uri": "https://localhost:8080/",
          "height": 204
        }
      },
      "source": [
        "# Importando las librerias a utilizar\n",
        "from sklearn.metrics import confusion_matrix \n",
        "from sklearn.metrics import classification_report\n",
        "\n",
        "# Partición del data set en train y test con 40% de validacion\n",
        "X_train, X_test, y_train, y_test = train_test_split(X,y, test_size = 0.4, random_state=42 )\n",
        "\n",
        "# Instanciamos el clasificador kNN con 6 vecinos\n",
        "knn = KNeighborsClassifier(n_neighbors=6)\n",
        "\n",
        "# Ajustamos el clasificador a los datos de entrenamiento\n",
        "knn.fit(X_train,y_train)\n",
        "\n",
        "# Pronosticamos la existencia de diabetes en X_test y lo llamamos y_pred\n",
        "y_pred = knn.predict(X_test)\n",
        "\n",
        "# Construimos la matriz de confusión \n",
        "print(confusion_matrix(y_test, y_pred)) # Primero los datos reales y luegos los pronosticados por el modelo\n",
        "\n",
        "# Construimos el reporte de clasificación con las otras metricas (Precision, Recall y F1)\n",
        "print(classification_report(y_test, y_pred)) # Primero los datos reales y luegos los pronosticados por el modelo"
      ],
      "execution_count": 30,
      "outputs": [
        {
          "output_type": "stream",
          "text": [
            "[[176  30]\n",
            " [ 56  46]]\n",
            "              precision    recall  f1-score   support\n",
            "\n",
            "           0       0.76      0.85      0.80       206\n",
            "           1       0.61      0.45      0.52       102\n",
            "\n",
            "    accuracy                           0.72       308\n",
            "   macro avg       0.68      0.65      0.66       308\n",
            "weighted avg       0.71      0.72      0.71       308\n",
            "\n"
          ],
          "name": "stdout"
        }
      ]
    },
    {
      "cell_type": "markdown",
      "metadata": {
        "id": "XFGGz3Crot4w",
        "colab_type": "text"
      },
      "source": [
        "Construyendo un modelo de clasificación mediante regresión logistica"
      ]
    },
    {
      "cell_type": "code",
      "metadata": {
        "id": "zbpDENLEhURU",
        "colab_type": "code",
        "outputId": "60c670ce-8ba7-4c5d-f84a-f1b7e617012c",
        "colab": {
          "base_uri": "https://localhost:8080/",
          "height": 340
        }
      },
      "source": [
        "# Importando las librerias a utilizar\n",
        "from sklearn.linear_model import LogisticRegression\n",
        "\n",
        "# Instanciamos el clasificador de regresion logistica\n",
        "logreg = LogisticRegression()\n",
        "\n",
        "# Ajustamos el clasificador a los datos de entrenamiento\n",
        "logreg.fit(X_train,y_train) # Utilizamos el mismo set de entrenamiento del clasificador de kNN\n",
        "\n",
        "# Pronosticamos la existencia de diabetes en X_test y lo llamamos y_pred\n",
        "y_pred = logreg.predict(X_test)\n",
        "\n",
        "# Construimos la matriz de confusión \n",
        "print(confusion_matrix(y_test, y_pred)) # Primero los datos reales y luegos los pronosticados por el modelo\n",
        "\n",
        "# Construimos el reporte de clasificación con las otras metricas (Precision, Recall y F1)\n",
        "print(classification_report(y_test, y_pred)) # Primero los datos reales y luegos los pronosticados por el modelo"
      ],
      "execution_count": 31,
      "outputs": [
        {
          "output_type": "stream",
          "text": [
            "[[170  36]\n",
            " [ 36  66]]\n",
            "              precision    recall  f1-score   support\n",
            "\n",
            "           0       0.83      0.83      0.83       206\n",
            "           1       0.65      0.65      0.65       102\n",
            "\n",
            "    accuracy                           0.77       308\n",
            "   macro avg       0.74      0.74      0.74       308\n",
            "weighted avg       0.77      0.77      0.77       308\n",
            "\n"
          ],
          "name": "stdout"
        },
        {
          "output_type": "stream",
          "text": [
            "/usr/local/lib/python3.6/dist-packages/sklearn/linear_model/_logistic.py:940: ConvergenceWarning: lbfgs failed to converge (status=1):\n",
            "STOP: TOTAL NO. of ITERATIONS REACHED LIMIT.\n",
            "\n",
            "Increase the number of iterations (max_iter) or scale the data as shown in:\n",
            "    https://scikit-learn.org/stable/modules/preprocessing.html\n",
            "Please also refer to the documentation for alternative solver options:\n",
            "    https://scikit-learn.org/stable/modules/linear_model.html#logistic-regression\n",
            "  extra_warning_msg=_LOGISTIC_SOLVER_CONVERGENCE_MSG)\n"
          ],
          "name": "stderr"
        }
      ]
    },
    {
      "cell_type": "markdown",
      "metadata": {
        "id": "VdKhnjj-pi7J",
        "colab_type": "text"
      },
      "source": [
        "Graficamos la curva ROC"
      ]
    },
    {
      "cell_type": "code",
      "metadata": {
        "id": "Zuf6hor1plcv",
        "colab_type": "code",
        "outputId": "882ad6b1-d8d0-41dc-9258-200699590b82",
        "colab": {
          "base_uri": "https://localhost:8080/",
          "height": 295
        }
      },
      "source": [
        "# Importamos la libreria necesaria\n",
        "from sklearn.metrics import roc_curve\n",
        "\n",
        "#  Calculamos las predicciones de las probabilidades del dataset de test\n",
        "y_pred_prob = logreg.predict_proba(X_test)[:,1]\n",
        "\n",
        "# Generamos los valores necesario para la curva roc\n",
        "fpr, tpr, thresholds = roc_curve(y_test, y_pred_prob) # Primero los datos reales y luegos los pronosticados por el modelo\n",
        "\n",
        "# Graficamos curva ROC\n",
        "plt.plot([0, 1], [0, 1], 'k--')\n",
        "plt.plot(fpr, tpr)\n",
        "plt.xlabel('Tasa de falsos positivos ')\n",
        "plt.ylabel('Tasa de verdaderos positivos')\n",
        "plt.title('Curva ROC')\n",
        "plt.show()"
      ],
      "execution_count": 32,
      "outputs": [
        {
          "output_type": "display_data",
          "data": {
            "image/png": "[encoded data removed]",
            "text/plain": [
              "<Figure size 432x288 with 1 Axes>"
            ]
          },
          "metadata": {
            "tags": []
          }
        }
      ]
    },
    {
      "cell_type": "markdown",
      "metadata": {
        "id": "-PGYdh4orjVr",
        "colab_type": "text"
      },
      "source": [
        "Ahora vamos a calcular el area bajo la curva. AUC. (Modelos de clasificacion)\n",
        "\n",
        "Mayor AUC es mejor"
      ]
    },
    {
      "cell_type": "code",
      "metadata": {
        "id": "1n7H2KzLry5D",
        "colab_type": "code",
        "outputId": "acaf0796-9705-4010-8fef-7becaab61bb6",
        "colab": {
          "base_uri": "https://localhost:8080/",
          "height": 731
        }
      },
      "source": [
        "# Import necessary modules\n",
        "from sklearn.metrics import roc_auc_score\n",
        "from sklearn.model_selection import cross_val_score\n",
        "\n",
        "# Compute predicted probabilities: y_pred_prob\n",
        "y_pred_prob = logreg.predict_proba(X_test)[:,1]\n",
        "\n",
        "# Compute and print AUC score\n",
        "print(\"AUC: {}\".format(roc_auc_score(y_test, y_pred_prob)))\n",
        "\n",
        "# Compute cross-validated AUC scores: cv_auc\n",
        "cv_auc = cross_val_score(logreg, X, y, cv=5,\n",
        "scoring='roc_auc')\n",
        "\n",
        "# Print list of AUC scores\n",
        "print(\"AUC scores computed using 5-fold cross-validation: {}\".format(cv_auc))"
      ],
      "execution_count": 33,
      "outputs": [
        {
          "output_type": "stream",
          "text": [
            "AUC: 0.8260517799352751\n",
            "AUC scores computed using 5-fold cross-validation: [0.80814815 0.80777778 0.82666667 0.87528302 0.83377358]\n"
          ],
          "name": "stdout"
        },
        {
          "output_type": "stream",
          "text": [
            "/usr/local/lib/python3.6/dist-packages/sklearn/linear_model/_logistic.py:940: ConvergenceWarning: lbfgs failed to converge (status=1):\n",
            "STOP: TOTAL NO. of ITERATIONS REACHED LIMIT.\n",
            "\n",
            "Increase the number of iterations (max_iter) or scale the data as shown in:\n",
            "    https://scikit-learn.org/stable/modules/preprocessing.html\n",
            "Please also refer to the documentation for alternative solver options:\n",
            "    https://scikit-learn.org/stable/modules/linear_model.html#logistic-regression\n",
            "  extra_warning_msg=_LOGISTIC_SOLVER_CONVERGENCE_MSG)\n",
            "/usr/local/lib/python3.6/dist-packages/sklearn/linear_model/_logistic.py:940: ConvergenceWarning: lbfgs failed to converge (status=1):\n",
            "STOP: TOTAL NO. of ITERATIONS REACHED LIMIT.\n",
            "\n",
            "Increase the number of iterations (max_iter) or scale the data as shown in:\n",
            "    https://scikit-learn.org/stable/modules/preprocessing.html\n",
            "Please also refer to the documentation for alternative solver options:\n",
            "    https://scikit-learn.org/stable/modules/linear_model.html#logistic-regression\n",
            "  extra_warning_msg=_LOGISTIC_SOLVER_CONVERGENCE_MSG)\n",
            "/usr/local/lib/python3.6/dist-packages/sklearn/linear_model/_logistic.py:940: ConvergenceWarning: lbfgs failed to converge (status=1):\n",
            "STOP: TOTAL NO. of ITERATIONS REACHED LIMIT.\n",
            "\n",
            "Increase the number of iterations (max_iter) or scale the data as shown in:\n",
            "    https://scikit-learn.org/stable/modules/preprocessing.html\n",
            "Please also refer to the documentation for alternative solver options:\n",
            "    https://scikit-learn.org/stable/modules/linear_model.html#logistic-regression\n",
            "  extra_warning_msg=_LOGISTIC_SOLVER_CONVERGENCE_MSG)\n",
            "/usr/local/lib/python3.6/dist-packages/sklearn/linear_model/_logistic.py:940: ConvergenceWarning: lbfgs failed to converge (status=1):\n",
            "STOP: TOTAL NO. of ITERATIONS REACHED LIMIT.\n",
            "\n",
            "Increase the number of iterations (max_iter) or scale the data as shown in:\n",
            "    https://scikit-learn.org/stable/modules/preprocessing.html\n",
            "Please also refer to the documentation for alternative solver options:\n",
            "    https://scikit-learn.org/stable/modules/linear_model.html#logistic-regression\n",
            "  extra_warning_msg=_LOGISTIC_SOLVER_CONVERGENCE_MSG)\n",
            "/usr/local/lib/python3.6/dist-packages/sklearn/linear_model/_logistic.py:940: ConvergenceWarning: lbfgs failed to converge (status=1):\n",
            "STOP: TOTAL NO. of ITERATIONS REACHED LIMIT.\n",
            "\n",
            "Increase the number of iterations (max_iter) or scale the data as shown in:\n",
            "    https://scikit-learn.org/stable/modules/preprocessing.html\n",
            "Please also refer to the documentation for alternative solver options:\n",
            "    https://scikit-learn.org/stable/modules/linear_model.html#logistic-regression\n",
            "  extra_warning_msg=_LOGISTIC_SOLVER_CONVERGENCE_MSG)\n"
          ],
          "name": "stderr"
        }
      ]
    },
    {
      "cell_type": "markdown",
      "metadata": {
        "id": "CGsjTe2WsLUc",
        "colab_type": "text"
      },
      "source": [
        "\n",
        "Ahora vamos a realizar Hyperparameter tuning\n",
        "\n"
      ]
    },
    {
      "cell_type": "code",
      "metadata": {
        "id": "WjkIVdRAv02j",
        "colab_type": "code",
        "outputId": "29beb420-b996-4dc2-abb3-0b36de28df7c",
        "colab": {
          "base_uri": "https://localhost:8080/",
          "height": 1000
        }
      },
      "source": [
        "# Import necessary modules\n",
        "from sklearn.linear_model import LogisticRegression\n",
        "from sklearn.model_selection import GridSearchCV\n",
        "\n",
        "# Setup the hyperparameter grid\n",
        "c_space = np.logspace(-5, 8, 15)\n",
        "param_grid = {'C': c_space}\n",
        "\n",
        "# Instantiate a logistic regression classifier: logreg\n",
        "logreg = LogisticRegression()\n",
        "\n",
        "# Instantiate the GridSearchCV object: logreg_cv\n",
        "logreg_cv = GridSearchCV(logreg, param_grid, cv=5)\n",
        "\n",
        "# Fit it to the data\n",
        "logreg_cv.fit(X,y)\n",
        "\n",
        "# Print the tuned parameters and score\n",
        "print(\"Tuned Logistic Regression Parameters: {}\".format(logreg_cv.best_params_)) \n",
        "print(\"Best score is {}\".format(logreg_cv.best_score_))"
      ],
      "execution_count": 34,
      "outputs": [
        {
          "output_type": "stream",
          "text": [
            "/usr/local/lib/python3.6/dist-packages/sklearn/linear_model/_logistic.py:940: ConvergenceWarning: lbfgs failed to converge (status=1):\n",
            "STOP: TOTAL NO. of ITERATIONS REACHED LIMIT.\n",
            "\n",
            "Increase the number of iterations (max_iter) or scale the data as shown in:\n",
            "    https://scikit-learn.org/stable/modules/preprocessing.html\n",
            "Please also refer to the documentation for alternative solver options:\n",
            "    https://scikit-learn.org/stable/modules/linear_model.html#logistic-regression\n",
            "  extra_warning_msg=_LOGISTIC_SOLVER_CONVERGENCE_MSG)\n",
            "/usr/local/lib/python3.6/dist-packages/sklearn/linear_model/_logistic.py:940: ConvergenceWarning: lbfgs failed to converge (status=1):\n",
            "STOP: TOTAL NO. of ITERATIONS REACHED LIMIT.\n",
            "\n",
            "Increase the number of iterations (max_iter) or scale the data as shown in:\n",
            "    https://scikit-learn.org/stable/modules/preprocessing.html\n",
            "Please also refer to the documentation for alternative solver options:\n",
            "    https://scikit-learn.org/stable/modules/linear_model.html#logistic-regression\n",
            "  extra_warning_msg=_LOGISTIC_SOLVER_CONVERGENCE_MSG)\n",
            "/usr/local/lib/python3.6/dist-packages/sklearn/linear_model/_logistic.py:940: ConvergenceWarning: lbfgs failed to converge (status=1):\n",
            "STOP: TOTAL NO. of ITERATIONS REACHED LIMIT.\n",
            "\n",
            "Increase the number of iterations (max_iter) or scale the data as shown in:\n",
            "    https://scikit-learn.org/stable/modules/preprocessing.html\n",
            "Please also refer to the documentation for alternative solver options:\n",
            "    https://scikit-learn.org/stable/modules/linear_model.html#logistic-regression\n",
            "  extra_warning_msg=_LOGISTIC_SOLVER_CONVERGENCE_MSG)\n",
            "/usr/local/lib/python3.6/dist-packages/sklearn/linear_model/_logistic.py:940: ConvergenceWarning: lbfgs failed to converge (status=1):\n",
            "STOP: TOTAL NO. of ITERATIONS REACHED LIMIT.\n",
            "\n",
            "Increase the number of iterations (max_iter) or scale the data as shown in:\n",
            "    https://scikit-learn.org/stable/modules/preprocessing.html\n",
            "Please also refer to the documentation for alternative solver options:\n",
            "    https://scikit-learn.org/stable/modules/linear_model.html#logistic-regression\n",
            "  extra_warning_msg=_LOGISTIC_SOLVER_CONVERGENCE_MSG)\n",
            "/usr/local/lib/python3.6/dist-packages/sklearn/linear_model/_logistic.py:940: ConvergenceWarning: lbfgs failed to converge (status=1):\n",
            "STOP: TOTAL NO. of ITERATIONS REACHED LIMIT.\n",
            "\n",
            "Increase the number of iterations (max_iter) or scale the data as shown in:\n",
            "    https://scikit-learn.org/stable/modules/preprocessing.html\n",
            "Please also refer to the documentation for alternative solver options:\n",
            "    https://scikit-learn.org/stable/modules/linear_model.html#logistic-regression\n",
            "  extra_warning_msg=_LOGISTIC_SOLVER_CONVERGENCE_MSG)\n",
            "/usr/local/lib/python3.6/dist-packages/sklearn/linear_model/_logistic.py:940: ConvergenceWarning: lbfgs failed to converge (status=1):\n",
            "STOP: TOTAL NO. of ITERATIONS REACHED LIMIT.\n",
            "\n",
            "Increase the number of iterations (max_iter) or scale the data as shown in:\n",
            "    https://scikit-learn.org/stable/modules/preprocessing.html\n",
            "Please also refer to the documentation for alternative solver options:\n",
            "    https://scikit-learn.org/stable/modules/linear_model.html#logistic-regression\n",
            "  extra_warning_msg=_LOGISTIC_SOLVER_CONVERGENCE_MSG)\n",
            "/usr/local/lib/python3.6/dist-packages/sklearn/linear_model/_logistic.py:940: ConvergenceWarning: lbfgs failed to converge (status=1):\n",
            "STOP: TOTAL NO. of ITERATIONS REACHED LIMIT.\n",
            "\n",
            "Increase the number of iterations (max_iter) or scale the data as shown in:\n",
            "    https://scikit-learn.org/stable/modules/preprocessing.html\n",
            "Please also refer to the documentation for alternative solver options:\n",
            "    https://scikit-learn.org/stable/modules/linear_model.html#logistic-regression\n",
            "  extra_warning_msg=_LOGISTIC_SOLVER_CONVERGENCE_MSG)\n",
            "/usr/local/lib/python3.6/dist-packages/sklearn/linear_model/_logistic.py:940: ConvergenceWarning: lbfgs failed to converge (status=1):\n",
            "STOP: TOTAL NO. of ITERATIONS REACHED LIMIT.\n",
            "\n",
            "Increase the number of iterations (max_iter) or scale the data as shown in:\n",
            "    https://scikit-learn.org/stable/modules/preprocessing.html\n",
            "Please also refer to the documentation for alternative solver options:\n",
            "    https://scikit-learn.org/stable/modules/linear_model.html#logistic-regression\n",
            "  extra_warning_msg=_LOGISTIC_SOLVER_CONVERGENCE_MSG)\n",
            "/usr/local/lib/python3.6/dist-packages/sklearn/linear_model/_logistic.py:940: ConvergenceWarning: lbfgs failed to converge (status=1):\n",
            "STOP: TOTAL NO. of ITERATIONS REACHED LIMIT.\n",
            "\n",
            "Increase the number of iterations (max_iter) or scale the data as shown in:\n",
            "    https://scikit-learn.org/stable/modules/preprocessing.html\n",
            "Please also refer to the documentation for alternative solver options:\n",
            "    https://scikit-learn.org/stable/modules/linear_model.html#logistic-regression\n",
            "  extra_warning_msg=_LOGISTIC_SOLVER_CONVERGENCE_MSG)\n",
            "/usr/local/lib/python3.6/dist-packages/sklearn/linear_model/_logistic.py:940: ConvergenceWarning: lbfgs failed to converge (status=1):\n",
            "STOP: TOTAL NO. of ITERATIONS REACHED LIMIT.\n",
            "\n",
            "Increase the number of iterations (max_iter) or scale the data as shown in:\n",
            "    https://scikit-learn.org/stable/modules/preprocessing.html\n",
            "Please also refer to the documentation for alternative solver options:\n",
            "    https://scikit-learn.org/stable/modules/linear_model.html#logistic-regression\n",
            "  extra_warning_msg=_LOGISTIC_SOLVER_CONVERGENCE_MSG)\n",
            "/usr/local/lib/python3.6/dist-packages/sklearn/linear_model/_logistic.py:940: ConvergenceWarning: lbfgs failed to converge (status=1):\n",
            "STOP: TOTAL NO. of ITERATIONS REACHED LIMIT.\n",
            "\n",
            "Increase the number of iterations (max_iter) or scale the data as shown in:\n",
            "    https://scikit-learn.org/stable/modules/preprocessing.html\n",
            "Please also refer to the documentation for alternative solver options:\n",
            "    https://scikit-learn.org/stable/modules/linear_model.html#logistic-regression\n",
            "  extra_warning_msg=_LOGISTIC_SOLVER_CONVERGENCE_MSG)\n",
            "/usr/local/lib/python3.6/dist-packages/sklearn/linear_model/_logistic.py:940: ConvergenceWarning: lbfgs failed to converge (status=1):\n",
            "STOP: TOTAL NO. of ITERATIONS REACHED LIMIT.\n",
            "\n",
            "Increase the number of iterations (max_iter) or scale the data as shown in:\n",
            "    https://scikit-learn.org/stable/modules/preprocessing.html\n",
            "Please also refer to the documentation for alternative solver options:\n",
            "    https://scikit-learn.org/stable/modules/linear_model.html#logistic-regression\n",
            "  extra_warning_msg=_LOGISTIC_SOLVER_CONVERGENCE_MSG)\n",
            "/usr/local/lib/python3.6/dist-packages/sklearn/linear_model/_logistic.py:940: ConvergenceWarning: lbfgs failed to converge (status=1):\n",
            "STOP: TOTAL NO. of ITERATIONS REACHED LIMIT.\n",
            "\n",
            "Increase the number of iterations (max_iter) or scale the data as shown in:\n",
            "    https://scikit-learn.org/stable/modules/preprocessing.html\n",
            "Please also refer to the documentation for alternative solver options:\n",
            "    https://scikit-learn.org/stable/modules/linear_model.html#logistic-regression\n",
            "  extra_warning_msg=_LOGISTIC_SOLVER_CONVERGENCE_MSG)\n",
            "/usr/local/lib/python3.6/dist-packages/sklearn/linear_model/_logistic.py:940: ConvergenceWarning: lbfgs failed to converge (status=1):\n",
            "STOP: TOTAL NO. of ITERATIONS REACHED LIMIT.\n",
            "\n",
            "Increase the number of iterations (max_iter) or scale the data as shown in:\n",
            "    https://scikit-learn.org/stable/modules/preprocessing.html\n",
            "Please also refer to the documentation for alternative solver options:\n",
            "    https://scikit-learn.org/stable/modules/linear_model.html#logistic-regression\n",
            "  extra_warning_msg=_LOGISTIC_SOLVER_CONVERGENCE_MSG)\n",
            "/usr/local/lib/python3.6/dist-packages/sklearn/linear_model/_logistic.py:940: ConvergenceWarning: lbfgs failed to converge (status=1):\n",
            "STOP: TOTAL NO. of ITERATIONS REACHED LIMIT.\n",
            "\n",
            "Increase the number of iterations (max_iter) or scale the data as shown in:\n",
            "    https://scikit-learn.org/stable/modules/preprocessing.html\n",
            "Please also refer to the documentation for alternative solver options:\n",
            "    https://scikit-learn.org/stable/modules/linear_model.html#logistic-regression\n",
            "  extra_warning_msg=_LOGISTIC_SOLVER_CONVERGENCE_MSG)\n",
            "/usr/local/lib/python3.6/dist-packages/sklearn/linear_model/_logistic.py:940: ConvergenceWarning: lbfgs failed to converge (status=1):\n",
            "STOP: TOTAL NO. of ITERATIONS REACHED LIMIT.\n",
            "\n",
            "Increase the number of iterations (max_iter) or scale the data as shown in:\n",
            "    https://scikit-learn.org/stable/modules/preprocessing.html\n",
            "Please also refer to the documentation for alternative solver options:\n",
            "    https://scikit-learn.org/stable/modules/linear_model.html#logistic-regression\n",
            "  extra_warning_msg=_LOGISTIC_SOLVER_CONVERGENCE_MSG)\n",
            "/usr/local/lib/python3.6/dist-packages/sklearn/linear_model/_logistic.py:940: ConvergenceWarning: lbfgs failed to converge (status=1):\n",
            "STOP: TOTAL NO. of ITERATIONS REACHED LIMIT.\n",
            "\n",
            "Increase the number of iterations (max_iter) or scale the data as shown in:\n",
            "    https://scikit-learn.org/stable/modules/preprocessing.html\n",
            "Please also refer to the documentation for alternative solver options:\n",
            "    https://scikit-learn.org/stable/modules/linear_model.html#logistic-regression\n",
            "  extra_warning_msg=_LOGISTIC_SOLVER_CONVERGENCE_MSG)\n",
            "/usr/local/lib/python3.6/dist-packages/sklearn/linear_model/_logistic.py:940: ConvergenceWarning: lbfgs failed to converge (status=1):\n",
            "STOP: TOTAL NO. of ITERATIONS REACHED LIMIT.\n",
            "\n",
            "Increase the number of iterations (max_iter) or scale the data as shown in:\n",
            "    https://scikit-learn.org/stable/modules/preprocessing.html\n",
            "Please also refer to the documentation for alternative solver options:\n",
            "    https://scikit-learn.org/stable/modules/linear_model.html#logistic-regression\n",
            "  extra_warning_msg=_LOGISTIC_SOLVER_CONVERGENCE_MSG)\n",
            "/usr/local/lib/python3.6/dist-packages/sklearn/linear_model/_logistic.py:940: ConvergenceWarning: lbfgs failed to converge (status=1):\n",
            "STOP: TOTAL NO. of ITERATIONS REACHED LIMIT.\n",
            "\n",
            "Increase the number of iterations (max_iter) or scale the data as shown in:\n",
            "    https://scikit-learn.org/stable/modules/preprocessing.html\n",
            "Please also refer to the documentation for alternative solver options:\n",
            "    https://scikit-learn.org/stable/modules/linear_model.html#logistic-regression\n",
            "  extra_warning_msg=_LOGISTIC_SOLVER_CONVERGENCE_MSG)\n",
            "/usr/local/lib/python3.6/dist-packages/sklearn/linear_model/_logistic.py:940: ConvergenceWarning: lbfgs failed to converge (status=1):\n",
            "STOP: TOTAL NO. of ITERATIONS REACHED LIMIT.\n",
            "\n",
            "Increase the number of iterations (max_iter) or scale the data as shown in:\n",
            "    https://scikit-learn.org/stable/modules/preprocessing.html\n",
            "Please also refer to the documentation for alternative solver options:\n",
            "    https://scikit-learn.org/stable/modules/linear_model.html#logistic-regression\n",
            "  extra_warning_msg=_LOGISTIC_SOLVER_CONVERGENCE_MSG)\n",
            "/usr/local/lib/python3.6/dist-packages/sklearn/linear_model/_logistic.py:940: ConvergenceWarning: lbfgs failed to converge (status=1):\n",
            "STOP: TOTAL NO. of ITERATIONS REACHED LIMIT.\n",
            "\n",
            "Increase the number of iterations (max_iter) or scale the data as shown in:\n",
            "    https://scikit-learn.org/stable/modules/preprocessing.html\n",
            "Please also refer to the documentation for alternative solver options:\n",
            "    https://scikit-learn.org/stable/modules/linear_model.html#logistic-regression\n",
            "  extra_warning_msg=_LOGISTIC_SOLVER_CONVERGENCE_MSG)\n",
            "/usr/local/lib/python3.6/dist-packages/sklearn/linear_model/_logistic.py:940: ConvergenceWarning: lbfgs failed to converge (status=1):\n",
            "STOP: TOTAL NO. of ITERATIONS REACHED LIMIT.\n",
            "\n",
            "Increase the number of iterations (max_iter) or scale the data as shown in:\n",
            "    https://scikit-learn.org/stable/modules/preprocessing.html\n",
            "Please also refer to the documentation for alternative solver options:\n",
            "    https://scikit-learn.org/stable/modules/linear_model.html#logistic-regression\n",
            "  extra_warning_msg=_LOGISTIC_SOLVER_CONVERGENCE_MSG)\n",
            "/usr/local/lib/python3.6/dist-packages/sklearn/linear_model/_logistic.py:940: ConvergenceWarning: lbfgs failed to converge (status=1):\n",
            "STOP: TOTAL NO. of ITERATIONS REACHED LIMIT.\n",
            "\n",
            "Increase the number of iterations (max_iter) or scale the data as shown in:\n",
            "    https://scikit-learn.org/stable/modules/preprocessing.html\n",
            "Please also refer to the documentation for alternative solver options:\n",
            "    https://scikit-learn.org/stable/modules/linear_model.html#logistic-regression\n",
            "  extra_warning_msg=_LOGISTIC_SOLVER_CONVERGENCE_MSG)\n",
            "/usr/local/lib/python3.6/dist-packages/sklearn/linear_model/_logistic.py:940: ConvergenceWarning: lbfgs failed to converge (status=1):\n",
            "STOP: TOTAL NO. of ITERATIONS REACHED LIMIT.\n",
            "\n",
            "Increase the number of iterations (max_iter) or scale the data as shown in:\n",
            "    https://scikit-learn.org/stable/modules/preprocessing.html\n",
            "Please also refer to the documentation for alternative solver options:\n",
            "    https://scikit-learn.org/stable/modules/linear_model.html#logistic-regression\n",
            "  extra_warning_msg=_LOGISTIC_SOLVER_CONVERGENCE_MSG)\n",
            "/usr/local/lib/python3.6/dist-packages/sklearn/linear_model/_logistic.py:940: ConvergenceWarning: lbfgs failed to converge (status=1):\n",
            "STOP: TOTAL NO. of ITERATIONS REACHED LIMIT.\n",
            "\n",
            "Increase the number of iterations (max_iter) or scale the data as shown in:\n",
            "    https://scikit-learn.org/stable/modules/preprocessing.html\n",
            "Please also refer to the documentation for alternative solver options:\n",
            "    https://scikit-learn.org/stable/modules/linear_model.html#logistic-regression\n",
            "  extra_warning_msg=_LOGISTIC_SOLVER_CONVERGENCE_MSG)\n",
            "/usr/local/lib/python3.6/dist-packages/sklearn/linear_model/_logistic.py:940: ConvergenceWarning: lbfgs failed to converge (status=1):\n",
            "STOP: TOTAL NO. of ITERATIONS REACHED LIMIT.\n",
            "\n",
            "Increase the number of iterations (max_iter) or scale the data as shown in:\n",
            "    https://scikit-learn.org/stable/modules/preprocessing.html\n",
            "Please also refer to the documentation for alternative solver options:\n",
            "    https://scikit-learn.org/stable/modules/linear_model.html#logistic-regression\n",
            "  extra_warning_msg=_LOGISTIC_SOLVER_CONVERGENCE_MSG)\n",
            "/usr/local/lib/python3.6/dist-packages/sklearn/linear_model/_logistic.py:940: ConvergenceWarning: lbfgs failed to converge (status=1):\n",
            "STOP: TOTAL NO. of ITERATIONS REACHED LIMIT.\n",
            "\n",
            "Increase the number of iterations (max_iter) or scale the data as shown in:\n",
            "    https://scikit-learn.org/stable/modules/preprocessing.html\n",
            "Please also refer to the documentation for alternative solver options:\n",
            "    https://scikit-learn.org/stable/modules/linear_model.html#logistic-regression\n",
            "  extra_warning_msg=_LOGISTIC_SOLVER_CONVERGENCE_MSG)\n",
            "/usr/local/lib/python3.6/dist-packages/sklearn/linear_model/_logistic.py:940: ConvergenceWarning: lbfgs failed to converge (status=1):\n",
            "STOP: TOTAL NO. of ITERATIONS REACHED LIMIT.\n",
            "\n",
            "Increase the number of iterations (max_iter) or scale the data as shown in:\n",
            "    https://scikit-learn.org/stable/modules/preprocessing.html\n",
            "Please also refer to the documentation for alternative solver options:\n",
            "    https://scikit-learn.org/stable/modules/linear_model.html#logistic-regression\n",
            "  extra_warning_msg=_LOGISTIC_SOLVER_CONVERGENCE_MSG)\n",
            "/usr/local/lib/python3.6/dist-packages/sklearn/linear_model/_logistic.py:940: ConvergenceWarning: lbfgs failed to converge (status=1):\n",
            "STOP: TOTAL NO. of ITERATIONS REACHED LIMIT.\n",
            "\n",
            "Increase the number of iterations (max_iter) or scale the data as shown in:\n",
            "    https://scikit-learn.org/stable/modules/preprocessing.html\n",
            "Please also refer to the documentation for alternative solver options:\n",
            "    https://scikit-learn.org/stable/modules/linear_model.html#logistic-regression\n",
            "  extra_warning_msg=_LOGISTIC_SOLVER_CONVERGENCE_MSG)\n",
            "/usr/local/lib/python3.6/dist-packages/sklearn/linear_model/_logistic.py:940: ConvergenceWarning: lbfgs failed to converge (status=1):\n",
            "STOP: TOTAL NO. of ITERATIONS REACHED LIMIT.\n",
            "\n",
            "Increase the number of iterations (max_iter) or scale the data as shown in:\n",
            "    https://scikit-learn.org/stable/modules/preprocessing.html\n",
            "Please also refer to the documentation for alternative solver options:\n",
            "    https://scikit-learn.org/stable/modules/linear_model.html#logistic-regression\n",
            "  extra_warning_msg=_LOGISTIC_SOLVER_CONVERGENCE_MSG)\n",
            "/usr/local/lib/python3.6/dist-packages/sklearn/linear_model/_logistic.py:940: ConvergenceWarning: lbfgs failed to converge (status=1):\n",
            "STOP: TOTAL NO. of ITERATIONS REACHED LIMIT.\n",
            "\n",
            "Increase the number of iterations (max_iter) or scale the data as shown in:\n",
            "    https://scikit-learn.org/stable/modules/preprocessing.html\n",
            "Please also refer to the documentation for alternative solver options:\n",
            "    https://scikit-learn.org/stable/modules/linear_model.html#logistic-regression\n",
            "  extra_warning_msg=_LOGISTIC_SOLVER_CONVERGENCE_MSG)\n",
            "/usr/local/lib/python3.6/dist-packages/sklearn/linear_model/_logistic.py:940: ConvergenceWarning: lbfgs failed to converge (status=1):\n",
            "STOP: TOTAL NO. of ITERATIONS REACHED LIMIT.\n",
            "\n",
            "Increase the number of iterations (max_iter) or scale the data as shown in:\n",
            "    https://scikit-learn.org/stable/modules/preprocessing.html\n",
            "Please also refer to the documentation for alternative solver options:\n",
            "    https://scikit-learn.org/stable/modules/linear_model.html#logistic-regression\n",
            "  extra_warning_msg=_LOGISTIC_SOLVER_CONVERGENCE_MSG)\n",
            "/usr/local/lib/python3.6/dist-packages/sklearn/linear_model/_logistic.py:940: ConvergenceWarning: lbfgs failed to converge (status=1):\n",
            "STOP: TOTAL NO. of ITERATIONS REACHED LIMIT.\n",
            "\n",
            "Increase the number of iterations (max_iter) or scale the data as shown in:\n",
            "    https://scikit-learn.org/stable/modules/preprocessing.html\n",
            "Please also refer to the documentation for alternative solver options:\n",
            "    https://scikit-learn.org/stable/modules/linear_model.html#logistic-regression\n",
            "  extra_warning_msg=_LOGISTIC_SOLVER_CONVERGENCE_MSG)\n",
            "/usr/local/lib/python3.6/dist-packages/sklearn/linear_model/_logistic.py:940: ConvergenceWarning: lbfgs failed to converge (status=1):\n",
            "STOP: TOTAL NO. of ITERATIONS REACHED LIMIT.\n",
            "\n",
            "Increase the number of iterations (max_iter) or scale the data as shown in:\n",
            "    https://scikit-learn.org/stable/modules/preprocessing.html\n",
            "Please also refer to the documentation for alternative solver options:\n",
            "    https://scikit-learn.org/stable/modules/linear_model.html#logistic-regression\n",
            "  extra_warning_msg=_LOGISTIC_SOLVER_CONVERGENCE_MSG)\n",
            "/usr/local/lib/python3.6/dist-packages/sklearn/linear_model/_logistic.py:940: ConvergenceWarning: lbfgs failed to converge (status=1):\n",
            "STOP: TOTAL NO. of ITERATIONS REACHED LIMIT.\n",
            "\n",
            "Increase the number of iterations (max_iter) or scale the data as shown in:\n",
            "    https://scikit-learn.org/stable/modules/preprocessing.html\n",
            "Please also refer to the documentation for alternative solver options:\n",
            "    https://scikit-learn.org/stable/modules/linear_model.html#logistic-regression\n",
            "  extra_warning_msg=_LOGISTIC_SOLVER_CONVERGENCE_MSG)\n",
            "/usr/local/lib/python3.6/dist-packages/sklearn/linear_model/_logistic.py:940: ConvergenceWarning: lbfgs failed to converge (status=1):\n",
            "STOP: TOTAL NO. of ITERATIONS REACHED LIMIT.\n",
            "\n",
            "Increase the number of iterations (max_iter) or scale the data as shown in:\n",
            "    https://scikit-learn.org/stable/modules/preprocessing.html\n",
            "Please also refer to the documentation for alternative solver options:\n",
            "    https://scikit-learn.org/stable/modules/linear_model.html#logistic-regression\n",
            "  extra_warning_msg=_LOGISTIC_SOLVER_CONVERGENCE_MSG)\n",
            "/usr/local/lib/python3.6/dist-packages/sklearn/linear_model/_logistic.py:940: ConvergenceWarning: lbfgs failed to converge (status=1):\n",
            "STOP: TOTAL NO. of ITERATIONS REACHED LIMIT.\n",
            "\n",
            "Increase the number of iterations (max_iter) or scale the data as shown in:\n",
            "    https://scikit-learn.org/stable/modules/preprocessing.html\n",
            "Please also refer to the documentation for alternative solver options:\n",
            "    https://scikit-learn.org/stable/modules/linear_model.html#logistic-regression\n",
            "  extra_warning_msg=_LOGISTIC_SOLVER_CONVERGENCE_MSG)\n",
            "/usr/local/lib/python3.6/dist-packages/sklearn/linear_model/_logistic.py:940: ConvergenceWarning: lbfgs failed to converge (status=1):\n",
            "STOP: TOTAL NO. of ITERATIONS REACHED LIMIT.\n",
            "\n",
            "Increase the number of iterations (max_iter) or scale the data as shown in:\n",
            "    https://scikit-learn.org/stable/modules/preprocessing.html\n",
            "Please also refer to the documentation for alternative solver options:\n",
            "    https://scikit-learn.org/stable/modules/linear_model.html#logistic-regression\n",
            "  extra_warning_msg=_LOGISTIC_SOLVER_CONVERGENCE_MSG)\n",
            "/usr/local/lib/python3.6/dist-packages/sklearn/linear_model/_logistic.py:940: ConvergenceWarning: lbfgs failed to converge (status=1):\n",
            "STOP: TOTAL NO. of ITERATIONS REACHED LIMIT.\n",
            "\n",
            "Increase the number of iterations (max_iter) or scale the data as shown in:\n",
            "    https://scikit-learn.org/stable/modules/preprocessing.html\n",
            "Please also refer to the documentation for alternative solver options:\n",
            "    https://scikit-learn.org/stable/modules/linear_model.html#logistic-regression\n",
            "  extra_warning_msg=_LOGISTIC_SOLVER_CONVERGENCE_MSG)\n",
            "/usr/local/lib/python3.6/dist-packages/sklearn/linear_model/_logistic.py:940: ConvergenceWarning: lbfgs failed to converge (status=1):\n",
            "STOP: TOTAL NO. of ITERATIONS REACHED LIMIT.\n",
            "\n",
            "Increase the number of iterations (max_iter) or scale the data as shown in:\n",
            "    https://scikit-learn.org/stable/modules/preprocessing.html\n",
            "Please also refer to the documentation for alternative solver options:\n",
            "    https://scikit-learn.org/stable/modules/linear_model.html#logistic-regression\n",
            "  extra_warning_msg=_LOGISTIC_SOLVER_CONVERGENCE_MSG)\n",
            "/usr/local/lib/python3.6/dist-packages/sklearn/linear_model/_logistic.py:940: ConvergenceWarning: lbfgs failed to converge (status=1):\n",
            "STOP: TOTAL NO. of ITERATIONS REACHED LIMIT.\n",
            "\n",
            "Increase the number of iterations (max_iter) or scale the data as shown in:\n",
            "    https://scikit-learn.org/stable/modules/preprocessing.html\n",
            "Please also refer to the documentation for alternative solver options:\n",
            "    https://scikit-learn.org/stable/modules/linear_model.html#logistic-regression\n",
            "  extra_warning_msg=_LOGISTIC_SOLVER_CONVERGENCE_MSG)\n",
            "/usr/local/lib/python3.6/dist-packages/sklearn/linear_model/_logistic.py:940: ConvergenceWarning: lbfgs failed to converge (status=1):\n",
            "STOP: TOTAL NO. of ITERATIONS REACHED LIMIT.\n",
            "\n",
            "Increase the number of iterations (max_iter) or scale the data as shown in:\n",
            "    https://scikit-learn.org/stable/modules/preprocessing.html\n",
            "Please also refer to the documentation for alternative solver options:\n",
            "    https://scikit-learn.org/stable/modules/linear_model.html#logistic-regression\n",
            "  extra_warning_msg=_LOGISTIC_SOLVER_CONVERGENCE_MSG)\n",
            "/usr/local/lib/python3.6/dist-packages/sklearn/linear_model/_logistic.py:940: ConvergenceWarning: lbfgs failed to converge (status=1):\n",
            "STOP: TOTAL NO. of ITERATIONS REACHED LIMIT.\n",
            "\n",
            "Increase the number of iterations (max_iter) or scale the data as shown in:\n",
            "    https://scikit-learn.org/stable/modules/preprocessing.html\n",
            "Please also refer to the documentation for alternative solver options:\n",
            "    https://scikit-learn.org/stable/modules/linear_model.html#logistic-regression\n",
            "  extra_warning_msg=_LOGISTIC_SOLVER_CONVERGENCE_MSG)\n",
            "/usr/local/lib/python3.6/dist-packages/sklearn/linear_model/_logistic.py:940: ConvergenceWarning: lbfgs failed to converge (status=1):\n",
            "STOP: TOTAL NO. of ITERATIONS REACHED LIMIT.\n",
            "\n",
            "Increase the number of iterations (max_iter) or scale the data as shown in:\n",
            "    https://scikit-learn.org/stable/modules/preprocessing.html\n",
            "Please also refer to the documentation for alternative solver options:\n",
            "    https://scikit-learn.org/stable/modules/linear_model.html#logistic-regression\n",
            "  extra_warning_msg=_LOGISTIC_SOLVER_CONVERGENCE_MSG)\n",
            "/usr/local/lib/python3.6/dist-packages/sklearn/linear_model/_logistic.py:940: ConvergenceWarning: lbfgs failed to converge (status=1):\n",
            "STOP: TOTAL NO. of ITERATIONS REACHED LIMIT.\n",
            "\n",
            "Increase the number of iterations (max_iter) or scale the data as shown in:\n",
            "    https://scikit-learn.org/stable/modules/preprocessing.html\n",
            "Please also refer to the documentation for alternative solver options:\n",
            "    https://scikit-learn.org/stable/modules/linear_model.html#logistic-regression\n",
            "  extra_warning_msg=_LOGISTIC_SOLVER_CONVERGENCE_MSG)\n",
            "/usr/local/lib/python3.6/dist-packages/sklearn/linear_model/_logistic.py:940: ConvergenceWarning: lbfgs failed to converge (status=1):\n",
            "STOP: TOTAL NO. of ITERATIONS REACHED LIMIT.\n",
            "\n",
            "Increase the number of iterations (max_iter) or scale the data as shown in:\n",
            "    https://scikit-learn.org/stable/modules/preprocessing.html\n",
            "Please also refer to the documentation for alternative solver options:\n",
            "    https://scikit-learn.org/stable/modules/linear_model.html#logistic-regression\n",
            "  extra_warning_msg=_LOGISTIC_SOLVER_CONVERGENCE_MSG)\n",
            "/usr/local/lib/python3.6/dist-packages/sklearn/linear_model/_logistic.py:940: ConvergenceWarning: lbfgs failed to converge (status=1):\n",
            "STOP: TOTAL NO. of ITERATIONS REACHED LIMIT.\n",
            "\n",
            "Increase the number of iterations (max_iter) or scale the data as shown in:\n",
            "    https://scikit-learn.org/stable/modules/preprocessing.html\n",
            "Please also refer to the documentation for alternative solver options:\n",
            "    https://scikit-learn.org/stable/modules/linear_model.html#logistic-regression\n",
            "  extra_warning_msg=_LOGISTIC_SOLVER_CONVERGENCE_MSG)\n",
            "/usr/local/lib/python3.6/dist-packages/sklearn/linear_model/_logistic.py:940: ConvergenceWarning: lbfgs failed to converge (status=1):\n",
            "STOP: TOTAL NO. of ITERATIONS REACHED LIMIT.\n",
            "\n",
            "Increase the number of iterations (max_iter) or scale the data as shown in:\n",
            "    https://scikit-learn.org/stable/modules/preprocessing.html\n",
            "Please also refer to the documentation for alternative solver options:\n",
            "    https://scikit-learn.org/stable/modules/linear_model.html#logistic-regression\n",
            "  extra_warning_msg=_LOGISTIC_SOLVER_CONVERGENCE_MSG)\n",
            "/usr/local/lib/python3.6/dist-packages/sklearn/linear_model/_logistic.py:940: ConvergenceWarning: lbfgs failed to converge (status=1):\n",
            "STOP: TOTAL NO. of ITERATIONS REACHED LIMIT.\n",
            "\n",
            "Increase the number of iterations (max_iter) or scale the data as shown in:\n",
            "    https://scikit-learn.org/stable/modules/preprocessing.html\n",
            "Please also refer to the documentation for alternative solver options:\n",
            "    https://scikit-learn.org/stable/modules/linear_model.html#logistic-regression\n",
            "  extra_warning_msg=_LOGISTIC_SOLVER_CONVERGENCE_MSG)\n",
            "/usr/local/lib/python3.6/dist-packages/sklearn/linear_model/_logistic.py:940: ConvergenceWarning: lbfgs failed to converge (status=1):\n",
            "STOP: TOTAL NO. of ITERATIONS REACHED LIMIT.\n",
            "\n",
            "Increase the number of iterations (max_iter) or scale the data as shown in:\n",
            "    https://scikit-learn.org/stable/modules/preprocessing.html\n",
            "Please also refer to the documentation for alternative solver options:\n",
            "    https://scikit-learn.org/stable/modules/linear_model.html#logistic-regression\n",
            "  extra_warning_msg=_LOGISTIC_SOLVER_CONVERGENCE_MSG)\n",
            "/usr/local/lib/python3.6/dist-packages/sklearn/linear_model/_logistic.py:940: ConvergenceWarning: lbfgs failed to converge (status=1):\n",
            "STOP: TOTAL NO. of ITERATIONS REACHED LIMIT.\n",
            "\n",
            "Increase the number of iterations (max_iter) or scale the data as shown in:\n",
            "    https://scikit-learn.org/stable/modules/preprocessing.html\n",
            "Please also refer to the documentation for alternative solver options:\n",
            "    https://scikit-learn.org/stable/modules/linear_model.html#logistic-regression\n",
            "  extra_warning_msg=_LOGISTIC_SOLVER_CONVERGENCE_MSG)\n",
            "/usr/local/lib/python3.6/dist-packages/sklearn/linear_model/_logistic.py:940: ConvergenceWarning: lbfgs failed to converge (status=1):\n",
            "STOP: TOTAL NO. of ITERATIONS REACHED LIMIT.\n",
            "\n",
            "Increase the number of iterations (max_iter) or scale the data as shown in:\n",
            "    https://scikit-learn.org/stable/modules/preprocessing.html\n",
            "Please also refer to the documentation for alternative solver options:\n",
            "    https://scikit-learn.org/stable/modules/linear_model.html#logistic-regression\n",
            "  extra_warning_msg=_LOGISTIC_SOLVER_CONVERGENCE_MSG)\n",
            "/usr/local/lib/python3.6/dist-packages/sklearn/linear_model/_logistic.py:940: ConvergenceWarning: lbfgs failed to converge (status=1):\n",
            "STOP: TOTAL NO. of ITERATIONS REACHED LIMIT.\n",
            "\n",
            "Increase the number of iterations (max_iter) or scale the data as shown in:\n",
            "    https://scikit-learn.org/stable/modules/preprocessing.html\n",
            "Please also refer to the documentation for alternative solver options:\n",
            "    https://scikit-learn.org/stable/modules/linear_model.html#logistic-regression\n",
            "  extra_warning_msg=_LOGISTIC_SOLVER_CONVERGENCE_MSG)\n",
            "/usr/local/lib/python3.6/dist-packages/sklearn/linear_model/_logistic.py:940: ConvergenceWarning: lbfgs failed to converge (status=1):\n",
            "STOP: TOTAL NO. of ITERATIONS REACHED LIMIT.\n",
            "\n",
            "Increase the number of iterations (max_iter) or scale the data as shown in:\n",
            "    https://scikit-learn.org/stable/modules/preprocessing.html\n",
            "Please also refer to the documentation for alternative solver options:\n",
            "    https://scikit-learn.org/stable/modules/linear_model.html#logistic-regression\n",
            "  extra_warning_msg=_LOGISTIC_SOLVER_CONVERGENCE_MSG)\n",
            "/usr/local/lib/python3.6/dist-packages/sklearn/linear_model/_logistic.py:940: ConvergenceWarning: lbfgs failed to converge (status=1):\n",
            "STOP: TOTAL NO. of ITERATIONS REACHED LIMIT.\n",
            "\n",
            "Increase the number of iterations (max_iter) or scale the data as shown in:\n",
            "    https://scikit-learn.org/stable/modules/preprocessing.html\n",
            "Please also refer to the documentation for alternative solver options:\n",
            "    https://scikit-learn.org/stable/modules/linear_model.html#logistic-regression\n",
            "  extra_warning_msg=_LOGISTIC_SOLVER_CONVERGENCE_MSG)\n",
            "/usr/local/lib/python3.6/dist-packages/sklearn/linear_model/_logistic.py:940: ConvergenceWarning: lbfgs failed to converge (status=1):\n",
            "STOP: TOTAL NO. of ITERATIONS REACHED LIMIT.\n",
            "\n",
            "Increase the number of iterations (max_iter) or scale the data as shown in:\n",
            "    https://scikit-learn.org/stable/modules/preprocessing.html\n",
            "Please also refer to the documentation for alternative solver options:\n",
            "    https://scikit-learn.org/stable/modules/linear_model.html#logistic-regression\n",
            "  extra_warning_msg=_LOGISTIC_SOLVER_CONVERGENCE_MSG)\n",
            "/usr/local/lib/python3.6/dist-packages/sklearn/linear_model/_logistic.py:940: ConvergenceWarning: lbfgs failed to converge (status=1):\n",
            "STOP: TOTAL NO. of ITERATIONS REACHED LIMIT.\n",
            "\n",
            "Increase the number of iterations (max_iter) or scale the data as shown in:\n",
            "    https://scikit-learn.org/stable/modules/preprocessing.html\n",
            "Please also refer to the documentation for alternative solver options:\n",
            "    https://scikit-learn.org/stable/modules/linear_model.html#logistic-regression\n",
            "  extra_warning_msg=_LOGISTIC_SOLVER_CONVERGENCE_MSG)\n",
            "/usr/local/lib/python3.6/dist-packages/sklearn/linear_model/_logistic.py:940: ConvergenceWarning: lbfgs failed to converge (status=1):\n",
            "STOP: TOTAL NO. of ITERATIONS REACHED LIMIT.\n",
            "\n",
            "Increase the number of iterations (max_iter) or scale the data as shown in:\n",
            "    https://scikit-learn.org/stable/modules/preprocessing.html\n",
            "Please also refer to the documentation for alternative solver options:\n",
            "    https://scikit-learn.org/stable/modules/linear_model.html#logistic-regression\n",
            "  extra_warning_msg=_LOGISTIC_SOLVER_CONVERGENCE_MSG)\n",
            "/usr/local/lib/python3.6/dist-packages/sklearn/linear_model/_logistic.py:940: ConvergenceWarning: lbfgs failed to converge (status=1):\n",
            "STOP: TOTAL NO. of ITERATIONS REACHED LIMIT.\n",
            "\n",
            "Increase the number of iterations (max_iter) or scale the data as shown in:\n",
            "    https://scikit-learn.org/stable/modules/preprocessing.html\n",
            "Please also refer to the documentation for alternative solver options:\n",
            "    https://scikit-learn.org/stable/modules/linear_model.html#logistic-regression\n",
            "  extra_warning_msg=_LOGISTIC_SOLVER_CONVERGENCE_MSG)\n",
            "/usr/local/lib/python3.6/dist-packages/sklearn/linear_model/_logistic.py:940: ConvergenceWarning: lbfgs failed to converge (status=1):\n",
            "STOP: TOTAL NO. of ITERATIONS REACHED LIMIT.\n",
            "\n",
            "Increase the number of iterations (max_iter) or scale the data as shown in:\n",
            "    https://scikit-learn.org/stable/modules/preprocessing.html\n",
            "Please also refer to the documentation for alternative solver options:\n",
            "    https://scikit-learn.org/stable/modules/linear_model.html#logistic-regression\n",
            "  extra_warning_msg=_LOGISTIC_SOLVER_CONVERGENCE_MSG)\n",
            "/usr/local/lib/python3.6/dist-packages/sklearn/linear_model/_logistic.py:940: ConvergenceWarning: lbfgs failed to converge (status=1):\n",
            "STOP: TOTAL NO. of ITERATIONS REACHED LIMIT.\n",
            "\n",
            "Increase the number of iterations (max_iter) or scale the data as shown in:\n",
            "    https://scikit-learn.org/stable/modules/preprocessing.html\n",
            "Please also refer to the documentation for alternative solver options:\n",
            "    https://scikit-learn.org/stable/modules/linear_model.html#logistic-regression\n",
            "  extra_warning_msg=_LOGISTIC_SOLVER_CONVERGENCE_MSG)\n",
            "/usr/local/lib/python3.6/dist-packages/sklearn/linear_model/_logistic.py:940: ConvergenceWarning: lbfgs failed to converge (status=1):\n",
            "STOP: TOTAL NO. of ITERATIONS REACHED LIMIT.\n",
            "\n",
            "Increase the number of iterations (max_iter) or scale the data as shown in:\n",
            "    https://scikit-learn.org/stable/modules/preprocessing.html\n",
            "Please also refer to the documentation for alternative solver options:\n",
            "    https://scikit-learn.org/stable/modules/linear_model.html#logistic-regression\n",
            "  extra_warning_msg=_LOGISTIC_SOLVER_CONVERGENCE_MSG)\n",
            "/usr/local/lib/python3.6/dist-packages/sklearn/linear_model/_logistic.py:940: ConvergenceWarning: lbfgs failed to converge (status=1):\n",
            "STOP: TOTAL NO. of ITERATIONS REACHED LIMIT.\n",
            "\n",
            "Increase the number of iterations (max_iter) or scale the data as shown in:\n",
            "    https://scikit-learn.org/stable/modules/preprocessing.html\n",
            "Please also refer to the documentation for alternative solver options:\n",
            "    https://scikit-learn.org/stable/modules/linear_model.html#logistic-regression\n",
            "  extra_warning_msg=_LOGISTIC_SOLVER_CONVERGENCE_MSG)\n"
          ],
          "name": "stderr"
        },
        {
          "output_type": "stream",
          "text": [
            "Tuned Logistic Regression Parameters: {'C': 0.05179474679231213}\n",
            "Best score is 0.7747644512350395\n"
          ],
          "name": "stdout"
        },
        {
          "output_type": "stream",
          "text": [
            "/usr/local/lib/python3.6/dist-packages/sklearn/linear_model/_logistic.py:940: ConvergenceWarning: lbfgs failed to converge (status=1):\n",
            "STOP: TOTAL NO. of ITERATIONS REACHED LIMIT.\n",
            "\n",
            "Increase the number of iterations (max_iter) or scale the data as shown in:\n",
            "    https://scikit-learn.org/stable/modules/preprocessing.html\n",
            "Please also refer to the documentation for alternative solver options:\n",
            "    https://scikit-learn.org/stable/modules/linear_model.html#logistic-regression\n",
            "  extra_warning_msg=_LOGISTIC_SOLVER_CONVERGENCE_MSG)\n",
            "/usr/local/lib/python3.6/dist-packages/sklearn/linear_model/_logistic.py:940: ConvergenceWarning: lbfgs failed to converge (status=1):\n",
            "STOP: TOTAL NO. of ITERATIONS REACHED LIMIT.\n",
            "\n",
            "Increase the number of iterations (max_iter) or scale the data as shown in:\n",
            "    https://scikit-learn.org/stable/modules/preprocessing.html\n",
            "Please also refer to the documentation for alternative solver options:\n",
            "    https://scikit-learn.org/stable/modules/linear_model.html#logistic-regression\n",
            "  extra_warning_msg=_LOGISTIC_SOLVER_CONVERGENCE_MSG)\n"
          ],
          "name": "stderr"
        }
      ]
    },
    {
      "cell_type": "markdown",
      "metadata": {
        "id": "ZbwU5-cwwZ3x",
        "colab_type": "text"
      },
      "source": [
        "Como resultado nos dio que:\n",
        "\n",
        "`Tuned Logistic Regression Parameters: {'C': 0.05179474679231213}`\n",
        "\n",
        "`Best score is 0.7747644512350395`"
      ]
    },
    {
      "cell_type": "markdown",
      "metadata": {
        "id": "Kmpf1Ek_wTla",
        "colab_type": "text"
      },
      "source": [
        "\n",
        "Hyperparameter tuning utilizando RandomizedSearchCV"
      ]
    },
    {
      "cell_type": "code",
      "metadata": {
        "id": "2FtvdBuewV2q",
        "colab_type": "code",
        "outputId": "f6fb98e6-cd08-4573-dfe3-e4fcfbd2d4bd",
        "colab": {
          "base_uri": "https://localhost:8080/",
          "height": 51
        }
      },
      "source": [
        "# Import necessary modules\n",
        "from scipy.stats import randint\n",
        "from sklearn.tree import DecisionTreeClassifier\n",
        "from sklearn.model_selection import RandomizedSearchCV\n",
        "\n",
        "# Setup the parameters and distributions to sample from: param_dist\n",
        "param_dist = {\"max_depth\": [3, None],\n",
        "              \"max_features\": randint(1, 9),\n",
        "              \"min_samples_leaf\": randint(1, 9),\n",
        "              \"criterion\": [\"gini\", \"entropy\"]}\n",
        "\n",
        "# Instantiate a Decision Tree classifier: tree\n",
        "tree = DecisionTreeClassifier()\n",
        "\n",
        "# Instantiate the RandomizedSearchCV object: tree_cv\n",
        "tree_cv = RandomizedSearchCV(tree, param_dist, cv=5)\n",
        "\n",
        "# Fit it to the data\n",
        "tree_cv.fit(X,y)\n",
        "\n",
        "# Print the tuned parameters and score\n",
        "print(\"Tuned Decision Tree Parameters: {}\".format(tree_cv.best_params_))\n",
        "print(\"Best score is {}\".format(tree_cv.best_score_))"
      ],
      "execution_count": 35,
      "outputs": [
        {
          "output_type": "stream",
          "text": [
            "Tuned Decision Tree Parameters: {'criterion': 'gini', 'max_depth': 3, 'max_features': 5, 'min_samples_leaf': 6}\n",
            "Best score is 0.7448349036584331\n"
          ],
          "name": "stdout"
        }
      ]
    }
  ]
}