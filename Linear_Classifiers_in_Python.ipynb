{
  "nbformat": 4,
  "nbformat_minor": 0,
  "metadata": {
    "colab": {
      "name": " Linear Classifiers in Python.ipynb",
      "provenance": [],
      "include_colab_link": true
    },
    "kernelspec": {
      "name": "python3",
      "display_name": "Python 3"
    }
  },
  "cells": [
    {
      "cell_type": "markdown",
      "metadata": {
        "id": "view-in-github",
        "colab_type": "text"
      },
      "source": [
        "<a href=\"https://colab.research.google.com/github/eljimenezj/-Data-modeling-techniques/blob/master/Linear_Classifiers_in_Python.ipynb\" target=\"_parent\"><img src=\"https://colab.research.google.com/assets/colab-badge.svg\" alt=\"Open In Colab\"/></a>"
      ]
    },
    {
      "cell_type": "markdown",
      "metadata": {
        "id": "yVZ9MWIhl4KQ",
        "colab_type": "text"
      },
      "source": [
        "\n",
        "# Clasificadores lineales en Python\n",
        "\n",
        "En este caso vamos a estudiar unas aplicaciones de clasificación utilizando  modelos machine learning. Este libro de jupyter está basado en clases tomadas de datacamp, en la cual también utilizamos una base de datos de vinos que utilizan en varias de sus clases.\n",
        "\n",
        "Este curso hace parte del track Machine Learning Scientist with Python"
      ]
    },
    {
      "cell_type": "code",
      "metadata": {
        "id": "yA__Sgx7tDNc",
        "colab_type": "code",
        "colab": {}
      },
      "source": [
        "import warnings\n",
        "warnings.filterwarnings(\"ignore\")"
      ],
      "execution_count": 0,
      "outputs": []
    },
    {
      "cell_type": "markdown",
      "metadata": {
        "id": "Fh9tciQ9o8O7",
        "colab_type": "text"
      },
      "source": [
        "Los primeros clasificadores que vamos a estudiar son regresion logistica y maquinas de soporte vectorial"
      ]
    },
    {
      "cell_type": "code",
      "metadata": {
        "id": "w8kL_n9Tlz4S",
        "colab_type": "code",
        "outputId": "3c644715-18ee-4916-f145-177e65c13db0",
        "colab": {
          "base_uri": "https://localhost:8080/",
          "height": 54
        }
      },
      "source": [
        "from sklearn import datasets\n",
        "from sklearn.model_selection import train_test_split\n",
        "from sklearn.linear_model import LogisticRegression\n",
        "from sklearn.svm import SVC\n",
        "\n",
        "\n",
        "digits = datasets.load_digits()\n",
        "X_train, X_test, y_train, y_test = train_test_split(digits.data, digits.target)\n",
        "\n",
        "# Apply logistic regression and print scores\n",
        "lr = LogisticRegression()\n",
        "lr.fit(X_train, y_train)\n",
        "print(lr.score(X_train, y_train))\n",
        "print(lr.score(X_test, y_test))"
      ],
      "execution_count": 2,
      "outputs": [
        {
          "output_type": "stream",
          "text": [
            "1.0\n",
            "0.9577777777777777\n"
          ],
          "name": "stdout"
        }
      ]
    },
    {
      "cell_type": "code",
      "metadata": {
        "id": "F7F-eeifpd-n",
        "colab_type": "code",
        "outputId": "dceb939e-5bb2-4330-fcb8-857683567e01",
        "colab": {
          "base_uri": "https://localhost:8080/",
          "height": 54
        }
      },
      "source": [
        "\n",
        "# Apply SVM and print scores\n",
        "svm = SVC()\n",
        "svm.fit(X_train, y_train)\n",
        "print(svm.score(X_train, y_train))\n",
        "print(svm.score(X_test, y_test))"
      ],
      "execution_count": 3,
      "outputs": [
        {
          "output_type": "stream",
          "text": [
            "0.9970304380103935\n",
            "0.98\n"
          ],
          "name": "stdout"
        }
      ]
    },
    {
      "cell_type": "markdown",
      "metadata": {
        "id": "WvgCE4v2qYfx",
        "colab_type": "text"
      },
      "source": [
        "Ahora haremos uso de probabilidades: El codigo necesita cargar los datos previamente para que funcione.\n",
        "\n",
        "Fuente de datos: http://ai.stanford.edu/~amaas/data/sentiment/\n",
        "\n",
        "Dateset: Este es un conjunto de datos para la clasificación de sentimientos binarios que contiene sustancialmente más datos que los conjuntos de datos de referencia anteriores. Proporcionamos un conjunto de 25,000 críticas de películas altamente polares para capacitación y 25,000 para pruebas. También hay datos adicionales sin etiquetar para su uso. Se proporcionan formatos de texto sin procesar y bolsa de palabras ya procesada. Consulte el archivo README contenido en la versión para obtener más detalles."
      ]
    },
    {
      "cell_type": "code",
      "metadata": {
        "id": "oXUhiTupl4Bb",
        "colab_type": "code",
        "colab": {}
      },
      "source": [
        "# Instantiate logistic regression and train\n",
        "lr = LogisticRegression()\n",
        "lr.fit(X,y)\n",
        "\n",
        "# Predict sentiment for a glowing review\n",
        "review1 = \"LOVED IT! This movie was amazing. Top 10 this year.\"\n",
        "review1_features = get_features(review1)\n",
        "print(\"Review:\", review1)\n",
        "print(\"Probability of positive review:\", lr.predict_proba(review1_features)[0,1])\n",
        "\n",
        "# Predict sentiment for a poor review\n",
        "review2 = \"Total junk! I'll never watch a film by that director again, no matter how good the reviews.\"\n",
        "review2_features = get_features(review2)\n",
        "print(\"Review:\", review2)\n",
        "print(\"Probability of positive review:\", lr.predict_proba(review2_features)[0,1])"
      ],
      "execution_count": 0,
      "outputs": []
    },
    {
      "cell_type": "markdown",
      "metadata": {
        "id": "etFYcZl0q-ee",
        "colab_type": "text"
      },
      "source": [
        "Ahora realizaremos una visualizacion de los límites de decisión en los datos para saber si es un problema linealmente separable o no."
      ]
    },
    {
      "cell_type": "code",
      "metadata": {
        "id": "8yYpvniIsmxu",
        "colab_type": "code",
        "colab": {}
      },
      "source": [
        "from sklearn.datasets import load_wine\n",
        "wine = load_wine()\n",
        "\n",
        "X = wine.data\n",
        "y = wine.target\n"
      ],
      "execution_count": 0,
      "outputs": []
    },
    {
      "cell_type": "code",
      "metadata": {
        "id": "yo0FIhTes2_M",
        "colab_type": "code",
        "colab": {}
      },
      "source": [
        "from sklearn.linear_model import LogisticRegression\n",
        "from sklearn.svm import SVC, LinearSVC\n",
        "from sklearn.neighbors import KNeighborsClassifier\n",
        "\n",
        "# Define the classifiers\n",
        "classifiers = [LogisticRegression(),LinearSVC(), SVC(), KNeighborsClassifier()]\n",
        "\n",
        "# Fit the classifiers\n",
        "for c in classifiers:\n",
        "    c.fit(X,y)\n",
        "\n",
        "# Grafica de funcion similiar a https://scikit-learn.org/stable/auto_examples/svm/plot_iris_svc.html , organizar."
      ],
      "execution_count": 0,
      "outputs": []
    },
    {
      "cell_type": "markdown",
      "metadata": {
        "id": "rztH2zFRhzaR",
        "colab_type": "text"
      },
      "source": [
        "## Funciones de perdida\n",
        "\n"
      ]
    },
    {
      "cell_type": "code",
      "metadata": {
        "id": "5_meLfM5h19I",
        "colab_type": "code",
        "colab": {}
      },
      "source": [
        "# Funcion de perdida para regresion vs sklearn approach"
      ],
      "execution_count": 0,
      "outputs": []
    },
    {
      "cell_type": "code",
      "metadata": {
        "id": "3a8yeAGeiO9A",
        "colab_type": "code",
        "colab": {}
      },
      "source": [
        "import pandas as pd\n",
        "\n",
        "url = 'https://assets.datacamp.com/production/repositories/628/datasets/a7e65287ebb197b1267b5042955f27502ec65f31/gm_2008_region.csv'\n",
        "df = pd.read_csv(url)\n",
        "\n",
        "## Creacion de arrays\n",
        "# Creación de arrays para modelacion\n",
        "y = df['life'].values\n",
        "df = df.drop(['life','Region'],1)\n",
        "X = df.values"
      ],
      "execution_count": 0,
      "outputs": []
    },
    {
      "cell_type": "code",
      "metadata": {
        "id": "YGZPhgWqiO_w",
        "colab_type": "code",
        "colab": {
          "base_uri": "https://localhost:8080/",
          "height": 90
        },
        "outputId": "6e106a5f-4e96-4d4f-cb50-4f72f0e6bf0f"
      },
      "source": [
        "from scipy.optimize import minimize\n",
        "from sklearn.linear_model import LinearRegression\n",
        "\n",
        "# The squared error, summed over training examples\n",
        "def my_loss(w):\n",
        "    s = 0\n",
        "    for i in range(y.size):\n",
        "        # Get the true and predicted target values for example 'i'\n",
        "        y_i_true = y[i]\n",
        "        y_i_pred = w@X[i]\n",
        "        s = s + (y_i_true-y_i_pred)**2\n",
        "    return s\n",
        "\n",
        "# Returns the w that makes my_loss(w) smallest\n",
        "w_fit = minimize(my_loss, X[0]).x\n",
        "print(w_fit)\n",
        "\n",
        "# Compare with scikit-learn's LinearRegression coefficients\n",
        "lr = LinearRegression(fit_intercept=False).fit(X,y)\n",
        "print(lr.coef_)"
      ],
      "execution_count": 21,
      "outputs": [
        {
          "output_type": "stream",
          "text": [
            "[ 1.17734464e-01  1.81818285e+08 -6.43831574e+06  6.56568897e+06\n",
            " -2.38870101e+07 -5.57804462e+02  2.48466019e+06 -6.33349629e+06]\n",
            "[ 4.69982181e-09 -9.30637450e-03 -6.82869713e-01 -3.36508568e-01\n",
            "  1.24186123e+00  1.67293030e-04  3.43861317e-01 -1.04486621e-01]\n"
          ],
          "name": "stdout"
        }
      ]
    },
    {
      "cell_type": "markdown",
      "metadata": {
        "id": "d1gywJdEm6mH",
        "colab_type": "text"
      },
      "source": [
        "### Exploremos algo de regularización"
      ]
    },
    {
      "cell_type": "code",
      "metadata": {
        "id": "M_xBUvYZm99u",
        "colab_type": "code",
        "colab": {}
      },
      "source": [
        "from sklearn import datasets\n",
        "from sklearn.model_selection import train_test_split\n",
        "from sklearn.linear_model import LogisticRegression\n",
        "from sklearn.svm import SVC\n",
        "import matplotlib.pyplot as plt\n",
        "\n",
        "\n",
        "\n",
        "digits = datasets.load_digits()\n",
        "X_train, X_valid, y_train, y_valid = train_test_split(digits.data, digits.target)\n"
      ],
      "execution_count": 0,
      "outputs": []
    },
    {
      "cell_type": "code",
      "metadata": {
        "id": "ezP-AvGLm9_3",
        "colab_type": "code",
        "colab": {
          "base_uri": "https://localhost:8080/",
          "height": 269
        },
        "outputId": "402ae414-bb94-422c-cfb7-2bfbe5b575a6"
      },
      "source": [
        "# Train and validaton errors initialized as empty list\n",
        "train_errs = list()\n",
        "valid_errs = list()\n",
        "\n",
        "C_values = [0.001, 0.01, 0.1, 1, 10, 100, 1000]\n",
        "\n",
        "# Loop over values of C_value\n",
        "for C_value in C_values :\n",
        "    # Create LogisticRegression object and fit\n",
        "    lr = LogisticRegression(C=C_value)\n",
        "    lr.fit(X_train,y_train)\n",
        "    \n",
        "    # Evaluate error rates and append to lists\n",
        "    train_errs.append( 1.0 - lr.score(X_train, y_train) )\n",
        "    valid_errs.append( 1.0 - lr.score(X_valid, y_valid) )\n",
        "    \n",
        "# Plot results\n",
        "plt.semilogx(C_values, train_errs, C_values, valid_errs)\n",
        "plt.legend((\"train\", \"validation\"))\n",
        "plt.show()"
      ],
      "execution_count": 26,
      "outputs": [
        {
          "output_type": "display_data",
          "data": {
            "image/png": "[encoded data removed]",
            "text/plain": [
              "<Figure size 432x288 with 1 Axes>"
            ]
          },
          "metadata": {
            "tags": [],
            "needs_background": "light"
          }
        }
      ]
    },
    {
      "cell_type": "code",
      "metadata": {
        "id": "z3hti8UynrvW",
        "colab_type": "code",
        "colab": {
          "base_uri": "https://localhost:8080/",
          "height": 72
        },
        "outputId": "fae253c6-f069-4b6e-bc7c-704eef751b54"
      },
      "source": [
        "from sklearn.model_selection import GridSearchCV\n",
        "import numpy as np\n",
        "\n",
        "# Specify L1 regularization\n",
        "lr = LogisticRegression(penalty='l1', solver = 'saga')\n",
        "\n",
        "\n",
        "# Instantiate the GridSearchCV object and run the search\n",
        "searcher = GridSearchCV(lr, {'C':[0.001, 0.01, 0.1, 1, 10]})\n",
        "searcher.fit(X_train, y_train)\n",
        "\n",
        "\n",
        "# Report the best parameters\n",
        "print(\"Best CV params\", searcher.best_params_)\n",
        "\n",
        "# Find the number of nonzero coefficients (selected features)\n",
        "best_lr = searcher.best_estimator_\n",
        "coefs = best_lr.coef_\n",
        "print(\"Total number of features:\", coefs.size)\n",
        "print(\"Number of selected features:\", np.count_nonzero(coefs))"
      ],
      "execution_count": 32,
      "outputs": [
        {
          "output_type": "stream",
          "text": [
            "Best CV params {'C': 1}\n",
            "Total number of features: 640\n",
            "Number of selected features: 418\n"
          ],
          "name": "stdout"
        }
      ]
    },
    {
      "cell_type": "markdown",
      "metadata": {
        "id": "UNvp3mi5qRE5",
        "colab_type": "text"
      },
      "source": [
        "### Multi-class logistic regression\n"
      ]
    },
    {
      "cell_type": "code",
      "metadata": {
        "id": "quvgdda_qUQG",
        "colab_type": "code",
        "colab": {}
      },
      "source": [
        "from sklearn import datasets\n",
        "from sklearn.model_selection import train_test_split\n",
        "from sklearn.linear_model import LogisticRegression\n",
        "from sklearn.svm import SVC\n",
        "\n",
        "\n",
        "digits = datasets.load_digits()\n",
        "X_train, X_test, y_train, y_test = train_test_split(digits.data, digits.target)"
      ],
      "execution_count": 0,
      "outputs": []
    },
    {
      "cell_type": "code",
      "metadata": {
        "id": "gMI0pHE9vgLf",
        "colab_type": "code",
        "colab": {
          "base_uri": "https://localhost:8080/",
          "height": 90
        },
        "outputId": "4e786cad-c708-4c78-a5ab-fbf5c0b9de3f"
      },
      "source": [
        "# Fit one-vs-rest logistic regression classifier\n",
        "lr_ovr = LogisticRegression()\n",
        "lr_ovr.fit(X_train, y_train)\n",
        "\n",
        "print(\"OVR training accuracy:\", lr_ovr.score(X_train, y_train))\n",
        "print(\"OVR test accuracy    :\", lr_ovr.score(X_test, y_test))\n",
        "\n",
        "# Fit softmax classifier\n",
        "lr_mn = LogisticRegression(multi_class='multinomial' , solver = 'lbfgs')\n",
        "lr_mn.fit(X_train, y_train)\n",
        "\n",
        "print(\"Softmax training accuracy:\", lr_mn.score(X_train, y_train))\n",
        "print(\"Softmax test accuracy    :\", lr_mn.score(X_test, y_test))"
      ],
      "execution_count": 34,
      "outputs": [
        {
          "output_type": "stream",
          "text": [
            "OVR training accuracy: 1.0\n",
            "OVR test accuracy    : 0.96\n",
            "Softmax training accuracy: 1.0\n",
            "Softmax test accuracy    : 0.96\n"
          ],
          "name": "stdout"
        }
      ]
    }
  ]
}